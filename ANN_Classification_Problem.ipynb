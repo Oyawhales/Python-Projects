{
 "cells": [
  {
   "cell_type": "code",
   "execution_count": null,
   "metadata": {
    "id": "daOidjjMtbwF"
   },
   "outputs": [],
   "source": [
    "\n",
    "import pandas as pd \n",
    "import numpy as np \n",
    "from tensorflow.keras import Sequential #This is for stacking the layers \n",
    "from tensorflow.keras.layers import Dense, Dropout \n",
    "from sklearn.metrics import mean_squared_error\n",
    "from sklearn.model_selection import train_test_split\n",
    "from sklearn.preprocessing import StandardScaler, MinMaxScaler\n",
    "from sklearn.metrics.pairwise import kernel_metrics\n",
    "from tensorflow.keras.callbacks import ModelCheckpoint \n",
    "from sklearn.metrics import mean_squared_error, mean_absolute_error\n",
    "from tensorflow.keras.utils import to_categorical \n",
    "import matplotlib.pyplot as plt \n",
    "import matplotlib.pyplot as plt \n",
    "from sklearn.metrics import confusion_matrix \n",
    "import seaborn as sns\n",
    "from tensorflow.keras.optimizers import Adam"
   ]
  },
  {
   "cell_type": "code",
   "execution_count": null,
   "metadata": {
    "id": "Li2QQfT_teux"
   },
   "outputs": [],
   "source": [
    "path = \"/content/drive/MyDrive/project/telecom_churn.csv\""
   ]
  },
  {
   "cell_type": "code",
   "execution_count": null,
   "metadata": {
    "colab": {
     "base_uri": "https://localhost:8080/"
    },
    "id": "aSFDkhb_ut61",
    "outputId": "1bbef44a-8668-4192-f06c-ef25f39224be"
   },
   "outputs": [
    {
     "name": "stdout",
     "output_type": "stream",
     "text": [
      "Drive already mounted at /content/drive; to attempt to forcibly remount, call drive.mount(\"/content/drive\", force_remount=True).\n"
     ]
    }
   ],
   "source": [
    "from google.colab import drive\n",
    "drive.mount('/content/drive')"
   ]
  },
  {
   "cell_type": "code",
   "execution_count": null,
   "metadata": {
    "colab": {
     "base_uri": "https://localhost:8080/",
     "height": 206
    },
    "id": "P5UxwgFPtfN5",
    "outputId": "48cb110b-e741-43f7-a4a1-4bd4a210f817"
   },
   "outputs": [
    {
     "data": {
      "text/html": [
       "\n",
       "  <div id=\"df-a75308cd-d54e-408c-b185-7d4ebafd3c2c\">\n",
       "    <div class=\"colab-df-container\">\n",
       "      <div>\n",
       "<style scoped>\n",
       "    .dataframe tbody tr th:only-of-type {\n",
       "        vertical-align: middle;\n",
       "    }\n",
       "\n",
       "    .dataframe tbody tr th {\n",
       "        vertical-align: top;\n",
       "    }\n",
       "\n",
       "    .dataframe thead th {\n",
       "        text-align: right;\n",
       "    }\n",
       "</style>\n",
       "<table border=\"1\" class=\"dataframe\">\n",
       "  <thead>\n",
       "    <tr style=\"text-align: right;\">\n",
       "      <th></th>\n",
       "      <th>Churn</th>\n",
       "      <th>AccountWeeks</th>\n",
       "      <th>ContractRenewal</th>\n",
       "      <th>DataPlan</th>\n",
       "      <th>DataUsage</th>\n",
       "      <th>CustServCalls</th>\n",
       "      <th>DayMins</th>\n",
       "      <th>DayCalls</th>\n",
       "      <th>MonthlyCharge</th>\n",
       "      <th>OverageFee</th>\n",
       "      <th>RoamMins</th>\n",
       "    </tr>\n",
       "  </thead>\n",
       "  <tbody>\n",
       "    <tr>\n",
       "      <th>0</th>\n",
       "      <td>0</td>\n",
       "      <td>128</td>\n",
       "      <td>1</td>\n",
       "      <td>1</td>\n",
       "      <td>2.7</td>\n",
       "      <td>1</td>\n",
       "      <td>265.1</td>\n",
       "      <td>110</td>\n",
       "      <td>89.0</td>\n",
       "      <td>9.87</td>\n",
       "      <td>10.0</td>\n",
       "    </tr>\n",
       "    <tr>\n",
       "      <th>1</th>\n",
       "      <td>0</td>\n",
       "      <td>107</td>\n",
       "      <td>1</td>\n",
       "      <td>1</td>\n",
       "      <td>3.7</td>\n",
       "      <td>1</td>\n",
       "      <td>161.6</td>\n",
       "      <td>123</td>\n",
       "      <td>82.0</td>\n",
       "      <td>9.78</td>\n",
       "      <td>13.7</td>\n",
       "    </tr>\n",
       "    <tr>\n",
       "      <th>2</th>\n",
       "      <td>0</td>\n",
       "      <td>137</td>\n",
       "      <td>1</td>\n",
       "      <td>0</td>\n",
       "      <td>0.0</td>\n",
       "      <td>0</td>\n",
       "      <td>243.4</td>\n",
       "      <td>114</td>\n",
       "      <td>52.0</td>\n",
       "      <td>6.06</td>\n",
       "      <td>12.2</td>\n",
       "    </tr>\n",
       "    <tr>\n",
       "      <th>3</th>\n",
       "      <td>0</td>\n",
       "      <td>84</td>\n",
       "      <td>0</td>\n",
       "      <td>0</td>\n",
       "      <td>0.0</td>\n",
       "      <td>2</td>\n",
       "      <td>299.4</td>\n",
       "      <td>71</td>\n",
       "      <td>57.0</td>\n",
       "      <td>3.10</td>\n",
       "      <td>6.6</td>\n",
       "    </tr>\n",
       "    <tr>\n",
       "      <th>4</th>\n",
       "      <td>0</td>\n",
       "      <td>75</td>\n",
       "      <td>0</td>\n",
       "      <td>0</td>\n",
       "      <td>0.0</td>\n",
       "      <td>3</td>\n",
       "      <td>166.7</td>\n",
       "      <td>113</td>\n",
       "      <td>41.0</td>\n",
       "      <td>7.42</td>\n",
       "      <td>10.1</td>\n",
       "    </tr>\n",
       "  </tbody>\n",
       "</table>\n",
       "</div>\n",
       "      <button class=\"colab-df-convert\" onclick=\"convertToInteractive('df-a75308cd-d54e-408c-b185-7d4ebafd3c2c')\"\n",
       "              title=\"Convert this dataframe to an interactive table.\"\n",
       "              style=\"display:none;\">\n",
       "        \n",
       "  <svg xmlns=\"http://www.w3.org/2000/svg\" height=\"24px\"viewBox=\"0 0 24 24\"\n",
       "       width=\"24px\">\n",
       "    <path d=\"M0 0h24v24H0V0z\" fill=\"none\"/>\n",
       "    <path d=\"M18.56 5.44l.94 2.06.94-2.06 2.06-.94-2.06-.94-.94-2.06-.94 2.06-2.06.94zm-11 1L8.5 8.5l.94-2.06 2.06-.94-2.06-.94L8.5 2.5l-.94 2.06-2.06.94zm10 10l.94 2.06.94-2.06 2.06-.94-2.06-.94-.94-2.06-.94 2.06-2.06.94z\"/><path d=\"M17.41 7.96l-1.37-1.37c-.4-.4-.92-.59-1.43-.59-.52 0-1.04.2-1.43.59L10.3 9.45l-7.72 7.72c-.78.78-.78 2.05 0 2.83L4 21.41c.39.39.9.59 1.41.59.51 0 1.02-.2 1.41-.59l7.78-7.78 2.81-2.81c.8-.78.8-2.07 0-2.86zM5.41 20L4 18.59l7.72-7.72 1.47 1.35L5.41 20z\"/>\n",
       "  </svg>\n",
       "      </button>\n",
       "      \n",
       "  <style>\n",
       "    .colab-df-container {\n",
       "      display:flex;\n",
       "      flex-wrap:wrap;\n",
       "      gap: 12px;\n",
       "    }\n",
       "\n",
       "    .colab-df-convert {\n",
       "      background-color: #E8F0FE;\n",
       "      border: none;\n",
       "      border-radius: 50%;\n",
       "      cursor: pointer;\n",
       "      display: none;\n",
       "      fill: #1967D2;\n",
       "      height: 32px;\n",
       "      padding: 0 0 0 0;\n",
       "      width: 32px;\n",
       "    }\n",
       "\n",
       "    .colab-df-convert:hover {\n",
       "      background-color: #E2EBFA;\n",
       "      box-shadow: 0px 1px 2px rgba(60, 64, 67, 0.3), 0px 1px 3px 1px rgba(60, 64, 67, 0.15);\n",
       "      fill: #174EA6;\n",
       "    }\n",
       "\n",
       "    [theme=dark] .colab-df-convert {\n",
       "      background-color: #3B4455;\n",
       "      fill: #D2E3FC;\n",
       "    }\n",
       "\n",
       "    [theme=dark] .colab-df-convert:hover {\n",
       "      background-color: #434B5C;\n",
       "      box-shadow: 0px 1px 3px 1px rgba(0, 0, 0, 0.15);\n",
       "      filter: drop-shadow(0px 1px 2px rgba(0, 0, 0, 0.3));\n",
       "      fill: #FFFFFF;\n",
       "    }\n",
       "  </style>\n",
       "\n",
       "      <script>\n",
       "        const buttonEl =\n",
       "          document.querySelector('#df-a75308cd-d54e-408c-b185-7d4ebafd3c2c button.colab-df-convert');\n",
       "        buttonEl.style.display =\n",
       "          google.colab.kernel.accessAllowed ? 'block' : 'none';\n",
       "\n",
       "        async function convertToInteractive(key) {\n",
       "          const element = document.querySelector('#df-a75308cd-d54e-408c-b185-7d4ebafd3c2c');\n",
       "          const dataTable =\n",
       "            await google.colab.kernel.invokeFunction('convertToInteractive',\n",
       "                                                     [key], {});\n",
       "          if (!dataTable) return;\n",
       "\n",
       "          const docLinkHtml = 'Like what you see? Visit the ' +\n",
       "            '<a target=\"_blank\" href=https://colab.research.google.com/notebooks/data_table.ipynb>data table notebook</a>'\n",
       "            + ' to learn more about interactive tables.';\n",
       "          element.innerHTML = '';\n",
       "          dataTable['output_type'] = 'display_data';\n",
       "          await google.colab.output.renderOutput(dataTable, element);\n",
       "          const docLink = document.createElement('div');\n",
       "          docLink.innerHTML = docLinkHtml;\n",
       "          element.appendChild(docLink);\n",
       "        }\n",
       "      </script>\n",
       "    </div>\n",
       "  </div>\n",
       "  "
      ],
      "text/plain": [
       "   Churn  AccountWeeks  ContractRenewal  DataPlan  DataUsage  CustServCalls  \\\n",
       "0      0           128                1         1        2.7              1   \n",
       "1      0           107                1         1        3.7              1   \n",
       "2      0           137                1         0        0.0              0   \n",
       "3      0            84                0         0        0.0              2   \n",
       "4      0            75                0         0        0.0              3   \n",
       "\n",
       "   DayMins  DayCalls  MonthlyCharge  OverageFee  RoamMins  \n",
       "0    265.1       110           89.0        9.87      10.0  \n",
       "1    161.6       123           82.0        9.78      13.7  \n",
       "2    243.4       114           52.0        6.06      12.2  \n",
       "3    299.4        71           57.0        3.10       6.6  \n",
       "4    166.7       113           41.0        7.42      10.1  "
      ]
     },
     "execution_count": 4,
     "metadata": {},
     "output_type": "execute_result"
    }
   ],
   "source": [
    "df = pd.read_csv(path)\n",
    "df.head()"
   ]
  },
  {
   "cell_type": "code",
   "execution_count": null,
   "metadata": {
    "colab": {
     "base_uri": "https://localhost:8080/"
    },
    "id": "ryM1WZPmtfQ6",
    "outputId": "da060f94-e573-463b-be51-f72e7b76794a"
   },
   "outputs": [
    {
     "data": {
      "text/plain": [
       "Churn              0\n",
       "AccountWeeks       0\n",
       "ContractRenewal    0\n",
       "DataPlan           0\n",
       "DataUsage          0\n",
       "CustServCalls      0\n",
       "DayMins            0\n",
       "DayCalls           0\n",
       "MonthlyCharge      0\n",
       "OverageFee         0\n",
       "RoamMins           0\n",
       "dtype: int64"
      ]
     },
     "execution_count": 5,
     "metadata": {},
     "output_type": "execute_result"
    }
   ],
   "source": [
    "df.isnull().sum()"
   ]
  },
  {
   "cell_type": "code",
   "execution_count": null,
   "metadata": {
    "colab": {
     "base_uri": "https://localhost:8080/"
    },
    "id": "cLvInQAudKJ5",
    "outputId": "461fb4c0-a0a9-4653-d42d-743b3b7cf0d7"
   },
   "outputs": [
    {
     "data": {
      "text/plain": [
       "0"
      ]
     },
     "execution_count": 6,
     "metadata": {},
     "output_type": "execute_result"
    }
   ],
   "source": [
    "df[\"Churn\"].nunique()\n",
    "df.duplicated().sum()"
   ]
  },
  {
   "cell_type": "code",
   "execution_count": null,
   "metadata": {
    "colab": {
     "base_uri": "https://localhost:8080/"
    },
    "id": "YAe38ViftfUR",
    "outputId": "7ba4786f-fb58-4abf-adf3-717c31c1555a"
   },
   "outputs": [
    {
     "name": "stdout",
     "output_type": "stream",
     "text": [
      "Churn has 2 unique values which are: [0 1]\n",
      "0    85.51%\n",
      "1    14.49%\n",
      "Name: Churn, dtype: object\n",
      "\n",
      "\n",
      "-------------------------------------\n",
      "AccountWeeks has 212 unique values which are: [128 107 137  84  75 118 121 147 117 141  65  74 168  95  62 161  85  93\n",
      "  76  73  77 130 111 132 174  57  54  20  49 142 172  12  72  36  78 136\n",
      " 149  98 135  34 160  64  59 119  97  52  60  10  96  87  81  68 125 116\n",
      "  38  40  43 113 126 150 138 162  90  50  82 144  46  70  55 106  94 155\n",
      "  80 104  99 120 108 122 157 103  63 112  41 193  61  92 131 163  91 127\n",
      " 110 140  83 145  56 151 139   6 115 146 185 148  32  25 179  67  19 170\n",
      " 164  51 208  53 105  66  86  35  88 123  45 100 215  22  33 114  24 101\n",
      " 143  48  71 167  89 199 166 158 196 209  16  39 173 129  44  79  31 124\n",
      "  37 159 194 154  21 133 224  58  11 109 102 165  18  30 176  47 190 152\n",
      "  26  69 186 171  28 153 169  13  27   3  42 189 156 134 243  23   1 205\n",
      " 200   5   9 178 181 182 217 177 210  29 180   2  17   7 212 232 192 195\n",
      " 197 225 184 191 201  15 183 202   8 175   4 188 204 221]\n",
      "105    1.29%\n",
      "87     1.26%\n",
      "101     1.2%\n",
      "93      1.2%\n",
      "90     1.17%\n",
      "       ...  \n",
      "243    0.03%\n",
      "200    0.03%\n",
      "232    0.03%\n",
      "5      0.03%\n",
      "221    0.03%\n",
      "Name: AccountWeeks, Length: 212, dtype: object\n",
      "\n",
      "\n",
      "-------------------------------------\n",
      "ContractRenewal has 2 unique values which are: [1 0]\n",
      "1    90.31%\n",
      "0     9.69%\n",
      "Name: ContractRenewal, dtype: object\n",
      "\n",
      "\n",
      "-------------------------------------\n",
      "DataPlan has 2 unique values which are: [1 0]\n",
      "0    72.34%\n",
      "1    27.66%\n",
      "Name: DataPlan, dtype: object\n",
      "\n",
      "\n",
      "-------------------------------------\n",
      "DataUsage has 174 unique values which are: [2.7  3.7  0.   2.03 0.19 3.02 0.29 0.34 0.44 3.73 0.31 0.39 2.57 0.32\n",
      " 0.21 2.24 3.97 3.92 2.84 0.3  3.94 0.38 0.24 2.3  0.35 2.97 0.11 1.57\n",
      " 3.13 3.4  1.67 3.27 0.26 2.65 2.32 2.94 0.17 1.19 2.43 2.73 5.4  1.94\n",
      " 0.4  1.73 1.43 2.75 1.84 3.   2.59 3.46 2.86 0.14 0.23 2.67 0.27 0.22\n",
      " 0.33 3.54 2.89 3.29 3.59 3.21 0.25 3.19 3.75 0.28 3.81 1.81 0.51 3.08\n",
      " 2.27 1.22 2.16 1.76 0.42 0.13 4.21 2.78 0.2  2.62 2.08 2.05 1.35 2.54\n",
      " 3.48 1.92 3.78 0.18 2.48 3.24 0.43 1.   0.45 0.36 4.32 2.51 3.05 3.32\n",
      " 1.7  3.86 0.16 1.62 4.64 4.   1.59 1.78 4.73 2.11 1.46 3.83 2.46 4.16\n",
      " 4.46 3.56 1.97 2.38 1.11 1.3  0.37 4.19 4.4  0.15 2.81 2.   4.43 3.43\n",
      " 3.62 2.21 4.05 4.1  3.67 4.29 3.35 2.19 4.35 3.16 2.4  2.35 1.49 4.56\n",
      " 1.38 0.47 2.92 4.24 3.65 1.86 3.51 1.05 2.13 0.46 0.41 3.89 3.38 3.11\n",
      " 1.51 1.54 1.89 1.13 0.12 4.08 1.03 1.65 4.75 1.32 4.13 1.27 1.16 4.59\n",
      " 4.02 4.48 0.78 1.4  0.65 0.68]\n",
      "0.00    54.4%\n",
      "0.31    1.23%\n",
      "0.21    1.17%\n",
      "0.29    1.08%\n",
      "0.26    1.02%\n",
      "        ...  \n",
      "5.40    0.03%\n",
      "4.40    0.03%\n",
      "4.73    0.03%\n",
      "4.64    0.03%\n",
      "0.68    0.03%\n",
      "Name: DataUsage, Length: 174, dtype: object\n",
      "\n",
      "\n",
      "-------------------------------------\n",
      "CustServCalls has 10 unique values which are: [1 0 2 3 4 5 7 9 6 8]\n",
      "1    35.43%\n",
      "2    22.77%\n",
      "0    20.91%\n",
      "3    12.87%\n",
      "4     4.98%\n",
      "5     1.98%\n",
      "6     0.66%\n",
      "7     0.27%\n",
      "9     0.06%\n",
      "8     0.06%\n",
      "Name: CustServCalls, dtype: object\n",
      "\n",
      "\n",
      "-------------------------------------\n",
      "DayMins has 1667 unique values which are: [265.1 161.6 243.4 ... 321.1 231.1 180.8]\n",
      "154.0    0.24%\n",
      "159.5    0.24%\n",
      "174.5    0.24%\n",
      "183.4    0.21%\n",
      "175.4    0.21%\n",
      "         ...  \n",
      "78.6     0.03%\n",
      "200.9    0.03%\n",
      "254.3    0.03%\n",
      "247.0    0.03%\n",
      "180.8    0.03%\n",
      "Name: DayMins, Length: 1667, dtype: object\n",
      "\n",
      "\n",
      "-------------------------------------\n",
      "DayCalls has 119 unique values which are: [110 123 114  71 113  98  88  79  97  84 137 127  96  70  67 139  66  90\n",
      " 117  89 112 103  86  76 115  73 109  95 105 121 118  94  80 128  64 106\n",
      " 102  85  82  77 120 133 135 108  57  83 129  91  92  74  93 101 146  72\n",
      "  99 104 125  61 100  87 131  65 124 119  52  68 107  47 116 151 126 122\n",
      " 111 145  78 136 140 148  81  55  69 158 134 130  63  53  75 141 163  59\n",
      " 132 138  54  58  62 144 143 147  36  40 150  56  51 165  30  48  60  42\n",
      "   0  45 160 149 152 142 156  35  49 157  44]\n",
      "102    2.34%\n",
      "105    2.25%\n",
      "95     2.07%\n",
      "107    2.07%\n",
      "104    2.04%\n",
      "       ...  \n",
      "149    0.03%\n",
      "163    0.03%\n",
      "30     0.03%\n",
      "165    0.03%\n",
      "36     0.03%\n",
      "Name: DayCalls, Length: 119, dtype: object\n",
      "\n",
      "\n",
      "-------------------------------------\n",
      "MonthlyCharge has 627 unique values which are: [ 89.   82.   52.   57.   41.   87.3  36.   63.9  93.2  44.9  49.4  31.\n",
      "  52.4  47.   84.   95.3  51.   78.   50.1  26.   38.   34.9  35.   45.\n",
      "  78.7  37.   58.2  41.1  27.   56.   39.   64.   69.4  95.7  78.2  42.\n",
      "  79.4  86.4  46.   32.8  48.4  62.   50.   47.5  71.7  59.2  48.   52.1\n",
      "  53.1  56.7  55.   92.3  93.4  81.   61.   87.7  54.   69.1  20.1  53.6\n",
      "  60.   58.   69.7  91.5  73.2  66.4  43.7  59.   60.9  50.4  47.9  90.3\n",
      "  61.5  64.3  44.   40.   25.  110.   43.9  58.1  68.4  49.   62.3  33.\n",
      "  76.7  40.1  63.3  53.   72.2  75.5  81.4  43.   67.6  88.   77.   85.\n",
      "  65.9  29.   92.7  67.3  59.9  80.6  74.6  40.4  48.3  65.   77.7  22.\n",
      "  66.7  55.4  66.   67.9  44.7  41.5  43.2  89.7  67.4  74.3 104.3  30.\n",
      "  68.7  76.9  71.9  45.1  71.5  49.2  73.9 102.9  93.1  88.7  55.5  69.3\n",
      "  33.1  28.1  81.9  74.5  65.7  50.8  85.1  38.9  64.1  88.8  40.2  78.6\n",
      "  70.   60.6  53.3  82.9  83.1  55.7  74.   79.6  28.   67.8  67.5  52.9\n",
      "  46.4  70.6  41.4  69.   83.2  39.3  64.8  62.5  80.4  71.8  48.2  60.8\n",
      "  86.7  57.4  62.4  68.   63.   89.8  69.9  70.9  76.4  31.4  54.1  85.3\n",
      "  37.8  68.8  64.7  75.4  79.   36.2  59.8  49.9  44.3  55.3  44.8  71.\n",
      "  45.6  57.7  82.2  65.8  72.4  45.9  35.8  67.   84.2  82.8  79.5  62.9\n",
      "  58.9  90.2  81.2  66.2  60.4  35.1  80.   86.5  96.6  51.6  68.2  75.\n",
      "  82.4  49.8 101.4  34.   24.   60.7  97.   60.5  55.1  47.1  82.3  75.1\n",
      "  39.9  75.8  73.8 101.8  80.3  53.5  87.8  21.   57.8  25.5  51.1  42.9\n",
      "  67.1  86.9  52.6  61.2  79.8  60.1 100.3  76.1  53.9  73.1  71.4  81.6\n",
      "  37.3  82.6 102.6  67.2  84.3  66.3 108.3  55.6 105.6  81.5  43.3  56.2\n",
      "  82.7  78.8  51.7  76.   52.8  92.6  79.7  68.6  69.8  77.6  46.7  65.1\n",
      "  70.5  92.8  91.8 101.6  40.9  92.9  71.1  47.3  46.5  52.3  39.4  45.2\n",
      " 104.7  64.6  49.3  39.5  72.1  68.5  58.6  54.9  30.1  67.7  59.4  97.3\n",
      "  85.2  84.8  66.8  79.3  92.5  94.5  93.   56.6  85.4  84.7  29.8  90.1\n",
      "  95.4  80.9  76.5  50.9  73.5  72.3  73.   23.   57.9 100.5  83.4  92.\n",
      "  91.   72.6  96.9  56.5  54.3  48.5  95.9  80.5  40.6  75.6  41.8  64.9\n",
      "  90.6  32.2  36.9  72.8  34.2  54.6  74.7  51.2  69.2  71.2  52.7  89.2\n",
      "  53.7  70.2  90.4  87.5  51.8  55.9  42.6  72.7  68.9  65.5  35.7  91.1\n",
      "  58.3  56.4  70.1  80.2  38.6  47.2 101.2  82.1  55.2  74.4 102.5  58.7\n",
      "  62.1  51.3  46.1  59.7  85.7  87.9  50.2  89.6  42.2  39.6  89.3  47.6\n",
      "  50.5  33.8 102.1  90.8  52.2  45.3  37.6  93.6  89.1 103.9  78.3  87.6\n",
      "  75.9  61.6  98.6  39.2  54.7  79.2  75.3  71.3  56.9  74.2  32.   69.5\n",
      "  75.2  62.8  83.6  41.9  77.9  82.5  39.7  59.3  52.5  76.8  46.3  55.8\n",
      "  70.3  53.4  63.8  93.7  81.3  57.3  41.7  86.1  33.3  47.4  57.2  88.2\n",
      "  37.7  31.9  14.   46.6 108.7  35.2  83.5  72.   68.1  25.6  62.2  77.1\n",
      "  20.   73.7  92.1  44.4  66.5  77.5  87.2  86.8  48.1  72.9  33.2  95.6\n",
      "  36.8  35.5  87.   73.6  71.6  80.8  38.2  61.1  39.8  43.4  19.   59.5\n",
      "  48.9  48.6  30.4  83.7  80.1  93.3  97.6  94.6  88.5  45.4  74.8  81.1\n",
      "  90.5 103.5  90.9  66.9  78.9  64.4  91.2  89.5  85.6  41.6  74.9  65.4\n",
      "  83.8  56.3  58.8  74.1  61.8  81.8  91.7  64.5  93.8  75.7 108.6  63.6\n",
      "  72.5  47.8  36.1  39.1  66.1  86.   45.8  84.1  15.7  46.2  53.8  63.5\n",
      "  80.7  86.6  60.3  93.5 111.3  22.8  70.7  49.1  56.8  96.3  34.8  57.6\n",
      "  31.8  49.6  95.5  83.9  34.6  87.1  79.1 101.5  44.2  54.4  94.9  17.\n",
      "  59.1  86.3  54.8  96.2  25.2  96.5  45.7  50.3  51.9  43.1  42.1  42.5\n",
      "  84.5  42.4  31.3  32.1  69.6  36.6 103.8  95.2  47.7  73.3  77.2  40.5\n",
      "  40.8  79.9  50.7  31.7  49.7  56.1  37.2  91.9  38.4  83.   77.4  44.6\n",
      " 103.1  66.6  97.1  46.8  44.1 104.9  88.1  65.2  84.6  90.   84.9  16.\n",
      "  36.3 105.2  40.3  78.5  83.3 106.9  29.4  29.6  94.   92.4  65.3  41.2\n",
      "  46.9  57.1  58.4  73.4  34.4  53.2  49.5  42.8  87.4  70.8  28.4  32.7\n",
      "  34.5  65.6  63.1  38.5  76.6  51.4  77.8 100.6  27.8  86.2  94.7  61.3\n",
      "  45.5  76.2 100. ]\n",
      "50.0     2.52%\n",
      "46.0     2.25%\n",
      "45.0     2.22%\n",
      "49.0     2.19%\n",
      "54.0     2.16%\n",
      "         ...  \n",
      "30.4     0.03%\n",
      "80.1     0.03%\n",
      "83.2     0.03%\n",
      "94.6     0.03%\n",
      "100.0    0.03%\n",
      "Name: MonthlyCharge, Length: 627, dtype: object\n",
      "\n",
      "\n",
      "-------------------------------------\n",
      "OverageFee has 1024 unique values which are: [ 9.87  9.78  6.06 ... 15.03  4.25 13.3 ]\n",
      "8.50     0.39%\n",
      "10.19    0.33%\n",
      "8.36     0.33%\n",
      "8.09     0.33%\n",
      "8.39      0.3%\n",
      "         ...  \n",
      "6.40     0.03%\n",
      "17.55    0.03%\n",
      "14.89    0.03%\n",
      "3.92     0.03%\n",
      "13.30    0.03%\n",
      "Name: OverageFee, Length: 1024, dtype: object\n",
      "\n",
      "\n",
      "-------------------------------------\n",
      "RoamMins has 162 unique values which are: [10.  13.7 12.2  6.6 10.1  6.3  7.5  7.1  8.7 11.2 12.7  9.1 12.3 13.1\n",
      "  5.4 13.8  8.1 13.  10.6  5.7  9.5  7.7 10.3 15.5 14.7 11.1 14.2 12.6\n",
      " 11.8  8.3 14.5 10.5  9.4 14.6  9.2  3.5  8.5 13.2  7.4  8.8 11.   7.8\n",
      "  6.8 11.4  9.3  9.7 10.2  8.   5.8 12.1 12.  11.6  8.2  6.2  7.3  6.1\n",
      " 11.7 15.   9.8 12.4  8.6 10.9 13.9  8.9  7.9  5.3  4.4 12.5 11.3  9.\n",
      "  9.6 13.3 20.   7.2  6.4 14.1 14.3  6.9 11.5 15.8 12.8 16.2  0.  11.9\n",
      "  9.9  8.4 10.8 13.4 10.7 17.6  4.7  2.7 13.5 12.9 14.4 10.4  6.7 15.4\n",
      "  4.5  6.5 15.6  5.9 18.9  7.6  5.   7.  14.  18.  16.  14.8  3.7  2.\n",
      "  4.8 15.3  6.  13.6 17.2 17.5  5.6 18.2  3.6 16.5  4.6  5.1  4.1 16.3\n",
      " 14.9 16.4 16.7  1.3 15.2 15.1 15.9  5.5 16.1  4.  16.9  5.2  4.2 15.7\n",
      " 17.   3.9  3.8  2.2 17.1  4.9 17.9 17.3 18.4 17.8  4.3  2.9  3.1  3.3\n",
      "  2.6  3.4  1.1 18.3 16.6  2.1  2.4  2.5]\n",
      "10.0    1.86%\n",
      "11.3    1.77%\n",
      "9.8     1.68%\n",
      "10.9    1.68%\n",
      "10.1    1.59%\n",
      "        ...  \n",
      "2.7     0.03%\n",
      "18.9    0.03%\n",
      "17.2    0.03%\n",
      "1.3     0.03%\n",
      "2.5     0.03%\n",
      "Name: RoamMins, Length: 162, dtype: object\n",
      "\n",
      "\n",
      "-------------------------------------\n"
     ]
    }
   ],
   "source": [
    "for i in df.columns:\n",
    "  \n",
    "  print(  i + \" has \" +  str(df[i].nunique()) + \" unique values which are: \" + str(df[i].unique()) )\n",
    "  print (round(df[i].value_counts(normalize = True) * 100, 2 ).map(str) +'%')\n",
    "  print (\"\\n\")\n",
    "  print(\"-------------------------------------\")\n",
    "  "
   ]
  },
  {
   "cell_type": "code",
   "execution_count": null,
   "metadata": {
    "colab": {
     "base_uri": "https://localhost:8080/"
    },
    "id": "iyhKub22_62C",
    "outputId": "4333648e-4e6f-4986-9dfc-4c473e1b0fcb"
   },
   "outputs": [
    {
     "data": {
      "text/plain": [
       "Index(['Churn', 'AccountWeeks', 'ContractRenewal', 'DataPlan', 'DataUsage',\n",
       "       'CustServCalls', 'DayMins', 'DayCalls', 'MonthlyCharge', 'OverageFee',\n",
       "       'RoamMins'],\n",
       "      dtype='object')"
      ]
     },
     "execution_count": 8,
     "metadata": {},
     "output_type": "execute_result"
    }
   ],
   "source": [
    "df.columns"
   ]
  },
  {
   "cell_type": "code",
   "execution_count": null,
   "metadata": {
    "id": "wg_TGsPLp0vp"
   },
   "outputs": [],
   "source": [
    "# select features and Target \n",
    "X = df.drop('Churn', axis = 1)\n",
    "y = df['Churn']"
   ]
  },
  {
   "cell_type": "code",
   "execution_count": null,
   "metadata": {
    "id": "eiePk8iQ_C2T"
   },
   "outputs": [],
   "source": [
    "# Split the Dataset into train and test \n",
    "x_train, x_test, y_train, y_test = train_test_split ( X, y, test_size = 0.2, random_state = 0, stratify = y )"
   ]
  },
  {
   "cell_type": "code",
   "execution_count": null,
   "metadata": {
    "id": "b-vB_2kU_C5o"
   },
   "outputs": [],
   "source": [
    "# normalize the Data \n",
    "scaler = StandardScaler()\n",
    "x_train_sc = scaler.fit_transform(x_train)\n",
    "x_test_sc = scaler.transform(x_test)"
   ]
  },
  {
   "cell_type": "code",
   "execution_count": null,
   "metadata": {
    "colab": {
     "base_uri": "https://localhost:8080/"
    },
    "id": "1HF6wCbY1olK",
    "outputId": "4792fbc0-5a10-4600-a5c9-c029e977f53a"
   },
   "outputs": [
    {
     "data": {
      "text/plain": [
       "(2666, 10)"
      ]
     },
     "execution_count": 12,
     "metadata": {},
     "output_type": "execute_result"
    }
   ],
   "source": [
    "x_train.shape"
   ]
  },
  {
   "cell_type": "code",
   "execution_count": null,
   "metadata": {
    "colab": {
     "base_uri": "https://localhost:8080/"
    },
    "id": "Z8vjh4IbKXru",
    "outputId": "8e2606bc-6e79-42ec-af5a-459f0f4043d2"
   },
   "outputs": [
    {
     "data": {
      "text/plain": [
       "array([[1., 0.],\n",
       "       [0., 1.],\n",
       "       [1., 0.],\n",
       "       ...,\n",
       "       [1., 0.],\n",
       "       [1., 0.],\n",
       "       [1., 0.]], dtype=float32)"
      ]
     },
     "execution_count": 13,
     "metadata": {},
     "output_type": "execute_result"
    }
   ],
   "source": [
    "# y_train & y_test to categorical \n",
    "y_tr = to_categorical(y_train)\n",
    "y_te = to_categorical(y_test)\n",
    "y_tr"
   ]
  },
  {
   "cell_type": "markdown",
   "metadata": {
    "id": "rJoORfvoLC3_"
   },
   "source": [
    "\n",
    " NOTE \n",
    " \n",
    " y_train & y_test to be in array; either use .value after feature split for both the X and y, \n",
    "But recall during normalization this would have been effected for the x_train and x_test. So here, you can use the Keras approach to covert to categorical in an array format as output "
   ]
  },
  {
   "cell_type": "code",
   "execution_count": null,
   "metadata": {
    "colab": {
     "base_uri": "https://localhost:8080/"
    },
    "id": "VOqTVThl_C99",
    "outputId": "52f108f0-ef71-45df-b8c5-2f8d8aae897a"
   },
   "outputs": [
    {
     "data": {
      "text/plain": [
       "2"
      ]
     },
     "execution_count": 14,
     "metadata": {},
     "output_type": "execute_result"
    }
   ],
   "source": [
    "n_class = len (np.unique(y) )\n",
    "n_class"
   ]
  },
  {
   "cell_type": "code",
   "execution_count": null,
   "metadata": {
    "id": "nAWiiNyOKSiC"
   },
   "outputs": [],
   "source": []
  },
  {
   "cell_type": "code",
   "execution_count": null,
   "metadata": {
    "id": "l5QBx_ZtILa1"
   },
   "outputs": [],
   "source": [
    "# Model Architecture \n",
    "\n",
    "# model = Sequential()\n",
    "# model.add(Dense(128, input_dim = x_train.shape[1],  activation = 'relu'))\n",
    "# model.add(Dense(10, activation= 'relu'))\n",
    "# model.add(Dense(n_class, activation = 'sigmoid'))"
   ]
  },
  {
   "cell_type": "code",
   "execution_count": null,
   "metadata": {
    "id": "KmOGfPa6BWk9"
   },
   "outputs": [],
   "source": [
    "# Model Architecture \n",
    "\n",
    "model = Sequential()\n",
    "\n",
    "# Input layer \n",
    "model.add(Dense(128, input_shape = (x_train.shape[1],),  activation = 'relu'))\n",
    "\n",
    "# Hidden layer \n",
    "model.add(Dense(10, activation= 'relu'))\n",
    "\n",
    "# Output layer \n",
    "model.add(Dense(n_class, activation = 'sigmoid'))"
   ]
  },
  {
   "cell_type": "code",
   "execution_count": null,
   "metadata": {
    "colab": {
     "base_uri": "https://localhost:8080/"
    },
    "id": "Tr-dsDsVGN8I",
    "outputId": "2e490cb4-f768-456d-84f5-b59348849276"
   },
   "outputs": [
    {
     "name": "stdout",
     "output_type": "stream",
     "text": [
      "Model: \"sequential\"\n",
      "_________________________________________________________________\n",
      " Layer (type)                Output Shape              Param #   \n",
      "=================================================================\n",
      " dense (Dense)               (None, 128)               1408      \n",
      "                                                                 \n",
      " dense_1 (Dense)             (None, 10)                1290      \n",
      "                                                                 \n",
      " dense_2 (Dense)             (None, 2)                 22        \n",
      "                                                                 \n",
      "=================================================================\n",
      "Total params: 2,720\n",
      "Trainable params: 2,720\n",
      "Non-trainable params: 0\n",
      "_________________________________________________________________\n"
     ]
    }
   ],
   "source": [
    "# Print Model summary \n",
    "model.summary()"
   ]
  },
  {
   "cell_type": "code",
   "execution_count": null,
   "metadata": {
    "id": "81I34pTgGMcB"
   },
   "outputs": [],
   "source": []
  },
  {
   "cell_type": "markdown",
   "metadata": {
    "id": "APKQ5sloIjBG"
   },
   "source": [
    "Deduction \n",
    "We have got 2,720 trainable parameters  "
   ]
  },
  {
   "cell_type": "code",
   "execution_count": null,
   "metadata": {
    "id": "TMSc1SPaGOCw"
   },
   "outputs": [],
   "source": [
    "# compile \n",
    "opt = Adam( )\n",
    "model.compile (loss = 'binary_crossentropy', optimizer = opt, metrics = ['accuracy'] ) "
   ]
  },
  {
   "cell_type": "code",
   "execution_count": null,
   "metadata": {
    "colab": {
     "base_uri": "https://localhost:8080/"
    },
    "id": "zcT00tUhGOGH",
    "outputId": "cba2eb0d-29c6-45a8-de4c-a8f45537614b"
   },
   "outputs": [
    {
     "name": "stdout",
     "output_type": "stream",
     "text": [
      "Epoch 1/10\n",
      "67/67 - 2s - loss: 0.5867 - accuracy: 0.7505 - val_loss: 0.4229 - val_accuracy: 0.8633 - 2s/epoch - 30ms/step\n",
      "Epoch 2/10\n",
      "67/67 - 0s - loss: 0.3805 - accuracy: 0.8588 - val_loss: 0.3304 - val_accuracy: 0.8745 - 210ms/epoch - 3ms/step\n",
      "Epoch 3/10\n",
      "67/67 - 0s - loss: 0.3215 - accuracy: 0.8743 - val_loss: 0.2983 - val_accuracy: 0.8858 - 192ms/epoch - 3ms/step\n",
      "Epoch 4/10\n",
      "67/67 - 0s - loss: 0.2926 - accuracy: 0.8818 - val_loss: 0.2794 - val_accuracy: 0.8914 - 160ms/epoch - 2ms/step\n",
      "Epoch 5/10\n",
      "67/67 - 0s - loss: 0.2739 - accuracy: 0.8898 - val_loss: 0.2671 - val_accuracy: 0.8951 - 235ms/epoch - 4ms/step\n",
      "Epoch 6/10\n",
      "67/67 - 0s - loss: 0.2594 - accuracy: 0.8954 - val_loss: 0.2579 - val_accuracy: 0.8914 - 262ms/epoch - 4ms/step\n",
      "Epoch 7/10\n",
      "67/67 - 0s - loss: 0.2498 - accuracy: 0.9001 - val_loss: 0.2532 - val_accuracy: 0.8951 - 154ms/epoch - 2ms/step\n",
      "Epoch 8/10\n",
      "67/67 - 0s - loss: 0.2443 - accuracy: 0.9015 - val_loss: 0.2484 - val_accuracy: 0.9026 - 490ms/epoch - 7ms/step\n",
      "Epoch 9/10\n",
      "67/67 - 0s - loss: 0.2366 - accuracy: 0.9034 - val_loss: 0.2523 - val_accuracy: 0.8951 - 355ms/epoch - 5ms/step\n",
      "Epoch 10/10\n",
      "67/67 - 0s - loss: 0.2357 - accuracy: 0.9029 - val_loss: 0.2481 - val_accuracy: 0.8989 - 340ms/epoch - 5ms/step\n"
     ]
    }
   ],
   "source": [
    "# Train the network\n",
    "r = model.fit ( x_train_sc, y_tr, batch_size= 32, epochs = 10, validation_split = 0.2, verbose =2)"
   ]
  },
  {
   "cell_type": "code",
   "execution_count": null,
   "metadata": {
    "colab": {
     "base_uri": "https://localhost:8080/"
    },
    "id": "ZRpo6KIVBWoL",
    "outputId": "90951a96-b78b-450b-ff2e-65bd697d1288"
   },
   "outputs": [
    {
     "data": {
      "text/plain": [
       "{'loss': [0.5866907835006714,\n",
       "  0.38050246238708496,\n",
       "  0.3214605152606964,\n",
       "  0.2925730049610138,\n",
       "  0.2738761305809021,\n",
       "  0.25942495465278625,\n",
       "  0.2498047798871994,\n",
       "  0.24429796636104584,\n",
       "  0.23656129837036133,\n",
       "  0.2356712371110916],\n",
       " 'accuracy': [0.7504690289497375,\n",
       "  0.858817994594574,\n",
       "  0.8742964267730713,\n",
       "  0.8818011283874512,\n",
       "  0.8897748589515686,\n",
       "  0.8954033851623535,\n",
       "  0.9000937938690186,\n",
       "  0.901500940322876,\n",
       "  0.903377115726471,\n",
       "  0.9029080867767334],\n",
       " 'val_loss': [0.4229150712490082,\n",
       "  0.3304109573364258,\n",
       "  0.2982673943042755,\n",
       "  0.279379665851593,\n",
       "  0.2670538127422333,\n",
       "  0.2578589916229248,\n",
       "  0.253191202878952,\n",
       "  0.24839620292186737,\n",
       "  0.25225597620010376,\n",
       "  0.248069167137146],\n",
       " 'val_accuracy': [0.86329585313797,\n",
       "  0.8745318055152893,\n",
       "  0.8857678174972534,\n",
       "  0.8913857936859131,\n",
       "  0.8951311111450195,\n",
       "  0.8913857936859131,\n",
       "  0.8951311111450195,\n",
       "  0.9026217460632324,\n",
       "  0.8951311111450195,\n",
       "  0.898876428604126]}"
      ]
     },
     "execution_count": 20,
     "metadata": {},
     "output_type": "execute_result"
    }
   ],
   "source": [
    "model.history.history"
   ]
  },
  {
   "cell_type": "code",
   "execution_count": null,
   "metadata": {
    "colab": {
     "base_uri": "https://localhost:8080/",
     "height": 363
    },
    "id": "BMCoCZExBWvQ",
    "outputId": "2d1db291-78a2-4bc6-ae88-3161bd0a0c1e"
   },
   "outputs": [
    {
     "data": {
      "text/html": [
       "\n",
       "  <div id=\"df-4b35286f-19fe-416f-ac33-b575453a47b5\">\n",
       "    <div class=\"colab-df-container\">\n",
       "      <div>\n",
       "<style scoped>\n",
       "    .dataframe tbody tr th:only-of-type {\n",
       "        vertical-align: middle;\n",
       "    }\n",
       "\n",
       "    .dataframe tbody tr th {\n",
       "        vertical-align: top;\n",
       "    }\n",
       "\n",
       "    .dataframe thead th {\n",
       "        text-align: right;\n",
       "    }\n",
       "</style>\n",
       "<table border=\"1\" class=\"dataframe\">\n",
       "  <thead>\n",
       "    <tr style=\"text-align: right;\">\n",
       "      <th></th>\n",
       "      <th>loss</th>\n",
       "      <th>accuracy</th>\n",
       "      <th>val_loss</th>\n",
       "      <th>val_accuracy</th>\n",
       "    </tr>\n",
       "  </thead>\n",
       "  <tbody>\n",
       "    <tr>\n",
       "      <th>0</th>\n",
       "      <td>0.586691</td>\n",
       "      <td>0.750469</td>\n",
       "      <td>0.422915</td>\n",
       "      <td>0.863296</td>\n",
       "    </tr>\n",
       "    <tr>\n",
       "      <th>1</th>\n",
       "      <td>0.380502</td>\n",
       "      <td>0.858818</td>\n",
       "      <td>0.330411</td>\n",
       "      <td>0.874532</td>\n",
       "    </tr>\n",
       "    <tr>\n",
       "      <th>2</th>\n",
       "      <td>0.321461</td>\n",
       "      <td>0.874296</td>\n",
       "      <td>0.298267</td>\n",
       "      <td>0.885768</td>\n",
       "    </tr>\n",
       "    <tr>\n",
       "      <th>3</th>\n",
       "      <td>0.292573</td>\n",
       "      <td>0.881801</td>\n",
       "      <td>0.279380</td>\n",
       "      <td>0.891386</td>\n",
       "    </tr>\n",
       "    <tr>\n",
       "      <th>4</th>\n",
       "      <td>0.273876</td>\n",
       "      <td>0.889775</td>\n",
       "      <td>0.267054</td>\n",
       "      <td>0.895131</td>\n",
       "    </tr>\n",
       "    <tr>\n",
       "      <th>5</th>\n",
       "      <td>0.259425</td>\n",
       "      <td>0.895403</td>\n",
       "      <td>0.257859</td>\n",
       "      <td>0.891386</td>\n",
       "    </tr>\n",
       "    <tr>\n",
       "      <th>6</th>\n",
       "      <td>0.249805</td>\n",
       "      <td>0.900094</td>\n",
       "      <td>0.253191</td>\n",
       "      <td>0.895131</td>\n",
       "    </tr>\n",
       "    <tr>\n",
       "      <th>7</th>\n",
       "      <td>0.244298</td>\n",
       "      <td>0.901501</td>\n",
       "      <td>0.248396</td>\n",
       "      <td>0.902622</td>\n",
       "    </tr>\n",
       "    <tr>\n",
       "      <th>8</th>\n",
       "      <td>0.236561</td>\n",
       "      <td>0.903377</td>\n",
       "      <td>0.252256</td>\n",
       "      <td>0.895131</td>\n",
       "    </tr>\n",
       "    <tr>\n",
       "      <th>9</th>\n",
       "      <td>0.235671</td>\n",
       "      <td>0.902908</td>\n",
       "      <td>0.248069</td>\n",
       "      <td>0.898876</td>\n",
       "    </tr>\n",
       "  </tbody>\n",
       "</table>\n",
       "</div>\n",
       "      <button class=\"colab-df-convert\" onclick=\"convertToInteractive('df-4b35286f-19fe-416f-ac33-b575453a47b5')\"\n",
       "              title=\"Convert this dataframe to an interactive table.\"\n",
       "              style=\"display:none;\">\n",
       "        \n",
       "  <svg xmlns=\"http://www.w3.org/2000/svg\" height=\"24px\"viewBox=\"0 0 24 24\"\n",
       "       width=\"24px\">\n",
       "    <path d=\"M0 0h24v24H0V0z\" fill=\"none\"/>\n",
       "    <path d=\"M18.56 5.44l.94 2.06.94-2.06 2.06-.94-2.06-.94-.94-2.06-.94 2.06-2.06.94zm-11 1L8.5 8.5l.94-2.06 2.06-.94-2.06-.94L8.5 2.5l-.94 2.06-2.06.94zm10 10l.94 2.06.94-2.06 2.06-.94-2.06-.94-.94-2.06-.94 2.06-2.06.94z\"/><path d=\"M17.41 7.96l-1.37-1.37c-.4-.4-.92-.59-1.43-.59-.52 0-1.04.2-1.43.59L10.3 9.45l-7.72 7.72c-.78.78-.78 2.05 0 2.83L4 21.41c.39.39.9.59 1.41.59.51 0 1.02-.2 1.41-.59l7.78-7.78 2.81-2.81c.8-.78.8-2.07 0-2.86zM5.41 20L4 18.59l7.72-7.72 1.47 1.35L5.41 20z\"/>\n",
       "  </svg>\n",
       "      </button>\n",
       "      \n",
       "  <style>\n",
       "    .colab-df-container {\n",
       "      display:flex;\n",
       "      flex-wrap:wrap;\n",
       "      gap: 12px;\n",
       "    }\n",
       "\n",
       "    .colab-df-convert {\n",
       "      background-color: #E8F0FE;\n",
       "      border: none;\n",
       "      border-radius: 50%;\n",
       "      cursor: pointer;\n",
       "      display: none;\n",
       "      fill: #1967D2;\n",
       "      height: 32px;\n",
       "      padding: 0 0 0 0;\n",
       "      width: 32px;\n",
       "    }\n",
       "\n",
       "    .colab-df-convert:hover {\n",
       "      background-color: #E2EBFA;\n",
       "      box-shadow: 0px 1px 2px rgba(60, 64, 67, 0.3), 0px 1px 3px 1px rgba(60, 64, 67, 0.15);\n",
       "      fill: #174EA6;\n",
       "    }\n",
       "\n",
       "    [theme=dark] .colab-df-convert {\n",
       "      background-color: #3B4455;\n",
       "      fill: #D2E3FC;\n",
       "    }\n",
       "\n",
       "    [theme=dark] .colab-df-convert:hover {\n",
       "      background-color: #434B5C;\n",
       "      box-shadow: 0px 1px 3px 1px rgba(0, 0, 0, 0.15);\n",
       "      filter: drop-shadow(0px 1px 2px rgba(0, 0, 0, 0.3));\n",
       "      fill: #FFFFFF;\n",
       "    }\n",
       "  </style>\n",
       "\n",
       "      <script>\n",
       "        const buttonEl =\n",
       "          document.querySelector('#df-4b35286f-19fe-416f-ac33-b575453a47b5 button.colab-df-convert');\n",
       "        buttonEl.style.display =\n",
       "          google.colab.kernel.accessAllowed ? 'block' : 'none';\n",
       "\n",
       "        async function convertToInteractive(key) {\n",
       "          const element = document.querySelector('#df-4b35286f-19fe-416f-ac33-b575453a47b5');\n",
       "          const dataTable =\n",
       "            await google.colab.kernel.invokeFunction('convertToInteractive',\n",
       "                                                     [key], {});\n",
       "          if (!dataTable) return;\n",
       "\n",
       "          const docLinkHtml = 'Like what you see? Visit the ' +\n",
       "            '<a target=\"_blank\" href=https://colab.research.google.com/notebooks/data_table.ipynb>data table notebook</a>'\n",
       "            + ' to learn more about interactive tables.';\n",
       "          element.innerHTML = '';\n",
       "          dataTable['output_type'] = 'display_data';\n",
       "          await google.colab.output.renderOutput(dataTable, element);\n",
       "          const docLink = document.createElement('div');\n",
       "          docLink.innerHTML = docLinkHtml;\n",
       "          element.appendChild(docLink);\n",
       "        }\n",
       "      </script>\n",
       "    </div>\n",
       "  </div>\n",
       "  "
      ],
      "text/plain": [
       "       loss  accuracy  val_loss  val_accuracy\n",
       "0  0.586691  0.750469  0.422915      0.863296\n",
       "1  0.380502  0.858818  0.330411      0.874532\n",
       "2  0.321461  0.874296  0.298267      0.885768\n",
       "3  0.292573  0.881801  0.279380      0.891386\n",
       "4  0.273876  0.889775  0.267054      0.895131\n",
       "5  0.259425  0.895403  0.257859      0.891386\n",
       "6  0.249805  0.900094  0.253191      0.895131\n",
       "7  0.244298  0.901501  0.248396      0.902622\n",
       "8  0.236561  0.903377  0.252256      0.895131\n",
       "9  0.235671  0.902908  0.248069      0.898876"
      ]
     },
     "execution_count": 21,
     "metadata": {},
     "output_type": "execute_result"
    }
   ],
   "source": [
    "score = pd.DataFrame(model.history.history)\n",
    "score"
   ]
  },
  {
   "cell_type": "markdown",
   "metadata": {
    "id": "H8a8MNv-PgPg"
   },
   "source": [
    "\n",
    " It is clear that accuracy is a good metric for classification problem with accuracy score of 84% which is best on te training set and with val_accuracy oof 88% "
   ]
  },
  {
   "cell_type": "code",
   "execution_count": null,
   "metadata": {
    "id": "pMoCelOPO5Pu"
   },
   "outputs": [],
   "source": [
    "# score.plot()"
   ]
  },
  {
   "cell_type": "code",
   "execution_count": null,
   "metadata": {
    "colab": {
     "base_uri": "https://localhost:8080/"
    },
    "id": "f_Yptu9RO5Sk",
    "outputId": "daa50b1c-f8db-43d3-b184-7b8b1f7663e5"
   },
   "outputs": [
    {
     "data": {
      "text/plain": [
       "[0.7504690289497375,\n",
       " 0.858817994594574,\n",
       " 0.8742964267730713,\n",
       " 0.8818011283874512,\n",
       " 0.8897748589515686,\n",
       " 0.8954033851623535,\n",
       " 0.9000937938690186,\n",
       " 0.901500940322876,\n",
       " 0.903377115726471,\n",
       " 0.9029080867767334]"
      ]
     },
     "execution_count": 23,
     "metadata": {},
     "output_type": "execute_result"
    }
   ],
   "source": [
    "acc = r.history[\"accuracy\"]\n",
    "acc"
   ]
  },
  {
   "cell_type": "code",
   "execution_count": null,
   "metadata": {
    "colab": {
     "base_uri": "https://localhost:8080/"
    },
    "id": "YVwwm3_wFT0J",
    "outputId": "6e3e2d12-b301-431e-8c47-bed459fe6a00"
   },
   "outputs": [
    {
     "data": {
      "text/plain": [
       "[0.5866907835006714,\n",
       " 0.38050246238708496,\n",
       " 0.3214605152606964,\n",
       " 0.2925730049610138,\n",
       " 0.2738761305809021,\n",
       " 0.25942495465278625,\n",
       " 0.2498047798871994,\n",
       " 0.24429796636104584,\n",
       " 0.23656129837036133,\n",
       " 0.2356712371110916]"
      ]
     },
     "execution_count": 24,
     "metadata": {},
     "output_type": "execute_result"
    }
   ],
   "source": [
    "training_loss = r.history[\"loss\"]\n",
    "training_loss"
   ]
  },
  {
   "cell_type": "code",
   "execution_count": null,
   "metadata": {
    "colab": {
     "base_uri": "https://localhost:8080/"
    },
    "id": "OsDPrqWjFcpE",
    "outputId": "1bbbbf98-7cee-43c1-a10d-a42cfae452a8"
   },
   "outputs": [
    {
     "data": {
      "text/plain": [
       "[0.4229150712490082,\n",
       " 0.3304109573364258,\n",
       " 0.2982673943042755,\n",
       " 0.279379665851593,\n",
       " 0.2670538127422333,\n",
       " 0.2578589916229248,\n",
       " 0.253191202878952,\n",
       " 0.24839620292186737,\n",
       " 0.25225597620010376,\n",
       " 0.248069167137146]"
      ]
     },
     "execution_count": 25,
     "metadata": {},
     "output_type": "execute_result"
    }
   ],
   "source": [
    "val_loss = r.history[\"val_loss\"]\n",
    "val_loss"
   ]
  },
  {
   "cell_type": "code",
   "execution_count": null,
   "metadata": {
    "colab": {
     "base_uri": "https://localhost:8080/"
    },
    "id": "-GdWT7c8O5Yr",
    "outputId": "badbf55f-a94c-4b7f-f461-93e0593e5e6f"
   },
   "outputs": [
    {
     "data": {
      "text/plain": [
       "[0.86329585313797,\n",
       " 0.8745318055152893,\n",
       " 0.8857678174972534,\n",
       " 0.8913857936859131,\n",
       " 0.8951311111450195,\n",
       " 0.8913857936859131,\n",
       " 0.8951311111450195,\n",
       " 0.9026217460632324,\n",
       " 0.8951311111450195,\n",
       " 0.898876428604126]"
      ]
     },
     "execution_count": 26,
     "metadata": {},
     "output_type": "execute_result"
    }
   ],
   "source": [
    "val_acc = r.history[\"val_accuracy\"]\n",
    "val_acc"
   ]
  },
  {
   "cell_type": "code",
   "execution_count": null,
   "metadata": {
    "colab": {
     "base_uri": "https://localhost:8080/",
     "height": 465
    },
    "id": "Ei-fhe0yROn9",
    "outputId": "d7db662f-fb04-48c1-b203-28284c593b47"
   },
   "outputs": [
    {
     "data": {
      "image/png": "[encoded data removed]",
      "text/plain": [
       "<Figure size 800x500 with 1 Axes>"
      ]
     },
     "metadata": {},
     "output_type": "display_data"
    }
   ],
   "source": [
    "val_acc = r.history[\"val_accuracy\"]\n",
    "acc = r.history[\"accuracy\"]\n",
    "epochs = range(1, len(acc) + 1) \n",
    "# epochs = range (1,10)\n",
    "plt.figure(figsize = (8,5))\n",
    "plt.plot(epochs, acc, label = \"training accuracy\")\n",
    "plt.plot(epochs, val_acc, label = \"validation accuracy\")\n",
    "plt.legend( loc =\"best\") # this is to place the plot label at best position \n",
    "plt.xlabel (\"Epochs\")\n",
    "plt.ylabel(\"Accuracy\")\n",
    "plt.show() \n"
   ]
  },
  {
   "cell_type": "markdown",
   "metadata": {
    "id": "gmZfK4TYEtnR"
   },
   "source": [
    "Deduction \n",
    "\n",
    "It can be seen that the model performs well on the training and accuracy with an average accuracy score of 91% "
   ]
  },
  {
   "cell_type": "code",
   "execution_count": null,
   "metadata": {
    "colab": {
     "base_uri": "https://localhost:8080/",
     "height": 466
    },
    "id": "mZvHaQpQFw9w",
    "outputId": "b8e08992-dd5e-4308-aa60-17844b252e24"
   },
   "outputs": [
    {
     "data": {
      "image/png": "[encoded data removed]",
      "text/plain": [
       "<Figure size 800x500 with 1 Axes>"
      ]
     },
     "metadata": {},
     "output_type": "display_data"
    }
   ],
   "source": [
    "plt.figure(figsize=(8,5))\n",
    "plt.plot(epochs,val_loss, label = \"Training loss\")\n",
    "plt.plot (epochs, training_loss, label = \"Validation loss\" )\n",
    "plt.legend(loc=\"best\")\n",
    "plt.xlabel(\"Epochs\")\n",
    "plt.ylabel(\"Loss\")\n",
    "plt.show()"
   ]
  },
  {
   "cell_type": "markdown",
   "metadata": {
    "id": "ns9eE27gIGFI"
   },
   "source": [
    "Deduction \n",
    "\n",
    "Its clear on performance as the loss on both training and validation dropped "
   ]
  },
  {
   "cell_type": "code",
   "execution_count": null,
   "metadata": {
    "id": "SzZBdGPVFxIZ"
   },
   "outputs": [],
   "source": [
    "# Evaluation "
   ]
  },
  {
   "cell_type": "code",
   "execution_count": null,
   "metadata": {
    "id": "coXv2OUaROrm"
   },
   "outputs": [],
   "source": [
    "# y_pred = model.predict(x_test_sc)[:, 1]"
   ]
  },
  {
   "cell_type": "code",
   "execution_count": null,
   "metadata": {
    "colab": {
     "base_uri": "https://localhost:8080/"
    },
    "id": "Ojd7MADOROy7",
    "outputId": "fedc176c-f5e7-4064-aa8b-c84ea5e597c0"
   },
   "outputs": [
    {
     "name": "stdout",
     "output_type": "stream",
     "text": [
      "21/21 [==============================] - 0s 990us/step\n"
     ]
    },
    {
     "data": {
      "text/plain": [
       "array([[561,   9],\n",
       "       [ 56,  41]])"
      ]
     },
     "execution_count": 33,
     "metadata": {},
     "output_type": "execute_result"
    }
   ],
   "source": [
    "y_pred = model.predict(x_test_sc).argmax(axis = 1)\n",
    "cm = confusion_matrix( y_test, y_pred)\n",
    "cm"
   ]
  },
  {
   "cell_type": "code",
   "execution_count": null,
   "metadata": {
    "colab": {
     "base_uri": "https://localhost:8080/",
     "height": 536
    },
    "id": "2df2XdgYYeEq",
    "outputId": "bfd9982e-4ab0-4418-82fd-8a028522b072"
   },
   "outputs": [
    {
     "name": "stdout",
     "output_type": "stream",
     "text": [
      "21/21 [==============================] - 0s 2ms/step\n",
      "Test Accuracy: 0.903\n",
      "Precision: 0.82\n",
      "Recall: 0.423\n",
      "F1 Score: 0.558\n"
     ]
    },
    {
     "data": {
      "image/png": "[encoded data removed]",
      "text/plain": [
       "<Figure size 640x480 with 2 Axes>"
      ]
     },
     "metadata": {},
     "output_type": "display_data"
    }
   ],
   "source": [
    "# import relevant libraries\n",
    "from sklearn.metrics import confusion_matrix, ConfusionMatrixDisplay # to plot the confusion matrix\n",
    "from sklearn.metrics import accuracy_score, precision_score, recall_score, f1_score\n",
    "\n",
    "y_pred = model.predict(x_test_sc).argmax(axis = 1) # getting the index of the row with the maximum prediction\n",
    "accuracy = accuracy_score(y_test, y_pred) # computing the test accuracy\n",
    "precision = precision_score(y_test, y_pred) # computing the precision\n",
    "recall = recall_score(y_test, y_pred) # computing the recall\n",
    "f1 = f1_score(y_test, y_pred) # computing the f1\n",
    "\n",
    "# printing the metrics\n",
    "print(f'Test Accuracy: {round(accuracy, 3)}') # printing test accuracy to 3 decimal places\n",
    "print(f'Precision: {round(precision, 3)}') # printing precision to 3 decimal places\n",
    "print(f'Recall: {round(recall, 3)}') # printing recall to 3 decimal places\n",
    "print(f'F1 Score: {round(f1, 3)}') # printing f1 score to 3 decimal places\n",
    "\n",
    "cm = confusion_matrix(y_test, y_pred, labels = [0, 1])\n",
    "display = ConfusionMatrixDisplay(cm, display_labels=[0, 1]) # setting the display \n",
    "display.plot() # plotting the confusion matrix\n",
    "plt.show()"
   ]
  },
  {
   "cell_type": "code",
   "execution_count": null,
   "metadata": {
    "id": "A914CS6oJgqr"
   },
   "outputs": [],
   "source": []
  }
 ],
 "metadata": {
  "colab": {
   "provenance": []
  },
  "kernelspec": {
   "display_name": "Python 3",
   "name": "python3"
  },
  "language_info": {
   "name": "python"
  }
 },
 "nbformat": 4,
 "nbformat_minor": 0
}
