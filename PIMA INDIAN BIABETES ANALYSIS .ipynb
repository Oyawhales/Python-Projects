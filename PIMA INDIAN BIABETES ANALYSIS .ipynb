{
 "cells": [
  {
   "cell_type": "markdown",
   "metadata": {
    "_cell_guid": "7b3f8258-662b-424a-9d35-e1fb882c1306",
    "_execution_state": "idle",
    "_uuid": "d677e0853462f88572798ca33d1bbd1af9e1f57e"
   },
   "source": [
    "### Pima Indian Diabetes Analysis\n",
    "\n",
    "We will use logistic regression to model the \"Pima Indians Diabetes\" data set. This model will predict which people are likely to develop diabetes.\n",
    "\n",
    "\n",
    "This dataset is originally from the National Institute of Diabetes and Digestive and Kidney Diseases. The objective of the dataset is to diagnostically predict whether or not a patient has diabetes, based on certain diagnostic measurements included in the dataset. Several constraints were placed on the selection of these instances from a larger database. In particular, all patients here are females at least 21 years old of Pima Indian heritage.\n",
    "\n",
    "\n",
    "<b>Data Dictionary</b>:\n",
    "\n",
    "Preg: Number of times pregnant<br>\n",
    "Plas: glucose concentration a 2 hours in an oral glucose tolerance test<br>\n",
    "Pres: blood pressure (mm Hg)<br>\n",
    "Skin: skin fold thickness (mm)<br>\n",
    "test: 2-Hour serum insulin (mu U/ml)<br>\n",
    "mass: BMI (weight in kg/(height in m)^2)<br>\n",
    "pedi: pedigree function<br>\n",
    "age: Age (years)<br>\n",
    "Class: variable (0 or 1) 268 of 768 are 1, the others are 0<br>\n",
    "\n"
   ]
  },
  {
   "cell_type": "markdown",
   "metadata": {
    "_cell_guid": "26dcb635-f956-4672-b097-3419e36b0071",
    "_execution_state": "idle",
    "_uuid": "4e83bf1a41e4fce195fce364fe46049d4c47d61a"
   },
   "source": [
    "## Import Libraries"
   ]
  },
  {
   "cell_type": "code",
   "execution_count": 282,
   "metadata": {
    "_cell_guid": "d6c9c45a-ab99-4724-9f79-3078de45a2c2",
    "_execution_state": "idle",
    "_uuid": "3f1077096bcba840ff0b64c1e3e75373d6f7cb4e"
   },
   "outputs": [
    {
     "name": "stderr",
     "output_type": "stream",
     "text": [
      "UsageError: unrecognized arguments: #i dont av to use the plt.show befor displaying my plot; show my plot\n"
     ]
    }
   ],
   "source": [
    "import numpy as np # linear algebra\n",
    "import pandas as pd # data processing, CSV file I/O (e.g. pd.read_csv)\n",
    "import matplotlib.pyplot as plt       # matplotlib.pyplot plots data\n",
    "%matplotlib inline #i dont av to use the plt.show befor displaying my plot; show my plot  \n",
    "import seaborn as sns\n",
    "from sklearn.metrics import precison_score, recall, f1_score \n"
   ]
  },
  {
   "cell_type": "code",
   "execution_count": 283,
   "metadata": {},
   "outputs": [],
   "source": [
    "# Libraries to help with reading and manipulating data\n",
    "import numpy as np\n",
    "import pandas as pd\n",
    "\n",
    "# Libraries to help with data visualization\n",
    "import matplotlib.pyplot as plt\n",
    "import seaborn as sns\n",
    "\n",
    "sns.set()\n",
    "\n",
    "# Removes the limit for the number of displayed columns\n",
    "pd.set_option(\"display.max_columns\", None)\n",
    "# Sets the limit for the number of displayed rows\n",
    "pd.set_option(\"display.max_rows\", 200)\n",
    "\n",
    "# to split the data into train and test\n",
    "from sklearn.model_selection import train_test_split\n",
    "\n",
    "# to build linear regression_model\n",
    "from sklearn.linear_model import LinearRegression, Ridge, Lasso\n",
    "\n",
    "# to check model performance\n",
    "from sklearn.metrics import mean_absolute_error, mean_squared_error, r2_score\n",
    "\n",
    "#to plot univariate and bivariate plot\n",
    "from utils import histogram_boxplot, labeled_barplot\n",
    "\n",
    "#to normalize the data\n",
    "from sklearn.preprocessing import StandardScaler"
   ]
  },
  {
   "cell_type": "code",
   "execution_count": 284,
   "metadata": {},
   "outputs": [],
   "source": [
    "from sklearn.metrics import (precision_score,\n",
    "                           recall_score,\n",
    "                           f1_score,\n",
    "                           accuracy_score,\n",
    "                           precision_recall_curve,\n",
    "                           roc_auc_score,\n",
    "                            confusion_matrix,\n",
    "                            roc_curve, ConfusionMatrixDisplay)"
   ]
  },
  {
   "cell_type": "markdown",
   "metadata": {
    "_cell_guid": "7e6eecbd-4ed5-48a7-9a4a-f332284941a8",
    "_execution_state": "idle",
    "_uuid": "b67213ded17f98e51f96710ed75b3e30e0188aec"
   },
   "source": [
    "## Load and review data"
   ]
  },
  {
   "cell_type": "code",
   "execution_count": 285,
   "metadata": {
    "_cell_guid": "494c0137-fe90-4a56-8c04-8c0cd312f4e0",
    "_execution_state": "idle",
    "_uuid": "18516319ab9c570974d728eb2fc55e54a7b44855"
   },
   "outputs": [
    {
     "data": {
      "text/html": [
       "<div>\n",
       "<style scoped>\n",
       "    .dataframe tbody tr th:only-of-type {\n",
       "        vertical-align: middle;\n",
       "    }\n",
       "\n",
       "    .dataframe tbody tr th {\n",
       "        vertical-align: top;\n",
       "    }\n",
       "\n",
       "    .dataframe thead th {\n",
       "        text-align: right;\n",
       "    }\n",
       "</style>\n",
       "<table border=\"1\" class=\"dataframe\">\n",
       "  <thead>\n",
       "    <tr style=\"text-align: right;\">\n",
       "      <th></th>\n",
       "      <th>Preg</th>\n",
       "      <th>Plas</th>\n",
       "      <th>Pres</th>\n",
       "      <th>skin</th>\n",
       "      <th>test</th>\n",
       "      <th>mass</th>\n",
       "      <th>pedi</th>\n",
       "      <th>age</th>\n",
       "      <th>class</th>\n",
       "    </tr>\n",
       "  </thead>\n",
       "  <tbody>\n",
       "    <tr>\n",
       "      <th>0</th>\n",
       "      <td>6</td>\n",
       "      <td>148</td>\n",
       "      <td>72</td>\n",
       "      <td>35</td>\n",
       "      <td>0</td>\n",
       "      <td>33.6</td>\n",
       "      <td>0.627</td>\n",
       "      <td>50</td>\n",
       "      <td>1</td>\n",
       "    </tr>\n",
       "    <tr>\n",
       "      <th>1</th>\n",
       "      <td>1</td>\n",
       "      <td>85</td>\n",
       "      <td>66</td>\n",
       "      <td>29</td>\n",
       "      <td>0</td>\n",
       "      <td>26.6</td>\n",
       "      <td>0.351</td>\n",
       "      <td>31</td>\n",
       "      <td>0</td>\n",
       "    </tr>\n",
       "    <tr>\n",
       "      <th>2</th>\n",
       "      <td>8</td>\n",
       "      <td>183</td>\n",
       "      <td>64</td>\n",
       "      <td>0</td>\n",
       "      <td>0</td>\n",
       "      <td>23.3</td>\n",
       "      <td>0.672</td>\n",
       "      <td>32</td>\n",
       "      <td>1</td>\n",
       "    </tr>\n",
       "    <tr>\n",
       "      <th>3</th>\n",
       "      <td>1</td>\n",
       "      <td>89</td>\n",
       "      <td>66</td>\n",
       "      <td>23</td>\n",
       "      <td>94</td>\n",
       "      <td>28.1</td>\n",
       "      <td>0.167</td>\n",
       "      <td>21</td>\n",
       "      <td>0</td>\n",
       "    </tr>\n",
       "    <tr>\n",
       "      <th>4</th>\n",
       "      <td>0</td>\n",
       "      <td>137</td>\n",
       "      <td>40</td>\n",
       "      <td>35</td>\n",
       "      <td>168</td>\n",
       "      <td>43.1</td>\n",
       "      <td>2.288</td>\n",
       "      <td>33</td>\n",
       "      <td>1</td>\n",
       "    </tr>\n",
       "    <tr>\n",
       "      <th>...</th>\n",
       "      <td>...</td>\n",
       "      <td>...</td>\n",
       "      <td>...</td>\n",
       "      <td>...</td>\n",
       "      <td>...</td>\n",
       "      <td>...</td>\n",
       "      <td>...</td>\n",
       "      <td>...</td>\n",
       "      <td>...</td>\n",
       "    </tr>\n",
       "    <tr>\n",
       "      <th>763</th>\n",
       "      <td>10</td>\n",
       "      <td>101</td>\n",
       "      <td>76</td>\n",
       "      <td>48</td>\n",
       "      <td>180</td>\n",
       "      <td>32.9</td>\n",
       "      <td>0.171</td>\n",
       "      <td>63</td>\n",
       "      <td>0</td>\n",
       "    </tr>\n",
       "    <tr>\n",
       "      <th>764</th>\n",
       "      <td>2</td>\n",
       "      <td>122</td>\n",
       "      <td>70</td>\n",
       "      <td>27</td>\n",
       "      <td>0</td>\n",
       "      <td>36.8</td>\n",
       "      <td>0.340</td>\n",
       "      <td>27</td>\n",
       "      <td>0</td>\n",
       "    </tr>\n",
       "    <tr>\n",
       "      <th>765</th>\n",
       "      <td>5</td>\n",
       "      <td>121</td>\n",
       "      <td>72</td>\n",
       "      <td>23</td>\n",
       "      <td>112</td>\n",
       "      <td>26.2</td>\n",
       "      <td>0.245</td>\n",
       "      <td>30</td>\n",
       "      <td>0</td>\n",
       "    </tr>\n",
       "    <tr>\n",
       "      <th>766</th>\n",
       "      <td>1</td>\n",
       "      <td>126</td>\n",
       "      <td>60</td>\n",
       "      <td>0</td>\n",
       "      <td>0</td>\n",
       "      <td>30.1</td>\n",
       "      <td>0.349</td>\n",
       "      <td>47</td>\n",
       "      <td>1</td>\n",
       "    </tr>\n",
       "    <tr>\n",
       "      <th>767</th>\n",
       "      <td>1</td>\n",
       "      <td>93</td>\n",
       "      <td>70</td>\n",
       "      <td>31</td>\n",
       "      <td>0</td>\n",
       "      <td>30.4</td>\n",
       "      <td>0.315</td>\n",
       "      <td>23</td>\n",
       "      <td>0</td>\n",
       "    </tr>\n",
       "  </tbody>\n",
       "</table>\n",
       "<p>768 rows × 9 columns</p>\n",
       "</div>"
      ],
      "text/plain": [
       "     Preg  Plas  Pres  skin  test  mass   pedi  age  class\n",
       "0       6   148    72    35     0  33.6  0.627   50      1\n",
       "1       1    85    66    29     0  26.6  0.351   31      0\n",
       "2       8   183    64     0     0  23.3  0.672   32      1\n",
       "3       1    89    66    23    94  28.1  0.167   21      0\n",
       "4       0   137    40    35   168  43.1  2.288   33      1\n",
       "..    ...   ...   ...   ...   ...   ...    ...  ...    ...\n",
       "763    10   101    76    48   180  32.9  0.171   63      0\n",
       "764     2   122    70    27     0  36.8  0.340   27      0\n",
       "765     5   121    72    23   112  26.2  0.245   30      0\n",
       "766     1   126    60     0     0  30.1  0.349   47      1\n",
       "767     1    93    70    31     0  30.4  0.315   23      0\n",
       "\n",
       "[768 rows x 9 columns]"
      ]
     },
     "execution_count": 285,
     "metadata": {},
     "output_type": "execute_result"
    }
   ],
   "source": [
    "#path = r\"C:\\Users\\ajayi\\Downloads\\pima-indians-diabetes.csv\"\n",
    "\n",
    "# load the data\n",
    "\n",
    "df = pd.read_csv('pima-indians-diabetes.csv')\n",
    "df"
   ]
  },
  {
   "cell_type": "code",
   "execution_count": 286,
   "metadata": {
    "_cell_guid": "e76ccd67-f803-4245-aeda-cba2da84b379",
    "_execution_state": "idle",
    "_uuid": "9c42f7d497d2b92f651a33b58359641c6593a441"
   },
   "outputs": [
    {
     "data": {
      "text/plain": [
       "(768, 9)"
      ]
     },
     "execution_count": 286,
     "metadata": {},
     "output_type": "execute_result"
    }
   ],
   "source": [
    "# Check number of columns and rows in data frame\n",
    "\n",
    "df.shape"
   ]
  },
  {
   "cell_type": "code",
   "execution_count": 287,
   "metadata": {
    "_cell_guid": "219699a3-5760-4c35-a26d-d7343085fde4",
    "_execution_state": "idle",
    "_uuid": "207cb4511bc2147529219737324a37157d1455d8",
    "scrolled": true
   },
   "outputs": [
    {
     "data": {
      "text/html": [
       "<div>\n",
       "<style scoped>\n",
       "    .dataframe tbody tr th:only-of-type {\n",
       "        vertical-align: middle;\n",
       "    }\n",
       "\n",
       "    .dataframe tbody tr th {\n",
       "        vertical-align: top;\n",
       "    }\n",
       "\n",
       "    .dataframe thead th {\n",
       "        text-align: right;\n",
       "    }\n",
       "</style>\n",
       "<table border=\"1\" class=\"dataframe\">\n",
       "  <thead>\n",
       "    <tr style=\"text-align: right;\">\n",
       "      <th></th>\n",
       "      <th>Preg</th>\n",
       "      <th>Plas</th>\n",
       "      <th>Pres</th>\n",
       "      <th>skin</th>\n",
       "      <th>test</th>\n",
       "      <th>mass</th>\n",
       "      <th>pedi</th>\n",
       "      <th>age</th>\n",
       "      <th>class</th>\n",
       "    </tr>\n",
       "  </thead>\n",
       "  <tbody>\n",
       "    <tr>\n",
       "      <th>0</th>\n",
       "      <td>6</td>\n",
       "      <td>148</td>\n",
       "      <td>72</td>\n",
       "      <td>35</td>\n",
       "      <td>0</td>\n",
       "      <td>33.6</td>\n",
       "      <td>0.627</td>\n",
       "      <td>50</td>\n",
       "      <td>1</td>\n",
       "    </tr>\n",
       "    <tr>\n",
       "      <th>1</th>\n",
       "      <td>1</td>\n",
       "      <td>85</td>\n",
       "      <td>66</td>\n",
       "      <td>29</td>\n",
       "      <td>0</td>\n",
       "      <td>26.6</td>\n",
       "      <td>0.351</td>\n",
       "      <td>31</td>\n",
       "      <td>0</td>\n",
       "    </tr>\n",
       "    <tr>\n",
       "      <th>2</th>\n",
       "      <td>8</td>\n",
       "      <td>183</td>\n",
       "      <td>64</td>\n",
       "      <td>0</td>\n",
       "      <td>0</td>\n",
       "      <td>23.3</td>\n",
       "      <td>0.672</td>\n",
       "      <td>32</td>\n",
       "      <td>1</td>\n",
       "    </tr>\n",
       "    <tr>\n",
       "      <th>3</th>\n",
       "      <td>1</td>\n",
       "      <td>89</td>\n",
       "      <td>66</td>\n",
       "      <td>23</td>\n",
       "      <td>94</td>\n",
       "      <td>28.1</td>\n",
       "      <td>0.167</td>\n",
       "      <td>21</td>\n",
       "      <td>0</td>\n",
       "    </tr>\n",
       "    <tr>\n",
       "      <th>4</th>\n",
       "      <td>0</td>\n",
       "      <td>137</td>\n",
       "      <td>40</td>\n",
       "      <td>35</td>\n",
       "      <td>168</td>\n",
       "      <td>43.1</td>\n",
       "      <td>2.288</td>\n",
       "      <td>33</td>\n",
       "      <td>1</td>\n",
       "    </tr>\n",
       "  </tbody>\n",
       "</table>\n",
       "</div>"
      ],
      "text/plain": [
       "   Preg  Plas  Pres  skin  test  mass   pedi  age  class\n",
       "0     6   148    72    35     0  33.6  0.627   50      1\n",
       "1     1    85    66    29     0  26.6  0.351   31      0\n",
       "2     8   183    64     0     0  23.3  0.672   32      1\n",
       "3     1    89    66    23    94  28.1  0.167   21      0\n",
       "4     0   137    40    35   168  43.1  2.288   33      1"
      ]
     },
     "execution_count": 287,
     "metadata": {},
     "output_type": "execute_result"
    }
   ],
   "source": [
    "# check first 5 rows of data set\n",
    "\n",
    "df.head(5)\n",
    "#As at time the datais being collated till time of use, the 4th observation showed there was pregnancy during the sampling periods \n",
    "#So learn to write story about the data  "
   ]
  },
  {
   "cell_type": "code",
   "execution_count": 288,
   "metadata": {
    "_cell_guid": "2845e88c-8999-48d2-a94d-cae37473fd05",
    "_execution_state": "idle",
    "_uuid": "95fd5e5d6206cd21a548259734596d46329ace3a",
    "scrolled": true
   },
   "outputs": [
    {
     "data": {
      "text/plain": [
       "Preg     0\n",
       "Plas     0\n",
       "Pres     0\n",
       "skin     0\n",
       "test     0\n",
       "mass     0\n",
       "pedi     0\n",
       "age      0\n",
       "class    0\n",
       "dtype: int64"
      ]
     },
     "execution_count": 288,
     "metadata": {},
     "output_type": "execute_result"
    }
   ],
   "source": [
    "# Check for missing values\n",
    "df.isnull().sum()\n"
   ]
  },
  {
   "cell_type": "code",
   "execution_count": 289,
   "metadata": {},
   "outputs": [
    {
     "data": {
      "text/html": [
       "<div>\n",
       "<style scoped>\n",
       "    .dataframe tbody tr th:only-of-type {\n",
       "        vertical-align: middle;\n",
       "    }\n",
       "\n",
       "    .dataframe tbody tr th {\n",
       "        vertical-align: top;\n",
       "    }\n",
       "\n",
       "    .dataframe thead th {\n",
       "        text-align: right;\n",
       "    }\n",
       "</style>\n",
       "<table border=\"1\" class=\"dataframe\">\n",
       "  <thead>\n",
       "    <tr style=\"text-align: right;\">\n",
       "      <th></th>\n",
       "      <th>count</th>\n",
       "      <th>mean</th>\n",
       "      <th>std</th>\n",
       "      <th>min</th>\n",
       "      <th>25%</th>\n",
       "      <th>50%</th>\n",
       "      <th>75%</th>\n",
       "      <th>max</th>\n",
       "    </tr>\n",
       "  </thead>\n",
       "  <tbody>\n",
       "    <tr>\n",
       "      <th>Preg</th>\n",
       "      <td>768.0</td>\n",
       "      <td>3.845052</td>\n",
       "      <td>3.369578</td>\n",
       "      <td>0.000</td>\n",
       "      <td>1.00000</td>\n",
       "      <td>3.0000</td>\n",
       "      <td>6.00000</td>\n",
       "      <td>17.00</td>\n",
       "    </tr>\n",
       "    <tr>\n",
       "      <th>Plas</th>\n",
       "      <td>768.0</td>\n",
       "      <td>120.894531</td>\n",
       "      <td>31.972618</td>\n",
       "      <td>0.000</td>\n",
       "      <td>99.00000</td>\n",
       "      <td>117.0000</td>\n",
       "      <td>140.25000</td>\n",
       "      <td>199.00</td>\n",
       "    </tr>\n",
       "    <tr>\n",
       "      <th>Pres</th>\n",
       "      <td>768.0</td>\n",
       "      <td>69.105469</td>\n",
       "      <td>19.355807</td>\n",
       "      <td>0.000</td>\n",
       "      <td>62.00000</td>\n",
       "      <td>72.0000</td>\n",
       "      <td>80.00000</td>\n",
       "      <td>122.00</td>\n",
       "    </tr>\n",
       "    <tr>\n",
       "      <th>skin</th>\n",
       "      <td>768.0</td>\n",
       "      <td>20.536458</td>\n",
       "      <td>15.952218</td>\n",
       "      <td>0.000</td>\n",
       "      <td>0.00000</td>\n",
       "      <td>23.0000</td>\n",
       "      <td>32.00000</td>\n",
       "      <td>99.00</td>\n",
       "    </tr>\n",
       "    <tr>\n",
       "      <th>test</th>\n",
       "      <td>768.0</td>\n",
       "      <td>79.799479</td>\n",
       "      <td>115.244002</td>\n",
       "      <td>0.000</td>\n",
       "      <td>0.00000</td>\n",
       "      <td>30.5000</td>\n",
       "      <td>127.25000</td>\n",
       "      <td>846.00</td>\n",
       "    </tr>\n",
       "    <tr>\n",
       "      <th>mass</th>\n",
       "      <td>768.0</td>\n",
       "      <td>31.992578</td>\n",
       "      <td>7.884160</td>\n",
       "      <td>0.000</td>\n",
       "      <td>27.30000</td>\n",
       "      <td>32.0000</td>\n",
       "      <td>36.60000</td>\n",
       "      <td>67.10</td>\n",
       "    </tr>\n",
       "    <tr>\n",
       "      <th>pedi</th>\n",
       "      <td>768.0</td>\n",
       "      <td>0.471876</td>\n",
       "      <td>0.331329</td>\n",
       "      <td>0.078</td>\n",
       "      <td>0.24375</td>\n",
       "      <td>0.3725</td>\n",
       "      <td>0.62625</td>\n",
       "      <td>2.42</td>\n",
       "    </tr>\n",
       "    <tr>\n",
       "      <th>age</th>\n",
       "      <td>768.0</td>\n",
       "      <td>33.240885</td>\n",
       "      <td>11.760232</td>\n",
       "      <td>21.000</td>\n",
       "      <td>24.00000</td>\n",
       "      <td>29.0000</td>\n",
       "      <td>41.00000</td>\n",
       "      <td>81.00</td>\n",
       "    </tr>\n",
       "    <tr>\n",
       "      <th>class</th>\n",
       "      <td>768.0</td>\n",
       "      <td>0.348958</td>\n",
       "      <td>0.476951</td>\n",
       "      <td>0.000</td>\n",
       "      <td>0.00000</td>\n",
       "      <td>0.0000</td>\n",
       "      <td>1.00000</td>\n",
       "      <td>1.00</td>\n",
       "    </tr>\n",
       "  </tbody>\n",
       "</table>\n",
       "</div>"
      ],
      "text/plain": [
       "       count        mean         std     min       25%       50%        75%  \\\n",
       "Preg   768.0    3.845052    3.369578   0.000   1.00000    3.0000    6.00000   \n",
       "Plas   768.0  120.894531   31.972618   0.000  99.00000  117.0000  140.25000   \n",
       "Pres   768.0   69.105469   19.355807   0.000  62.00000   72.0000   80.00000   \n",
       "skin   768.0   20.536458   15.952218   0.000   0.00000   23.0000   32.00000   \n",
       "test   768.0   79.799479  115.244002   0.000   0.00000   30.5000  127.25000   \n",
       "mass   768.0   31.992578    7.884160   0.000  27.30000   32.0000   36.60000   \n",
       "pedi   768.0    0.471876    0.331329   0.078   0.24375    0.3725    0.62625   \n",
       "age    768.0   33.240885   11.760232  21.000  24.00000   29.0000   41.00000   \n",
       "class  768.0    0.348958    0.476951   0.000   0.00000    0.0000    1.00000   \n",
       "\n",
       "          max  \n",
       "Preg    17.00  \n",
       "Plas   199.00  \n",
       "Pres   122.00  \n",
       "skin    99.00  \n",
       "test   846.00  \n",
       "mass    67.10  \n",
       "pedi     2.42  \n",
       "age     81.00  \n",
       "class    1.00  "
      ]
     },
     "execution_count": 289,
     "metadata": {},
     "output_type": "execute_result"
    }
   ],
   "source": [
    "df.describe().T\n",
    "#From the data we can see that preg nos can be 0 as min \n",
    "#Glucose conc can be 0 maybe \n",
    "#pressure level cant be except dead \n",
    "#skin fld level cant be 0 too \n",
    "#Test maybe come out 0 \n",
    "#Mass cant be 0 too \n",
    "#pedi \n",
    "#We can rather treat this 0 which is not realisetic as missing values although missing value as NA isnt missing  "
   ]
  },
  {
   "cell_type": "code",
   "execution_count": null,
   "metadata": {},
   "outputs": [],
   "source": []
  },
  {
   "cell_type": "markdown",
   "metadata": {},
   "source": [
    "### Visualize the data"
   ]
  },
  {
   "cell_type": "code",
   "execution_count": 290,
   "metadata": {},
   "outputs": [
    {
     "data": {
      "text/html": [
       "<div>\n",
       "<style scoped>\n",
       "    .dataframe tbody tr th:only-of-type {\n",
       "        vertical-align: middle;\n",
       "    }\n",
       "\n",
       "    .dataframe tbody tr th {\n",
       "        vertical-align: top;\n",
       "    }\n",
       "\n",
       "    .dataframe thead th {\n",
       "        text-align: right;\n",
       "    }\n",
       "</style>\n",
       "<table border=\"1\" class=\"dataframe\">\n",
       "  <thead>\n",
       "    <tr style=\"text-align: right;\">\n",
       "      <th></th>\n",
       "      <th>Preg</th>\n",
       "      <th>Plas</th>\n",
       "      <th>Pres</th>\n",
       "      <th>skin</th>\n",
       "      <th>test</th>\n",
       "      <th>mass</th>\n",
       "      <th>pedi</th>\n",
       "      <th>age</th>\n",
       "    </tr>\n",
       "  </thead>\n",
       "  <tbody>\n",
       "    <tr>\n",
       "      <th>0</th>\n",
       "      <td>6</td>\n",
       "      <td>148</td>\n",
       "      <td>72</td>\n",
       "      <td>35</td>\n",
       "      <td>0</td>\n",
       "      <td>33.6</td>\n",
       "      <td>0.627</td>\n",
       "      <td>50</td>\n",
       "    </tr>\n",
       "    <tr>\n",
       "      <th>1</th>\n",
       "      <td>1</td>\n",
       "      <td>85</td>\n",
       "      <td>66</td>\n",
       "      <td>29</td>\n",
       "      <td>0</td>\n",
       "      <td>26.6</td>\n",
       "      <td>0.351</td>\n",
       "      <td>31</td>\n",
       "    </tr>\n",
       "    <tr>\n",
       "      <th>2</th>\n",
       "      <td>8</td>\n",
       "      <td>183</td>\n",
       "      <td>64</td>\n",
       "      <td>0</td>\n",
       "      <td>0</td>\n",
       "      <td>23.3</td>\n",
       "      <td>0.672</td>\n",
       "      <td>32</td>\n",
       "    </tr>\n",
       "  </tbody>\n",
       "</table>\n",
       "</div>"
      ],
      "text/plain": [
       "   Preg  Plas  Pres  skin  test  mass   pedi  age\n",
       "0     6   148    72    35     0  33.6  0.627   50\n",
       "1     1    85    66    29     0  26.6  0.351   31\n",
       "2     8   183    64     0     0  23.3  0.672   32"
      ]
     },
     "execution_count": 290,
     "metadata": {},
     "output_type": "execute_result"
    }
   ],
   "source": [
    "columns = list(df)[:-1]\n",
    "df[columns].head(3)"
   ]
  },
  {
   "cell_type": "code",
   "execution_count": 291,
   "metadata": {},
   "outputs": [
    {
     "data": {
      "image/png": "[encoded data removed]",
      "text/plain": [
       "<Figure size 864x2160 with 28 Axes>"
      ]
     },
     "metadata": {},
     "output_type": "display_data"
    }
   ],
   "source": [
    "df[columns].hist(stacked = False, bins = 100, figsize = (12,30), layout = (14, 2))\n",
    "plt.tight_layout();"
   ]
  },
  {
   "cell_type": "code",
   "execution_count": null,
   "metadata": {},
   "outputs": [],
   "source": []
  },
  {
   "cell_type": "code",
   "execution_count": null,
   "metadata": {},
   "outputs": [],
   "source": []
  },
  {
   "cell_type": "code",
   "execution_count": null,
   "metadata": {},
   "outputs": [],
   "source": []
  },
  {
   "cell_type": "code",
   "execution_count": null,
   "metadata": {},
   "outputs": [],
   "source": []
  },
  {
   "cell_type": "markdown",
   "metadata": {
    "_cell_guid": "fb8c4dbe-588a-4c0f-97a6-a38b304482cc",
    "_execution_state": "idle",
    "_uuid": "e54f56a861fdb9d808f3063b011198b7c5e54919"
   },
   "source": [
    "## Identify Correlation in data "
   ]
  },
  {
   "cell_type": "code",
   "execution_count": 292,
   "metadata": {
    "_cell_guid": "5712f277-5723-4fcb-86b0-1b8c84046380",
    "_execution_state": "idle",
    "_uuid": "5e3b3649d189594a1aeb9ca2b8b950a9ba0321d1"
   },
   "outputs": [
    {
     "data": {
      "text/html": [
       "<div>\n",
       "<style scoped>\n",
       "    .dataframe tbody tr th:only-of-type {\n",
       "        vertical-align: middle;\n",
       "    }\n",
       "\n",
       "    .dataframe tbody tr th {\n",
       "        vertical-align: top;\n",
       "    }\n",
       "\n",
       "    .dataframe thead th {\n",
       "        text-align: right;\n",
       "    }\n",
       "</style>\n",
       "<table border=\"1\" class=\"dataframe\">\n",
       "  <thead>\n",
       "    <tr style=\"text-align: right;\">\n",
       "      <th></th>\n",
       "      <th>Preg</th>\n",
       "      <th>Plas</th>\n",
       "      <th>Pres</th>\n",
       "      <th>skin</th>\n",
       "      <th>test</th>\n",
       "      <th>mass</th>\n",
       "      <th>pedi</th>\n",
       "      <th>age</th>\n",
       "      <th>class</th>\n",
       "    </tr>\n",
       "  </thead>\n",
       "  <tbody>\n",
       "    <tr>\n",
       "      <th>Preg</th>\n",
       "      <td>1.000000</td>\n",
       "      <td>0.129459</td>\n",
       "      <td>0.141282</td>\n",
       "      <td>-0.081672</td>\n",
       "      <td>-0.073535</td>\n",
       "      <td>0.017683</td>\n",
       "      <td>-0.033523</td>\n",
       "      <td>0.544341</td>\n",
       "      <td>0.221898</td>\n",
       "    </tr>\n",
       "    <tr>\n",
       "      <th>Plas</th>\n",
       "      <td>0.129459</td>\n",
       "      <td>1.000000</td>\n",
       "      <td>0.152590</td>\n",
       "      <td>0.057328</td>\n",
       "      <td>0.331357</td>\n",
       "      <td>0.221071</td>\n",
       "      <td>0.137337</td>\n",
       "      <td>0.263514</td>\n",
       "      <td>0.466581</td>\n",
       "    </tr>\n",
       "    <tr>\n",
       "      <th>Pres</th>\n",
       "      <td>0.141282</td>\n",
       "      <td>0.152590</td>\n",
       "      <td>1.000000</td>\n",
       "      <td>0.207371</td>\n",
       "      <td>0.088933</td>\n",
       "      <td>0.281805</td>\n",
       "      <td>0.041265</td>\n",
       "      <td>0.239528</td>\n",
       "      <td>0.065068</td>\n",
       "    </tr>\n",
       "    <tr>\n",
       "      <th>skin</th>\n",
       "      <td>-0.081672</td>\n",
       "      <td>0.057328</td>\n",
       "      <td>0.207371</td>\n",
       "      <td>1.000000</td>\n",
       "      <td>0.436783</td>\n",
       "      <td>0.392573</td>\n",
       "      <td>0.183928</td>\n",
       "      <td>-0.113970</td>\n",
       "      <td>0.074752</td>\n",
       "    </tr>\n",
       "    <tr>\n",
       "      <th>test</th>\n",
       "      <td>-0.073535</td>\n",
       "      <td>0.331357</td>\n",
       "      <td>0.088933</td>\n",
       "      <td>0.436783</td>\n",
       "      <td>1.000000</td>\n",
       "      <td>0.197859</td>\n",
       "      <td>0.185071</td>\n",
       "      <td>-0.042163</td>\n",
       "      <td>0.130548</td>\n",
       "    </tr>\n",
       "    <tr>\n",
       "      <th>mass</th>\n",
       "      <td>0.017683</td>\n",
       "      <td>0.221071</td>\n",
       "      <td>0.281805</td>\n",
       "      <td>0.392573</td>\n",
       "      <td>0.197859</td>\n",
       "      <td>1.000000</td>\n",
       "      <td>0.140647</td>\n",
       "      <td>0.036242</td>\n",
       "      <td>0.292695</td>\n",
       "    </tr>\n",
       "    <tr>\n",
       "      <th>pedi</th>\n",
       "      <td>-0.033523</td>\n",
       "      <td>0.137337</td>\n",
       "      <td>0.041265</td>\n",
       "      <td>0.183928</td>\n",
       "      <td>0.185071</td>\n",
       "      <td>0.140647</td>\n",
       "      <td>1.000000</td>\n",
       "      <td>0.033561</td>\n",
       "      <td>0.173844</td>\n",
       "    </tr>\n",
       "    <tr>\n",
       "      <th>age</th>\n",
       "      <td>0.544341</td>\n",
       "      <td>0.263514</td>\n",
       "      <td>0.239528</td>\n",
       "      <td>-0.113970</td>\n",
       "      <td>-0.042163</td>\n",
       "      <td>0.036242</td>\n",
       "      <td>0.033561</td>\n",
       "      <td>1.000000</td>\n",
       "      <td>0.238356</td>\n",
       "    </tr>\n",
       "    <tr>\n",
       "      <th>class</th>\n",
       "      <td>0.221898</td>\n",
       "      <td>0.466581</td>\n",
       "      <td>0.065068</td>\n",
       "      <td>0.074752</td>\n",
       "      <td>0.130548</td>\n",
       "      <td>0.292695</td>\n",
       "      <td>0.173844</td>\n",
       "      <td>0.238356</td>\n",
       "      <td>1.000000</td>\n",
       "    </tr>\n",
       "  </tbody>\n",
       "</table>\n",
       "</div>"
      ],
      "text/plain": [
       "           Preg      Plas      Pres      skin      test      mass      pedi  \\\n",
       "Preg   1.000000  0.129459  0.141282 -0.081672 -0.073535  0.017683 -0.033523   \n",
       "Plas   0.129459  1.000000  0.152590  0.057328  0.331357  0.221071  0.137337   \n",
       "Pres   0.141282  0.152590  1.000000  0.207371  0.088933  0.281805  0.041265   \n",
       "skin  -0.081672  0.057328  0.207371  1.000000  0.436783  0.392573  0.183928   \n",
       "test  -0.073535  0.331357  0.088933  0.436783  1.000000  0.197859  0.185071   \n",
       "mass   0.017683  0.221071  0.281805  0.392573  0.197859  1.000000  0.140647   \n",
       "pedi  -0.033523  0.137337  0.041265  0.183928  0.185071  0.140647  1.000000   \n",
       "age    0.544341  0.263514  0.239528 -0.113970 -0.042163  0.036242  0.033561   \n",
       "class  0.221898  0.466581  0.065068  0.074752  0.130548  0.292695  0.173844   \n",
       "\n",
       "            age     class  \n",
       "Preg   0.544341  0.221898  \n",
       "Plas   0.263514  0.466581  \n",
       "Pres   0.239528  0.065068  \n",
       "skin  -0.113970  0.074752  \n",
       "test  -0.042163  0.130548  \n",
       "mass   0.036242  0.292695  \n",
       "pedi   0.033561  0.173844  \n",
       "age    1.000000  0.238356  \n",
       "class  0.238356  1.000000  "
      ]
     },
     "execution_count": 292,
     "metadata": {},
     "output_type": "execute_result"
    }
   ],
   "source": [
    "df.corr()"
   ]
  },
  {
   "cell_type": "code",
   "execution_count": 293,
   "metadata": {},
   "outputs": [
    {
     "data": {
      "image/png": "[encoded data removed]",
      "text/plain": [
       "<Figure size 864x576 with 2 Axes>"
      ]
     },
     "metadata": {},
     "output_type": "display_data"
    }
   ],
   "source": [
    "plt.figure(figsize = (12,8))\n",
    "sns.heatmap(df.corr(), annot = True, vmin =-1, vmax = 1,cmap = \"Spectral\"); \n",
    "#From here, we can see that there are no multicollineraity between the explanatory variable except for age/preg - 0.54  not too correlated \n",
    "#Above 0.75 can be a pointer  "
   ]
  },
  {
   "cell_type": "code",
   "execution_count": null,
   "metadata": {},
   "outputs": [],
   "source": []
  },
  {
   "cell_type": "markdown",
   "metadata": {
    "_cell_guid": "aa405f3c-38cc-4f3a-a775-ef0d94a067b3",
    "_execution_state": "idle",
    "_uuid": "eff7ef0f7fafb92a1c0d9a93f3a11cef4a92e0f9"
   },
   "source": [
    "## Calculate diabetes ratio of True/False from outcome variable "
   ]
  },
  {
   "cell_type": "code",
   "execution_count": 294,
   "metadata": {},
   "outputs": [
    {
     "data": {
      "text/plain": [
       "0    500\n",
       "1    268\n",
       "Name: class, dtype: int64"
      ]
     },
     "execution_count": 294,
     "metadata": {},
     "output_type": "execute_result"
    }
   ],
   "source": [
    "df[\"class\"].value_counts()\n",
    "#As can see we are to predict cases for diabetic  i.e the Non diab as 0 and diab as 1, based on the value count, it might tend \n",
    "#to predict high value for the 0; hence, a data balacing reqired , a balaanced data will have equal no of female in both classes  "
   ]
  },
  {
   "cell_type": "code",
   "execution_count": 295,
   "metadata": {},
   "outputs": [
    {
     "data": {
      "text/plain": [
       "0    0.651042\n",
       "1    0.348958\n",
       "Name: class, dtype: float64"
      ]
     },
     "execution_count": 295,
     "metadata": {},
     "output_type": "execute_result"
    }
   ],
   "source": [
    "df[\"class\"].value_counts(normalize = True) #BAsed on percentage  \n",
    "#True = 1 (Predict diabetic - True )\n",
    "#False = 0 ( Non diabetic - False  )"
   ]
  },
  {
   "cell_type": "markdown",
   "metadata": {
    "_cell_guid": "3fb2e67c-ad71-4475-af6e-9892508d1b6f",
    "_execution_state": "idle",
    "_uuid": "eb8f05e75cd37f71ce2a9e40d0558eb5538aa08e"
   },
   "source": [
    "NOTE \n",
    "\n",
    "So we have 34.90% people in current data set who have diabetes and rest of 65.10% doesn't have diabetes. \n",
    "\n",
    "Its a good distribution True/False cases of diabetes in data."
   ]
  },
  {
   "cell_type": "code",
   "execution_count": null,
   "metadata": {},
   "outputs": [],
   "source": []
  },
  {
   "cell_type": "markdown",
   "metadata": {
    "_cell_guid": "5e39d0b7-2f26-4d26-8a8d-6d0da0e22594",
    "_execution_state": "idle",
    "_uuid": "3c5ea745d170940b3d831b6e128959c87f8c117f"
   },
   "source": [
    "## Spliting the data \n",
    "We will use 80% of data for training and 20% for testing."
   ]
  },
  {
   "cell_type": "code",
   "execution_count": 296,
   "metadata": {
    "_cell_guid": "5a9250a4-7c26-4770-943e-234568a37be3",
    "_execution_state": "idle",
    "_uuid": "00a1d497bd1fcae2c3500540bede6d2bbf25ab54"
   },
   "outputs": [],
   "source": [
    "from sklearn.model_selection  import train_test_split"
   ]
  },
  {
   "cell_type": "code",
   "execution_count": 297,
   "metadata": {},
   "outputs": [],
   "source": [
    "x = df.drop(\"class\", axis = 1)\n",
    "y = df['class']"
   ]
  },
  {
   "cell_type": "code",
   "execution_count": 298,
   "metadata": {},
   "outputs": [],
   "source": [
    "x_train, x_test, y_train, y_test= train_test_split(x, y, test_size = 0.2, random_state = 0, stratify = y)\n",
    "#Stratify is set too the target or class becasue we d want the same proportion of the 60/40 been splitted on the 80/20 as the train test split ration  "
   ]
  },
  {
   "cell_type": "code",
   "execution_count": 299,
   "metadata": {},
   "outputs": [
    {
     "data": {
      "text/plain": [
       "0    0.651042\n",
       "1    0.348958\n",
       "Name: class, dtype: float64"
      ]
     },
     "execution_count": 299,
     "metadata": {},
     "output_type": "execute_result"
    }
   ],
   "source": [
    "df[\"class\"].value_counts(normalize = True)\n"
   ]
  },
  {
   "cell_type": "markdown",
   "metadata": {},
   "source": [
    "##### stratify implications \n",
    "\n",
    "AS can see the percentage of class is a 60/40 ratio, so what the starify does is to maintain that same ratio of 60/40 of the y-split\n",
    "As this is to maintain that same ratio in the 20% of 100% of the total observations \n",
    "Other optimizing techniques will then be used for better result "
   ]
  },
  {
   "cell_type": "code",
   "execution_count": 300,
   "metadata": {},
   "outputs": [
    {
     "data": {
      "text/plain": [
       "0    0.651466\n",
       "1    0.348534\n",
       "Name: class, dtype: float64"
      ]
     },
     "execution_count": 300,
     "metadata": {},
     "output_type": "execute_result"
    }
   ],
   "source": [
    "y_train.value_counts(normalize = True) #As can see, the percentage split of the 80% and 20% on the train test split on the y is approx equal to the 60/40 ratio\n",
    "#That is wat stratify does; if"
   ]
  },
  {
   "cell_type": "code",
   "execution_count": 301,
   "metadata": {},
   "outputs": [
    {
     "data": {
      "text/plain": [
       "0    0.649351\n",
       "1    0.350649\n",
       "Name: class, dtype: float64"
      ]
     },
     "execution_count": 301,
     "metadata": {},
     "output_type": "execute_result"
    }
   ],
   "source": [
    "y_test.value_counts(normalize = True)"
   ]
  },
  {
   "cell_type": "code",
   "execution_count": null,
   "metadata": {},
   "outputs": [],
   "source": []
  },
  {
   "cell_type": "markdown",
   "metadata": {
    "_execution_state": "idle",
    "_uuid": "7170e34e9c311bc3f08f02a7ee48ad849f40c006"
   },
   "source": [
    "# Data Preparation\n",
    "\n",
    "### Check hidden missing values \n",
    "\n",
    "As we checked missing values earlier but haven't got any. But there can be lots of entries with 0 values. We must need to take care of those as well."
   ]
  },
  {
   "cell_type": "markdown",
   "metadata": {
    "_execution_state": "idle",
    "_uuid": "451c63a2f53a84f71f0ef11151b8a1e2ce3b9c9a"
   },
   "source": [
    "### Replace 0s with serial mean "
   ]
  },
  {
   "cell_type": "code",
   "execution_count": 303,
   "metadata": {
    "scrolled": false
   },
   "outputs": [],
   "source": [
    "# check the descriptive statistics\n",
    "#Recall that the missing values is represented by zero -0 based on this Dataset "
   ]
  },
  {
   "cell_type": "markdown",
   "metadata": {},
   "source": [
    "#### Impute missing values with mean\n",
    "- Import SimpleImputer and transform train and test data\n",
    "\n",
    "\n"
   ]
  },
  {
   "cell_type": "code",
   "execution_count": 304,
   "metadata": {
    "_execution_state": "idle",
    "_uuid": "0135f4ba70fef49db752a533488463101e84d2fb"
   },
   "outputs": [
    {
     "data": {
      "text/html": [
       "<div>\n",
       "<style scoped>\n",
       "    .dataframe tbody tr th:only-of-type {\n",
       "        vertical-align: middle;\n",
       "    }\n",
       "\n",
       "    .dataframe tbody tr th {\n",
       "        vertical-align: top;\n",
       "    }\n",
       "\n",
       "    .dataframe thead th {\n",
       "        text-align: right;\n",
       "    }\n",
       "</style>\n",
       "<table border=\"1\" class=\"dataframe\">\n",
       "  <thead>\n",
       "    <tr style=\"text-align: right;\">\n",
       "      <th></th>\n",
       "      <th>Preg</th>\n",
       "      <th>Plas</th>\n",
       "      <th>Pres</th>\n",
       "      <th>skin</th>\n",
       "      <th>test</th>\n",
       "      <th>mass</th>\n",
       "      <th>pedi</th>\n",
       "      <th>age</th>\n",
       "      <th>class</th>\n",
       "    </tr>\n",
       "  </thead>\n",
       "  <tbody>\n",
       "    <tr>\n",
       "      <th>0</th>\n",
       "      <td>6</td>\n",
       "      <td>148</td>\n",
       "      <td>72</td>\n",
       "      <td>35</td>\n",
       "      <td>0</td>\n",
       "      <td>33.6</td>\n",
       "      <td>0.627</td>\n",
       "      <td>50</td>\n",
       "      <td>1</td>\n",
       "    </tr>\n",
       "    <tr>\n",
       "      <th>1</th>\n",
       "      <td>1</td>\n",
       "      <td>85</td>\n",
       "      <td>66</td>\n",
       "      <td>29</td>\n",
       "      <td>0</td>\n",
       "      <td>26.6</td>\n",
       "      <td>0.351</td>\n",
       "      <td>31</td>\n",
       "      <td>0</td>\n",
       "    </tr>\n",
       "    <tr>\n",
       "      <th>2</th>\n",
       "      <td>8</td>\n",
       "      <td>183</td>\n",
       "      <td>64</td>\n",
       "      <td>0</td>\n",
       "      <td>0</td>\n",
       "      <td>23.3</td>\n",
       "      <td>0.672</td>\n",
       "      <td>32</td>\n",
       "      <td>1</td>\n",
       "    </tr>\n",
       "    <tr>\n",
       "      <th>3</th>\n",
       "      <td>1</td>\n",
       "      <td>89</td>\n",
       "      <td>66</td>\n",
       "      <td>23</td>\n",
       "      <td>94</td>\n",
       "      <td>28.1</td>\n",
       "      <td>0.167</td>\n",
       "      <td>21</td>\n",
       "      <td>0</td>\n",
       "    </tr>\n",
       "    <tr>\n",
       "      <th>4</th>\n",
       "      <td>0</td>\n",
       "      <td>137</td>\n",
       "      <td>40</td>\n",
       "      <td>35</td>\n",
       "      <td>168</td>\n",
       "      <td>43.1</td>\n",
       "      <td>2.288</td>\n",
       "      <td>33</td>\n",
       "      <td>1</td>\n",
       "    </tr>\n",
       "  </tbody>\n",
       "</table>\n",
       "</div>"
      ],
      "text/plain": [
       "   Preg  Plas  Pres  skin  test  mass   pedi  age  class\n",
       "0     6   148    72    35     0  33.6  0.627   50      1\n",
       "1     1    85    66    29     0  26.6  0.351   31      0\n",
       "2     8   183    64     0     0  23.3  0.672   32      1\n",
       "3     1    89    66    23    94  28.1  0.167   21      0\n",
       "4     0   137    40    35   168  43.1  2.288   33      1"
      ]
     },
     "execution_count": 304,
     "metadata": {},
     "output_type": "execute_result"
    }
   ],
   "source": [
    "# Hence, we will get the imputer to run on the relevant columns only.\n",
    "from sklearn.impute import SimpleImputer\n",
    "imp = SimpleImputer()\n",
    "df.head()"
   ]
  },
  {
   "cell_type": "code",
   "execution_count": 305,
   "metadata": {},
   "outputs": [],
   "source": [
    "#Determine which column is not valid as per 0 as missing values \n",
    "#Preg is valid as min for 0 as we can have 0 nos preg during the tests sampling periods \n",
    "#Pedgree fxtn, skin fold,mass, age (incase 0 as min in nthe samples) \n",
    "#Median is resisitanace is to outlier as against the use of mean to replace missing values "
   ]
  },
  {
   "cell_type": "code",
   "execution_count": 306,
   "metadata": {},
   "outputs": [
    {
     "data": {
      "text/plain": [
       "Index(['Preg', 'Plas', 'Pres', 'skin', 'test', 'mass', 'pedi', 'age'], dtype='object')"
      ]
     },
     "execution_count": 306,
     "metadata": {},
     "output_type": "execute_result"
    }
   ],
   "source": [
    "x.head().columns"
   ]
  },
  {
   "cell_type": "code",
   "execution_count": 307,
   "metadata": {},
   "outputs": [],
   "source": [
    "#SInce the column to replace the min as 0 or as missing values is, 'Plas', 'Pres', 'skin', 'test', 'mass', 'pedi'"
   ]
  },
  {
   "cell_type": "code",
   "execution_count": 308,
   "metadata": {},
   "outputs": [
    {
     "data": {
      "text/plain": [
       "['Plas', 'Pres', 'skin', 'test', 'mass', 'pedi']"
      ]
     },
     "execution_count": 308,
     "metadata": {},
     "output_type": "execute_result"
    }
   ],
   "source": [
    "cols = list(x.drop(['Preg','age' ], axis = 1))\n",
    "cols"
   ]
  },
  {
   "cell_type": "code",
   "execution_count": 309,
   "metadata": {},
   "outputs": [
    {
     "data": {
      "text/html": [
       "<div>\n",
       "<style scoped>\n",
       "    .dataframe tbody tr th:only-of-type {\n",
       "        vertical-align: middle;\n",
       "    }\n",
       "\n",
       "    .dataframe tbody tr th {\n",
       "        vertical-align: top;\n",
       "    }\n",
       "\n",
       "    .dataframe thead th {\n",
       "        text-align: right;\n",
       "    }\n",
       "</style>\n",
       "<table border=\"1\" class=\"dataframe\">\n",
       "  <thead>\n",
       "    <tr style=\"text-align: right;\">\n",
       "      <th></th>\n",
       "      <th>Plas</th>\n",
       "      <th>Pres</th>\n",
       "      <th>skin</th>\n",
       "      <th>test</th>\n",
       "      <th>mass</th>\n",
       "      <th>pedi</th>\n",
       "    </tr>\n",
       "  </thead>\n",
       "  <tbody>\n",
       "    <tr>\n",
       "      <th>22</th>\n",
       "      <td>196</td>\n",
       "      <td>90</td>\n",
       "      <td>0</td>\n",
       "      <td>0</td>\n",
       "      <td>39.8</td>\n",
       "      <td>0.451</td>\n",
       "    </tr>\n",
       "    <tr>\n",
       "      <th>497</th>\n",
       "      <td>81</td>\n",
       "      <td>72</td>\n",
       "      <td>15</td>\n",
       "      <td>76</td>\n",
       "      <td>30.1</td>\n",
       "      <td>0.547</td>\n",
       "    </tr>\n",
       "  </tbody>\n",
       "</table>\n",
       "</div>"
      ],
      "text/plain": [
       "     Plas  Pres  skin  test  mass   pedi\n",
       "22    196    90     0     0  39.8  0.451\n",
       "497    81    72    15    76  30.1  0.547"
      ]
     },
     "execution_count": 309,
     "metadata": {},
     "output_type": "execute_result"
    }
   ],
   "source": [
    "imp = SimpleImputer(missing_values = 0, strategy = 'median') #if we are to impute truly missing value, missing_value will be np.nan\n",
    "#x_train is the dataframe containing the all the data minus the target  but for y_train is that which contains the target \n",
    "x_train[cols].head(2) #Datacolumn to impute on "
   ]
  },
  {
   "cell_type": "code",
   "execution_count": 310,
   "metadata": {},
   "outputs": [],
   "source": [
    "x_train[cols] = imp.fit_transform(x_train[cols])\n",
    "x_test[cols] = imp.transform(x_test[cols])"
   ]
  },
  {
   "cell_type": "code",
   "execution_count": 311,
   "metadata": {},
   "outputs": [
    {
     "data": {
      "text/html": [
       "<div>\n",
       "<style scoped>\n",
       "    .dataframe tbody tr th:only-of-type {\n",
       "        vertical-align: middle;\n",
       "    }\n",
       "\n",
       "    .dataframe tbody tr th {\n",
       "        vertical-align: top;\n",
       "    }\n",
       "\n",
       "    .dataframe thead th {\n",
       "        text-align: right;\n",
       "    }\n",
       "</style>\n",
       "<table border=\"1\" class=\"dataframe\">\n",
       "  <thead>\n",
       "    <tr style=\"text-align: right;\">\n",
       "      <th></th>\n",
       "      <th>count</th>\n",
       "      <th>mean</th>\n",
       "      <th>std</th>\n",
       "      <th>min</th>\n",
       "      <th>25%</th>\n",
       "      <th>50%</th>\n",
       "      <th>75%</th>\n",
       "      <th>max</th>\n",
       "    </tr>\n",
       "  </thead>\n",
       "  <tbody>\n",
       "    <tr>\n",
       "      <th>Preg</th>\n",
       "      <td>614.0</td>\n",
       "      <td>3.982085</td>\n",
       "      <td>3.430694</td>\n",
       "      <td>0.000</td>\n",
       "      <td>1.0000</td>\n",
       "      <td>3.0000</td>\n",
       "      <td>6.000</td>\n",
       "      <td>17.00</td>\n",
       "    </tr>\n",
       "    <tr>\n",
       "      <th>Plas</th>\n",
       "      <td>614.0</td>\n",
       "      <td>121.640065</td>\n",
       "      <td>29.980675</td>\n",
       "      <td>44.000</td>\n",
       "      <td>100.0000</td>\n",
       "      <td>118.0000</td>\n",
       "      <td>139.750</td>\n",
       "      <td>199.00</td>\n",
       "    </tr>\n",
       "    <tr>\n",
       "      <th>Pres</th>\n",
       "      <td>614.0</td>\n",
       "      <td>72.703583</td>\n",
       "      <td>12.291461</td>\n",
       "      <td>24.000</td>\n",
       "      <td>65.0000</td>\n",
       "      <td>72.0000</td>\n",
       "      <td>80.000</td>\n",
       "      <td>122.00</td>\n",
       "    </tr>\n",
       "    <tr>\n",
       "      <th>skin</th>\n",
       "      <td>614.0</td>\n",
       "      <td>29.768730</td>\n",
       "      <td>8.863581</td>\n",
       "      <td>7.000</td>\n",
       "      <td>26.0000</td>\n",
       "      <td>30.0000</td>\n",
       "      <td>33.000</td>\n",
       "      <td>99.00</td>\n",
       "    </tr>\n",
       "    <tr>\n",
       "      <th>test</th>\n",
       "      <td>614.0</td>\n",
       "      <td>139.392508</td>\n",
       "      <td>84.507646</td>\n",
       "      <td>14.000</td>\n",
       "      <td>125.5000</td>\n",
       "      <td>125.5000</td>\n",
       "      <td>125.500</td>\n",
       "      <td>846.00</td>\n",
       "    </tr>\n",
       "    <tr>\n",
       "      <th>mass</th>\n",
       "      <td>614.0</td>\n",
       "      <td>32.366775</td>\n",
       "      <td>6.772832</td>\n",
       "      <td>18.200</td>\n",
       "      <td>27.5000</td>\n",
       "      <td>32.0000</td>\n",
       "      <td>36.300</td>\n",
       "      <td>67.10</td>\n",
       "    </tr>\n",
       "    <tr>\n",
       "      <th>pedi</th>\n",
       "      <td>614.0</td>\n",
       "      <td>0.477850</td>\n",
       "      <td>0.342000</td>\n",
       "      <td>0.078</td>\n",
       "      <td>0.2415</td>\n",
       "      <td>0.3745</td>\n",
       "      <td>0.618</td>\n",
       "      <td>2.42</td>\n",
       "    </tr>\n",
       "    <tr>\n",
       "      <th>age</th>\n",
       "      <td>614.0</td>\n",
       "      <td>33.558632</td>\n",
       "      <td>11.884531</td>\n",
       "      <td>21.000</td>\n",
       "      <td>24.0000</td>\n",
       "      <td>30.0000</td>\n",
       "      <td>41.000</td>\n",
       "      <td>81.00</td>\n",
       "    </tr>\n",
       "  </tbody>\n",
       "</table>\n",
       "</div>"
      ],
      "text/plain": [
       "      count        mean        std     min       25%       50%      75%  \\\n",
       "Preg  614.0    3.982085   3.430694   0.000    1.0000    3.0000    6.000   \n",
       "Plas  614.0  121.640065  29.980675  44.000  100.0000  118.0000  139.750   \n",
       "Pres  614.0   72.703583  12.291461  24.000   65.0000   72.0000   80.000   \n",
       "skin  614.0   29.768730   8.863581   7.000   26.0000   30.0000   33.000   \n",
       "test  614.0  139.392508  84.507646  14.000  125.5000  125.5000  125.500   \n",
       "mass  614.0   32.366775   6.772832  18.200   27.5000   32.0000   36.300   \n",
       "pedi  614.0    0.477850   0.342000   0.078    0.2415    0.3745    0.618   \n",
       "age   614.0   33.558632  11.884531  21.000   24.0000   30.0000   41.000   \n",
       "\n",
       "         max  \n",
       "Preg   17.00  \n",
       "Plas  199.00  \n",
       "Pres  122.00  \n",
       "skin   99.00  \n",
       "test  846.00  \n",
       "mass   67.10  \n",
       "pedi    2.42  \n",
       "age    81.00  "
      ]
     },
     "execution_count": 311,
     "metadata": {},
     "output_type": "execute_result"
    }
   ],
   "source": [
    "x_train.describe().T"
   ]
  },
  {
   "cell_type": "code",
   "execution_count": null,
   "metadata": {},
   "outputs": [],
   "source": []
  },
  {
   "cell_type": "markdown",
   "metadata": {},
   "source": [
    "## Normalise "
   ]
  },
  {
   "cell_type": "code",
   "execution_count": 312,
   "metadata": {},
   "outputs": [],
   "source": [
    "from sklearn.preprocessing import StandardScaler \n",
    "scaler = StandardScaler()\n",
    "x_train_sc = scaler.fit_transform(x_train)\n",
    "x_test_sc = scaler.transform(x_test)"
   ]
  },
  {
   "cell_type": "code",
   "execution_count": null,
   "metadata": {},
   "outputs": [],
   "source": []
  },
  {
   "cell_type": "markdown",
   "metadata": {
    "_execution_state": "idle",
    "_uuid": "da6c25c6f1a37920aa7eba1f5613b76cf50eea1b"
   },
   "source": [
    "# Logistic Regression"
   ]
  },
  {
   "cell_type": "code",
   "execution_count": 313,
   "metadata": {
    "_execution_state": "idle",
    "_uuid": "457aeceed9af02bc850c6c982371b55fe87e4d44"
   },
   "outputs": [
    {
     "data": {
      "text/plain": [
       "LogisticRegression()"
      ]
     },
     "execution_count": 313,
     "metadata": {},
     "output_type": "execute_result"
    }
   ],
   "source": [
    "from sklearn.linear_model import LogisticRegression\n",
    "log_reg = LogisticRegression()\n",
    "log_reg.fit(x_train_sc, y_train)"
   ]
  },
  {
   "cell_type": "code",
   "execution_count": 314,
   "metadata": {},
   "outputs": [
    {
     "name": "stdout",
     "output_type": "stream",
     "text": [
      "Train Performace: 0.770\n",
      "Test Performace: 0.773\n"
     ]
    }
   ],
   "source": [
    "#THis is the training and testing accuracy on both the teste and the train but of concern is majorly on the test except for underfitting and overfitting  \n",
    "print(\"Train Performace: {:.3f}\".format(log_reg.score(x_train_sc, y_train)))\n",
    "print(\"Test Performace: {:.3f}\".format(log_reg.score(x_test_sc, y_test)))"
   ]
  },
  {
   "cell_type": "markdown",
   "metadata": {},
   "source": [
    "#### THis is saying, under the same data distribution, the accuracy of test being 77.3% means that, the model will be able to predict\n",
    "correctly 77% of the time  \n",
    "\n",
    "When you have imbalance data, accuracy isnt the best bench to interprette your Data , the model can be accurate but on the majority class \n",
    "\n",
    "This is where confusion matric, recall came in, they came in because of imbaloance data \n",
    "\n",
    "Imbalance data occurs when you have more class than the other in the class of the target \n",
    "\n",
    "How do we deal with this \n",
    "\n",
    "- Change perforance metric \n",
    "- Change Algorithm \n",
    "-Resampling technique : Oversampling or Undersampling \n",
    "- SMOTE "
   ]
  },
  {
   "cell_type": "code",
   "execution_count": 315,
   "metadata": {},
   "outputs": [
    {
     "data": {
      "text/plain": [
       "array([[ 0.39458815,  1.00298618, -0.05306573,  0.06154125,  0.02115535,\n",
       "         0.54203119,  0.28625423,  0.2181332 ]])"
      ]
     },
     "execution_count": 315,
     "metadata": {},
     "output_type": "execute_result"
    }
   ],
   "source": [
    "log_reg.coef_"
   ]
  },
  {
   "cell_type": "code",
   "execution_count": 316,
   "metadata": {},
   "outputs": [],
   "source": [
    "from sklearn.metrics import precision_score, recall_score"
   ]
  },
  {
   "cell_type": "code",
   "execution_count": 317,
   "metadata": {},
   "outputs": [],
   "source": [
    "test_preds= log_reg.predict(x_test_sc)\n",
    "precision = precision_score(y_test, test_preds)"
   ]
  },
  {
   "cell_type": "code",
   "execution_count": 318,
   "metadata": {},
   "outputs": [
    {
     "data": {
      "text/plain": [
       "0.7435897435897436"
      ]
     },
     "execution_count": 318,
     "metadata": {},
     "output_type": "execute_result"
    }
   ],
   "source": [
    "precision  #Out of all the people that our model predicted to have cancer, only 74% truly had cancer  "
   ]
  },
  {
   "cell_type": "code",
   "execution_count": 319,
   "metadata": {},
   "outputs": [
    {
     "data": {
      "text/plain": [
       "0.7727272727272727"
      ]
     },
     "execution_count": 319,
     "metadata": {},
     "output_type": "execute_result"
    }
   ],
   "source": [
    "log_reg.score(x_test_sc, y_test)  #Accuracy \n",
    "#If we have a data similar to what we have or a similar distributiion, this model will predict accurately by 77% "
   ]
  },
  {
   "cell_type": "code",
   "execution_count": 320,
   "metadata": {},
   "outputs": [
    {
     "data": {
      "text/plain": [
       "0.7703583061889251"
      ]
     },
     "execution_count": 320,
     "metadata": {},
     "output_type": "execute_result"
    }
   ],
   "source": [
    "log_reg.score(x_train_sc, y_train)"
   ]
  },
  {
   "cell_type": "code",
   "execution_count": null,
   "metadata": {},
   "outputs": [],
   "source": []
  },
  {
   "cell_type": "markdown",
   "metadata": {},
   "source": [
    "### LOGISTIC REGRESSION"
   ]
  },
  {
   "cell_type": "code",
   "execution_count": 321,
   "metadata": {},
   "outputs": [
    {
     "data": {
      "text/plain": [
       "LogisticRegression(random_state=0)"
      ]
     },
     "execution_count": 321,
     "metadata": {},
     "output_type": "execute_result"
    }
   ],
   "source": [
    "from sklearn.linear_model import LogisticRegression\n",
    "log_reg = LogisticRegression(random_state = 0)\n",
    "log_reg.fit(x_train_sc, y_train)"
   ]
  },
  {
   "cell_type": "code",
   "execution_count": 322,
   "metadata": {},
   "outputs": [],
   "source": [
    "from sklearn.preprocessing import StandardScaler \n",
    "scaler = StandardScaler()\n",
    "x_train_sc = scaler.fit_transform(x_train)\n",
    "x_test_sc = scaler.transform(x_test)"
   ]
  },
  {
   "cell_type": "markdown",
   "metadata": {},
   "source": [
    "#### function to train a model and compute accuracy "
   ]
  },
  {
   "cell_type": "code",
   "execution_count": 323,
   "metadata": {},
   "outputs": [],
   "source": [
    "def train_models(model, x , y):\n",
    "    '''\n",
    "    function to train the model and compute accuracy \n",
    "    model: model algorithm not yet trained \n",
    "    x: Train features\n",
    "    y: Train Target \n",
    "    '''\n",
    "    tm = model.fit(x,y)\n",
    "    preds = model.predict(x) #Predicting the x_train_sc corresponmding value for the y_train \n",
    "    acc = model.score(x,y) #x_train_sc & y_train\n",
    "    accuracy  = accuracy_score(y, preds) # predicted based x_train_sc and check accuracy against the label y_train; to check for the test\n",
    "    #u can make the parameters more than x, y rather a , b  \n",
    "    print(acc, accuracy)\n",
    "  \n",
    "    return tm\n",
    "    "
   ]
  },
  {
   "cell_type": "code",
   "execution_count": 324,
   "metadata": {},
   "outputs": [],
   "source": [
    "def train(model, x , y):\n",
    "    '''\n",
    "    function to train the model and compute accuracy \n",
    "    model: model algorithm not yet trained \n",
    "    x: Train features\n",
    "    y: Train Target \n",
    "    '''\n",
    "    trained_model = model.fit(x,y)\n",
    "    preds = trained_model.predict(x)\n",
    "    acc = accuracy_score(y, preds)\n",
    "    print(f\"Train Accuracy: {acc}\")\n",
    "    return trained_model "
   ]
  },
  {
   "cell_type": "code",
   "execution_count": 325,
   "metadata": {},
   "outputs": [],
   "source": [
    "# function to compute different metrics to check performance of a regression model\n",
    "def model_performance_classification(model, predictors, target, threshold = 0.5):\n",
    "    \"\"\"\n",
    "    Function to compute different metrics to check regression model performance\n",
    "\n",
    "    model: classifier\n",
    "    predictors: independent variables\n",
    "    target: dependent variable\n",
    "    \"\"\"\n",
    "\n",
    "    # predicting using the independent variables\n",
    "    pred_proba = model.predict_proba(predictors)[:, 1]\n",
    "    # convert the probability to class\n",
    "    pred_class = np.round(pred_proba > threshold)\n",
    "    acc = accuracy_score(target, pred_class)  # to compute acuracy\n",
    "    recall = recall_score(target, pred_class)  # to compute recall\n",
    "    precision = precision_score(target, pred_class)  # to compute precision\n",
    "    f1 = f1_score(target, pred_class)  # to compute F1 score\n",
    "\n",
    "    # creating a dataframe of metrics\n",
    "    df_perf = pd.DataFrame(\n",
    "        {\n",
    "            \"Accuracy\": acc,\n",
    "            \"Recall\": recall,\n",
    "            \"Precision\": precision,\n",
    "            \"F1-score\": f1,\n",
    "        },\n",
    "        index=[0],)\n",
    "    conf = confusion_matrix(target, pred_class)\n",
    "    plt.figure(figsize=(8, 5))\n",
    "    sns.heatmap(conf, annot=True, fmt=\"g\")\n",
    "    plt.xlabel(\"Predicted label\")\n",
    "    plt.ylabel(\"Actual label\")\n",
    "    plt.show()\n",
    " \n",
    "    return df_perf"
   ]
  },
  {
   "cell_type": "code",
   "execution_count": 326,
   "metadata": {},
   "outputs": [
    {
     "name": "stdout",
     "output_type": "stream",
     "text": [
      "Train Accuracy: 0.7703583061889251\n"
     ]
    }
   ],
   "source": [
    "log_reg_model = train(log_reg, x_train_sc, y_train)"
   ]
  },
  {
   "cell_type": "code",
   "execution_count": 327,
   "metadata": {},
   "outputs": [
    {
     "name": "stdout",
     "output_type": "stream",
     "text": [
      "0.7703583061889251 0.7703583061889251\n"
     ]
    }
   ],
   "source": [
    "log_reg_model = train_models(log_reg, x_train_sc, y_train) #log_reg_model is our trained model  "
   ]
  },
  {
   "cell_type": "code",
   "execution_count": 328,
   "metadata": {},
   "outputs": [],
   "source": [
    "#def train_modelly(model, x , y, a, b ):\n",
    "    #function to train the model and compute accuracy \n",
    "    #model: model algorithm not yet trained \n",
    "    #x: Train features\n",
    "    #y: Train Target \n",
    "    #a: Test features \n",
    "    #b: Test Target \n",
    "    #tm = model.fit(x,y)\n",
    "    #preds = model.predict(x)\n",
    "    #preds_test = model.predict(a)\n",
    "    #acc = model.score(x,y) #x_train_sc & y_train; this will give same result as accuracy_score \n",
    "    #accuracy_test  = accuracy_score(a, b) # predicted based x_train_sc and check accuracy against the label y_train; to check for the test\n",
    "    #u can make the parameters more than x, y rather a , b  \n",
    "    #print(acc, accuracy)\n",
    "    #return tm\n",
    "    "
   ]
  },
  {
   "cell_type": "code",
   "execution_count": 329,
   "metadata": {},
   "outputs": [],
   "source": [
    "#Function to evaluate the model and compute metrics on test Data \n",
    "def evaluate (model, x, y, threshold = 0.5):\n",
    "    \"\"\" function to evaluate our trained model with different metrics \n",
    "    model : Trained Model (classifier)\n",
    "    \n",
    "    x:validation features \n",
    "    y: Target in validation data \n",
    "    Threshold: Value to filter predictions \n",
    "    \"\"\"\n",
    "    \n",
    "    pred_proba = model.predict_proba(x)[:, 1] #This will return x 2 array where the 2 is column with prob for the \n",
    "    pred_class = np.round(pred_proba  > threshold ) #This converts to 0 or 1 \n",
    "    acc = accuracy_score (y, pred_class)\n",
    "    recall = recall_score(y, pred_class)\n",
    "    precision = precision_score (y, pred_class)\n",
    "    f1 = f1_score (y, pred_class)\n",
    "    \n",
    "    df = pd.DataFrame({ \"Accuracy\": acc, \n",
    "                       \"Precision\": precision, \n",
    "                       \"Recall\":recall,\n",
    "                       \"F1\" : f1}, index = [0])\n",
    "    conf = confusion_matrix(y, pred_class, labels = [0,1]) ##If the class is more than 2, then use 0, 1, 2 \n",
    "    disp = ConfusionMatrixDisplay (conf, display_labels = [0,1]) #If the class is more than 2, then use 0, 1, 2 \n",
    "    disp.plot()\n",
    "    plt.show()\n",
    "    return df "
   ]
  },
  {
   "cell_type": "code",
   "execution_count": 330,
   "metadata": {},
   "outputs": [
    {
     "data": {
      "text/plain": [
       "array([[0.98554474, 0.01445526],\n",
       "       [0.96692577, 0.03307423],\n",
       "       [0.96988884, 0.03011116],\n",
       "       [0.58616401, 0.41383599],\n",
       "       [0.3208995 , 0.6791005 ],\n",
       "       [0.96276189, 0.03723811],\n",
       "       [0.20305248, 0.79694752],\n",
       "       [0.97327708, 0.02672292],\n",
       "       [0.91052422, 0.08947578],\n",
       "       [0.73174421, 0.26825579],\n",
       "       [0.81046796, 0.18953204],\n",
       "       [0.92328551, 0.07671449],\n",
       "       [0.92844683, 0.07155317],\n",
       "       [0.84141443, 0.15858557],\n",
       "       [0.58717818, 0.41282182],\n",
       "       [0.94100514, 0.05899486],\n",
       "       [0.59022159, 0.40977841],\n",
       "       [0.6704897 , 0.3295103 ],\n",
       "       [0.73022041, 0.26977959],\n",
       "       [0.1237978 , 0.8762022 ],\n",
       "       [0.86714391, 0.13285609],\n",
       "       [0.67365416, 0.32634584],\n",
       "       [0.35245614, 0.64754386],\n",
       "       [0.60657601, 0.39342399],\n",
       "       [0.52550605, 0.47449395],\n",
       "       [0.44575022, 0.55424978],\n",
       "       [0.18742473, 0.81257527],\n",
       "       [0.90654667, 0.09345333],\n",
       "       [0.94001192, 0.05998808],\n",
       "       [0.90676096, 0.09323904],\n",
       "       [0.54894247, 0.45105753],\n",
       "       [0.88347144, 0.11652856],\n",
       "       [0.27996736, 0.72003264],\n",
       "       [0.65892262, 0.34107738],\n",
       "       [0.05554194, 0.94445806],\n",
       "       [0.92661302, 0.07338698],\n",
       "       [0.32946374, 0.67053626],\n",
       "       [0.67885771, 0.32114229],\n",
       "       [0.84230592, 0.15769408],\n",
       "       [0.62448446, 0.37551554],\n",
       "       [0.90915856, 0.09084144],\n",
       "       [0.9502113 , 0.0497887 ],\n",
       "       [0.16666003, 0.83333997],\n",
       "       [0.91868945, 0.08131055],\n",
       "       [0.31539828, 0.68460172],\n",
       "       [0.23850047, 0.76149953],\n",
       "       [0.91134397, 0.08865603],\n",
       "       [0.81445532, 0.18554468],\n",
       "       [0.58470328, 0.41529672],\n",
       "       [0.89837647, 0.10162353],\n",
       "       [0.89294006, 0.10705994],\n",
       "       [0.61785568, 0.38214432],\n",
       "       [0.79335126, 0.20664874],\n",
       "       [0.22246838, 0.77753162],\n",
       "       [0.5963132 , 0.4036868 ],\n",
       "       [0.37535539, 0.62464461],\n",
       "       [0.85273411, 0.14726589],\n",
       "       [0.87388204, 0.12611796],\n",
       "       [0.97643551, 0.02356449],\n",
       "       [0.91489149, 0.08510851],\n",
       "       [0.73889749, 0.26110251],\n",
       "       [0.72247213, 0.27752787],\n",
       "       [0.17564979, 0.82435021],\n",
       "       [0.6985521 , 0.3014479 ],\n",
       "       [0.95453792, 0.04546208],\n",
       "       [0.68053343, 0.31946657],\n",
       "       [0.82661265, 0.17338735],\n",
       "       [0.77219784, 0.22780216],\n",
       "       [0.76576372, 0.23423628],\n",
       "       [0.65763689, 0.34236311],\n",
       "       [0.9547744 , 0.0452256 ],\n",
       "       [0.31891995, 0.68108005],\n",
       "       [0.62337296, 0.37662704],\n",
       "       [0.54453   , 0.45547   ],\n",
       "       [0.66271706, 0.33728294],\n",
       "       [0.77393928, 0.22606072],\n",
       "       [0.91392284, 0.08607716],\n",
       "       [0.96159191, 0.03840809],\n",
       "       [0.90093578, 0.09906422],\n",
       "       [0.19683343, 0.80316657],\n",
       "       [0.93361233, 0.06638767],\n",
       "       [0.56370947, 0.43629053],\n",
       "       [0.16833447, 0.83166553],\n",
       "       [0.77638009, 0.22361991],\n",
       "       [0.10107893, 0.89892107],\n",
       "       [0.04039265, 0.95960735],\n",
       "       [0.65950711, 0.34049289],\n",
       "       [0.95535329, 0.04464671],\n",
       "       [0.34523786, 0.65476214],\n",
       "       [0.95366846, 0.04633154],\n",
       "       [0.90973342, 0.09026658],\n",
       "       [0.96185367, 0.03814633],\n",
       "       [0.97916508, 0.02083492],\n",
       "       [0.17166357, 0.82833643],\n",
       "       [0.25051761, 0.74948239],\n",
       "       [0.74546095, 0.25453905],\n",
       "       [0.2726179 , 0.7273821 ],\n",
       "       [0.10929704, 0.89070296],\n",
       "       [0.85526759, 0.14473241],\n",
       "       [0.74093924, 0.25906076],\n",
       "       [0.3463502 , 0.6536498 ],\n",
       "       [0.94963784, 0.05036216],\n",
       "       [0.78183427, 0.21816573],\n",
       "       [0.82539226, 0.17460774],\n",
       "       [0.89898895, 0.10101105],\n",
       "       [0.87142015, 0.12857985],\n",
       "       [0.58774859, 0.41225141],\n",
       "       [0.33047611, 0.66952389],\n",
       "       [0.83243481, 0.16756519],\n",
       "       [0.91476897, 0.08523103],\n",
       "       [0.85270727, 0.14729273],\n",
       "       [0.97046818, 0.02953182],\n",
       "       [0.91532856, 0.08467144],\n",
       "       [0.13029085, 0.86970915],\n",
       "       [0.50707372, 0.49292628],\n",
       "       [0.76407618, 0.23592382],\n",
       "       [0.78140217, 0.21859783],\n",
       "       [0.68832556, 0.31167444],\n",
       "       [0.83653885, 0.16346115],\n",
       "       [0.94991963, 0.05008037],\n",
       "       [0.525995  , 0.474005  ],\n",
       "       [0.87926051, 0.12073949],\n",
       "       [0.10029377, 0.89970623],\n",
       "       [0.89379713, 0.10620287],\n",
       "       [0.5327701 , 0.4672299 ],\n",
       "       [0.93187461, 0.06812539],\n",
       "       [0.75297921, 0.24702079],\n",
       "       [0.16900307, 0.83099693],\n",
       "       [0.86237873, 0.13762127],\n",
       "       [0.77655877, 0.22344123],\n",
       "       [0.60877293, 0.39122707],\n",
       "       [0.52842727, 0.47157273],\n",
       "       [0.8983594 , 0.1016406 ],\n",
       "       [0.29846654, 0.70153346],\n",
       "       [0.49752996, 0.50247004],\n",
       "       [0.110226  , 0.889774  ],\n",
       "       [0.34638432, 0.65361568],\n",
       "       [0.69213899, 0.30786101],\n",
       "       [0.52408556, 0.47591444],\n",
       "       [0.18850118, 0.81149882],\n",
       "       [0.89063211, 0.10936789],\n",
       "       [0.93079275, 0.06920725],\n",
       "       [0.19138863, 0.80861137],\n",
       "       [0.84745251, 0.15254749],\n",
       "       [0.8123043 , 0.1876957 ],\n",
       "       [0.38471862, 0.61528138],\n",
       "       [0.93569264, 0.06430736],\n",
       "       [0.80038187, 0.19961813],\n",
       "       [0.23088562, 0.76911438],\n",
       "       [0.97285174, 0.02714826],\n",
       "       [0.69775513, 0.30224487],\n",
       "       [0.17158524, 0.82841476],\n",
       "       [0.88688493, 0.11311507],\n",
       "       [0.82867209, 0.17132791]])"
      ]
     },
     "execution_count": 330,
     "metadata": {},
     "output_type": "execute_result"
    }
   ],
   "source": [
    "log_reg_model.predict_proba(x_test_sc) #this will give probability of success and failure, so we can just use one of  the column "
   ]
  },
  {
   "cell_type": "code",
   "execution_count": 331,
   "metadata": {},
   "outputs": [
    {
     "data": {
      "image/png": "[encoded data removed]",
      "text/plain": [
       "<Figure size 432x288 with 2 Axes>"
      ]
     },
     "metadata": {},
     "output_type": "display_data"
    },
    {
     "data": {
      "text/html": [
       "<div>\n",
       "<style scoped>\n",
       "    .dataframe tbody tr th:only-of-type {\n",
       "        vertical-align: middle;\n",
       "    }\n",
       "\n",
       "    .dataframe tbody tr th {\n",
       "        vertical-align: top;\n",
       "    }\n",
       "\n",
       "    .dataframe thead th {\n",
       "        text-align: right;\n",
       "    }\n",
       "</style>\n",
       "<table border=\"1\" class=\"dataframe\">\n",
       "  <thead>\n",
       "    <tr style=\"text-align: right;\">\n",
       "      <th></th>\n",
       "      <th>Accuracy</th>\n",
       "      <th>Precision</th>\n",
       "      <th>Recall</th>\n",
       "      <th>F1</th>\n",
       "    </tr>\n",
       "  </thead>\n",
       "  <tbody>\n",
       "    <tr>\n",
       "      <th>0</th>\n",
       "      <td>0.772727</td>\n",
       "      <td>0.74359</td>\n",
       "      <td>0.537037</td>\n",
       "      <td>0.623656</td>\n",
       "    </tr>\n",
       "  </tbody>\n",
       "</table>\n",
       "</div>"
      ],
      "text/plain": [
       "   Accuracy  Precision    Recall        F1\n",
       "0  0.772727    0.74359  0.537037  0.623656"
      ]
     },
     "execution_count": 331,
     "metadata": {},
     "output_type": "execute_result"
    }
   ],
   "source": [
    "log_reg_df = evaluate (log_reg_model, x_test_sc, y_test)\n",
    "log_reg_df\n",
    "\n",
    "#Confusion Matrix Interpretation  \n",
    "#1 - 1 : TP , 1-0: FP, 0-0: TN, 0-1: FN \n",
    "#Out of total prediction in the cancer class (1 class of True class): 54, 29nos were predicted right and 25 predicted wrong; for the Non-cancerous class\n",
    "#90preicted right and 19 predicted wrong \n"
   ]
  },
  {
   "cell_type": "code",
   "execution_count": 332,
   "metadata": {},
   "outputs": [],
   "source": [
    "#Precision = TP/TP + FP = 29/29 + 10 = 29/39\n",
    "#Recall = TP/TP + FN = 29/ 29 + 25     "
   ]
  },
  {
   "cell_type": "code",
   "execution_count": null,
   "metadata": {},
   "outputs": [],
   "source": []
  },
  {
   "cell_type": "code",
   "execution_count": null,
   "metadata": {},
   "outputs": [],
   "source": []
  },
  {
   "cell_type": "code",
   "execution_count": null,
   "metadata": {},
   "outputs": [],
   "source": []
  },
  {
   "cell_type": "markdown",
   "metadata": {},
   "source": [
    "### ROC - AUC "
   ]
  },
  {
   "cell_type": "code",
   "execution_count": 333,
   "metadata": {},
   "outputs": [
    {
     "data": {
      "text/plain": [
       "0.8753703703703704"
      ]
     },
     "execution_count": 333,
     "metadata": {},
     "output_type": "execute_result"
    }
   ],
   "source": [
    "preds = log_reg_model.predict_proba(x_test_sc)[:, 1] #recall that log_reg_model is like a train/fit part of training fucntion, so \n",
    "#u can call it up for predicting or even fitting again \n",
    "auc = roc_auc_score(y_test, preds)\n",
    "auc  #Approximately, 88% of the time, the model will distinguish between those who have diab from those who dont have "
   ]
  },
  {
   "cell_type": "code",
   "execution_count": 334,
   "metadata": {},
   "outputs": [
    {
     "data": {
      "image/png": "[encoded data removed]",
      "text/plain": [
       "<Figure size 504x360 with 1 Axes>"
      ]
     },
     "metadata": {},
     "output_type": "display_data"
    }
   ],
   "source": [
    "#auc = roc_auc_score(y_test, preds)\n",
    "fpr, tpr, label = roc_curve(y_test, preds)\n",
    "plt.figure(figsize = (7,5))\n",
    "#here u r plotting the fpr against tpr and then label/axis labels according to the fpr and tpr from the fpr, tpr values from its calc above \n",
    "plt.plot(fpr, tpr, label = f\" logistic regression {auc:2f}\") \n",
    "plt.plot ([0,1], [0,1], \"r--\") #r--- is to make the line a broken dash lines, and plot the line with (1,0) for fpr and (0,1) for trp \n",
    "plt.xlim([0.0, 1.0]) #Making the plot more coloful  \n",
    "plt.ylim([0.0, 1.05])\n",
    "plt.xlabel(\"False positive rate\")\n",
    "plt.ylabel(\"True positive rate\")\n",
    "plt.title(\"ROC curve\")\n",
    "plt.legend(loc = \"lower right\")\n",
    "plt.show;\n",
    "          \n",
    "          "
   ]
  },
  {
   "cell_type": "code",
   "execution_count": 335,
   "metadata": {},
   "outputs": [],
   "source": [
    "#Lets create a function version of the graph plotting "
   ]
  },
  {
   "cell_type": "code",
   "execution_count": 336,
   "metadata": {},
   "outputs": [],
   "source": [
    "def draw_roc_curve(model, x, y):\n",
    "    \"\"\"\n",
    "    Function to create ROC curve \n",
    "    \n",
    "    Model: Trained Model \n",
    "    x: Trained or validation features \n",
    "    y: Target in the test data \n",
    "    \n",
    "    \"\"\"\n",
    "    preds = model.predict_proba(x)[:, 1]\n",
    "    auc = roc_auc_score(y, preds)\n",
    "    fpr, tpr, thres = roc_curve(y_test, preds)\n",
    "    plt.figure(figsize = (7,5))\n",
    "    plt.plot(fpr, tpr, label = f\" logistic regression {auc:2f}\")\n",
    "    plt.plot ([0,1], [0,1], \"r--\")\n",
    "    plt.xlim([0.0, 1.0]) \n",
    "    plt.ylim([0.0, 1.05])\n",
    "    plt.xlabel(\"False positive rate\")\n",
    "    plt.ylabel(\"True positive rate\")\n",
    "    plt.title(\"ROC curve\")\n",
    "    plt.legend(loc = \"lower right\")\n",
    "    plt.show()\n",
    "    \n",
    "    return thres, tpr, fpr \n",
    "    \n",
    "          \n",
    "          \n",
    "    "
   ]
  },
  {
   "cell_type": "code",
   "execution_count": 337,
   "metadata": {},
   "outputs": [
    {
     "data": {
      "image/png": "[encoded data removed]",
      "text/plain": [
       "<Figure size 504x360 with 1 Axes>"
      ]
     },
     "metadata": {},
     "output_type": "display_data"
    }
   ],
   "source": [
    "thres, tpr, fpr = draw_roc_curve(model = log_reg_model, x = x_test_sc, y = y_test)"
   ]
  },
  {
   "cell_type": "code",
   "execution_count": 338,
   "metadata": {},
   "outputs": [
    {
     "data": {
      "text/plain": [
       "array([1.95960735, 0.95960735, 0.83166553, 0.83099693, 0.80861137,\n",
       "       0.80316657, 0.76911438, 0.76149953, 0.74948239, 0.7273821 ,\n",
       "       0.72003264, 0.70153346, 0.68108005, 0.6791005 , 0.6536498 ,\n",
       "       0.64754386, 0.62464461, 0.55424978, 0.50247004, 0.47449395,\n",
       "       0.474005  , 0.47157273, 0.4672299 , 0.45547   , 0.43629053,\n",
       "       0.41529672, 0.40977841, 0.4036868 , 0.39342399, 0.38214432,\n",
       "       0.37662704, 0.34236311, 0.33728294, 0.3295103 , 0.32634584,\n",
       "       0.32114229, 0.30786101, 0.26110251, 0.24702079, 0.23592382,\n",
       "       0.22780216, 0.21816573, 0.20664874, 0.15769408, 0.15254749,\n",
       "       0.09906422, 0.09345333, 0.01445526])"
      ]
     },
     "execution_count": 338,
     "metadata": {},
     "output_type": "execute_result"
    }
   ],
   "source": [
    "thres"
   ]
  },
  {
   "cell_type": "markdown",
   "metadata": {},
   "source": [
    "Recall that the trp and fpr are indicatprs to determine the set of values that wil result to elbow which determine the best\n",
    "set of vallues on the ROC curve that gives the TP rate and the False Positive rate\n",
    "\n",
    "The implication of a high false positive rate is that on the other hand, we will have a low True negative value which isnt yet an optimum \n",
    "AUC value or elbow point that will give best class predictions.\n",
    "However, recall that the difference bewteen tese points, if high infers that we have a high TPrate or a high TP predicted value and almost zero False potive \n",
    "values resulting to a better prediction on the positive class and better prediction on the negative class (TN); hence using the modellin approach, the optimal index will havce to be determine which will give point a value (assumed that the value will be the TPR value in the y axis where the x-axis is approximately 0 or not even neccessarily 0. \n",
    "\n",
    "So the corresponding value for the index will give the optimum value for the threshold, knowing that the threshold is a value in the y  which serves a separator which the the points in space are classified accoring to the regression line ( assumption ) "
   ]
  },
  {
   "cell_type": "code",
   "execution_count": 339,
   "metadata": {},
   "outputs": [
    {
     "data": {
      "text/plain": [
       "40"
      ]
     },
     "execution_count": 339,
     "metadata": {},
     "output_type": "execute_result"
    }
   ],
   "source": [
    "#The threshold is like a divisor that divide the graph into two sides for prediction; hence we have TPrate and FPrates\n",
    "#The argmax give the index corresponding to the TPr and FPr \n",
    "optimal_indx  = np.argmax(tpr - fpr) \n",
    "optimal_indx"
   ]
  },
  {
   "cell_type": "code",
   "execution_count": 340,
   "metadata": {},
   "outputs": [
    {
     "data": {
      "text/plain": [
       "0.22780215776273335"
      ]
     },
     "execution_count": 340,
     "metadata": {},
     "output_type": "execute_result"
    }
   ],
   "source": [
    "optimal_thres = thres[optimal_indx]\n",
    "optimal_thres \n",
    "#Optimal threshold with the optimal index above ( see index as a difference between the values in the (tpr,fpr) to give better scores)"
   ]
  },
  {
   "cell_type": "markdown",
   "metadata": {},
   "source": [
    "#### RE EVALUATE AT OPTIMUM VALUES OF THRESHOLD "
   ]
  },
  {
   "cell_type": "code",
   "execution_count": 341,
   "metadata": {},
   "outputs": [
    {
     "data": {
      "image/png": "[encoded data removed]",
      "text/plain": [
       "<Figure size 432x288 with 2 Axes>"
      ]
     },
     "metadata": {},
     "output_type": "display_data"
    },
    {
     "data": {
      "text/html": [
       "<div>\n",
       "<style scoped>\n",
       "    .dataframe tbody tr th:only-of-type {\n",
       "        vertical-align: middle;\n",
       "    }\n",
       "\n",
       "    .dataframe tbody tr th {\n",
       "        vertical-align: top;\n",
       "    }\n",
       "\n",
       "    .dataframe thead th {\n",
       "        text-align: right;\n",
       "    }\n",
       "</style>\n",
       "<table border=\"1\" class=\"dataframe\">\n",
       "  <thead>\n",
       "    <tr style=\"text-align: right;\">\n",
       "      <th></th>\n",
       "      <th>Accuracy</th>\n",
       "      <th>Precision</th>\n",
       "      <th>Recall</th>\n",
       "      <th>F1</th>\n",
       "    </tr>\n",
       "  </thead>\n",
       "  <tbody>\n",
       "    <tr>\n",
       "      <th>0</th>\n",
       "      <td>0.779221</td>\n",
       "      <td>0.625</td>\n",
       "      <td>0.925926</td>\n",
       "      <td>0.746269</td>\n",
       "    </tr>\n",
       "  </tbody>\n",
       "</table>\n",
       "</div>"
      ],
      "text/plain": [
       "   Accuracy  Precision    Recall        F1\n",
       "0  0.779221      0.625  0.925926  0.746269"
      ]
     },
     "execution_count": 341,
     "metadata": {},
     "output_type": "execute_result"
    }
   ],
   "source": [
    "evaluate (log_reg_model, x_test_sc, y_test,  0.22780215776273335)"
   ]
  },
  {
   "cell_type": "code",
   "execution_count": null,
   "metadata": {},
   "outputs": [],
   "source": []
  },
  {
   "cell_type": "markdown",
   "metadata": {},
   "source": [
    "#### MODEL IMPROVEMENT FROM MODEL HYPERPARAMETERS"
   ]
  },
  {
   "cell_type": "code",
   "execution_count": 342,
   "metadata": {},
   "outputs": [],
   "source": [
    "#c_values = [ 0.1, 0.2, 0.3, 0.4, 0.5, 0.6, 0.7, 0.8, 0.9]"
   ]
  },
  {
   "cell_type": "code",
   "execution_count": 343,
   "metadata": {},
   "outputs": [
    {
     "data": {
      "text/plain": [
       "array([0.60526172, 0.29126706, 0.55231903, 0.96480646, 0.88450414,\n",
       "       0.26391236, 0.58424811, 0.38247641, 0.26869036, 0.19219526])"
      ]
     },
     "execution_count": 343,
     "metadata": {},
     "output_type": "execute_result"
    }
   ],
   "source": [
    "import random\n",
    "\n",
    "random.seed(10)\n",
    "c_val = np.random.rand(5,2).flatten() #Flatten makes it a single line values or a single row \n",
    "c_val"
   ]
  },
  {
   "cell_type": "code",
   "execution_count": 344,
   "metadata": {},
   "outputs": [],
   "source": [
    "accs = []\n",
    "for c in c_val:\n",
    "    model = LogisticRegression (C = c)\n",
    "    model.fit(x_train_sc, y_train)\n",
    "    acc = model.score(x_test_sc, y_test)\n",
    "    accs.append(acc)"
   ]
  },
  {
   "cell_type": "code",
   "execution_count": 345,
   "metadata": {},
   "outputs": [
    {
     "data": {
      "text/plain": [
       "[0.7662337662337663,\n",
       " 0.7662337662337663,\n",
       " 0.7662337662337663,\n",
       " 0.7727272727272727,\n",
       " 0.7727272727272727,\n",
       " 0.7662337662337663,\n",
       " 0.7662337662337663,\n",
       " 0.7662337662337663,\n",
       " 0.7662337662337663,\n",
       " 0.7662337662337663]"
      ]
     },
     "execution_count": 345,
     "metadata": {},
     "output_type": "execute_result"
    }
   ],
   "source": [
    "accs"
   ]
  },
  {
   "cell_type": "code",
   "execution_count": 346,
   "metadata": {},
   "outputs": [
    {
     "data": {
      "text/plain": [
       "0.9648064553150683"
      ]
     },
     "execution_count": 346,
     "metadata": {},
     "output_type": "execute_result"
    }
   ],
   "source": [
    "# value for c\n",
    "optimal_idx = np.argmax(accs)\n",
    "optimal_c = c_val[optimal_idx]\n",
    "optimal_c"
   ]
  },
  {
   "cell_type": "code",
   "execution_count": 347,
   "metadata": {},
   "outputs": [],
   "source": [
    "log_reg_c = LogisticRegression(random_state = 0, C= optimal_c)"
   ]
  },
  {
   "cell_type": "code",
   "execution_count": 348,
   "metadata": {},
   "outputs": [
    {
     "name": "stdout",
     "output_type": "stream",
     "text": [
      "Train Accuracy: 0.7687296416938111\n"
     ]
    }
   ],
   "source": [
    "log_reg_c_model = train(log_reg_c, x_train_sc, y_train)"
   ]
  },
  {
   "cell_type": "code",
   "execution_count": 367,
   "metadata": {},
   "outputs": [
    {
     "data": {
      "image/png": "[encoded data removed]",
      "text/plain": [
       "<Figure size 432x288 with 2 Axes>"
      ]
     },
     "metadata": {},
     "output_type": "display_data"
    },
    {
     "data": {
      "text/html": [
       "<div>\n",
       "<style scoped>\n",
       "    .dataframe tbody tr th:only-of-type {\n",
       "        vertical-align: middle;\n",
       "    }\n",
       "\n",
       "    .dataframe tbody tr th {\n",
       "        vertical-align: top;\n",
       "    }\n",
       "\n",
       "    .dataframe thead th {\n",
       "        text-align: right;\n",
       "    }\n",
       "</style>\n",
       "<table border=\"1\" class=\"dataframe\">\n",
       "  <thead>\n",
       "    <tr style=\"text-align: right;\">\n",
       "      <th></th>\n",
       "      <th>Accuracy</th>\n",
       "      <th>Precision</th>\n",
       "      <th>Recall</th>\n",
       "      <th>F1</th>\n",
       "    </tr>\n",
       "  </thead>\n",
       "  <tbody>\n",
       "    <tr>\n",
       "      <th>0</th>\n",
       "      <td>0.772727</td>\n",
       "      <td>0.74359</td>\n",
       "      <td>0.537037</td>\n",
       "      <td>0.623656</td>\n",
       "    </tr>\n",
       "  </tbody>\n",
       "</table>\n",
       "</div>"
      ],
      "text/plain": [
       "   Accuracy  Precision    Recall        F1\n",
       "0  0.772727    0.74359  0.537037  0.623656"
      ]
     },
     "execution_count": 367,
     "metadata": {},
     "output_type": "execute_result"
    }
   ],
   "source": [
    "df_c = evaluate (log_reg_c_model , x_test_sc, y_test)\n",
    "df_c"
   ]
  },
  {
   "cell_type": "code",
   "execution_count": null,
   "metadata": {},
   "outputs": [],
   "source": []
  },
  {
   "cell_type": "markdown",
   "metadata": {},
   "source": [
    "#### MODEL IMPROVEMENT FROM DATA "
   ]
  },
  {
   "cell_type": "code",
   "execution_count": 350,
   "metadata": {},
   "outputs": [
    {
     "name": "stdout",
     "output_type": "stream",
     "text": [
      "Requirement already satisfied: imblearn in c:\\users\\mr olawale\\anaconda3\\lib\\site-packages (0.0)\n",
      "Requirement already satisfied: imbalanced-learn in c:\\users\\mr olawale\\anaconda3\\lib\\site-packages (from imblearn) (0.10.0)\n",
      "Requirement already satisfied: joblib>=1.1.1 in c:\\users\\mr olawale\\anaconda3\\lib\\site-packages (from imbalanced-learn->imblearn) (1.2.0)\n",
      "Requirement already satisfied: scikit-learn>=1.0.2 in c:\\users\\mr olawale\\anaconda3\\lib\\site-packages (from imbalanced-learn->imblearn) (1.0.2)\n",
      "Requirement already satisfied: scipy>=1.3.2 in c:\\users\\mr olawale\\anaconda3\\lib\\site-packages (from imbalanced-learn->imblearn) (1.7.3)\n",
      "Requirement already satisfied: threadpoolctl>=2.0.0 in c:\\users\\mr olawale\\anaconda3\\lib\\site-packages (from imbalanced-learn->imblearn) (2.2.0)\n",
      "Requirement already satisfied: numpy>=1.17.3 in c:\\users\\mr olawale\\anaconda3\\lib\\site-packages (from imbalanced-learn->imblearn) (1.21.5)\n"
     ]
    }
   ],
   "source": [
    "!pip install imblearn"
   ]
  },
  {
   "cell_type": "code",
   "execution_count": 351,
   "metadata": {},
   "outputs": [],
   "source": [
    "from imblearn.over_sampling import ADASYN, SMOTE, RandomOverSampler \n",
    "from imblearn.under_sampling import RandomUnderSampler "
   ]
  },
  {
   "cell_type": "code",
   "execution_count": 352,
   "metadata": {},
   "outputs": [],
   "source": [
    "def balance_data (x, y, smote_type):\n",
    "    \"\"\"x: Train features \n",
    "    y: Train Target \n",
    "    smote_ type : Kind of imbalance strategy \n",
    "    \"\"\"\n",
    "    x_res, y_res  = smote_type.fit_resample(x,y) \n",
    "    #Depending on the balancing technique,  x_res will be complemented by set of artficial data based on oversampling or any technic and our y_res will be also be balanced by same art datas \n",
    "    #If for Under samplimg x_res might be reduced from majority class so it can reduce to the minority class number \n",
    "    return x_res, y_res\n"
   ]
  },
  {
   "cell_type": "code",
   "execution_count": 353,
   "metadata": {},
   "outputs": [],
   "source": [
    "under = RandomUnderSampler(random_state = 0)\n",
    "over = RandomOverSampler(random_state = 0)\n",
    "smote = SMOTE(random_state = 0)\n",
    "adasyn = ADASYN(random_state = 0)"
   ]
  },
  {
   "cell_type": "code",
   "execution_count": 354,
   "metadata": {},
   "outputs": [],
   "source": [
    "#Recall, its the train sets that will always require the balancing and scaling since its like a base line for predicting othher unseen data like the test sets \n",
    "x_train_un, y_train_un = balance_data(x_train_sc, y_train, under )\n",
    "x_train_ov, y_train_ov = balance_data(x_train_sc, y_train, over )\n",
    "x_train_sm, y_train_sm = balance_data(x_train_sc, y_train, smote )\n",
    "x_train_ada, y_train_ada = balance_data(x_train_sc, y_train, adasyn)"
   ]
  },
  {
   "cell_type": "code",
   "execution_count": 355,
   "metadata": {},
   "outputs": [],
   "source": [
    "#x_train_un, y_train_un = balance_data(x_train_sc, y_train, under )"
   ]
  },
  {
   "cell_type": "code",
   "execution_count": 356,
   "metadata": {},
   "outputs": [
    {
     "data": {
      "text/plain": [
       "Counter({0: 214, 1: 214})"
      ]
     },
     "execution_count": 356,
     "metadata": {},
     "output_type": "execute_result"
    }
   ],
   "source": [
    "#This is to confirm undersample as the y-class for the two classes will have equal proportion of the class \n",
    "from collections import Counter \n",
    "\n",
    "Counter(y_train_un)"
   ]
  },
  {
   "cell_type": "code",
   "execution_count": 362,
   "metadata": {},
   "outputs": [
    {
     "name": "stdout",
     "output_type": "stream",
     "text": [
      "Train Accuracy: 0.7453271028037384\n"
     ]
    },
    {
     "data": {
      "image/png": "[encoded data removed]",
      "text/plain": [
       "<Figure size 432x288 with 2 Axes>"
      ]
     },
     "metadata": {},
     "output_type": "display_data"
    },
    {
     "data": {
      "text/html": [
       "<div>\n",
       "<style scoped>\n",
       "    .dataframe tbody tr th:only-of-type {\n",
       "        vertical-align: middle;\n",
       "    }\n",
       "\n",
       "    .dataframe tbody tr th {\n",
       "        vertical-align: top;\n",
       "    }\n",
       "\n",
       "    .dataframe thead th {\n",
       "        text-align: right;\n",
       "    }\n",
       "</style>\n",
       "<table border=\"1\" class=\"dataframe\">\n",
       "  <thead>\n",
       "    <tr style=\"text-align: right;\">\n",
       "      <th></th>\n",
       "      <th>Accuracy</th>\n",
       "      <th>Precision</th>\n",
       "      <th>Recall</th>\n",
       "      <th>F1</th>\n",
       "    </tr>\n",
       "  </thead>\n",
       "  <tbody>\n",
       "    <tr>\n",
       "      <th>0</th>\n",
       "      <td>0.772727</td>\n",
       "      <td>0.650794</td>\n",
       "      <td>0.759259</td>\n",
       "      <td>0.700855</td>\n",
       "    </tr>\n",
       "  </tbody>\n",
       "</table>\n",
       "</div>"
      ],
      "text/plain": [
       "   Accuracy  Precision    Recall        F1\n",
       "0  0.772727   0.650794  0.759259  0.700855"
      ]
     },
     "execution_count": 362,
     "metadata": {},
     "output_type": "execute_result"
    }
   ],
   "source": [
    "log_reg_un = train(log_reg, x_train_un, y_train_un)\n",
    "df_un = evaluate(log_reg_un, x_test_sc, y_test)\n",
    "df_un"
   ]
  },
  {
   "cell_type": "markdown",
   "metadata": {},
   "source": [
    "Based on confusion matrix above, its is clear that of the people predicted to have diabetics with relative to actual or True values; \n",
    "and based on undersampling technique; of 54 predicted; 41 are correct and 13 are incorrect; of the 100Non diabetic class prediction; \n",
    "78 rightly predicxted and 22 wrngly "
   ]
  },
  {
   "cell_type": "code",
   "execution_count": 2,
   "metadata": {},
   "outputs": [],
   "source": [
    "#log_reg_ov = train(log_reg, x_train_ov, y_train_ov)\n",
    "#df_ov = evaluate(log_reg_ov, x_test_sc, y_test)\n",
    "#df_ov"
   ]
  },
  {
   "cell_type": "code",
   "execution_count": 364,
   "metadata": {},
   "outputs": [
    {
     "name": "stdout",
     "output_type": "stream",
     "text": [
      "Train Accuracy: 0.7525\n"
     ]
    },
    {
     "data": {
      "image/png": "[encoded data removed]",
      "text/plain": [
       "<Figure size 432x288 with 2 Axes>"
      ]
     },
     "metadata": {},
     "output_type": "display_data"
    },
    {
     "data": {
      "text/html": [
       "<div>\n",
       "<style scoped>\n",
       "    .dataframe tbody tr th:only-of-type {\n",
       "        vertical-align: middle;\n",
       "    }\n",
       "\n",
       "    .dataframe tbody tr th {\n",
       "        vertical-align: top;\n",
       "    }\n",
       "\n",
       "    .dataframe thead th {\n",
       "        text-align: right;\n",
       "    }\n",
       "</style>\n",
       "<table border=\"1\" class=\"dataframe\">\n",
       "  <thead>\n",
       "    <tr style=\"text-align: right;\">\n",
       "      <th></th>\n",
       "      <th>Accuracy</th>\n",
       "      <th>Precision</th>\n",
       "      <th>Recall</th>\n",
       "      <th>F1</th>\n",
       "    </tr>\n",
       "  </thead>\n",
       "  <tbody>\n",
       "    <tr>\n",
       "      <th>0</th>\n",
       "      <td>0.766234</td>\n",
       "      <td>0.645161</td>\n",
       "      <td>0.740741</td>\n",
       "      <td>0.689655</td>\n",
       "    </tr>\n",
       "  </tbody>\n",
       "</table>\n",
       "</div>"
      ],
      "text/plain": [
       "   Accuracy  Precision    Recall        F1\n",
       "0  0.766234   0.645161  0.740741  0.689655"
      ]
     },
     "execution_count": 364,
     "metadata": {},
     "output_type": "execute_result"
    }
   ],
   "source": [
    "log_reg_sm = train(log_reg, x_train_sm, y_train_sm)\n",
    "df_sm = evaluate(log_reg_sm, x_test_sc, y_test)\n",
    "df_sm"
   ]
  },
  {
   "cell_type": "code",
   "execution_count": 365,
   "metadata": {},
   "outputs": [
    {
     "name": "stdout",
     "output_type": "stream",
     "text": [
      "Train Accuracy: 0.7118012422360248\n"
     ]
    },
    {
     "data": {
      "image/png": "[encoded data removed]",
      "text/plain": [
       "<Figure size 432x288 with 2 Axes>"
      ]
     },
     "metadata": {},
     "output_type": "display_data"
    },
    {
     "data": {
      "text/html": [
       "<div>\n",
       "<style scoped>\n",
       "    .dataframe tbody tr th:only-of-type {\n",
       "        vertical-align: middle;\n",
       "    }\n",
       "\n",
       "    .dataframe tbody tr th {\n",
       "        vertical-align: top;\n",
       "    }\n",
       "\n",
       "    .dataframe thead th {\n",
       "        text-align: right;\n",
       "    }\n",
       "</style>\n",
       "<table border=\"1\" class=\"dataframe\">\n",
       "  <thead>\n",
       "    <tr style=\"text-align: right;\">\n",
       "      <th></th>\n",
       "      <th>Accuracy</th>\n",
       "      <th>Precision</th>\n",
       "      <th>Recall</th>\n",
       "      <th>F1</th>\n",
       "    </tr>\n",
       "  </thead>\n",
       "  <tbody>\n",
       "    <tr>\n",
       "      <th>0</th>\n",
       "      <td>0.785714</td>\n",
       "      <td>0.656716</td>\n",
       "      <td>0.814815</td>\n",
       "      <td>0.727273</td>\n",
       "    </tr>\n",
       "  </tbody>\n",
       "</table>\n",
       "</div>"
      ],
      "text/plain": [
       "   Accuracy  Precision    Recall        F1\n",
       "0  0.785714   0.656716  0.814815  0.727273"
      ]
     },
     "execution_count": 365,
     "metadata": {},
     "output_type": "execute_result"
    }
   ],
   "source": [
    "log_reg_ad = train(log_reg, x_train_ada, y_train_ada)\n",
    "df_ad = evaluate(log_reg_ad, x_test_sc, y_test)\n",
    "df_ad"
   ]
  },
  {
   "cell_type": "markdown",
   "metadata": {},
   "source": [
    "#### CONCLUSION \n",
    "\n",
    "Based on Recall, ADASYN to be deployed "
   ]
  },
  {
   "cell_type": "code",
   "execution_count": null,
   "metadata": {},
   "outputs": [],
   "source": []
  },
  {
   "cell_type": "code",
   "execution_count": null,
   "metadata": {},
   "outputs": [],
   "source": []
  },
  {
   "cell_type": "code",
   "execution_count": null,
   "metadata": {},
   "outputs": [],
   "source": []
  },
  {
   "cell_type": "code",
   "execution_count": null,
   "metadata": {},
   "outputs": [],
   "source": []
  },
  {
   "cell_type": "code",
   "execution_count": null,
   "metadata": {},
   "outputs": [],
   "source": []
  }
 ],
 "metadata": {
  "kernelspec": {
   "display_name": "Python 3 (ipykernel)",
   "language": "python",
   "name": "python3"
  },
  "language_info": {
   "codemirror_mode": {
    "name": "ipython",
    "version": 3
   },
   "file_extension": ".py",
   "mimetype": "text/x-python",
   "name": "python",
   "nbconvert_exporter": "python",
   "pygments_lexer": "ipython3",
   "version": "3.9.12"
  }
 },
 "nbformat": 4,
 "nbformat_minor": 1
}
