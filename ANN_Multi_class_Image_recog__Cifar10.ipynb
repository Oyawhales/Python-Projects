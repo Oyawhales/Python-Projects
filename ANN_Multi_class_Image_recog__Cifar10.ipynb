{
  "nbformat": 4,
  "nbformat_minor": 0,
  "metadata": {
    "colab": {
      "provenance": []
    },
    "kernelspec": {
      "name": "python3",
      "display_name": "Python 3"
    },
    "language_info": {
      "name": "python"
    }
  },
  "cells": [
    {
      "cell_type": "code",
      "execution_count": 110,
      "metadata": {
        "id": "RIfE4WnMWk0-"
      },
      "outputs": [],
      "source": [
        "import pandas as pd \n",
        "import numpy as np \n",
        "from tensorflow.keras import Sequential #This is for stacking the layers \n",
        "from tensorflow.keras.layers import Dense, Dropout, Flatten, Conv2D, BatchNormalization, Activation, LeakyReLU\n",
        "from sklearn.metrics import mean_squared_error\n",
        "from sklearn.model_selection import train_test_split\n",
        "from sklearn.preprocessing import StandardScaler, MinMaxScaler\n",
        "from sklearn.metrics.pairwise import kernel_metrics\n",
        "from tensorflow.keras.callbacks import ModelCheckpoint \n",
        "from sklearn.metrics import mean_squared_error, mean_absolute_error\n",
        "from tensorflow.keras.utils import to_categorical \n",
        "import matplotlib.pyplot as plt \n",
        "import matplotlib.pyplot as plt \n",
        "from sklearn.metrics import confusion_matrix \n",
        "import seaborn as sns\n",
        "from tensorflow.keras.optimizers import Adam\n",
        "from tensorflow.keras.datasets import cifar10 \n",
        "from tensorflow.keras.layers import Conv2D, MaxPooling2D\n",
        "from tensorflow.keras.callbacks import EarlyStopping"
      ]
    },
    {
      "cell_type": "markdown",
      "source": [
        "### **Importing and loading the CIFAR dataset**"
      ],
      "metadata": {
        "id": "JRJebgIiYVKB"
      }
    },
    {
      "cell_type": "code",
      "source": [
        "(x_train, y_train), (x_test, y_test) = cifar10.load_data()"
      ],
      "metadata": {
        "id": "l1p6pStjXNpX"
      },
      "execution_count": 84,
      "outputs": []
    },
    {
      "cell_type": "code",
      "source": [
        "# load the X_train set\n",
        "x_train.shape "
      ],
      "metadata": {
        "colab": {
          "base_uri": "https://localhost:8080/"
        },
        "id": "XX7IOaUOY83k",
        "outputId": "4ece255f-bf27-4f35-c309-64f13bf0f8be"
      },
      "execution_count": 85,
      "outputs": [
        {
          "output_type": "execute_result",
          "data": {
            "text/plain": [
              "(50000, 32, 32, 3)"
            ]
          },
          "metadata": {},
          "execution_count": 85
        }
      ]
    },
    {
      "cell_type": "markdown",
      "source": [
        "Deduction \n",
        "Here, the dimension is of 4 with 50000 images in the train set; image size of 32 x 32pixels and 3nos channels (RGB ) "
      ],
      "metadata": {
        "id": "ZpGSWR1fZxa9"
      }
    },
    {
      "cell_type": "code",
      "source": [
        "# The y_train set has 5000images and in 1D array \n",
        "y_train.shape "
      ],
      "metadata": {
        "colab": {
          "base_uri": "https://localhost:8080/"
        },
        "id": "sDp3ans5ZTQf",
        "outputId": "c9d26275-b9f7-438a-a119-9781c8a50347"
      },
      "execution_count": 86,
      "outputs": [
        {
          "output_type": "execute_result",
          "data": {
            "text/plain": [
              "(50000, 1)"
            ]
          },
          "metadata": {},
          "execution_count": 86
        }
      ]
    },
    {
      "cell_type": "code",
      "source": [
        "y_train[0:2]"
      ],
      "metadata": {
        "colab": {
          "base_uri": "https://localhost:8080/"
        },
        "id": "p9xA5lNybIlN",
        "outputId": "0ed5259e-573d-4183-ac4a-9b79e0562610"
      },
      "execution_count": 87,
      "outputs": [
        {
          "output_type": "execute_result",
          "data": {
            "text/plain": [
              "array([[6],\n",
              "       [9]], dtype=uint8)"
            ]
          },
          "metadata": {},
          "execution_count": 87
        }
      ]
    },
    {
      "cell_type": "markdown",
      "source": [
        "We can see above  that the y_train isnt in 1D array but 2D array hence need to rescale \n",
        "\n",
        "\n",
        "Rescaling can be done using y_train.reshape(-1,) Since the 5000 is meant to be the same; so -1 makes it same and we leave the other.   \n",
        "\n",
        "Using to_categorical\n",
        "If dot rescaling method used then the loss function during compiling will e sparse categorical cross entropy but if to_categorical which turns to one hot encoding, then categorical cross entropy will be used as loss function. \n",
        "If rescaled, it will return as a single array containing the image class "
      ],
      "metadata": {
        "id": "NaZCyue-bbK5"
      }
    },
    {
      "cell_type": "code",
      "source": [
        "# iamges correspond to this class  \n",
        "classes = [\"airplane\", \"automobile\", \"bird\", \"cat\", \"deer\", \"dog\", \"frog\", \"horse\", \"ship\", \"truck\"] \n"
      ],
      "metadata": {
        "id": "6lwPPQveiB3_"
      },
      "execution_count": 88,
      "outputs": []
    },
    {
      "cell_type": "code",
      "source": [
        "# rescale and can see that it returned the actual class in the first five position of the train set \n",
        "y_train = y_train.reshape(-1,)\n",
        "y_train[:5]"
      ],
      "metadata": {
        "colab": {
          "base_uri": "https://localhost:8080/"
        },
        "id": "gaTtqyoXhmZj",
        "outputId": "ed7167fc-503e-4c04-dbdc-1c60bdffb119"
      },
      "execution_count": 89,
      "outputs": [
        {
          "output_type": "execute_result",
          "data": {
            "text/plain": [
              "array([6, 9, 9, 4, 1], dtype=uint8)"
            ]
          },
          "metadata": {},
          "execution_count": 89
        }
      ]
    },
    {
      "cell_type": "code",
      "source": [
        "# If to categorical\n",
        "# y_train = to_categorical(y_train) - This will return array in 2D array and in probaility for each array. Each array representing probabilities  \n"
      ],
      "metadata": {
        "id": "7h9BrtTYXNsE"
      },
      "execution_count": 90,
      "outputs": []
    },
    {
      "cell_type": "code",
      "source": [
        "len (x_train[0]) "
      ],
      "metadata": {
        "colab": {
          "base_uri": "https://localhost:8080/"
        },
        "id": "cP4m2dT3iQcS",
        "outputId": "08fbd2fd-736c-4bbc-bad3-ebdd1f7ea65f"
      },
      "execution_count": 91,
      "outputs": [
        {
          "output_type": "execute_result",
          "data": {
            "text/plain": [
              "32"
            ]
          },
          "metadata": {},
          "execution_count": 91
        }
      ]
    },
    {
      "cell_type": "code",
      "source": [
        "x_train[0]"
      ],
      "metadata": {
        "colab": {
          "base_uri": "https://localhost:8080/"
        },
        "id": "ct9zFXWaiQf1",
        "outputId": "d8424c63-767f-49a9-87b5-6935580994cf"
      },
      "execution_count": 92,
      "outputs": [
        {
          "output_type": "execute_result",
          "data": {
            "text/plain": [
              "array([[[ 59,  62,  63],\n",
              "        [ 43,  46,  45],\n",
              "        [ 50,  48,  43],\n",
              "        ...,\n",
              "        [158, 132, 108],\n",
              "        [152, 125, 102],\n",
              "        [148, 124, 103]],\n",
              "\n",
              "       [[ 16,  20,  20],\n",
              "        [  0,   0,   0],\n",
              "        [ 18,   8,   0],\n",
              "        ...,\n",
              "        [123,  88,  55],\n",
              "        [119,  83,  50],\n",
              "        [122,  87,  57]],\n",
              "\n",
              "       [[ 25,  24,  21],\n",
              "        [ 16,   7,   0],\n",
              "        [ 49,  27,   8],\n",
              "        ...,\n",
              "        [118,  84,  50],\n",
              "        [120,  84,  50],\n",
              "        [109,  73,  42]],\n",
              "\n",
              "       ...,\n",
              "\n",
              "       [[208, 170,  96],\n",
              "        [201, 153,  34],\n",
              "        [198, 161,  26],\n",
              "        ...,\n",
              "        [160, 133,  70],\n",
              "        [ 56,  31,   7],\n",
              "        [ 53,  34,  20]],\n",
              "\n",
              "       [[180, 139,  96],\n",
              "        [173, 123,  42],\n",
              "        [186, 144,  30],\n",
              "        ...,\n",
              "        [184, 148,  94],\n",
              "        [ 97,  62,  34],\n",
              "        [ 83,  53,  34]],\n",
              "\n",
              "       [[177, 144, 116],\n",
              "        [168, 129,  94],\n",
              "        [179, 142,  87],\n",
              "        ...,\n",
              "        [216, 184, 140],\n",
              "        [151, 118,  84],\n",
              "        [123,  92,  72]]], dtype=uint8)"
            ]
          },
          "metadata": {},
          "execution_count": 92
        }
      ]
    },
    {
      "cell_type": "code",
      "source": [
        "# View image \n",
        "classes = [\"airplane\", \"automobile\", \"bird\", \"cat\", \"deer\", \"dog\", \"frog\", \"horse\", \"ship\", \"truck\"] \n",
        "plt.figure(figsize=(8,5))\n",
        "plt.imshow(x_train[0])\n",
        "plt.xlabel(classes[y_train[0]]) # y_train[0] will return a value and this value corresponds to the index. Say in index 0 is the frog which corresponds to class - 5\n"
      ],
      "metadata": {
        "colab": {
          "base_uri": "https://localhost:8080/",
          "height": 482
        },
        "id": "QoyprhWKiQjf",
        "outputId": "feb2720d-abaa-4dcf-b23e-3083abfe414f"
      },
      "execution_count": 93,
      "outputs": [
        {
          "output_type": "execute_result",
          "data": {
            "text/plain": [
              "Text(0.5, 0, 'frog')"
            ]
          },
          "metadata": {},
          "execution_count": 93
        },
        {
          "output_type": "display_data",
          "data": {
            "text/plain": [
              "<Figure size 800x500 with 1 Axes>"
            ],
            "image/png": "[encoded data removed]"
          },
          "metadata": {}
        }
      ]
    },
    {
      "cell_type": "code",
      "source": [
        "def plot_image (x, y, index ): \n",
        "  plt.figure(figsize=(8,5))\n",
        "  plt.imshow(x_train[index])\n",
        "  plt.xlabel(classes[y_train[index]])"
      ],
      "metadata": {
        "id": "UQGZ4t58opNa"
      },
      "execution_count": 94,
      "outputs": []
    },
    {
      "cell_type": "code",
      "source": [
        "plot_image(x_train, y_train, 2)"
      ],
      "metadata": {
        "colab": {
          "base_uri": "https://localhost:8080/",
          "height": 465
        },
        "id": "tZoRGXZtXNvp",
        "outputId": "e381ceda-0d6a-41aa-bd50-6afd10fef331"
      },
      "execution_count": 95,
      "outputs": [
        {
          "output_type": "display_data",
          "data": {
            "text/plain": [
              "<Figure size 800x500 with 1 Axes>"
            ],
            "image/png": "[encoded data removed]"
          },
          "metadata": {}
        }
      ]
    },
    {
      "cell_type": "code",
      "source": [
        "# Normalize the image size with max image size 225 \n",
        "x_train = x_train/255\n",
        "x_test = x_test/255 "
      ],
      "metadata": {
        "id": "mHBZo7SmXN0N"
      },
      "execution_count": 96,
      "outputs": []
    },
    {
      "cell_type": "code",
      "source": [],
      "metadata": {
        "id": "8oUN4HjetvYU"
      },
      "execution_count": 96,
      "outputs": []
    },
    {
      "cell_type": "markdown",
      "source": [
        "## BUILD MODEL WITH ANN "
      ],
      "metadata": {
        "id": "Dx3Gc_TEus0h"
      }
    },
    {
      "cell_type": "code",
      "source": [
        "model = Sequential()\n",
        "model.add(Flatten(input_shape = (32, 32, 3))) # ANN is the fully connnted dense layer part; here, the convolution expunge and we just f;latten into the ANN network \n",
        "model.add(Dense(64, activation= 'relu'))\n",
        "model.add(Dense(10, activation = 'softmax'))\n",
        "model.compile(optimizer = \"SGD\", loss = \"sparse_categorical_crossentropy\", metrics = [\"accuracy\"] )\n"
      ],
      "metadata": {
        "id": "QYX9xHl2tvfQ"
      },
      "execution_count": 117,
      "outputs": []
    },
    {
      "cell_type": "code",
      "source": [
        "es = EarlyStopping( monitor = \"val_loss\", mode = \"min\", patience = 3, verbose = 2)\n",
        "ck = ModelCheckpoint(\"cnn_model.hdf5\", monitor = \"val_loss\", save_best_only = True, save_weight_only =True)"
      ],
      "metadata": {
        "id": "hfQBGHnw7y7M"
      },
      "execution_count": 112,
      "outputs": []
    },
    {
      "cell_type": "code",
      "source": [
        "result = model.fit ( x_train, y_train, batch_size= 32, epochs = 50, validation_split = 0.2, verbose =2, callbacks = [es, ck], shuffle = True)"
      ],
      "metadata": {
        "colab": {
          "base_uri": "https://localhost:8080/"
        },
        "id": "iy9eBl26tvjA",
        "outputId": "3c481afa-7b61-4d24-efb2-262f82b6f49f"
      },
      "execution_count": 118,
      "outputs": [
        {
          "output_type": "stream",
          "name": "stdout",
          "text": [
            "Epoch 1/50\n",
            "1250/1250 - 5s - loss: 1.9353 - accuracy: 0.3057 - val_loss: 1.8436 - val_accuracy: 0.3402 - 5s/epoch - 4ms/step\n",
            "Epoch 2/50\n",
            "1250/1250 - 4s - loss: 1.7642 - accuracy: 0.3789 - val_loss: 1.7440 - val_accuracy: 0.3896 - 4s/epoch - 4ms/step\n",
            "Epoch 3/50\n",
            "1250/1250 - 4s - loss: 1.6919 - accuracy: 0.4029 - val_loss: 1.7027 - val_accuracy: 0.3977 - 4s/epoch - 4ms/step\n",
            "Epoch 4/50\n",
            "1250/1250 - 4s - loss: 1.6419 - accuracy: 0.4225 - val_loss: 1.7076 - val_accuracy: 0.3978 - 4s/epoch - 3ms/step\n",
            "Epoch 5/50\n",
            "1250/1250 - 4s - loss: 1.6094 - accuracy: 0.4329 - val_loss: 1.6458 - val_accuracy: 0.4173 - 4s/epoch - 3ms/step\n",
            "Epoch 6/50\n",
            "1250/1250 - 4s - loss: 1.5796 - accuracy: 0.4428 - val_loss: 1.6536 - val_accuracy: 0.4200 - 4s/epoch - 3ms/step\n",
            "Epoch 7/50\n",
            "1250/1250 - 5s - loss: 1.5540 - accuracy: 0.4528 - val_loss: 1.5823 - val_accuracy: 0.4506 - 5s/epoch - 4ms/step\n",
            "Epoch 8/50\n",
            "1250/1250 - 5s - loss: 1.5350 - accuracy: 0.4592 - val_loss: 1.5865 - val_accuracy: 0.4421 - 5s/epoch - 4ms/step\n",
            "Epoch 9/50\n",
            "1250/1250 - 4s - loss: 1.5181 - accuracy: 0.4644 - val_loss: 1.5757 - val_accuracy: 0.4421 - 4s/epoch - 3ms/step\n",
            "Epoch 10/50\n",
            "1250/1250 - 4s - loss: 1.5003 - accuracy: 0.4728 - val_loss: 1.5689 - val_accuracy: 0.4481 - 4s/epoch - 3ms/step\n",
            "Epoch 11/50\n",
            "1250/1250 - 4s - loss: 1.4847 - accuracy: 0.4776 - val_loss: 1.5640 - val_accuracy: 0.4511 - 4s/epoch - 4ms/step\n",
            "Epoch 12/50\n",
            "1250/1250 - 4s - loss: 1.4703 - accuracy: 0.4841 - val_loss: 1.5839 - val_accuracy: 0.4365 - 4s/epoch - 3ms/step\n",
            "Epoch 13/50\n",
            "1250/1250 - 4s - loss: 1.4564 - accuracy: 0.4873 - val_loss: 1.5380 - val_accuracy: 0.4666 - 4s/epoch - 3ms/step\n",
            "Epoch 14/50\n",
            "1250/1250 - 4s - loss: 1.4464 - accuracy: 0.4921 - val_loss: 1.5392 - val_accuracy: 0.4665 - 4s/epoch - 3ms/step\n",
            "Epoch 15/50\n",
            "1250/1250 - 4s - loss: 1.4346 - accuracy: 0.4934 - val_loss: 1.5045 - val_accuracy: 0.4718 - 4s/epoch - 3ms/step\n",
            "Epoch 16/50\n",
            "1250/1250 - 3s - loss: 1.4213 - accuracy: 0.5014 - val_loss: 1.5423 - val_accuracy: 0.4591 - 3s/epoch - 3ms/step\n",
            "Epoch 17/50\n",
            "1250/1250 - 4s - loss: 1.4107 - accuracy: 0.5045 - val_loss: 1.5132 - val_accuracy: 0.4736 - 4s/epoch - 3ms/step\n",
            "Epoch 18/50\n",
            "1250/1250 - 3s - loss: 1.3999 - accuracy: 0.5099 - val_loss: 1.5114 - val_accuracy: 0.4740 - 3s/epoch - 3ms/step\n",
            "Epoch 18: early stopping\n"
          ]
        }
      ]
    },
    {
      "cell_type": "code",
      "source": [
        "pd.DataFrame(model.history.history)"
      ],
      "metadata": {
        "colab": {
          "base_uri": "https://localhost:8080/",
          "height": 614
        },
        "id": "Fp9V580cwozn",
        "outputId": "db49540f-5495-4272-956a-9eb7f3eb01f8"
      },
      "execution_count": 123,
      "outputs": [
        {
          "output_type": "execute_result",
          "data": {
            "text/plain": [
              "        loss  accuracy  val_loss  val_accuracy\n",
              "0   1.935280  0.305675  1.843638        0.3402\n",
              "1   1.764205  0.378875  1.744004        0.3896\n",
              "2   1.691861  0.402875  1.702721        0.3977\n",
              "3   1.641932  0.422475  1.707562        0.3978\n",
              "4   1.609380  0.432950  1.645776        0.4173\n",
              "5   1.579603  0.442850  1.653602        0.4200\n",
              "6   1.553997  0.452775  1.582316        0.4506\n",
              "7   1.535007  0.459200  1.586462        0.4421\n",
              "8   1.518088  0.464425  1.575734        0.4421\n",
              "9   1.500324  0.472775  1.568908        0.4481\n",
              "10  1.484697  0.477650  1.564026        0.4511\n",
              "11  1.470315  0.484075  1.583851        0.4365\n",
              "12  1.456430  0.487325  1.538045        0.4666\n",
              "13  1.446427  0.492075  1.539190        0.4665\n",
              "14  1.434639  0.493375  1.504547        0.4718\n",
              "15  1.421278  0.501400  1.542307        0.4591\n",
              "16  1.410737  0.504450  1.513205        0.4736\n",
              "17  1.399900  0.509900  1.511384        0.4740"
            ],
            "text/html": [
              "\n",
              "  <div id=\"df-2b556223-2280-4980-a9f0-f6dc38fa6070\">\n",
              "    <div class=\"colab-df-container\">\n",
              "      <div>\n",
              "<style scoped>\n",
              "    .dataframe tbody tr th:only-of-type {\n",
              "        vertical-align: middle;\n",
              "    }\n",
              "\n",
              "    .dataframe tbody tr th {\n",
              "        vertical-align: top;\n",
              "    }\n",
              "\n",
              "    .dataframe thead th {\n",
              "        text-align: right;\n",
              "    }\n",
              "</style>\n",
              "<table border=\"1\" class=\"dataframe\">\n",
              "  <thead>\n",
              "    <tr style=\"text-align: right;\">\n",
              "      <th></th>\n",
              "      <th>loss</th>\n",
              "      <th>accuracy</th>\n",
              "      <th>val_loss</th>\n",
              "      <th>val_accuracy</th>\n",
              "    </tr>\n",
              "  </thead>\n",
              "  <tbody>\n",
              "    <tr>\n",
              "      <th>0</th>\n",
              "      <td>1.935280</td>\n",
              "      <td>0.305675</td>\n",
              "      <td>1.843638</td>\n",
              "      <td>0.3402</td>\n",
              "    </tr>\n",
              "    <tr>\n",
              "      <th>1</th>\n",
              "      <td>1.764205</td>\n",
              "      <td>0.378875</td>\n",
              "      <td>1.744004</td>\n",
              "      <td>0.3896</td>\n",
              "    </tr>\n",
              "    <tr>\n",
              "      <th>2</th>\n",
              "      <td>1.691861</td>\n",
              "      <td>0.402875</td>\n",
              "      <td>1.702721</td>\n",
              "      <td>0.3977</td>\n",
              "    </tr>\n",
              "    <tr>\n",
              "      <th>3</th>\n",
              "      <td>1.641932</td>\n",
              "      <td>0.422475</td>\n",
              "      <td>1.707562</td>\n",
              "      <td>0.3978</td>\n",
              "    </tr>\n",
              "    <tr>\n",
              "      <th>4</th>\n",
              "      <td>1.609380</td>\n",
              "      <td>0.432950</td>\n",
              "      <td>1.645776</td>\n",
              "      <td>0.4173</td>\n",
              "    </tr>\n",
              "    <tr>\n",
              "      <th>5</th>\n",
              "      <td>1.579603</td>\n",
              "      <td>0.442850</td>\n",
              "      <td>1.653602</td>\n",
              "      <td>0.4200</td>\n",
              "    </tr>\n",
              "    <tr>\n",
              "      <th>6</th>\n",
              "      <td>1.553997</td>\n",
              "      <td>0.452775</td>\n",
              "      <td>1.582316</td>\n",
              "      <td>0.4506</td>\n",
              "    </tr>\n",
              "    <tr>\n",
              "      <th>7</th>\n",
              "      <td>1.535007</td>\n",
              "      <td>0.459200</td>\n",
              "      <td>1.586462</td>\n",
              "      <td>0.4421</td>\n",
              "    </tr>\n",
              "    <tr>\n",
              "      <th>8</th>\n",
              "      <td>1.518088</td>\n",
              "      <td>0.464425</td>\n",
              "      <td>1.575734</td>\n",
              "      <td>0.4421</td>\n",
              "    </tr>\n",
              "    <tr>\n",
              "      <th>9</th>\n",
              "      <td>1.500324</td>\n",
              "      <td>0.472775</td>\n",
              "      <td>1.568908</td>\n",
              "      <td>0.4481</td>\n",
              "    </tr>\n",
              "    <tr>\n",
              "      <th>10</th>\n",
              "      <td>1.484697</td>\n",
              "      <td>0.477650</td>\n",
              "      <td>1.564026</td>\n",
              "      <td>0.4511</td>\n",
              "    </tr>\n",
              "    <tr>\n",
              "      <th>11</th>\n",
              "      <td>1.470315</td>\n",
              "      <td>0.484075</td>\n",
              "      <td>1.583851</td>\n",
              "      <td>0.4365</td>\n",
              "    </tr>\n",
              "    <tr>\n",
              "      <th>12</th>\n",
              "      <td>1.456430</td>\n",
              "      <td>0.487325</td>\n",
              "      <td>1.538045</td>\n",
              "      <td>0.4666</td>\n",
              "    </tr>\n",
              "    <tr>\n",
              "      <th>13</th>\n",
              "      <td>1.446427</td>\n",
              "      <td>0.492075</td>\n",
              "      <td>1.539190</td>\n",
              "      <td>0.4665</td>\n",
              "    </tr>\n",
              "    <tr>\n",
              "      <th>14</th>\n",
              "      <td>1.434639</td>\n",
              "      <td>0.493375</td>\n",
              "      <td>1.504547</td>\n",
              "      <td>0.4718</td>\n",
              "    </tr>\n",
              "    <tr>\n",
              "      <th>15</th>\n",
              "      <td>1.421278</td>\n",
              "      <td>0.501400</td>\n",
              "      <td>1.542307</td>\n",
              "      <td>0.4591</td>\n",
              "    </tr>\n",
              "    <tr>\n",
              "      <th>16</th>\n",
              "      <td>1.410737</td>\n",
              "      <td>0.504450</td>\n",
              "      <td>1.513205</td>\n",
              "      <td>0.4736</td>\n",
              "    </tr>\n",
              "    <tr>\n",
              "      <th>17</th>\n",
              "      <td>1.399900</td>\n",
              "      <td>0.509900</td>\n",
              "      <td>1.511384</td>\n",
              "      <td>0.4740</td>\n",
              "    </tr>\n",
              "  </tbody>\n",
              "</table>\n",
              "</div>\n",
              "      <button class=\"colab-df-convert\" onclick=\"convertToInteractive('df-2b556223-2280-4980-a9f0-f6dc38fa6070')\"\n",
              "              title=\"Convert this dataframe to an interactive table.\"\n",
              "              style=\"display:none;\">\n",
              "        \n",
              "  <svg xmlns=\"http://www.w3.org/2000/svg\" height=\"24px\"viewBox=\"0 0 24 24\"\n",
              "       width=\"24px\">\n",
              "    <path d=\"M0 0h24v24H0V0z\" fill=\"none\"/>\n",
              "    <path d=\"M18.56 5.44l.94 2.06.94-2.06 2.06-.94-2.06-.94-.94-2.06-.94 2.06-2.06.94zm-11 1L8.5 8.5l.94-2.06 2.06-.94-2.06-.94L8.5 2.5l-.94 2.06-2.06.94zm10 10l.94 2.06.94-2.06 2.06-.94-2.06-.94-.94-2.06-.94 2.06-2.06.94z\"/><path d=\"M17.41 7.96l-1.37-1.37c-.4-.4-.92-.59-1.43-.59-.52 0-1.04.2-1.43.59L10.3 9.45l-7.72 7.72c-.78.78-.78 2.05 0 2.83L4 21.41c.39.39.9.59 1.41.59.51 0 1.02-.2 1.41-.59l7.78-7.78 2.81-2.81c.8-.78.8-2.07 0-2.86zM5.41 20L4 18.59l7.72-7.72 1.47 1.35L5.41 20z\"/>\n",
              "  </svg>\n",
              "      </button>\n",
              "      \n",
              "  <style>\n",
              "    .colab-df-container {\n",
              "      display:flex;\n",
              "      flex-wrap:wrap;\n",
              "      gap: 12px;\n",
              "    }\n",
              "\n",
              "    .colab-df-convert {\n",
              "      background-color: #E8F0FE;\n",
              "      border: none;\n",
              "      border-radius: 50%;\n",
              "      cursor: pointer;\n",
              "      display: none;\n",
              "      fill: #1967D2;\n",
              "      height: 32px;\n",
              "      padding: 0 0 0 0;\n",
              "      width: 32px;\n",
              "    }\n",
              "\n",
              "    .colab-df-convert:hover {\n",
              "      background-color: #E2EBFA;\n",
              "      box-shadow: 0px 1px 2px rgba(60, 64, 67, 0.3), 0px 1px 3px 1px rgba(60, 64, 67, 0.15);\n",
              "      fill: #174EA6;\n",
              "    }\n",
              "\n",
              "    [theme=dark] .colab-df-convert {\n",
              "      background-color: #3B4455;\n",
              "      fill: #D2E3FC;\n",
              "    }\n",
              "\n",
              "    [theme=dark] .colab-df-convert:hover {\n",
              "      background-color: #434B5C;\n",
              "      box-shadow: 0px 1px 3px 1px rgba(0, 0, 0, 0.15);\n",
              "      filter: drop-shadow(0px 1px 2px rgba(0, 0, 0, 0.3));\n",
              "      fill: #FFFFFF;\n",
              "    }\n",
              "  </style>\n",
              "\n",
              "      <script>\n",
              "        const buttonEl =\n",
              "          document.querySelector('#df-2b556223-2280-4980-a9f0-f6dc38fa6070 button.colab-df-convert');\n",
              "        buttonEl.style.display =\n",
              "          google.colab.kernel.accessAllowed ? 'block' : 'none';\n",
              "\n",
              "        async function convertToInteractive(key) {\n",
              "          const element = document.querySelector('#df-2b556223-2280-4980-a9f0-f6dc38fa6070');\n",
              "          const dataTable =\n",
              "            await google.colab.kernel.invokeFunction('convertToInteractive',\n",
              "                                                     [key], {});\n",
              "          if (!dataTable) return;\n",
              "\n",
              "          const docLinkHtml = 'Like what you see? Visit the ' +\n",
              "            '<a target=\"_blank\" href=https://colab.research.google.com/notebooks/data_table.ipynb>data table notebook</a>'\n",
              "            + ' to learn more about interactive tables.';\n",
              "          element.innerHTML = '';\n",
              "          dataTable['output_type'] = 'display_data';\n",
              "          await google.colab.output.renderOutput(dataTable, element);\n",
              "          const docLink = document.createElement('div');\n",
              "          docLink.innerHTML = docLinkHtml;\n",
              "          element.appendChild(docLink);\n",
              "        }\n",
              "      </script>\n",
              "    </div>\n",
              "  </div>\n",
              "  "
            ]
          },
          "metadata": {},
          "execution_count": 123
        }
      ]
    },
    {
      "cell_type": "code",
      "source": [
        "val_acc = result.history[\"val_accuracy\"]\n",
        "acc = result.history[\"accuracy\"]\n",
        "epochs = range(1, len(acc) + 1) \n",
        "# epochs = range (1,10)\n",
        "plt.figure(figsize = (8,5))\n",
        "plt.plot(epochs, acc, label = \"training accuracy\")\n",
        "plt.plot(epochs, val_acc, label = \"validation accuracy\")\n",
        "plt.legend( loc =\"best\") # this is to place the plot label at best position \n",
        "plt.xlabel (\"Epochs\")\n",
        "plt.ylabel(\"Accuracy\")\n",
        "plt.show() "
      ],
      "metadata": {
        "colab": {
          "base_uri": "https://localhost:8080/",
          "height": 465
        },
        "id": "T5lRM-LQ_kYE",
        "outputId": "7ac8083e-74b1-45ad-eb03-b8aa7b5ec134"
      },
      "execution_count": 127,
      "outputs": [
        {
          "output_type": "display_data",
          "data": {
            "text/plain": [
              "<Figure size 800x500 with 1 Axes>"
            ],
            "image/png": "[encoded data removed]"
          },
          "metadata": {}
        }
      ]
    },
    {
      "cell_type": "code",
      "source": [],
      "metadata": {
        "id": "RaNqFljJ_kcJ"
      },
      "execution_count": null,
      "outputs": []
    },
    {
      "cell_type": "markdown",
      "source": [
        "Conclusion \n",
        "\n",
        "Its is clear that using ANN for Multiclass Image recognition task will not improve performance on network; hence poor classification.\n",
        "\n",
        "From the graph, we can see that the maximum accuracy reached on training is about 50% while on validation the performance never showed any form of improvement as it lags \n",
        "\n",
        "So, CNN Model best preferred for this kind of task "
      ],
      "metadata": {
        "id": "8fcm9Xcv_Adf"
      }
    },
    {
      "cell_type": "markdown",
      "source": [
        "### GREAT JOB!!!"
      ],
      "metadata": {
        "id": "B3uh8R5O_WjL"
      }
    },
    {
      "cell_type": "code",
      "source": [],
      "metadata": {
        "id": "8MDyqwF9wo6K"
      },
      "execution_count": null,
      "outputs": []
    }
  ]
}