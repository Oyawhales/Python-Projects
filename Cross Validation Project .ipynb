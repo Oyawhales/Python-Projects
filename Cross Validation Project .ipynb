{
 "cells": [
  {
   "cell_type": "code",
   "execution_count": 61,
   "metadata": {},
   "outputs": [],
   "source": [
    "import pandas as pd\n",
    "import numpy as np\n",
    "import matplotlib.pyplot as plt\n",
    "import seaborn as sns\n",
    "%matplotlib inline\n",
    "#to normalize the data\n",
    "from sklearn.preprocessing import StandardScaler, MinMaxScaler\n",
    "from sklearn.preprocessing import LabelEncoder,OneHotEncoder\n",
    "from sklearn.model_selection import train_test_split\n",
    "from sklearn.tree import DecisionTreeClassifier\n",
    "from sklearn import tree\n",
    "from sklearn.metrics import confusion_matrix\n",
    "from sklearn.model_selection import cross_val_score\n",
    "from sklearn.ensemble import GradientBoostingClassifier\n",
    "\n",
    "# Removes the limit for the number of displayed columns\n",
    "pd.set_option(\"display.max_columns\", None)\n",
    "# Sets the limit for the number of displayed rows\n",
    "pd.set_option(\"display.max_rows\", 200)\n",
    "from sklearn.metrics import (precision_score,\n",
    "                           recall_score,\n",
    "                           f1_score,\n",
    "                           accuracy_score,\n",
    "                           precision_recall_curve,\n",
    "                           roc_auc_score,\n",
    "                            confusion_matrix,\n",
    "                            roc_curve, ConfusionMatrixDisplay)\n",
    "from sklearn.linear_model import LogisticRegression\n",
    "from imblearn.over_sampling import ADASYN, SMOTE, RandomOverSampler \n",
    "from imblearn.under_sampling import RandomUnderSampler "
   ]
  },
  {
   "cell_type": "code",
   "execution_count": 62,
   "metadata": {},
   "outputs": [],
   "source": [
    "# Function to evaluate \n",
    "def evaluate (model, x, y, threshold = 0.5):\n",
    "    \"\"\" function to evaluate our trained model with different metrics \n",
    "    model : Trained Model (classifier)\n",
    "    \n",
    "    x:validation features \n",
    "    y: Target in validation data \n",
    "    Threshold: Value to filter predictions \n",
    "    \"\"\"\n",
    "    \n",
    "    pred_proba = model.predict_proba(x)[:, 1] #This will return x 2 array where the 2 is column with prob for the \n",
    "    pred_class = np.round(pred_proba  > threshold ) #This converts to 0 or 1 \n",
    "    acc = accuracy_score (y, pred_class)\n",
    "    recall = recall_score(y, pred_class)\n",
    "    precision = precision_score (y, pred_class)\n",
    "    f1 = f1_score (y, pred_class)\n",
    "    \n",
    "    df = pd.DataFrame({ \"Accuracy\": acc, \n",
    "                       \"Precision\": precision, \n",
    "                       \"Recall\":recall,\n",
    "                       \"F1\" : f1}, index = [0])\n",
    "    conf = confusion_matrix(y, pred_class, labels = [0,1]) ##If the class is more than 2, then use 0, 1, 2 \n",
    "    disp = ConfusionMatrixDisplay (conf, display_labels = [0,1]) #If the class is more than 2, then use 0, 1, 2 \n",
    "    disp.plot()\n",
    "    plt.show()\n",
    "    return df "
   ]
  },
  {
   "cell_type": "code",
   "execution_count": 63,
   "metadata": {},
   "outputs": [],
   "source": [
    "# Function to train a model \n",
    "def train(model, x , y):\n",
    "    '''\n",
    "    function to train the model and compute accuracy \n",
    "    model: model algorithm not yet trained \n",
    "    x: Train features\n",
    "    y: Train Target \n",
    "    '''\n",
    "    trained_model = model.fit(x,y)\n",
    "    preds = trained_model.predict(x)\n",
    "    acc = accuracy_score(y, preds)\n",
    "    print(f\"Train Accuracy: {acc}\")\n",
    "    return trained_model "
   ]
  },
  {
   "cell_type": "code",
   "execution_count": null,
   "metadata": {},
   "outputs": [],
   "source": []
  },
  {
   "cell_type": "code",
   "execution_count": null,
   "metadata": {},
   "outputs": [],
   "source": []
  },
  {
   "cell_type": "markdown",
   "metadata": {},
   "source": [
    "## Model Evaluation and Improvement\n",
    "- Having discussed the fundamentals of supervised learning, and\n",
    "having explored a variety of machine learning algorithms, we will now dive more\n",
    "deeply into evaluating models and selecting parameters.\n",
    "\n",
    "- Here, we will expand on two aspects of this evaluation:\n",
    "    - introduce cross-validation, a more robust way to assess generalization performance than a single\n",
    "       split of the data into a training and a test set.\n",
    "    - discuss methods to evaluate classification and regression performance that go beyond the default measures of accuracy and $R^2$ provided by the score method. We will also discuss grid search, an effective method for adjusting the parameters in supervised models for the best generalization performance."
   ]
  },
  {
   "cell_type": "markdown",
   "metadata": {},
   "source": [
    "## Cross-validation\n",
    "- Cross-validation is a statistical method to evaluate generalization performance in a\n",
    "more stable and thorough way than using a split into training and test set.\n",
    "In cross-validation, instead of splitting the data set in to a training set and a test set,\n",
    "the data is split repeatedly and multiple models are trained.\n",
    "The most commonly used version of cross-validation is k-fold cross-validation, where\n",
    "k is a user specified number, usually five or ten. When performing five-fold crossvalidation, the data is first partitioned into five parts of (approximately) equal size,\n",
    "called folds."
   ]
  },
  {
   "cell_type": "code",
   "execution_count": null,
   "metadata": {},
   "outputs": [],
   "source": []
  },
  {
   "cell_type": "markdown",
   "metadata": {},
   "source": [
    "## Cross-validation Implementation in scikit-learn\n",
    "- Cross-validation is implemented in scikit-learn using the cross_val_score function\n",
    "from the model_selection module.\n",
    "The parameters of the cross_val_score function are the model we want to evaluate,\n",
    "the training data and the ground-truth labels.\n",
    "\n"
   ]
  },
  {
   "cell_type": "code",
   "execution_count": 65,
   "metadata": {},
   "outputs": [
    {
     "data": {
      "text/html": [
       "<div>\n",
       "<style scoped>\n",
       "    .dataframe tbody tr th:only-of-type {\n",
       "        vertical-align: middle;\n",
       "    }\n",
       "\n",
       "    .dataframe tbody tr th {\n",
       "        vertical-align: top;\n",
       "    }\n",
       "\n",
       "    .dataframe thead th {\n",
       "        text-align: right;\n",
       "    }\n",
       "</style>\n",
       "<table border=\"1\" class=\"dataframe\">\n",
       "  <thead>\n",
       "    <tr style=\"text-align: right;\">\n",
       "      <th></th>\n",
       "      <th>Churn</th>\n",
       "      <th>AccountWeeks</th>\n",
       "      <th>ContractRenewal</th>\n",
       "      <th>DataPlan</th>\n",
       "      <th>DataUsage</th>\n",
       "      <th>CustServCalls</th>\n",
       "      <th>DayMins</th>\n",
       "      <th>DayCalls</th>\n",
       "      <th>MonthlyCharge</th>\n",
       "      <th>OverageFee</th>\n",
       "      <th>RoamMins</th>\n",
       "    </tr>\n",
       "  </thead>\n",
       "  <tbody>\n",
       "    <tr>\n",
       "      <th>0</th>\n",
       "      <td>0</td>\n",
       "      <td>128</td>\n",
       "      <td>1</td>\n",
       "      <td>1</td>\n",
       "      <td>2.7</td>\n",
       "      <td>1</td>\n",
       "      <td>265.1</td>\n",
       "      <td>110</td>\n",
       "      <td>89.0</td>\n",
       "      <td>9.87</td>\n",
       "      <td>10.0</td>\n",
       "    </tr>\n",
       "    <tr>\n",
       "      <th>1</th>\n",
       "      <td>0</td>\n",
       "      <td>107</td>\n",
       "      <td>1</td>\n",
       "      <td>1</td>\n",
       "      <td>3.7</td>\n",
       "      <td>1</td>\n",
       "      <td>161.6</td>\n",
       "      <td>123</td>\n",
       "      <td>82.0</td>\n",
       "      <td>9.78</td>\n",
       "      <td>13.7</td>\n",
       "    </tr>\n",
       "    <tr>\n",
       "      <th>2</th>\n",
       "      <td>0</td>\n",
       "      <td>137</td>\n",
       "      <td>1</td>\n",
       "      <td>0</td>\n",
       "      <td>0.0</td>\n",
       "      <td>0</td>\n",
       "      <td>243.4</td>\n",
       "      <td>114</td>\n",
       "      <td>52.0</td>\n",
       "      <td>6.06</td>\n",
       "      <td>12.2</td>\n",
       "    </tr>\n",
       "    <tr>\n",
       "      <th>3</th>\n",
       "      <td>0</td>\n",
       "      <td>84</td>\n",
       "      <td>0</td>\n",
       "      <td>0</td>\n",
       "      <td>0.0</td>\n",
       "      <td>2</td>\n",
       "      <td>299.4</td>\n",
       "      <td>71</td>\n",
       "      <td>57.0</td>\n",
       "      <td>3.10</td>\n",
       "      <td>6.6</td>\n",
       "    </tr>\n",
       "    <tr>\n",
       "      <th>4</th>\n",
       "      <td>0</td>\n",
       "      <td>75</td>\n",
       "      <td>0</td>\n",
       "      <td>0</td>\n",
       "      <td>0.0</td>\n",
       "      <td>3</td>\n",
       "      <td>166.7</td>\n",
       "      <td>113</td>\n",
       "      <td>41.0</td>\n",
       "      <td>7.42</td>\n",
       "      <td>10.1</td>\n",
       "    </tr>\n",
       "  </tbody>\n",
       "</table>\n",
       "</div>"
      ],
      "text/plain": [
       "   Churn  AccountWeeks  ContractRenewal  DataPlan  DataUsage  CustServCalls  \\\n",
       "0      0           128                1         1        2.7              1   \n",
       "1      0           107                1         1        3.7              1   \n",
       "2      0           137                1         0        0.0              0   \n",
       "3      0            84                0         0        0.0              2   \n",
       "4      0            75                0         0        0.0              3   \n",
       "\n",
       "   DayMins  DayCalls  MonthlyCharge  OverageFee  RoamMins  \n",
       "0    265.1       110           89.0        9.87      10.0  \n",
       "1    161.6       123           82.0        9.78      13.7  \n",
       "2    243.4       114           52.0        6.06      12.2  \n",
       "3    299.4        71           57.0        3.10       6.6  \n",
       "4    166.7       113           41.0        7.42      10.1  "
      ]
     },
     "execution_count": 65,
     "metadata": {},
     "output_type": "execute_result"
    }
   ],
   "source": [
    "# path = r\"C:\\Users\\ajayi\\OneDrive\\Desktop\\Training_Recordings\\Data\\Classification_data\\telecom_churn.csv\"\n",
    "\n",
    "df = pd.read_csv('telecom_churn.csv')\n",
    "\n",
    "df.head()"
   ]
  },
  {
   "cell_type": "markdown",
   "metadata": {},
   "source": [
    "### Select features and target"
   ]
  },
  {
   "cell_type": "code",
   "execution_count": 66,
   "metadata": {},
   "outputs": [],
   "source": [
    "x = df.drop(\"Churn\", axis = 1)\n",
    "y = df[\"Churn\"]"
   ]
  },
  {
   "cell_type": "code",
   "execution_count": null,
   "metadata": {},
   "outputs": [],
   "source": []
  },
  {
   "cell_type": "markdown",
   "metadata": {},
   "source": [
    "### Implementing Cross-validation "
   ]
  },
  {
   "cell_type": "markdown",
   "metadata": {},
   "source": [
    "In cross-validation, instead of splitting the data set in to a training set and a test set, the data is split repeatedly and multiple models are trained. The most commonly used version of cross-validation is k-fold cross-validation, where k is a user specified number, usually five or ten. When performing five-fold crossvalidation, the data is first partitioned into five parts of (approximately) equal size, called folds."
   ]
  },
  {
   "cell_type": "code",
   "execution_count": 67,
   "metadata": {},
   "outputs": [],
   "source": [
    "gb = GradientBoostingClassifier(random_state = 0)\n",
    "\n",
    "# Estimation = model, x = features, y = target, scoring = performance to measure (accurate or recall or others) , n_jobs = -1 =  use all the CPU cores i have\n",
    "#cv = 5 - cross validation k-fold  \n",
    "scores = cross_val_score( gb, x , y, scoring = \"recall\", cv = 5) "
   ]
  },
  {
   "cell_type": "code",
   "execution_count": 68,
   "metadata": {},
   "outputs": [
    {
     "data": {
      "text/plain": [
       "array([0.65979381, 0.64948454, 0.65979381, 0.61458333, 0.69791667])"
      ]
     },
     "execution_count": 68,
     "metadata": {},
     "output_type": "execute_result"
    }
   ],
   "source": [
    "scores"
   ]
  },
  {
   "cell_type": "markdown",
   "metadata": {},
   "source": [
    "What it does here is that having identified ur k-fold for split in each split, it does the training and testing in background to come up with a generalization score but it doesnt save it, Thats why if  u try do a predition by using gb.predict(x), it wont give a result.\n",
    "\n",
    "Or rather, it gives a generaglisation score u wud have or score when the data is exposed to new data when some optimization by hyperparameters and other techniques have not been done or score u wud get that will prompt an optimization"
   ]
  },
  {
   "cell_type": "code",
   "execution_count": 69,
   "metadata": {},
   "outputs": [
    {
     "data": {
      "text/plain": [
       "0.6563144329896907"
      ]
     },
     "execution_count": 69,
     "metadata": {},
     "output_type": "execute_result"
    }
   ],
   "source": [
    "# Now the mean will used to determine what the genralisation score wud av been if we had splitted \n",
    "np.mean(scores)"
   ]
  },
  {
   "cell_type": "markdown",
   "metadata": {},
   "source": [
    "On new data, it will be give a perfromace score opf 65% recall. "
   ]
  },
  {
   "cell_type": "code",
   "execution_count": null,
   "metadata": {},
   "outputs": [],
   "source": []
  },
  {
   "cell_type": "markdown",
   "metadata": {},
   "source": [
    "### Split the dataset into training, validation and test data"
   ]
  },
  {
   "cell_type": "code",
   "execution_count": 70,
   "metadata": {},
   "outputs": [],
   "source": [
    "# Here the data x and y is splitted into validation and test 1.e test size is 20%\n",
    "x_train_val, x_test, y_train_val, y_test = train_test_split(x,y, test_size = 0.2, random_state = 0, stratify = y) \n",
    "\n",
    "# Now split the validation sets into validation and train, now split the 80% into\n",
    "x_train, x_val, y_train, y_val = train_test_split(x_train_val,y_train_val, \n",
    "                                                  test_size = 0.2, random_state = 0, \n",
    "                                                  stratify = y_train_val ) "
   ]
  },
  {
   "cell_type": "code",
   "execution_count": 71,
   "metadata": {},
   "outputs": [
    {
     "name": "stdout",
     "output_type": "stream",
     "text": [
      "Train Accuracy: 0.9568480300187617\n"
     ]
    }
   ],
   "source": [
    "gb_model = train(gb, x_train, y_train)"
   ]
  },
  {
   "cell_type": "code",
   "execution_count": 72,
   "metadata": {},
   "outputs": [
    {
     "data": {
      "image/png": "[encoded data removed]",
      "text/plain": [
       "<Figure size 432x288 with 2 Axes>"
      ]
     },
     "metadata": {
      "needs_background": "light"
     },
     "output_type": "display_data"
    },
    {
     "data": {
      "text/html": [
       "<div>\n",
       "<style scoped>\n",
       "    .dataframe tbody tr th:only-of-type {\n",
       "        vertical-align: middle;\n",
       "    }\n",
       "\n",
       "    .dataframe tbody tr th {\n",
       "        vertical-align: top;\n",
       "    }\n",
       "\n",
       "    .dataframe thead th {\n",
       "        text-align: right;\n",
       "    }\n",
       "</style>\n",
       "<table border=\"1\" class=\"dataframe\">\n",
       "  <thead>\n",
       "    <tr style=\"text-align: right;\">\n",
       "      <th></th>\n",
       "      <th>Accuracy</th>\n",
       "      <th>Precision</th>\n",
       "      <th>Recall</th>\n",
       "      <th>F1</th>\n",
       "    </tr>\n",
       "  </thead>\n",
       "  <tbody>\n",
       "    <tr>\n",
       "      <th>0</th>\n",
       "      <td>0.921348</td>\n",
       "      <td>0.807018</td>\n",
       "      <td>0.597403</td>\n",
       "      <td>0.686567</td>\n",
       "    </tr>\n",
       "  </tbody>\n",
       "</table>\n",
       "</div>"
      ],
      "text/plain": [
       "   Accuracy  Precision    Recall        F1\n",
       "0  0.921348   0.807018  0.597403  0.686567"
      ]
     },
     "execution_count": 72,
     "metadata": {},
     "output_type": "execute_result"
    }
   ],
   "source": [
    "evaluate(gb_model, x_val, y_val )"
   ]
  },
  {
   "cell_type": "markdown",
   "metadata": {},
   "source": [
    "Deduction \n",
    "\n",
    "Having used the cross validation, we got an average score of 69% recall; but when passed thru modelling, score remained almost 60% which had been earlier proved thru CV that some hyper parameter tunning will be required  "
   ]
  },
  {
   "cell_type": "code",
   "execution_count": null,
   "metadata": {},
   "outputs": [],
   "source": []
  },
  {
   "cell_type": "markdown",
   "metadata": {},
   "source": [
    "### Balance the dataset"
   ]
  },
  {
   "cell_type": "code",
   "execution_count": 73,
   "metadata": {},
   "outputs": [],
   "source": [
    "# from imblearn.over_sampling import SMOTE\n",
    "# smote = SMOTE(random_state = 0)\n",
    "# X_sm, y_sm = smote.fit_resample(X, y)"
   ]
  },
  {
   "cell_type": "code",
   "execution_count": 74,
   "metadata": {},
   "outputs": [],
   "source": [
    "# x_train, x_test, y_train, y_test = train_test_split(X_sm, y_sm, test_size = 0.2, random_state = 0, stratify = y_sm)"
   ]
  },
  {
   "cell_type": "code",
   "execution_count": null,
   "metadata": {},
   "outputs": [],
   "source": []
  },
  {
   "cell_type": "markdown",
   "metadata": {},
   "source": [
    "### Important note\n",
    "- It is important to keep in mind that cross-validation is not a way to build a\n",
    "model that can be applied to new data. Cross-validation does not return a model.\n",
    "When calling cross_val_score, multiple models are build internally, but the purpose\n",
    "of cross-validation is only to evaluate how well a given algorithm will generalize when\n",
    "trained on a specific dataset. "
   ]
  },
  {
   "cell_type": "markdown",
   "metadata": {},
   "source": [
    "## Stratified K-Fold Cross-validation\n",
    "- Splitting the dataset into k-folds by starting with the first 1/k-th part of the data as\n",
    "described above might not always be a good idea.\n",
    "\n",
    "\n",
    "-  In stratified cross-validation, we split\n",
    "the data such that the proportions between classes are the same in each fold as they\n",
    "are in the whole dataset, as illustrated in the Figure below:\n",
    "\n",
    "Hint:\n",
    "\n",
    "Say in the opriginal Data, the ratio of the classes are in the 10:90, so what it does for each k-fold split is that, the same ratio of 10:90 will also be maintained in the split "
   ]
  },
  {
   "cell_type": "code",
   "execution_count": 75,
   "metadata": {},
   "outputs": [],
   "source": [
    "# mglearn.plots.plot_stratified_cross_validation()"
   ]
  },
  {
   "cell_type": "markdown",
   "metadata": {},
   "source": [
    "### Implementing the standard KFold cross-validation in scikit-learn\n",
    "- By default, scikit-learn uses the standard kfold for regression problems, and stratified kfold for classification problems.\n",
    "However, we can still initiate the standard kfold for classification problems, even though it is bad idea.\n"
   ]
  },
  {
   "cell_type": "code",
   "execution_count": 76,
   "metadata": {},
   "outputs": [
    {
     "name": "stdout",
     "output_type": "stream",
     "text": [
      "KFold scores: [0.68181818 0.63157895 0.67       0.65384615 0.67708333]\n"
     ]
    }
   ],
   "source": [
    "from sklearn.model_selection import KFold\n",
    "\n",
    "# instantiate it\n",
    "kfold = KFold(n_splits=5, shuffle = True) #by default scikit implements kfold for regerssion, so set shuffl\n",
    "\n",
    "# create an instance of the Gradient Boosting model\n",
    "gb1 = GradientBoostingClassifier(random_state=0)\n",
    "\n",
    "# assign the kfold splitter to the cv parameter in the cross_val_score; by default sklearn uses stratify; here use cv = k-fold\n",
    "# meaning dont work as stratify but as the usual statndard way ; but also in the standard way, its a regression problem solving by dault \n",
    "#where the shuffle is false; so since we are solving on classification, use shuffle - meaning shuffle the classes \n",
    "# Also if i dont specify the k-fold,scikit learn will use stratify by default; so becos i want the standard approach i ill create \n",
    "# an instance of k-fold from scikit learn \n",
    "scores1= cross_val_score(gb1, x, y, cv = kfold, scoring = \"recall\")\n",
    "\n",
    "print(\"KFold scores: {}\".format(scores1))"
   ]
  },
  {
   "cell_type": "markdown",
   "metadata": {},
   "source": [
    "## Leave-One-Out cross-validation\n",
    "- Another frequently used cross-validation method is leave-one-out. You can think of\n",
    "leave-one-out cross-validation as k-fold cross-validation where each fold is a single\n",
    "sample. For each split, you pick a single data point to be the test set. This can be very\n",
    "time-consuming, in particular for large datasets, but sometimes provides better estimates on small datasets."
   ]
  },
  {
   "cell_type": "code",
   "execution_count": 77,
   "metadata": {},
   "outputs": [],
   "source": [
    "# from sklearn.model_selection import LeaveOneOut\n",
    "\n",
    "# loo = LeaveOneOut()\n",
    "\n",
    "# # assign the loo splitter to the cross_val_score\n",
    "# scores = cross_val_score(gb, x_train, y_train, cv = loo, scoring = \"recall\")\n",
    "\n",
    "# print(\"Number of iterations: {}\".format(len(scores)))\n",
    "# print(\"Leave-One-Out mean score: {}\".format(scores.mean()))"
   ]
  },
  {
   "cell_type": "markdown",
   "metadata": {},
   "source": [
    "## Hyperparameter Tuning\n",
    "- Here, we discuss how to improve the model's generalization performance by tuning its parameters. The two most common methods \n",
    "are:\n",
    "    - **Grid search**\n",
    "    - **Randomized search**\n",
    "\n",
    "    \n",
    "### Grid Search\n",
    "- This means trying all possible combinations of the parameters of interest. Consider the case Gradient Boosting. As we discussed in the last class, there are two important parameters: the max_depth and learning_rate. Say we want to try values 0.001, 0.01, 0.1, 1 and 10 for the parameter learning_rate, and 1 through 4 for max_depth. Because we have five different settings for learning_rate and 4 for max_depth that we want to try, we have 20 combinations of parameters in total."
   ]
  },
  {
   "cell_type": "markdown",
   "metadata": {},
   "source": [
    "### Simple Grid Search\n",
    "- We can implement a simple grid-search just as for-loops over the two parameters,\n",
    "training and evaluating a classifier for each combination:"
   ]
  },
  {
   "cell_type": "markdown",
   "metadata": {},
   "source": [
    "## Manual grid search"
   ]
  },
  {
   "cell_type": "markdown",
   "metadata": {},
   "source": [
    "This infers what works underground for the workings of the hyperparameter tunning mechnaism or method  "
   ]
  },
  {
   "cell_type": "code",
   "execution_count": 78,
   "metadata": {},
   "outputs": [
    {
     "name": "stdout",
     "output_type": "stream",
     "text": [
      "Best score: 0.9213483146067416\n",
      "Best parameters: {'Learning_rate': 0.1, 'Max_depth': 3}\n"
     ]
    }
   ],
   "source": [
    "# loop through the combination values of both parameters\n",
    "best_score = 0\n",
    "for lr in [0.001, 0.01, 0.1, 1, 10]:\n",
    "    for md in range(1, 5):\n",
    "        gb = GradientBoostingClassifier(random_state=0, learning_rate=lr, max_depth=md)\n",
    "        gb.fit(x_train, y_train)\n",
    "        score = gb.score(x_val, y_val)\n",
    "        \n",
    "        if score > best_score:\n",
    "            best_score = score\n",
    "            best_parameters = {'Learning_rate': lr, 'Max_depth': md}\n",
    "\n",
    "print(\"Best score: {}\".format(best_score))\n",
    "print(\"Best parameters: {}\".format(best_parameters))"
   ]
  },
  {
   "cell_type": "markdown",
   "metadata": {},
   "source": [
    "## The dangers of overfitting the parameters and the validation set\n",
    "- The accuracy we got above may be overly optimistic and not reflect the actually performance on new data because,\n",
    "we used the test set to select the parameter values.\n",
    "\n",
    "\n",
    "- In reality, it is best to split our data into training, validation, and test sets, so that we use the training to\n",
    "build the model, select the parameters with the validation set, and evaluate the model with the selected parameters with\n",
    "the test set."
   ]
  },
  {
   "cell_type": "code",
   "execution_count": 79,
   "metadata": {},
   "outputs": [],
   "source": [
    "# mglearn.plots.plot_threefold_split()"
   ]
  },
  {
   "cell_type": "markdown",
   "metadata": {},
   "source": [
    "## Implementing Grid Search in scikit-learn\n",
    "- To use the GridSearchCV class, you first need to specify the\n",
    "parameters you want to search over using a dictionary. GridSearchCV will then perform \n",
    "all the necessary model fits. The keys of the dictionary are the names of parameters \n",
    "we want to adjust (as given when constructing the model), in this case C and\n",
    "gamma, and the values are the parameter settings we want to try out."
   ]
  },
  {
   "cell_type": "code",
   "execution_count": 89,
   "metadata": {},
   "outputs": [
    {
     "data": {
      "text/plain": [
       "GridSearchCV(cv=5, estimator=GradientBoostingClassifier(random_state=0),\n",
       "             n_jobs=-1,\n",
       "             param_grid={'learning_rate': [0.001, 0.01, 0.1, 1, 10],\n",
       "                         'max_depth': [1, 2, 3, 4]},\n",
       "             scoring='recall')"
      ]
     },
     "execution_count": 89,
     "metadata": {},
     "output_type": "execute_result"
    }
   ],
   "source": [
    "# import the grid search model and the estimator\n",
    "from sklearn.model_selection import GridSearchCV, RandomizedSearchCV #whether gridsearch or Randomized, the parameter below is key\n",
    "#it can be para_grid for gridsearch or para_rand for randomizedsearch  \n",
    "\n",
    "# set the parameters to tune; if u wud add penalty, the create its own in list - 'Penalty': [\"l1\", \"l2\"]\n",
    "param_grid = {'learning_rate': [0.001, 0.01, 0.1, 1, 10],\n",
    "             'max_depth': [1, 2, 3, 4]} # here u created a distionary so,it is seen as a list, so u dont need pass an asterick \n",
    "# Unlike it been created as an output, then an asterik will be needed or u put each value in the dict as an individual entity into the instantiated class or object  \n",
    "# instantiate the models\n",
    "gb = GradientBoostingClassifier(random_state=0)\n",
    "#gridsearch is just being used to get the best parameter for the Gradientbooting that will give the best sets of combinations for a better perfromance score \n",
    "# Having gotten the score, we will go back to the model to be deployed and we tryout those generated parameters \n",
    "grid = GridSearchCV(gb, param_grid, cv = 5, n_jobs = -1, scoring = \"recall\")\n",
    "\n",
    "\n",
    "# fit the grid search model on the training set\n",
    "grid.fit(x_train, y_train)"
   ]
  },
  {
   "cell_type": "code",
   "execution_count": 85,
   "metadata": {},
   "outputs": [
    {
     "data": {
      "text/plain": [
       "{'learning_rate': 10, 'max_depth': 2}"
      ]
     },
     "execution_count": 85,
     "metadata": {},
     "output_type": "execute_result"
    }
   ],
   "source": [
    "best_params = grid.best_params_ #having trained, this is your best parameter which will also be best for testing \n",
    "best_params"
   ]
  },
  {
   "cell_type": "code",
   "execution_count": 86,
   "metadata": {},
   "outputs": [
    {
     "data": {
      "text/plain": [
       "0.8153886832363829"
      ]
     },
     "execution_count": 86,
     "metadata": {},
     "output_type": "execute_result"
    }
   ],
   "source": [
    "grid.best_score_ #This is your training score on recall "
   ]
  },
  {
   "cell_type": "code",
   "execution_count": 87,
   "metadata": {},
   "outputs": [],
   "source": [
    "# Now rebuild model based on this gotten hyper parameters  "
   ]
  },
  {
   "cell_type": "code",
   "execution_count": 90,
   "metadata": {},
   "outputs": [
    {
     "data": {
      "text/plain": [
       "GradientBoostingClassifier(learning_rate=10, max_depth=2, random_state=0)"
      ]
     },
     "execution_count": 90,
     "metadata": {},
     "output_type": "execute_result"
    }
   ],
   "source": [
    "# gb_imp = GradientBoostingClassifier(**best_params, random_state = 0) #what that ** does is to let the best_params make use of the dictionary\n",
    "# as best params is a dictionary or better still, impute the parameters manually \n",
    "\n",
    "# gb_imp = GradientBoostingClassifier( learning_rate = 10, max_depth = 2, random_state = 0)\n",
    "gb_imp = GradientBoostingClassifier( **best_params, random_state = 0) #From top u will see that result came as a dictionary unlike u creating one, so it can av the **\n",
    "# gb_imp = GradientBoostingClassifier(**best_params, random_state = 0) - here best param in disctionary \n",
    "\n",
    "gb_imp.fit(x_train, y_train)"
   ]
  },
  {
   "cell_type": "code",
   "execution_count": 57,
   "metadata": {},
   "outputs": [
    {
     "name": "stdout",
     "output_type": "stream",
     "text": [
      "Train Accuracy: 0.14915572232645402\n"
     ]
    }
   ],
   "source": [
    "# Lets make use of our training and evaluating function; our training will return a training \n",
    "\n",
    "gb_imp_model = train( gb_imp, x_train, y_train) #care less about the training accuracy as we declared score performance during grid serach for perfromance on the recall "
   ]
  },
  {
   "cell_type": "code",
   "execution_count": 58,
   "metadata": {},
   "outputs": [
    {
     "name": "stdout",
     "output_type": "stream",
     "text": [
      "Train Accuracy: 0.14915572232645402\n"
     ]
    },
    {
     "data": {
      "image/png": "[encoded data removed]",
      "text/plain": [
       "<Figure size 432x288 with 2 Axes>"
      ]
     },
     "metadata": {
      "needs_background": "light"
     },
     "output_type": "display_data"
    },
    {
     "data": {
      "text/html": [
       "<div>\n",
       "<style scoped>\n",
       "    .dataframe tbody tr th:only-of-type {\n",
       "        vertical-align: middle;\n",
       "    }\n",
       "\n",
       "    .dataframe tbody tr th {\n",
       "        vertical-align: top;\n",
       "    }\n",
       "\n",
       "    .dataframe thead th {\n",
       "        text-align: right;\n",
       "    }\n",
       "</style>\n",
       "<table border=\"1\" class=\"dataframe\">\n",
       "  <thead>\n",
       "    <tr style=\"text-align: right;\">\n",
       "      <th></th>\n",
       "      <th>Accuracy</th>\n",
       "      <th>Precision</th>\n",
       "      <th>Recall</th>\n",
       "      <th>F1</th>\n",
       "    </tr>\n",
       "  </thead>\n",
       "  <tbody>\n",
       "    <tr>\n",
       "      <th>0</th>\n",
       "      <td>0.129213</td>\n",
       "      <td>0.099174</td>\n",
       "      <td>0.623377</td>\n",
       "      <td>0.171123</td>\n",
       "    </tr>\n",
       "  </tbody>\n",
       "</table>\n",
       "</div>"
      ],
      "text/plain": [
       "   Accuracy  Precision    Recall        F1\n",
       "0  0.129213   0.099174  0.623377  0.171123"
      ]
     },
     "execution_count": 58,
     "metadata": {},
     "output_type": "execute_result"
    }
   ],
   "source": [
    "gb_imp_model = train( gb_imp, x_train, y_train)\n",
    "gb_imp_df = evaluate(gb_imp, x_val, y_val)\n",
    "gb_imp_df "
   ]
  },
  {
   "cell_type": "markdown",
   "metadata": {},
   "source": [
    "Because ourfocus was on the recall based on perfromance setup; we were able to get that recall score  "
   ]
  },
  {
   "cell_type": "code",
   "execution_count": null,
   "metadata": {},
   "outputs": [],
   "source": []
  },
  {
   "cell_type": "markdown",
   "metadata": {},
   "source": [
    "### Randomized search "
   ]
  },
  {
   "cell_type": "code",
   "execution_count": 27,
   "metadata": {},
   "outputs": [
    {
     "data": {
      "text/plain": [
       "RandomizedSearchCV(cv=5, estimator=GradientBoostingClassifier(random_state=0),\n",
       "                   n_jobs=-1,\n",
       "                   param_distributions={'learning_rate': [0.001, 0.01, 0.1, 1,\n",
       "                                                          10],\n",
       "                                        'max_depth': [1, 2, 3, 4]},\n",
       "                   scoring='recall')"
      ]
     },
     "execution_count": 27,
     "metadata": {},
     "output_type": "execute_result"
    }
   ],
   "source": [
    "# set the parameters to tune; if u wud add penalty, the create its own in list - 'Penalty': [\"l1\", \"l2\"]\n",
    "param_grid = {'learning_rate': [0.001, 0.01, 0.1, 1, 10],\n",
    "             'max_depth': [1, 2, 3, 4]}\n",
    "\n",
    "# instantiate the models\n",
    "gb = GradientBoostingClassifier(random_state=0)\n",
    "grid = RandomizedSearchCV(gb, param_grid, cv = 5, n_jobs = -1, scoring = \"recall\")\n",
    "\n",
    "\n",
    "# fit the grid search model on the training set\n",
    "grid.fit(x_train, y_train)"
   ]
  },
  {
   "cell_type": "code",
   "execution_count": 28,
   "metadata": {},
   "outputs": [
    {
     "data": {
      "text/plain": [
       "{'max_depth': 2, 'learning_rate': 10}"
      ]
     },
     "execution_count": 28,
     "metadata": {},
     "output_type": "execute_result"
    }
   ],
   "source": [
    "best_params = grid.best_params_ \n",
    "best_params"
   ]
  },
  {
   "cell_type": "code",
   "execution_count": 29,
   "metadata": {},
   "outputs": [
    {
     "data": {
      "text/plain": [
       "0.8153886832363829"
      ]
     },
     "execution_count": 29,
     "metadata": {},
     "output_type": "execute_result"
    }
   ],
   "source": [
    "best_score = grid.best_score_\n",
    "best_score"
   ]
  },
  {
   "cell_type": "code",
   "execution_count": 30,
   "metadata": {},
   "outputs": [
    {
     "name": "stdout",
     "output_type": "stream",
     "text": [
      "Train Accuracy: 0.14915572232645402\n"
     ]
    },
    {
     "data": {
      "image/png": "[encoded data removed]",
      "text/plain": [
       "<Figure size 432x288 with 2 Axes>"
      ]
     },
     "metadata": {
      "needs_background": "light"
     },
     "output_type": "display_data"
    },
    {
     "data": {
      "text/html": [
       "<div>\n",
       "<style scoped>\n",
       "    .dataframe tbody tr th:only-of-type {\n",
       "        vertical-align: middle;\n",
       "    }\n",
       "\n",
       "    .dataframe tbody tr th {\n",
       "        vertical-align: top;\n",
       "    }\n",
       "\n",
       "    .dataframe thead th {\n",
       "        text-align: right;\n",
       "    }\n",
       "</style>\n",
       "<table border=\"1\" class=\"dataframe\">\n",
       "  <thead>\n",
       "    <tr style=\"text-align: right;\">\n",
       "      <th></th>\n",
       "      <th>Accuracy</th>\n",
       "      <th>Precision</th>\n",
       "      <th>Recall</th>\n",
       "      <th>F1</th>\n",
       "    </tr>\n",
       "  </thead>\n",
       "  <tbody>\n",
       "    <tr>\n",
       "      <th>0</th>\n",
       "      <td>0.129213</td>\n",
       "      <td>0.099174</td>\n",
       "      <td>0.623377</td>\n",
       "      <td>0.171123</td>\n",
       "    </tr>\n",
       "  </tbody>\n",
       "</table>\n",
       "</div>"
      ],
      "text/plain": [
       "   Accuracy  Precision    Recall        F1\n",
       "0  0.129213   0.099174  0.623377  0.171123"
      ]
     },
     "execution_count": 30,
     "metadata": {},
     "output_type": "execute_result"
    }
   ],
   "source": [
    "# Now Rebuild Model \n",
    "gb_imp_model = train( gb_imp, x_train, y_train)\n",
    "gb_imp_df = evaluate(gb_imp, x_val, y_val)\n",
    "gb_imp_df "
   ]
  },
  {
   "cell_type": "code",
   "execution_count": 31,
   "metadata": {},
   "outputs": [
    {
     "name": "stdout",
     "output_type": "stream",
     "text": [
      "Requirement already satisfied: hyperopt in c:\\users\\mr olawale\\anaconda3\\lib\\site-packages (0.2.7)\n",
      "Requirement already satisfied: networkx>=2.2 in c:\\users\\mr olawale\\anaconda3\\lib\\site-packages (from hyperopt) (2.7.1)\n",
      "Requirement already satisfied: py4j in c:\\users\\mr olawale\\anaconda3\\lib\\site-packages (from hyperopt) (0.10.9.7)\n",
      "Requirement already satisfied: numpy in c:\\users\\mr olawale\\anaconda3\\lib\\site-packages (from hyperopt) (1.21.5)\n",
      "Requirement already satisfied: future in c:\\users\\mr olawale\\anaconda3\\lib\\site-packages (from hyperopt) (0.18.2)\n",
      "Requirement already satisfied: cloudpickle in c:\\users\\mr olawale\\anaconda3\\lib\\site-packages (from hyperopt) (2.0.0)\n",
      "Requirement already satisfied: tqdm in c:\\users\\mr olawale\\anaconda3\\lib\\site-packages (from hyperopt) (4.64.0)\n",
      "Requirement already satisfied: scipy in c:\\users\\mr olawale\\anaconda3\\lib\\site-packages (from hyperopt) (1.7.3)\n",
      "Requirement already satisfied: six in c:\\users\\mr olawale\\anaconda3\\lib\\site-packages (from hyperopt) (1.16.0)\n",
      "Requirement already satisfied: colorama in c:\\users\\mr olawale\\anaconda3\\lib\\site-packages (from tqdm->hyperopt) (0.4.4)\n",
      "Note: you may need to restart the kernel to use updated packages.\n"
     ]
    }
   ],
   "source": [
    "pip install hyperopt"
   ]
  },
  {
   "cell_type": "code",
   "execution_count": null,
   "metadata": {},
   "outputs": [],
   "source": []
  },
  {
   "cell_type": "markdown",
   "metadata": {},
   "source": [
    "## TUNNING A SINGLE HYPERPARAMTER \n",
    "\n",
    "In a single hyper-parameter tunning, we care only about the number of trees or No of estimators whereas for the multiple tunning, we care about the search space as the major argument - The search space itself consists of many hyper paramters to give best optimization  "
   ]
  },
  {
   "cell_type": "code",
   "execution_count": 32,
   "metadata": {},
   "outputs": [],
   "source": [
    "from hyperopt import fmin, hp, tpe, Trials, space_eval, STATUS_OK \n",
    "from sklearn.ensemble import RandomForestClassifier, GradientBoostingClassifier "
   ]
  },
  {
   "cell_type": "markdown",
   "metadata": {},
   "source": [
    "### Define Objective function "
   ]
  },
  {
   "cell_type": "code",
   "execution_count": 33,
   "metadata": {},
   "outputs": [],
   "source": [
    "# Define the fuction we want to minimize \n",
    "def objective (n_estimators): #Objective fxtn is a function to minimize loss with parameter as the no of estimator - for a random forest it is the no of tree to use for best optimization \n",
    "    model = RandomForestClassifier( n_estimators = n_estimators, random_state = 0)\n",
    "    model.fit(x_train, y_train)\n",
    "    y_pred = model.predict(x_val)\n",
    "    fn = np.sum(np.logical_and(y_val == 1, y_pred ==0)) #depending on the perfromance measure for ur loss whether false negative or from 1-accuracy score \n",
    "    #acc = accuracy_score(y_pred, y_val)\n",
    "    #loss = 1 - acc\n",
    "    return{'loss': fn , 'status': STATUS_OK} #Status here is the status of the experiment. \n",
    "                "
   ]
  },
  {
   "cell_type": "code",
   "execution_count": 34,
   "metadata": {},
   "outputs": [],
   "source": [
    "# define a value to search over for n_estimator \n",
    "search_space = hp.randint('n_estimators', 200, 1000 )  #take algorithm within a range btw 200 and 1000; hp is like numpy  "
   ]
  },
  {
   "cell_type": "code",
   "execution_count": 35,
   "metadata": {},
   "outputs": [],
   "source": [
    "# Set hyperparameter tunning algorithm  \n",
    "algorithm = tpe.suggest #Suggest algorith for me "
   ]
  },
  {
   "cell_type": "code",
   "execution_count": 36,
   "metadata": {},
   "outputs": [],
   "source": [
    "# Define a value to search over for n_estimator; meaning within this range, give a value for n_estimator \n",
    "search_space = hp.randint('n_estimators', 100, 2000)"
   ]
  },
  {
   "cell_type": "code",
   "execution_count": 37,
   "metadata": {},
   "outputs": [
    {
     "name": "stdout",
     "output_type": "stream",
     "text": [
      "100%|██████████| 30/30 [01:49<00:00,  3.66s/trial, best loss: 29.0]\n"
     ]
    }
   ],
   "source": [
    "best_params =fmin(fn = objective, space = search_space, algo = algorithm, max_evals = 30 )\n",
    "# Max eval is the number of evaluation is the number of trials  as seen in below result after the percentage is the max evaluation "
   ]
  },
  {
   "cell_type": "code",
   "execution_count": 38,
   "metadata": {},
   "outputs": [
    {
     "data": {
      "text/plain": [
       "{'n_estimators': 975}"
      ]
     },
     "execution_count": 38,
     "metadata": {},
     "output_type": "execute_result"
    }
   ],
   "source": [
    "best_params # this can come as argument into the algorith as a dictionary using **best_params or as an entity 'n_estimator' = 890"
   ]
  },
  {
   "cell_type": "code",
   "execution_count": 39,
   "metadata": {},
   "outputs": [],
   "source": [
    "# Now rebuild model with the best parameters \n",
    "#rf = RandomForestClassifier(**best_params, random_state = 0, n_jobs = -1, class_weight = {0:0.1, 1:0.9})\n",
    "rf = RandomForestClassifier( n_estimators= 890, random_state = 0, n_jobs = -1, class_weight = {0:0.1, 1:0.9})"
   ]
  },
  {
   "cell_type": "code",
   "execution_count": 40,
   "metadata": {},
   "outputs": [
    {
     "name": "stdout",
     "output_type": "stream",
     "text": [
      "Train Accuracy: 1.0\n"
     ]
    }
   ],
   "source": [
    "rf_model = train(rf, x_train, y_train) #This is overfitting - ns "
   ]
  },
  {
   "cell_type": "code",
   "execution_count": 41,
   "metadata": {},
   "outputs": [
    {
     "data": {
      "image/png": "[encoded data removed]",
      "text/plain": [
       "<Figure size 432x288 with 2 Axes>"
      ]
     },
     "metadata": {
      "needs_background": "light"
     },
     "output_type": "display_data"
    },
    {
     "data": {
      "text/html": [
       "<div>\n",
       "<style scoped>\n",
       "    .dataframe tbody tr th:only-of-type {\n",
       "        vertical-align: middle;\n",
       "    }\n",
       "\n",
       "    .dataframe tbody tr th {\n",
       "        vertical-align: top;\n",
       "    }\n",
       "\n",
       "    .dataframe thead th {\n",
       "        text-align: right;\n",
       "    }\n",
       "</style>\n",
       "<table border=\"1\" class=\"dataframe\">\n",
       "  <thead>\n",
       "    <tr style=\"text-align: right;\">\n",
       "      <th></th>\n",
       "      <th>Accuracy</th>\n",
       "      <th>Precision</th>\n",
       "      <th>Recall</th>\n",
       "      <th>F1</th>\n",
       "    </tr>\n",
       "  </thead>\n",
       "  <tbody>\n",
       "    <tr>\n",
       "      <th>0</th>\n",
       "      <td>0.923221</td>\n",
       "      <td>0.86</td>\n",
       "      <td>0.558442</td>\n",
       "      <td>0.677165</td>\n",
       "    </tr>\n",
       "  </tbody>\n",
       "</table>\n",
       "</div>"
      ],
      "text/plain": [
       "   Accuracy  Precision    Recall        F1\n",
       "0  0.923221       0.86  0.558442  0.677165"
      ]
     },
     "execution_count": 41,
     "metadata": {},
     "output_type": "execute_result"
    }
   ],
   "source": [
    "evaluate(rf_model, x_val, y_val)"
   ]
  },
  {
   "cell_type": "markdown",
   "metadata": {},
   "source": [
    "Deduction \n",
    "\n",
    "Did u notice the recall is still low despite having the best combination of parameeters,this is because we have got an imbalance data; unlike covenmtional approach where we tend to balance the Data using stratify during split, which then optimization from Data using the SMOTE, Undersampling and oversampling techniquye  "
   ]
  },
  {
   "cell_type": "code",
   "execution_count": null,
   "metadata": {},
   "outputs": [],
   "source": []
  },
  {
   "cell_type": "markdown",
   "metadata": {},
   "source": [
    "## TUNNING WITH MULTIPLE HYPERPARAMTERS "
   ]
  },
  {
   "cell_type": "code",
   "execution_count": 42,
   "metadata": {},
   "outputs": [],
   "source": [
    "# Define the fuction we want to minimize \n",
    "def objective (search_space): #Objective fxtn is a function to minimize loss with parameter as the no of estimator. for a random forest it is the no of tree to use for best optimization \n",
    "    model = RandomForestClassifier( **search_space, random_state = 0)\n",
    "    model.fit(x_train, y_train)\n",
    "    y_pred = model.predict(x_val)\n",
    "    fn = np.sum(np.logical_and(y_val == 1, y_pred ==0)) #depending on the perfromance measure for ur loss whether false negative or from 1-accuracy score or simply wat u want to monitor  \n",
    "    #The fn part is just like the truth table, saying for everywhere it it is actually 1 but predict 0, sum it up and return the sum which the will be used as accuracy evavluation \n",
    "    #acc = accuracy_score(y_pred, vy_val)\n",
    "    #loss = 1 - acc\n",
    "    return{'loss': fn , 'status': STATUS_OK} #Status here is the status of the experiment. "
   ]
  },
  {
   "cell_type": "code",
   "execution_count": 43,
   "metadata": {},
   "outputs": [],
   "source": [
    "# New search space \n",
    "search_space = { 'n_estimators': hp.randint('n_estimators', 100, 2000),\n",
    "                'max_depth':  hp.randint('max_depth',3,7), 'min_samples_split': hp.uniform('min_samples_split',0, 1 ),\n",
    "               'min_samples_leaf': hp.randint('min_samples_leaf',1, 10 ),\n",
    "               'criterion': hp.choice('criterion', ['gini', 'entropy']),\n",
    "               'max_features':hp.choice('max_features', ['sqrt', 'log2'])}"
   ]
  },
  {
   "cell_type": "markdown",
   "metadata": {},
   "source": [
    "## Note \n",
    "Always note that the minimum sample split must either be declared as 0, 1 meaning it will take the percentage of total no of features\n",
    "in percentage wise \n",
    "Else, assign value between 2 and infinity meaning it will take values between 2 as min or any value higher than 2 as the exact no of features of to be taken as the min sample split\n",
    "\n",
    "The split is the decisions from a single feature that contributes more from the gini or entropy, then the min sample leaf is the node under each min leaf \n",
    "\n",
    "And the feature is the number of features that gave root to the tree for decision "
   ]
  },
  {
   "cell_type": "code",
   "execution_count": 44,
   "metadata": {},
   "outputs": [
    {
     "name": "stdout",
     "output_type": "stream",
     "text": [
      "100%|██████████| 30/30 [01:00<00:00,  2.02s/trial, best loss: 40.0]\n"
     ]
    }
   ],
   "source": [
    "# Implement Hyperopt\n",
    "best_params = fmin(fn = objective, space = search_space, algo = algorithm, max_evals = 30 )\n",
    "\n"
   ]
  },
  {
   "cell_type": "code",
   "execution_count": 45,
   "metadata": {},
   "outputs": [
    {
     "data": {
      "text/plain": [
       "{'criterion': 1,\n",
       " 'max_depth': 5,\n",
       " 'max_features': 1,\n",
       " 'min_samples_leaf': 6,\n",
       " 'min_samples_split': 0.0004816144896713122,\n",
       " 'n_estimators': 307}"
      ]
     },
     "execution_count": 45,
     "metadata": {},
     "output_type": "execute_result"
    }
   ],
   "source": [
    "best_params"
   ]
  },
  {
   "cell_type": "code",
   "execution_count": 46,
   "metadata": {},
   "outputs": [
    {
     "data": {
      "text/plain": [
       "{'criterion': 'entropy',\n",
       " 'max_depth': 5,\n",
       " 'max_features': 'log2',\n",
       " 'min_samples_leaf': 6,\n",
       " 'min_samples_split': 0.0004816144896713122,\n",
       " 'n_estimators': 307}"
      ]
     },
     "execution_count": 46,
     "metadata": {},
     "output_type": "execute_result"
    }
   ],
   "source": [
    "# New Params \n",
    "new_params = space_eval(search_space, best_params )\n",
    "new_params "
   ]
  },
  {
   "cell_type": "markdown",
   "metadata": {},
   "source": [
    "Deduction \n",
    "\n",
    "The best_params will give the index while the space_eval return the exact value correspoding to that position... Like gini is p[osition 0 in best_params  "
   ]
  },
  {
   "cell_type": "code",
   "execution_count": 94,
   "metadata": {},
   "outputs": [
    {
     "name": "stdout",
     "output_type": "stream",
     "text": [
      "Train Accuracy: 0.8949343339587242\n"
     ]
    }
   ],
   "source": [
    "rf2 = RandomForestClassifier(**new_params, random_state = 0, n_jobs = -1, class_weight = {0:0.1, 1:0.9} )\n",
    "rf_model2 = train(rf2, x_train, y_train)\n",
    "        "
   ]
  },
  {
   "cell_type": "code",
   "execution_count": 95,
   "metadata": {},
   "outputs": [
    {
     "data": {
      "image/png": "[encoded data removed]",
      "text/plain": [
       "<Figure size 432x288 with 2 Axes>"
      ]
     },
     "metadata": {
      "needs_background": "light"
     },
     "output_type": "display_data"
    },
    {
     "data": {
      "text/html": [
       "<div>\n",
       "<style scoped>\n",
       "    .dataframe tbody tr th:only-of-type {\n",
       "        vertical-align: middle;\n",
       "    }\n",
       "\n",
       "    .dataframe tbody tr th {\n",
       "        vertical-align: top;\n",
       "    }\n",
       "\n",
       "    .dataframe thead th {\n",
       "        text-align: right;\n",
       "    }\n",
       "</style>\n",
       "<table border=\"1\" class=\"dataframe\">\n",
       "  <thead>\n",
       "    <tr style=\"text-align: right;\">\n",
       "      <th></th>\n",
       "      <th>Accuracy</th>\n",
       "      <th>Precision</th>\n",
       "      <th>Recall</th>\n",
       "      <th>F1</th>\n",
       "    </tr>\n",
       "  </thead>\n",
       "  <tbody>\n",
       "    <tr>\n",
       "      <th>0</th>\n",
       "      <td>0.895131</td>\n",
       "      <td>0.598131</td>\n",
       "      <td>0.831169</td>\n",
       "      <td>0.695652</td>\n",
       "    </tr>\n",
       "  </tbody>\n",
       "</table>\n",
       "</div>"
      ],
      "text/plain": [
       "   Accuracy  Precision    Recall        F1\n",
       "0  0.895131   0.598131  0.831169  0.695652"
      ]
     },
     "execution_count": 95,
     "metadata": {},
     "output_type": "execute_result"
    }
   ],
   "source": [
    "evaluate(rf_model2, x_val, y_val)"
   ]
  },
  {
   "cell_type": "markdown",
   "metadata": {},
   "source": [
    "Based on metric to monitor which is the False negative, we can see that the recall improved having used tunned with multiple hyper parameters \n",
    "\n",
    "Also, talking from angle of overfitting or underfitting, we can see that it improved on training and the recall improved relative to the one with just a single hyper parameter "
   ]
  },
  {
   "cell_type": "code",
   "execution_count": null,
   "metadata": {},
   "outputs": [],
   "source": []
  },
  {
   "cell_type": "code",
   "execution_count": null,
   "metadata": {},
   "outputs": [],
   "source": []
  },
  {
   "cell_type": "code",
   "execution_count": null,
   "metadata": {},
   "outputs": [],
   "source": []
  }
 ],
 "metadata": {
  "kernelspec": {
   "display_name": "Python 3 (ipykernel)",
   "language": "python",
   "name": "python3"
  },
  "language_info": {
   "codemirror_mode": {
    "name": "ipython",
    "version": 3
   },
   "file_extension": ".py",
   "mimetype": "text/x-python",
   "name": "python",
   "nbconvert_exporter": "python",
   "pygments_lexer": "ipython3",
   "version": "3.9.12"
  }
 },
 "nbformat": 4,
 "nbformat_minor": 4
}
