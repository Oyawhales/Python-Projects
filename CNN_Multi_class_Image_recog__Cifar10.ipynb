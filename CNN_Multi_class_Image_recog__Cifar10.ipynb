{
  "nbformat": 4,
  "nbformat_minor": 0,
  "metadata": {
    "colab": {
      "provenance": [],
      "gpuType": "T4"
    },
    "kernelspec": {
      "name": "python3",
      "display_name": "Python 3"
    },
    "language_info": {
      "name": "python"
    },
    "accelerator": "GPU",
    "gpuClass": "standard"
  },
  "cells": [
    {
      "cell_type": "code",
      "execution_count": 1,
      "metadata": {
        "id": "RIfE4WnMWk0-"
      },
      "outputs": [],
      "source": [
        "import pandas as pd \n",
        "import numpy as np \n",
        "from tensorflow.keras import Sequential #This is for stacking the layers \n",
        "from tensorflow.keras.layers import Dense, Dropout, Flatten, Conv2D, BatchNormalization, Activation, LeakyReLU\n",
        "from sklearn.metrics import mean_squared_error\n",
        "from sklearn.model_selection import train_test_split\n",
        "from sklearn.preprocessing import StandardScaler, MinMaxScaler\n",
        "from sklearn.metrics.pairwise import kernel_metrics\n",
        "from tensorflow.keras.callbacks import ModelCheckpoint \n",
        "from sklearn.metrics import mean_squared_error, mean_absolute_error\n",
        "from tensorflow.keras.utils import to_categorical \n",
        "import matplotlib.pyplot as plt \n",
        "import matplotlib.pyplot as plt \n",
        "from sklearn.metrics import confusion_matrix \n",
        "import seaborn as sns\n",
        "from tensorflow.keras.optimizers import Adam\n",
        "from tensorflow.keras.datasets import cifar10 \n",
        "from tensorflow.keras.layers import Conv2D, MaxPooling2D\n",
        "from tensorflow.keras.callbacks import EarlyStopping"
      ]
    },
    {
      "cell_type": "markdown",
      "source": [
        "### **Importing and loading the CIFAR dataset**"
      ],
      "metadata": {
        "id": "JRJebgIiYVKB"
      }
    },
    {
      "cell_type": "code",
      "source": [
        "(x_train, y_train), (x_test, y_test) = cifar10.load_data()"
      ],
      "metadata": {
        "id": "l1p6pStjXNpX"
      },
      "execution_count": 2,
      "outputs": []
    },
    {
      "cell_type": "code",
      "source": [
        "# load the X_train set\n",
        "x_train.shape "
      ],
      "metadata": {
        "colab": {
          "base_uri": "https://localhost:8080/"
        },
        "id": "XX7IOaUOY83k",
        "outputId": "37d8057c-2fc0-43e9-c30b-a89d2debd202"
      },
      "execution_count": 3,
      "outputs": [
        {
          "output_type": "execute_result",
          "data": {
            "text/plain": [
              "(50000, 32, 32, 3)"
            ]
          },
          "metadata": {},
          "execution_count": 3
        }
      ]
    },
    {
      "cell_type": "markdown",
      "source": [
        "Deduction \n",
        "Here, the dimension is of 4 with 50000 images in the train set; image size of 32 x 32pixels and 3nos channels (RGB ) "
      ],
      "metadata": {
        "id": "ZpGSWR1fZxa9"
      }
    },
    {
      "cell_type": "code",
      "source": [
        "# The y_train set has 5000images and in 1D array \n",
        "y_train.shape "
      ],
      "metadata": {
        "colab": {
          "base_uri": "https://localhost:8080/"
        },
        "id": "sDp3ans5ZTQf",
        "outputId": "4024fade-e523-4adb-d5b2-9d668fae47b1"
      },
      "execution_count": 4,
      "outputs": [
        {
          "output_type": "execute_result",
          "data": {
            "text/plain": [
              "(50000, 1)"
            ]
          },
          "metadata": {},
          "execution_count": 4
        }
      ]
    },
    {
      "cell_type": "code",
      "source": [
        "y_train[0:2]"
      ],
      "metadata": {
        "colab": {
          "base_uri": "https://localhost:8080/"
        },
        "id": "p9xA5lNybIlN",
        "outputId": "96f58fab-e6a7-44f1-fc90-ee35949d79c1"
      },
      "execution_count": 5,
      "outputs": [
        {
          "output_type": "execute_result",
          "data": {
            "text/plain": [
              "array([[6],\n",
              "       [9]], dtype=uint8)"
            ]
          },
          "metadata": {},
          "execution_count": 5
        }
      ]
    },
    {
      "cell_type": "markdown",
      "source": [
        "We can see above  that the y_train isnt in 1D array but 2D array hence need to rescale \n",
        "\n",
        "\n",
        "Rescaling can be done using y_train.reshape(-1,) Since the 5000 is meant to be the same; so -1 makes it same and we leave the other.   \n",
        "\n",
        "Using to_categorical\n",
        "If dot rescaling method used then the loss function during compiling will e sparse categorical cross entropy but if to_categorical which turns to one hot encoding, then categorical cross entropy will be used as loss function. \n",
        "If rescaled, it will return as a single array containing the image class "
      ],
      "metadata": {
        "id": "NaZCyue-bbK5"
      }
    },
    {
      "cell_type": "code",
      "source": [
        "# iamges correspond to this class  \n",
        "classes = [\"airplane\", \"automobile\", \"bird\", \"cat\", \"deer\", \"dog\", \"frog\", \"horse\", \"ship\", \"truck\"] \n"
      ],
      "metadata": {
        "id": "6lwPPQveiB3_"
      },
      "execution_count": 6,
      "outputs": []
    },
    {
      "cell_type": "code",
      "source": [
        "# rescale and can see that it returned the actual class in the first five position of the train set \n",
        "y_train = y_train.reshape(-1,)\n",
        "y_test = y_test.reshape(-1,)\n",
        "y_train[:5]"
      ],
      "metadata": {
        "colab": {
          "base_uri": "https://localhost:8080/"
        },
        "id": "gaTtqyoXhmZj",
        "outputId": "f238e49e-27b5-48f8-d8fa-8cbeaf927124"
      },
      "execution_count": 45,
      "outputs": [
        {
          "output_type": "execute_result",
          "data": {
            "text/plain": [
              "array([6, 9, 9, 4, 1], dtype=uint8)"
            ]
          },
          "metadata": {},
          "execution_count": 45
        }
      ]
    },
    {
      "cell_type": "code",
      "source": [],
      "metadata": {
        "id": "2cmFmAZ4TOff"
      },
      "execution_count": null,
      "outputs": []
    },
    {
      "cell_type": "code",
      "source": [
        "# If to categorical\n",
        "# y_train = to_categorical(y_train) - This will return array in 2D array and in probaility for each array. Each array representing probabilities  \n"
      ],
      "metadata": {
        "id": "7h9BrtTYXNsE"
      },
      "execution_count": 8,
      "outputs": []
    },
    {
      "cell_type": "code",
      "source": [
        "len (x_train[0]) "
      ],
      "metadata": {
        "colab": {
          "base_uri": "https://localhost:8080/"
        },
        "id": "cP4m2dT3iQcS",
        "outputId": "78fd1d14-aad1-4f27-ab03-7c56b85d5619"
      },
      "execution_count": 9,
      "outputs": [
        {
          "output_type": "execute_result",
          "data": {
            "text/plain": [
              "32"
            ]
          },
          "metadata": {},
          "execution_count": 9
        }
      ]
    },
    {
      "cell_type": "code",
      "source": [
        "x_train[0]"
      ],
      "metadata": {
        "colab": {
          "base_uri": "https://localhost:8080/"
        },
        "id": "ct9zFXWaiQf1",
        "outputId": "aacaa136-7526-418b-f4da-b7b77ab28acb"
      },
      "execution_count": 10,
      "outputs": [
        {
          "output_type": "execute_result",
          "data": {
            "text/plain": [
              "array([[[ 59,  62,  63],\n",
              "        [ 43,  46,  45],\n",
              "        [ 50,  48,  43],\n",
              "        ...,\n",
              "        [158, 132, 108],\n",
              "        [152, 125, 102],\n",
              "        [148, 124, 103]],\n",
              "\n",
              "       [[ 16,  20,  20],\n",
              "        [  0,   0,   0],\n",
              "        [ 18,   8,   0],\n",
              "        ...,\n",
              "        [123,  88,  55],\n",
              "        [119,  83,  50],\n",
              "        [122,  87,  57]],\n",
              "\n",
              "       [[ 25,  24,  21],\n",
              "        [ 16,   7,   0],\n",
              "        [ 49,  27,   8],\n",
              "        ...,\n",
              "        [118,  84,  50],\n",
              "        [120,  84,  50],\n",
              "        [109,  73,  42]],\n",
              "\n",
              "       ...,\n",
              "\n",
              "       [[208, 170,  96],\n",
              "        [201, 153,  34],\n",
              "        [198, 161,  26],\n",
              "        ...,\n",
              "        [160, 133,  70],\n",
              "        [ 56,  31,   7],\n",
              "        [ 53,  34,  20]],\n",
              "\n",
              "       [[180, 139,  96],\n",
              "        [173, 123,  42],\n",
              "        [186, 144,  30],\n",
              "        ...,\n",
              "        [184, 148,  94],\n",
              "        [ 97,  62,  34],\n",
              "        [ 83,  53,  34]],\n",
              "\n",
              "       [[177, 144, 116],\n",
              "        [168, 129,  94],\n",
              "        [179, 142,  87],\n",
              "        ...,\n",
              "        [216, 184, 140],\n",
              "        [151, 118,  84],\n",
              "        [123,  92,  72]]], dtype=uint8)"
            ]
          },
          "metadata": {},
          "execution_count": 10
        }
      ]
    },
    {
      "cell_type": "code",
      "source": [
        "# View image \n",
        "classes = [\"airplane\", \"automobile\", \"bird\", \"cat\", \"deer\", \"dog\", \"frog\", \"horse\", \"ship\", \"truck\"] \n",
        "plt.figure(figsize=(8,5))\n",
        "plt.imshow(x_train[0])\n",
        "plt.xlabel(classes[y_train[0]]) # y_train[0] will return a value and this value corresponds to the index. Say in index 0 is the frog which corresponds to class - 5\n"
      ],
      "metadata": {
        "colab": {
          "base_uri": "https://localhost:8080/",
          "height": 482
        },
        "id": "QoyprhWKiQjf",
        "outputId": "402fd73f-7381-493a-a340-fc62fe33c445"
      },
      "execution_count": 11,
      "outputs": [
        {
          "output_type": "execute_result",
          "data": {
            "text/plain": [
              "Text(0.5, 0, 'frog')"
            ]
          },
          "metadata": {},
          "execution_count": 11
        },
        {
          "output_type": "display_data",
          "data": {
            "text/plain": [
              "<Figure size 800x500 with 1 Axes>"
            ],
            "image/png": "[encoded data removed]"
          },
          "metadata": {}
        }
      ]
    },
    {
      "cell_type": "code",
      "source": [
        "def plot_image (x, y, index ): \n",
        "  plt.figure(figsize=(8,5))\n",
        "  plt.imshow(x_train[index])\n",
        "  plt.xlabel(classes[y_train[index]])"
      ],
      "metadata": {
        "id": "UQGZ4t58opNa"
      },
      "execution_count": 12,
      "outputs": []
    },
    {
      "cell_type": "code",
      "source": [
        "plot_image(x_train, y_train, 2)"
      ],
      "metadata": {
        "colab": {
          "base_uri": "https://localhost:8080/",
          "height": 465
        },
        "id": "tZoRGXZtXNvp",
        "outputId": "4a52f884-f734-4882-f7e2-d89d54ef05aa"
      },
      "execution_count": 13,
      "outputs": [
        {
          "output_type": "display_data",
          "data": {
            "text/plain": [
              "<Figure size 800x500 with 1 Axes>"
            ],
            "image/png": "[encoded data removed]"
          },
          "metadata": {}
        }
      ]
    },
    {
      "cell_type": "code",
      "source": [
        "# Normalize the image size with max image size 225 \n",
        "x_train = x_train/255\n",
        "x_test = x_test/255 "
      ],
      "metadata": {
        "id": "mHBZo7SmXN0N"
      },
      "execution_count": 14,
      "outputs": []
    },
    {
      "cell_type": "code",
      "source": [],
      "metadata": {
        "id": "8oUN4HjetvYU"
      },
      "execution_count": 14,
      "outputs": []
    },
    {
      "cell_type": "markdown",
      "source": [
        "## BUILD MODEL WITH CNN "
      ],
      "metadata": {
        "id": "Dx3Gc_TEus0h"
      }
    },
    {
      "cell_type": "code",
      "source": [
        "model = Sequential()\n",
        "\n",
        "# Convolutional Neural Network \n",
        "model.add(Conv2D(64, (3,3), activation = \"relu\", input_shape = (32,32,3) )) # filter no - 64, kernel or filter_size = (3 x 3)\n",
        "model.add(Conv2D(32, (3,3), activation = \"relu\" )) # With the filters feature are being mapped; returnin a convolved features \n",
        "model.add(MaxPooling2D (2, 2)) # Extracts dominant features from the convolved feature by the CNN; reduces the spatial size of the convolved feature. End of 1st conv block \n",
        "\n",
        "model.add(Conv2D(32, (3,3), activation = \"relu\" )) \n",
        "model.add(MaxPooling2D (2, 2)) # 2nd conv block  \n",
        "\n",
        "# Dense \n",
        "model.add(Flatten() ) # here the layers are flatten before getting to the dense or fully connected layer  \n",
        "model.add(Dense(64, activation= 'relu') ) # dense layer  \n",
        "model.add(Dense(10, activation = 'softmax')) # Output layer \n",
        "model.compile(optimizer = \"adam\", loss = \"sparse_categorical_crossentropy\", metrics = [\"accuracy\"] )\n"
      ],
      "metadata": {
        "id": "QYX9xHl2tvfQ"
      },
      "execution_count": 50,
      "outputs": []
    },
    {
      "cell_type": "code",
      "source": [
        "es = EarlyStopping( monitor = \"val_loss\", mode = \"min\", patience = 3, verbose = 2)\n",
        "ck = ModelCheckpoint(\"cnn_model.hdf5\", monitor = \"val_loss\", save_best_only = True, save_weight_only =True)"
      ],
      "metadata": {
        "id": "hfQBGHnw7y7M"
      },
      "execution_count": 26,
      "outputs": []
    },
    {
      "cell_type": "code",
      "source": [
        "result = model.fit ( x_train, y_train, batch_size= 32, epochs = 50, validation_split = 0.2, verbose =2, callbacks = [es, ck], shuffle = True)"
      ],
      "metadata": {
        "colab": {
          "base_uri": "https://localhost:8080/"
        },
        "id": "iy9eBl26tvjA",
        "outputId": "4150d0c3-72a1-4c46-d450-b6b2090339fa"
      },
      "execution_count": 27,
      "outputs": [
        {
          "output_type": "stream",
          "name": "stdout",
          "text": [
            "Epoch 1/50\n",
            "1250/1250 - 10s - loss: 1.4899 - accuracy: 0.4642 - val_loss: 1.2532 - val_accuracy: 0.5575 - 10s/epoch - 8ms/step\n",
            "Epoch 2/50\n",
            "1250/1250 - 5s - loss: 1.1099 - accuracy: 0.6101 - val_loss: 1.0696 - val_accuracy: 0.6306 - 5s/epoch - 4ms/step\n",
            "Epoch 3/50\n",
            "1250/1250 - 7s - loss: 0.9667 - accuracy: 0.6631 - val_loss: 0.9755 - val_accuracy: 0.6529 - 7s/epoch - 5ms/step\n",
            "Epoch 4/50\n",
            "1250/1250 - 5s - loss: 0.8734 - accuracy: 0.6969 - val_loss: 0.9153 - val_accuracy: 0.6861 - 5s/epoch - 4ms/step\n",
            "Epoch 5/50\n",
            "1250/1250 - 6s - loss: 0.8054 - accuracy: 0.7173 - val_loss: 0.9208 - val_accuracy: 0.6881 - 6s/epoch - 5ms/step\n",
            "Epoch 6/50\n",
            "1250/1250 - 5s - loss: 0.7421 - accuracy: 0.7411 - val_loss: 0.8830 - val_accuracy: 0.6972 - 5s/epoch - 4ms/step\n",
            "Epoch 7/50\n",
            "1250/1250 - 6s - loss: 0.6958 - accuracy: 0.7561 - val_loss: 0.9323 - val_accuracy: 0.6815 - 6s/epoch - 5ms/step\n",
            "Epoch 8/50\n",
            "1250/1250 - 6s - loss: 0.6530 - accuracy: 0.7718 - val_loss: 0.8781 - val_accuracy: 0.7011 - 6s/epoch - 5ms/step\n",
            "Epoch 9/50\n",
            "1250/1250 - 5s - loss: 0.6165 - accuracy: 0.7849 - val_loss: 0.8904 - val_accuracy: 0.7075 - 5s/epoch - 4ms/step\n",
            "Epoch 10/50\n",
            "1250/1250 - 7s - loss: 0.5750 - accuracy: 0.7996 - val_loss: 0.8983 - val_accuracy: 0.7059 - 7s/epoch - 5ms/step\n",
            "Epoch 11/50\n",
            "1250/1250 - 5s - loss: 0.5416 - accuracy: 0.8100 - val_loss: 0.9374 - val_accuracy: 0.7009 - 5s/epoch - 4ms/step\n",
            "Epoch 11: early stopping\n"
          ]
        }
      ]
    },
    {
      "cell_type": "code",
      "source": [
        "pd.DataFrame(model.history.history)"
      ],
      "metadata": {
        "colab": {
          "base_uri": "https://localhost:8080/",
          "height": 394
        },
        "id": "Fp9V580cwozn",
        "outputId": "ea08eb43-2b1d-4c9a-a261-19a73018d7ca"
      },
      "execution_count": 28,
      "outputs": [
        {
          "output_type": "execute_result",
          "data": {
            "text/plain": [
              "        loss  accuracy  val_loss  val_accuracy\n",
              "0   1.489864  0.464250  1.253152        0.5575\n",
              "1   1.109936  0.610100  1.069578        0.6306\n",
              "2   0.966714  0.663100  0.975530        0.6529\n",
              "3   0.873420  0.696900  0.915265        0.6861\n",
              "4   0.805414  0.717275  0.920753        0.6881\n",
              "5   0.742107  0.741075  0.883008        0.6972\n",
              "6   0.695816  0.756125  0.932346        0.6815\n",
              "7   0.653027  0.771800  0.878063        0.7011\n",
              "8   0.616509  0.784875  0.890418        0.7075\n",
              "9   0.575003  0.799575  0.898273        0.7059\n",
              "10  0.541602  0.809975  0.937445        0.7009"
            ],
            "text/html": [
              "\n",
              "  <div id=\"df-15b3cbed-19e2-47fa-8fc6-4f0950f0ff90\">\n",
              "    <div class=\"colab-df-container\">\n",
              "      <div>\n",
              "<style scoped>\n",
              "    .dataframe tbody tr th:only-of-type {\n",
              "        vertical-align: middle;\n",
              "    }\n",
              "\n",
              "    .dataframe tbody tr th {\n",
              "        vertical-align: top;\n",
              "    }\n",
              "\n",
              "    .dataframe thead th {\n",
              "        text-align: right;\n",
              "    }\n",
              "</style>\n",
              "<table border=\"1\" class=\"dataframe\">\n",
              "  <thead>\n",
              "    <tr style=\"text-align: right;\">\n",
              "      <th></th>\n",
              "      <th>loss</th>\n",
              "      <th>accuracy</th>\n",
              "      <th>val_loss</th>\n",
              "      <th>val_accuracy</th>\n",
              "    </tr>\n",
              "  </thead>\n",
              "  <tbody>\n",
              "    <tr>\n",
              "      <th>0</th>\n",
              "      <td>1.489864</td>\n",
              "      <td>0.464250</td>\n",
              "      <td>1.253152</td>\n",
              "      <td>0.5575</td>\n",
              "    </tr>\n",
              "    <tr>\n",
              "      <th>1</th>\n",
              "      <td>1.109936</td>\n",
              "      <td>0.610100</td>\n",
              "      <td>1.069578</td>\n",
              "      <td>0.6306</td>\n",
              "    </tr>\n",
              "    <tr>\n",
              "      <th>2</th>\n",
              "      <td>0.966714</td>\n",
              "      <td>0.663100</td>\n",
              "      <td>0.975530</td>\n",
              "      <td>0.6529</td>\n",
              "    </tr>\n",
              "    <tr>\n",
              "      <th>3</th>\n",
              "      <td>0.873420</td>\n",
              "      <td>0.696900</td>\n",
              "      <td>0.915265</td>\n",
              "      <td>0.6861</td>\n",
              "    </tr>\n",
              "    <tr>\n",
              "      <th>4</th>\n",
              "      <td>0.805414</td>\n",
              "      <td>0.717275</td>\n",
              "      <td>0.920753</td>\n",
              "      <td>0.6881</td>\n",
              "    </tr>\n",
              "    <tr>\n",
              "      <th>5</th>\n",
              "      <td>0.742107</td>\n",
              "      <td>0.741075</td>\n",
              "      <td>0.883008</td>\n",
              "      <td>0.6972</td>\n",
              "    </tr>\n",
              "    <tr>\n",
              "      <th>6</th>\n",
              "      <td>0.695816</td>\n",
              "      <td>0.756125</td>\n",
              "      <td>0.932346</td>\n",
              "      <td>0.6815</td>\n",
              "    </tr>\n",
              "    <tr>\n",
              "      <th>7</th>\n",
              "      <td>0.653027</td>\n",
              "      <td>0.771800</td>\n",
              "      <td>0.878063</td>\n",
              "      <td>0.7011</td>\n",
              "    </tr>\n",
              "    <tr>\n",
              "      <th>8</th>\n",
              "      <td>0.616509</td>\n",
              "      <td>0.784875</td>\n",
              "      <td>0.890418</td>\n",
              "      <td>0.7075</td>\n",
              "    </tr>\n",
              "    <tr>\n",
              "      <th>9</th>\n",
              "      <td>0.575003</td>\n",
              "      <td>0.799575</td>\n",
              "      <td>0.898273</td>\n",
              "      <td>0.7059</td>\n",
              "    </tr>\n",
              "    <tr>\n",
              "      <th>10</th>\n",
              "      <td>0.541602</td>\n",
              "      <td>0.809975</td>\n",
              "      <td>0.937445</td>\n",
              "      <td>0.7009</td>\n",
              "    </tr>\n",
              "  </tbody>\n",
              "</table>\n",
              "</div>\n",
              "      <button class=\"colab-df-convert\" onclick=\"convertToInteractive('df-15b3cbed-19e2-47fa-8fc6-4f0950f0ff90')\"\n",
              "              title=\"Convert this dataframe to an interactive table.\"\n",
              "              style=\"display:none;\">\n",
              "        \n",
              "  <svg xmlns=\"http://www.w3.org/2000/svg\" height=\"24px\"viewBox=\"0 0 24 24\"\n",
              "       width=\"24px\">\n",
              "    <path d=\"M0 0h24v24H0V0z\" fill=\"none\"/>\n",
              "    <path d=\"M18.56 5.44l.94 2.06.94-2.06 2.06-.94-2.06-.94-.94-2.06-.94 2.06-2.06.94zm-11 1L8.5 8.5l.94-2.06 2.06-.94-2.06-.94L8.5 2.5l-.94 2.06-2.06.94zm10 10l.94 2.06.94-2.06 2.06-.94-2.06-.94-.94-2.06-.94 2.06-2.06.94z\"/><path d=\"M17.41 7.96l-1.37-1.37c-.4-.4-.92-.59-1.43-.59-.52 0-1.04.2-1.43.59L10.3 9.45l-7.72 7.72c-.78.78-.78 2.05 0 2.83L4 21.41c.39.39.9.59 1.41.59.51 0 1.02-.2 1.41-.59l7.78-7.78 2.81-2.81c.8-.78.8-2.07 0-2.86zM5.41 20L4 18.59l7.72-7.72 1.47 1.35L5.41 20z\"/>\n",
              "  </svg>\n",
              "      </button>\n",
              "      \n",
              "  <style>\n",
              "    .colab-df-container {\n",
              "      display:flex;\n",
              "      flex-wrap:wrap;\n",
              "      gap: 12px;\n",
              "    }\n",
              "\n",
              "    .colab-df-convert {\n",
              "      background-color: #E8F0FE;\n",
              "      border: none;\n",
              "      border-radius: 50%;\n",
              "      cursor: pointer;\n",
              "      display: none;\n",
              "      fill: #1967D2;\n",
              "      height: 32px;\n",
              "      padding: 0 0 0 0;\n",
              "      width: 32px;\n",
              "    }\n",
              "\n",
              "    .colab-df-convert:hover {\n",
              "      background-color: #E2EBFA;\n",
              "      box-shadow: 0px 1px 2px rgba(60, 64, 67, 0.3), 0px 1px 3px 1px rgba(60, 64, 67, 0.15);\n",
              "      fill: #174EA6;\n",
              "    }\n",
              "\n",
              "    [theme=dark] .colab-df-convert {\n",
              "      background-color: #3B4455;\n",
              "      fill: #D2E3FC;\n",
              "    }\n",
              "\n",
              "    [theme=dark] .colab-df-convert:hover {\n",
              "      background-color: #434B5C;\n",
              "      box-shadow: 0px 1px 3px 1px rgba(0, 0, 0, 0.15);\n",
              "      filter: drop-shadow(0px 1px 2px rgba(0, 0, 0, 0.3));\n",
              "      fill: #FFFFFF;\n",
              "    }\n",
              "  </style>\n",
              "\n",
              "      <script>\n",
              "        const buttonEl =\n",
              "          document.querySelector('#df-15b3cbed-19e2-47fa-8fc6-4f0950f0ff90 button.colab-df-convert');\n",
              "        buttonEl.style.display =\n",
              "          google.colab.kernel.accessAllowed ? 'block' : 'none';\n",
              "\n",
              "        async function convertToInteractive(key) {\n",
              "          const element = document.querySelector('#df-15b3cbed-19e2-47fa-8fc6-4f0950f0ff90');\n",
              "          const dataTable =\n",
              "            await google.colab.kernel.invokeFunction('convertToInteractive',\n",
              "                                                     [key], {});\n",
              "          if (!dataTable) return;\n",
              "\n",
              "          const docLinkHtml = 'Like what you see? Visit the ' +\n",
              "            '<a target=\"_blank\" href=https://colab.research.google.com/notebooks/data_table.ipynb>data table notebook</a>'\n",
              "            + ' to learn more about interactive tables.';\n",
              "          element.innerHTML = '';\n",
              "          dataTable['output_type'] = 'display_data';\n",
              "          await google.colab.output.renderOutput(dataTable, element);\n",
              "          const docLink = document.createElement('div');\n",
              "          docLink.innerHTML = docLinkHtml;\n",
              "          element.appendChild(docLink);\n",
              "        }\n",
              "      </script>\n",
              "    </div>\n",
              "  </div>\n",
              "  "
            ]
          },
          "metadata": {},
          "execution_count": 28
        }
      ]
    },
    {
      "cell_type": "code",
      "source": [
        "val_acc = result.history[\"val_accuracy\"]\n",
        "acc = result.history[\"accuracy\"]\n",
        "epochs = range(1, len(acc) + 1) \n",
        "# epochs = range (1,10)\n",
        "plt.figure(figsize = (8,5))\n",
        "plt.plot(epochs, acc, label = \"training accuracy\")\n",
        "plt.plot(epochs, val_acc, label = \"validation accuracy\")\n",
        "plt.legend( loc =\"best\") # this is to place the plot label at best position \n",
        "plt.xlabel (\"Epochs\")\n",
        "plt.ylabel(\"Accuracy\")\n",
        "plt.show() "
      ],
      "metadata": {
        "colab": {
          "base_uri": "https://localhost:8080/",
          "height": 465
        },
        "id": "T5lRM-LQ_kYE",
        "outputId": "a84e15b6-cc67-4ee1-86f4-501ba5542e16"
      },
      "execution_count": 29,
      "outputs": [
        {
          "output_type": "display_data",
          "data": {
            "text/plain": [
              "<Figure size 800x500 with 1 Axes>"
            ],
            "image/png": "[encoded data removed]"
          },
          "metadata": {}
        }
      ]
    },
    {
      "cell_type": "code",
      "source": [
        "val_acc = result.history[\"val_loss\"]\n",
        "acc = result.history[\"loss\"]\n",
        "epochs = range(1, len(acc) + 1) \n",
        "# epochs = range (1,10)\n",
        "plt.figure(figsize = (8,5))\n",
        "plt.plot(epochs, acc, label = \"training loss\")\n",
        "plt.plot(epochs, val_acc, label = \"validation loss\")\n",
        "plt.legend( loc =\"best\") # this is to place the plot label at best position \n",
        "plt.xlabel (\"Epochs\")\n",
        "plt.ylabel(\"Loss\")\n",
        "plt.show() "
      ],
      "metadata": {
        "colab": {
          "base_uri": "https://localhost:8080/",
          "height": 465
        },
        "id": "1FxkRhyCOODn",
        "outputId": "b52cb75d-9091-4ca8-e582-e034befcd207"
      },
      "execution_count": 30,
      "outputs": [
        {
          "output_type": "display_data",
          "data": {
            "text/plain": [
              "<Figure size 800x500 with 1 Axes>"
            ],
            "image/png": "[encoded data removed]"
          },
          "metadata": {}
        }
      ]
    },
    {
      "cell_type": "code",
      "source": [
        "model.evaluate(x_test, y_test) # we can see perferformance of the y_test at 70% approximate "
      ],
      "metadata": {
        "colab": {
          "base_uri": "https://localhost:8080/"
        },
        "id": "VfHT3OtGOOGg",
        "outputId": "67d5d2f7-7289-4d16-9cc9-c05e25ba07a4"
      },
      "execution_count": 49,
      "outputs": [
        {
          "output_type": "stream",
          "name": "stdout",
          "text": [
            "313/313 [==============================] - 1s 3ms/step - loss: 0.9510 - accuracy: 0.6981\n"
          ]
        },
        {
          "output_type": "execute_result",
          "data": {
            "text/plain": [
              "[0.9509931802749634, 0.6980999708175659]"
            ]
          },
          "metadata": {},
          "execution_count": 49
        }
      ]
    },
    {
      "cell_type": "code",
      "source": [
        "y_pred = model.predict(x_test)\n",
        "y_pred[:4] # y_pred will return result in probabilities; hence argmax will help capture the index with maximum probability whcih then is equal to the class index value "
      ],
      "metadata": {
        "id": "RaNqFljJ_kcJ",
        "colab": {
          "base_uri": "https://localhost:8080/"
        },
        "outputId": "6d96dbd4-60e7-4c97-f56d-f79e4085cbbb"
      },
      "execution_count": 35,
      "outputs": [
        {
          "output_type": "stream",
          "name": "stdout",
          "text": [
            "313/313 [==============================] - 1s 3ms/step\n"
          ]
        },
        {
          "output_type": "execute_result",
          "data": {
            "text/plain": [
              "array([[1.6558910e-04, 4.9646633e-06, 3.7119654e-04, 6.1621791e-01,\n",
              "        8.1949995e-04, 3.8136289e-01, 4.0600338e-04, 4.4244269e-04,\n",
              "        1.1881037e-04, 9.0698304e-05],\n",
              "       [3.2506222e-03, 1.3510158e-02, 9.1448686e-07, 1.5902202e-06,\n",
              "        3.8574640e-07, 3.8569542e-08, 2.3798302e-07, 1.7146161e-09,\n",
              "        9.8298949e-01, 2.4656137e-04],\n",
              "       [4.6549106e-01, 2.9503731e-02, 3.9530913e-03, 8.4883068e-03,\n",
              "        6.6183046e-03, 6.3395174e-04, 2.2667021e-04, 4.2813872e-03,\n",
              "        4.7892824e-01, 1.8753300e-03],\n",
              "       [9.9206734e-01, 2.6208842e-03, 5.8708910e-04, 1.1894586e-05,\n",
              "        6.8810268e-04, 9.5137821e-08, 1.0978533e-06, 5.2289711e-06,\n",
              "        3.9601885e-03, 5.8033896e-05]], dtype=float32)"
            ]
          },
          "metadata": {},
          "execution_count": 35
        }
      ]
    },
    {
      "cell_type": "code",
      "source": [
        "y_pred_class = [ np.argmax(element) for element in y_pred]\n",
        "y_pred_class[4: 10]"
      ],
      "metadata": {
        "colab": {
          "base_uri": "https://localhost:8080/"
        },
        "id": "KIJ4dDQoQ2tn",
        "outputId": "15b56659-f37d-49ae-a320-c91027547ba6"
      },
      "execution_count": 47,
      "outputs": [
        {
          "output_type": "execute_result",
          "data": {
            "text/plain": [
              "[6, 6, 1, 6, 3, 0]"
            ]
          },
          "metadata": {},
          "execution_count": 47
        }
      ]
    },
    {
      "cell_type": "code",
      "source": [
        "y_test[4:10] # Testing, we can see upon evaluation the prediction is close to actual  "
      ],
      "metadata": {
        "colab": {
          "base_uri": "https://localhost:8080/"
        },
        "id": "KNWzdCZ8Q2w1",
        "outputId": "f22b6ca5-d625-4980-ec53-c7334d3a1fdf"
      },
      "execution_count": 48,
      "outputs": [
        {
          "output_type": "execute_result",
          "data": {
            "text/plain": [
              "array([6, 6, 1, 6, 3, 1], dtype=uint8)"
            ]
          },
          "metadata": {},
          "execution_count": 48
        }
      ]
    },
    {
      "cell_type": "code",
      "source": [],
      "metadata": {
        "id": "_3AZXsJ4Q20F"
      },
      "execution_count": null,
      "outputs": []
    },
    {
      "cell_type": "code",
      "source": [],
      "metadata": {
        "id": "YZvWqhlpQ23p"
      },
      "execution_count": null,
      "outputs": []
    },
    {
      "cell_type": "markdown",
      "source": [
        "Conclusion \n",
        "\n",
        "Its is clear that that the CNN model outperfromed the ANN with validation accuracy of 70% approximate and evaluation score of 70%. "
      ],
      "metadata": {
        "id": "8fcm9Xcv_Adf"
      }
    },
    {
      "cell_type": "markdown",
      "source": [
        "### GREAT JOB!!!"
      ],
      "metadata": {
        "id": "B3uh8R5O_WjL"
      }
    },
    {
      "cell_type": "code",
      "source": [],
      "metadata": {
        "id": "8MDyqwF9wo6K"
      },
      "execution_count": null,
      "outputs": []
    }
  ]
}