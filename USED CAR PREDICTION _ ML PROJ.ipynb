{
 "cells": [
  {
   "cell_type": "markdown",
   "id": "64370317",
   "metadata": {},
   "source": [
    "##### Context\n",
    "There is a huge demand for used cars in the Indian Market today. As sales of new cars have slowed down in the recent past, the pre-owned car market has continued to grow over the past years and is larger than the new car market now. Cars4U is a budding tech start-up that aims to find footholes in this market.\n",
    "\n",
    "In 2018-19, while new car sales were recorded at 3.6 million units, around 4 million second-hand cars were bought and sold. There is a slowdown in new car sales and that could mean that the demand is shifting towards the pre-owned market. In fact, some car sellers replace their old cars with pre-owned cars instead of buying new ones. Unlike new cars, where price and supply are fairly deterministic and managed by OEMs (Original Equipment Manufacturer / except for dealership level discounts which come into play only in the last stage of the customer journey), used cars are very different beasts with huge uncertainty in both pricing and supply. Keeping this in mind, the pricing scheme of these used cars becomes important in order to grow in the market.\n",
    "\n",
    "As a senior data scientist at Cars4U, you have to come up with a pricing model that can effectively predict the price of used cars and can help the business in devising profitable strategies using differential pricing. For example, if the business knows the market price, it will never sell anything below it.\n",
    "\n",
    " \n",
    "\n",
    "##### Objective\n",
    "To explore and visualize the dataset, build a linear regression model to predict the prices of used cars, and generate a set of insights and recommendations that will help the business."
   ]
  },
  {
   "cell_type": "markdown",
   "id": "3dd76965",
   "metadata": {},
   "source": [
    "##### Data Description\n",
    "The data contains the different attributes of used cars sold in different locations. The detailed data dictionary is given below.\n",
    "\n",
    "Data Dictionary\n",
    "\n",
    "S.No.: Serial number\n",
    "\n",
    "Name: Name of the car which includes brand name and model name\n",
    "\n",
    "Location: Location in which the car is being sold or is available for purchase\n",
    "\n",
    "Year: Manufacturing year of the car\n",
    "\n",
    "Kilometers_driven: The total kilometers (a unit used to measure length or distance) driven in the car by the previous owner(s)\n",
    "\n",
    "Fuel_Type: The type of fuel used by the car (Petrol, Diesel, Electric, CNG, LPG)\n",
    "\n",
    "Transmission: The type of transmission used by the car (Automatic/Manual)\n",
    "\n",
    "Owner: Type of ownership\n",
    "\n",
    "Mileage: The standard mileage offered by the car company in kmpl or km/kg\n",
    "\n",
    "Engine: The displacement volume of the engine in CC\n",
    "\n",
    "Power: The maximum power of the engine in bhp\n",
    "\n",
    "Seats: The number of seats in the car\n",
    "\n",
    "New_Price: The price of a new car of the same model in dollars\n",
    "\n",
    "Price: The price of the used car in dollars"
   ]
  },
  {
   "cell_type": "code",
   "execution_count": 92,
   "id": "8a5e07e0",
   "metadata": {},
   "outputs": [],
   "source": [
    "#Import Libraries "
   ]
  },
  {
   "cell_type": "code",
   "execution_count": 93,
   "id": "0bf50610",
   "metadata": {},
   "outputs": [],
   "source": [
    "# Libraries to help with reading and manipulating data\n",
    "import numpy as np\n",
    "import pandas as pd\n",
    "\n",
    "# Libraries to help with data visualization\n",
    "import matplotlib.pyplot as plt\n",
    "import seaborn as sns\n",
    "\n",
    "sns.set()\n",
    "\n",
    "# Removes the limit for the number of displayed columns\n",
    "pd.set_option(\"display.max_columns\", None)\n",
    "# Sets the limit for the number of displayed rows\n",
    "pd.set_option(\"display.max_rows\", 200)\n",
    "\n",
    "# to split the data into train and test\n",
    "from sklearn.model_selection import train_test_split\n",
    "\n",
    "# to build linear regression_model\n",
    "from sklearn.linear_model import LinearRegression, Ridge, Lasso\n",
    "\n",
    "# to check model performance\n",
    "from sklearn.metrics import mean_absolute_error, mean_squared_error, r2_score\n",
    "\n",
    "# to plot univariate and bivariate plot\n",
    "from utils import histogram_boxplot, labeled_barplot\n",
    "\n",
    "# to normalize the data\n",
    "from sklearn.preprocessing import StandardScaler\n"
   ]
  },
  {
   "cell_type": "code",
   "execution_count": 94,
   "id": "3fb28b69",
   "metadata": {},
   "outputs": [
    {
     "data": {
      "text/html": [
       "<div>\n",
       "<style scoped>\n",
       "    .dataframe tbody tr th:only-of-type {\n",
       "        vertical-align: middle;\n",
       "    }\n",
       "\n",
       "    .dataframe tbody tr th {\n",
       "        vertical-align: top;\n",
       "    }\n",
       "\n",
       "    .dataframe thead th {\n",
       "        text-align: right;\n",
       "    }\n",
       "</style>\n",
       "<table border=\"1\" class=\"dataframe\">\n",
       "  <thead>\n",
       "    <tr style=\"text-align: right;\">\n",
       "      <th></th>\n",
       "      <th>S.No.</th>\n",
       "      <th>Name</th>\n",
       "      <th>Location</th>\n",
       "      <th>Year</th>\n",
       "      <th>Kilometers_Driven</th>\n",
       "      <th>Fuel_Type</th>\n",
       "      <th>Transmission</th>\n",
       "      <th>Owner_Type</th>\n",
       "      <th>Mileage</th>\n",
       "      <th>Engine</th>\n",
       "      <th>Power</th>\n",
       "      <th>Seats</th>\n",
       "      <th>New_Price</th>\n",
       "      <th>Price</th>\n",
       "    </tr>\n",
       "  </thead>\n",
       "  <tbody>\n",
       "    <tr>\n",
       "      <th>0</th>\n",
       "      <td>0</td>\n",
       "      <td>Maruti Wagon R LXI CNG</td>\n",
       "      <td>Mumbai</td>\n",
       "      <td>2010</td>\n",
       "      <td>72000</td>\n",
       "      <td>CNG</td>\n",
       "      <td>Manual</td>\n",
       "      <td>First</td>\n",
       "      <td>26.6 km/kg</td>\n",
       "      <td>998 CC</td>\n",
       "      <td>58.16 bhp</td>\n",
       "      <td>5.0</td>\n",
       "      <td>5.51</td>\n",
       "      <td>1.75</td>\n",
       "    </tr>\n",
       "    <tr>\n",
       "      <th>1</th>\n",
       "      <td>1</td>\n",
       "      <td>Hyundai Creta 1.6 CRDi SX Option</td>\n",
       "      <td>Pune</td>\n",
       "      <td>2015</td>\n",
       "      <td>41000</td>\n",
       "      <td>Diesel</td>\n",
       "      <td>Manual</td>\n",
       "      <td>First</td>\n",
       "      <td>19.67 kmpl</td>\n",
       "      <td>1582 CC</td>\n",
       "      <td>126.2 bhp</td>\n",
       "      <td>5.0</td>\n",
       "      <td>16.06</td>\n",
       "      <td>12.50</td>\n",
       "    </tr>\n",
       "    <tr>\n",
       "      <th>2</th>\n",
       "      <td>2</td>\n",
       "      <td>Honda Jazz V</td>\n",
       "      <td>Chennai</td>\n",
       "      <td>2011</td>\n",
       "      <td>46000</td>\n",
       "      <td>Petrol</td>\n",
       "      <td>Manual</td>\n",
       "      <td>First</td>\n",
       "      <td>18.2 kmpl</td>\n",
       "      <td>1199 CC</td>\n",
       "      <td>88.7 bhp</td>\n",
       "      <td>5.0</td>\n",
       "      <td>8.61</td>\n",
       "      <td>4.50</td>\n",
       "    </tr>\n",
       "    <tr>\n",
       "      <th>3</th>\n",
       "      <td>3</td>\n",
       "      <td>Maruti Ertiga VDI</td>\n",
       "      <td>Chennai</td>\n",
       "      <td>2012</td>\n",
       "      <td>87000</td>\n",
       "      <td>Diesel</td>\n",
       "      <td>Manual</td>\n",
       "      <td>First</td>\n",
       "      <td>20.77 kmpl</td>\n",
       "      <td>1248 CC</td>\n",
       "      <td>88.76 bhp</td>\n",
       "      <td>7.0</td>\n",
       "      <td>11.27</td>\n",
       "      <td>6.00</td>\n",
       "    </tr>\n",
       "    <tr>\n",
       "      <th>4</th>\n",
       "      <td>4</td>\n",
       "      <td>Audi A4 New 2.0 TDI Multitronic</td>\n",
       "      <td>Coimbatore</td>\n",
       "      <td>2013</td>\n",
       "      <td>40670</td>\n",
       "      <td>Diesel</td>\n",
       "      <td>Automatic</td>\n",
       "      <td>Second</td>\n",
       "      <td>15.2 kmpl</td>\n",
       "      <td>1968 CC</td>\n",
       "      <td>140.8 bhp</td>\n",
       "      <td>5.0</td>\n",
       "      <td>53.14</td>\n",
       "      <td>17.74</td>\n",
       "    </tr>\n",
       "  </tbody>\n",
       "</table>\n",
       "</div>"
      ],
      "text/plain": [
       "   S.No.                              Name    Location  Year  \\\n",
       "0      0            Maruti Wagon R LXI CNG      Mumbai  2010   \n",
       "1      1  Hyundai Creta 1.6 CRDi SX Option        Pune  2015   \n",
       "2      2                      Honda Jazz V     Chennai  2011   \n",
       "3      3                 Maruti Ertiga VDI     Chennai  2012   \n",
       "4      4   Audi A4 New 2.0 TDI Multitronic  Coimbatore  2013   \n",
       "\n",
       "   Kilometers_Driven Fuel_Type Transmission Owner_Type     Mileage   Engine  \\\n",
       "0              72000       CNG       Manual      First  26.6 km/kg   998 CC   \n",
       "1              41000    Diesel       Manual      First  19.67 kmpl  1582 CC   \n",
       "2              46000    Petrol       Manual      First   18.2 kmpl  1199 CC   \n",
       "3              87000    Diesel       Manual      First  20.77 kmpl  1248 CC   \n",
       "4              40670    Diesel    Automatic     Second   15.2 kmpl  1968 CC   \n",
       "\n",
       "       Power  Seats  New_Price  Price  \n",
       "0  58.16 bhp    5.0       5.51   1.75  \n",
       "1  126.2 bhp    5.0      16.06  12.50  \n",
       "2   88.7 bhp    5.0       8.61   4.50  \n",
       "3  88.76 bhp    7.0      11.27   6.00  \n",
       "4  140.8 bhp    5.0      53.14  17.74  "
      ]
     },
     "execution_count": 94,
     "metadata": {},
     "output_type": "execute_result"
    }
   ],
   "source": [
    "# Load Data \n",
    "df = pd.read_csv(\"used_cars_data-1.csv\")\n",
    "df.head()"
   ]
  },
  {
   "cell_type": "code",
   "execution_count": 95,
   "id": "73b79300",
   "metadata": {},
   "outputs": [
    {
     "data": {
      "text/plain": [
       "array(['CNG', 'Diesel', 'Petrol', 'LPG', 'Electric'], dtype=object)"
      ]
     },
     "execution_count": 95,
     "metadata": {},
     "output_type": "execute_result"
    }
   ],
   "source": [
    "df[\"Fuel_Type\"].unique()"
   ]
  },
  {
   "cell_type": "code",
   "execution_count": 96,
   "id": "29e31c99",
   "metadata": {},
   "outputs": [],
   "source": [
    "# drop s/no as pandas will create its own default \n",
    "df.drop(\"S.No.\", axis = 1, inplace = True)"
   ]
  },
  {
   "cell_type": "code",
   "execution_count": 97,
   "id": "f23d5da4",
   "metadata": {},
   "outputs": [
    {
     "data": {
      "text/html": [
       "<div>\n",
       "<style scoped>\n",
       "    .dataframe tbody tr th:only-of-type {\n",
       "        vertical-align: middle;\n",
       "    }\n",
       "\n",
       "    .dataframe tbody tr th {\n",
       "        vertical-align: top;\n",
       "    }\n",
       "\n",
       "    .dataframe thead th {\n",
       "        text-align: right;\n",
       "    }\n",
       "</style>\n",
       "<table border=\"1\" class=\"dataframe\">\n",
       "  <thead>\n",
       "    <tr style=\"text-align: right;\">\n",
       "      <th></th>\n",
       "      <th>count</th>\n",
       "      <th>unique</th>\n",
       "      <th>top</th>\n",
       "      <th>freq</th>\n",
       "      <th>mean</th>\n",
       "      <th>std</th>\n",
       "      <th>min</th>\n",
       "      <th>25%</th>\n",
       "      <th>50%</th>\n",
       "      <th>75%</th>\n",
       "      <th>max</th>\n",
       "    </tr>\n",
       "  </thead>\n",
       "  <tbody>\n",
       "    <tr>\n",
       "      <th>Name</th>\n",
       "      <td>7253</td>\n",
       "      <td>2041</td>\n",
       "      <td>Mahindra XUV500 W8 2WD</td>\n",
       "      <td>55</td>\n",
       "      <td>NaN</td>\n",
       "      <td>NaN</td>\n",
       "      <td>NaN</td>\n",
       "      <td>NaN</td>\n",
       "      <td>NaN</td>\n",
       "      <td>NaN</td>\n",
       "      <td>NaN</td>\n",
       "    </tr>\n",
       "    <tr>\n",
       "      <th>Location</th>\n",
       "      <td>7253</td>\n",
       "      <td>11</td>\n",
       "      <td>Mumbai</td>\n",
       "      <td>949</td>\n",
       "      <td>NaN</td>\n",
       "      <td>NaN</td>\n",
       "      <td>NaN</td>\n",
       "      <td>NaN</td>\n",
       "      <td>NaN</td>\n",
       "      <td>NaN</td>\n",
       "      <td>NaN</td>\n",
       "    </tr>\n",
       "    <tr>\n",
       "      <th>Year</th>\n",
       "      <td>7253.0</td>\n",
       "      <td>NaN</td>\n",
       "      <td>NaN</td>\n",
       "      <td>NaN</td>\n",
       "      <td>2013.365366</td>\n",
       "      <td>3.254421</td>\n",
       "      <td>1996.0</td>\n",
       "      <td>2011.0</td>\n",
       "      <td>2014.0</td>\n",
       "      <td>2016.0</td>\n",
       "      <td>2019.0</td>\n",
       "    </tr>\n",
       "    <tr>\n",
       "      <th>Kilometers_Driven</th>\n",
       "      <td>7253.0</td>\n",
       "      <td>NaN</td>\n",
       "      <td>NaN</td>\n",
       "      <td>NaN</td>\n",
       "      <td>58699.063146</td>\n",
       "      <td>84427.720583</td>\n",
       "      <td>171.0</td>\n",
       "      <td>34000.0</td>\n",
       "      <td>53416.0</td>\n",
       "      <td>73000.0</td>\n",
       "      <td>6500000.0</td>\n",
       "    </tr>\n",
       "    <tr>\n",
       "      <th>Fuel_Type</th>\n",
       "      <td>7253</td>\n",
       "      <td>5</td>\n",
       "      <td>Diesel</td>\n",
       "      <td>3852</td>\n",
       "      <td>NaN</td>\n",
       "      <td>NaN</td>\n",
       "      <td>NaN</td>\n",
       "      <td>NaN</td>\n",
       "      <td>NaN</td>\n",
       "      <td>NaN</td>\n",
       "      <td>NaN</td>\n",
       "    </tr>\n",
       "    <tr>\n",
       "      <th>Transmission</th>\n",
       "      <td>7253</td>\n",
       "      <td>2</td>\n",
       "      <td>Manual</td>\n",
       "      <td>5204</td>\n",
       "      <td>NaN</td>\n",
       "      <td>NaN</td>\n",
       "      <td>NaN</td>\n",
       "      <td>NaN</td>\n",
       "      <td>NaN</td>\n",
       "      <td>NaN</td>\n",
       "      <td>NaN</td>\n",
       "    </tr>\n",
       "    <tr>\n",
       "      <th>Owner_Type</th>\n",
       "      <td>7253</td>\n",
       "      <td>4</td>\n",
       "      <td>First</td>\n",
       "      <td>5952</td>\n",
       "      <td>NaN</td>\n",
       "      <td>NaN</td>\n",
       "      <td>NaN</td>\n",
       "      <td>NaN</td>\n",
       "      <td>NaN</td>\n",
       "      <td>NaN</td>\n",
       "      <td>NaN</td>\n",
       "    </tr>\n",
       "    <tr>\n",
       "      <th>Mileage</th>\n",
       "      <td>7251</td>\n",
       "      <td>450</td>\n",
       "      <td>17.0 kmpl</td>\n",
       "      <td>207</td>\n",
       "      <td>NaN</td>\n",
       "      <td>NaN</td>\n",
       "      <td>NaN</td>\n",
       "      <td>NaN</td>\n",
       "      <td>NaN</td>\n",
       "      <td>NaN</td>\n",
       "      <td>NaN</td>\n",
       "    </tr>\n",
       "    <tr>\n",
       "      <th>Engine</th>\n",
       "      <td>7207</td>\n",
       "      <td>150</td>\n",
       "      <td>1197 CC</td>\n",
       "      <td>732</td>\n",
       "      <td>NaN</td>\n",
       "      <td>NaN</td>\n",
       "      <td>NaN</td>\n",
       "      <td>NaN</td>\n",
       "      <td>NaN</td>\n",
       "      <td>NaN</td>\n",
       "      <td>NaN</td>\n",
       "    </tr>\n",
       "    <tr>\n",
       "      <th>Power</th>\n",
       "      <td>7078</td>\n",
       "      <td>385</td>\n",
       "      <td>74 bhp</td>\n",
       "      <td>280</td>\n",
       "      <td>NaN</td>\n",
       "      <td>NaN</td>\n",
       "      <td>NaN</td>\n",
       "      <td>NaN</td>\n",
       "      <td>NaN</td>\n",
       "      <td>NaN</td>\n",
       "      <td>NaN</td>\n",
       "    </tr>\n",
       "    <tr>\n",
       "      <th>Seats</th>\n",
       "      <td>7200.0</td>\n",
       "      <td>NaN</td>\n",
       "      <td>NaN</td>\n",
       "      <td>NaN</td>\n",
       "      <td>5.279722</td>\n",
       "      <td>0.81166</td>\n",
       "      <td>0.0</td>\n",
       "      <td>5.0</td>\n",
       "      <td>5.0</td>\n",
       "      <td>5.0</td>\n",
       "      <td>10.0</td>\n",
       "    </tr>\n",
       "    <tr>\n",
       "      <th>New_Price</th>\n",
       "      <td>7253.0</td>\n",
       "      <td>NaN</td>\n",
       "      <td>NaN</td>\n",
       "      <td>NaN</td>\n",
       "      <td>21.307322</td>\n",
       "      <td>24.256314</td>\n",
       "      <td>3.91</td>\n",
       "      <td>7.88</td>\n",
       "      <td>11.3</td>\n",
       "      <td>21.69</td>\n",
       "      <td>375.0</td>\n",
       "    </tr>\n",
       "    <tr>\n",
       "      <th>Price</th>\n",
       "      <td>6019.0</td>\n",
       "      <td>NaN</td>\n",
       "      <td>NaN</td>\n",
       "      <td>NaN</td>\n",
       "      <td>9.479468</td>\n",
       "      <td>11.187917</td>\n",
       "      <td>0.44</td>\n",
       "      <td>3.5</td>\n",
       "      <td>5.64</td>\n",
       "      <td>9.95</td>\n",
       "      <td>160.0</td>\n",
       "    </tr>\n",
       "  </tbody>\n",
       "</table>\n",
       "</div>"
      ],
      "text/plain": [
       "                    count unique                     top  freq          mean  \\\n",
       "Name                 7253   2041  Mahindra XUV500 W8 2WD    55           NaN   \n",
       "Location             7253     11                  Mumbai   949           NaN   \n",
       "Year               7253.0    NaN                     NaN   NaN   2013.365366   \n",
       "Kilometers_Driven  7253.0    NaN                     NaN   NaN  58699.063146   \n",
       "Fuel_Type            7253      5                  Diesel  3852           NaN   \n",
       "Transmission         7253      2                  Manual  5204           NaN   \n",
       "Owner_Type           7253      4                   First  5952           NaN   \n",
       "Mileage              7251    450               17.0 kmpl   207           NaN   \n",
       "Engine               7207    150                 1197 CC   732           NaN   \n",
       "Power                7078    385                  74 bhp   280           NaN   \n",
       "Seats              7200.0    NaN                     NaN   NaN      5.279722   \n",
       "New_Price          7253.0    NaN                     NaN   NaN     21.307322   \n",
       "Price              6019.0    NaN                     NaN   NaN      9.479468   \n",
       "\n",
       "                            std     min      25%      50%      75%        max  \n",
       "Name                        NaN     NaN      NaN      NaN      NaN        NaN  \n",
       "Location                    NaN     NaN      NaN      NaN      NaN        NaN  \n",
       "Year                   3.254421  1996.0   2011.0   2014.0   2016.0     2019.0  \n",
       "Kilometers_Driven  84427.720583   171.0  34000.0  53416.0  73000.0  6500000.0  \n",
       "Fuel_Type                   NaN     NaN      NaN      NaN      NaN        NaN  \n",
       "Transmission                NaN     NaN      NaN      NaN      NaN        NaN  \n",
       "Owner_Type                  NaN     NaN      NaN      NaN      NaN        NaN  \n",
       "Mileage                     NaN     NaN      NaN      NaN      NaN        NaN  \n",
       "Engine                      NaN     NaN      NaN      NaN      NaN        NaN  \n",
       "Power                       NaN     NaN      NaN      NaN      NaN        NaN  \n",
       "Seats                   0.81166     0.0      5.0      5.0      5.0       10.0  \n",
       "New_Price             24.256314    3.91     7.88     11.3    21.69      375.0  \n",
       "Price                 11.187917    0.44      3.5     5.64     9.95      160.0  "
      ]
     },
     "execution_count": 97,
     "metadata": {},
     "output_type": "execute_result"
    }
   ],
   "source": [
    "# Let's look at the statistical summary of the data\n",
    "df.describe(include='all').T"
   ]
  },
  {
   "cell_type": "code",
   "execution_count": 98,
   "id": "58648531",
   "metadata": {},
   "outputs": [
    {
     "data": {
      "text/plain": [
       "(7253, 13)"
      ]
     },
     "execution_count": 98,
     "metadata": {},
     "output_type": "execute_result"
    }
   ],
   "source": [
    "# check shape \n",
    "df.shape"
   ]
  },
  {
   "cell_type": "code",
   "execution_count": 99,
   "id": "0a85b351",
   "metadata": {},
   "outputs": [
    {
     "name": "stdout",
     "output_type": "stream",
     "text": [
      "<class 'pandas.core.frame.DataFrame'>\n",
      "RangeIndex: 7253 entries, 0 to 7252\n",
      "Data columns (total 13 columns):\n",
      " #   Column             Non-Null Count  Dtype  \n",
      "---  ------             --------------  -----  \n",
      " 0   Name               7253 non-null   object \n",
      " 1   Location           7253 non-null   object \n",
      " 2   Year               7253 non-null   int64  \n",
      " 3   Kilometers_Driven  7253 non-null   int64  \n",
      " 4   Fuel_Type          7253 non-null   object \n",
      " 5   Transmission       7253 non-null   object \n",
      " 6   Owner_Type         7253 non-null   object \n",
      " 7   Mileage            7251 non-null   object \n",
      " 8   Engine             7207 non-null   object \n",
      " 9   Power              7078 non-null   object \n",
      " 10  Seats              7200 non-null   float64\n",
      " 11  New_Price          7253 non-null   float64\n",
      " 12  Price              6019 non-null   float64\n",
      "dtypes: float64(3), int64(2), object(8)\n",
      "memory usage: 736.8+ KB\n"
     ]
    }
   ],
   "source": [
    "df.info()"
   ]
  },
  {
   "cell_type": "code",
   "execution_count": 100,
   "id": "f92e2efa",
   "metadata": {},
   "outputs": [
    {
     "data": {
      "text/plain": [
       "Name                    0\n",
       "Location                0\n",
       "Year                    0\n",
       "Kilometers_Driven       0\n",
       "Fuel_Type               0\n",
       "Transmission            0\n",
       "Owner_Type              0\n",
       "Mileage                 2\n",
       "Engine                 46\n",
       "Power                 175\n",
       "Seats                  53\n",
       "New_Price               0\n",
       "Price                1234\n",
       "dtype: int64"
      ]
     },
     "execution_count": 100,
     "metadata": {},
     "output_type": "execute_result"
    }
   ],
   "source": [
    "df.isnull().sum()"
   ]
  },
  {
   "cell_type": "code",
   "execution_count": 101,
   "id": "cb6fe6ab",
   "metadata": {},
   "outputs": [],
   "source": [
    "# Drop Na of the lists alongside the Target values \n",
    "df.dropna(subset = [\"Engine\", \"Power\", \"Seats\", \"Mileage\", \"Price\"] , inplace=True)"
   ]
  },
  {
   "cell_type": "code",
   "execution_count": 102,
   "id": "db378d76",
   "metadata": {},
   "outputs": [
    {
     "data": {
      "text/plain": [
       "(5872,)"
      ]
     },
     "execution_count": 102,
     "metadata": {},
     "output_type": "execute_result"
    }
   ],
   "source": [
    "df[\"Price\"].shape"
   ]
  },
  {
   "cell_type": "code",
   "execution_count": 103,
   "id": "2cbb52dc",
   "metadata": {},
   "outputs": [
    {
     "data": {
      "text/plain": [
       "(5872, 13)"
      ]
     },
     "execution_count": 103,
     "metadata": {},
     "output_type": "execute_result"
    }
   ],
   "source": [
    "df.shape"
   ]
  },
  {
   "cell_type": "code",
   "execution_count": 104,
   "id": "ec849c1a",
   "metadata": {
    "scrolled": false
   },
   "outputs": [
    {
     "data": {
      "text/plain": [
       "Name                 0\n",
       "Location             0\n",
       "Year                 0\n",
       "Kilometers_Driven    0\n",
       "Fuel_Type            0\n",
       "Transmission         0\n",
       "Owner_Type           0\n",
       "Mileage              0\n",
       "Engine               0\n",
       "Power                0\n",
       "Seats                0\n",
       "New_Price            0\n",
       "Price                0\n",
       "dtype: int64"
      ]
     },
     "execution_count": 104,
     "metadata": {},
     "output_type": "execute_result"
    }
   ],
   "source": [
    "df.isnull().sum()"
   ]
  },
  {
   "cell_type": "code",
   "execution_count": 105,
   "id": "7d5bdc73",
   "metadata": {},
   "outputs": [],
   "source": [
    "df[\"Fuel_Type\"] = df[\"Fuel_Type\"].transform(lambda x: x if x in [\"Diesel\", \"Petrol\"] else \"Others\")"
   ]
  },
  {
   "cell_type": "code",
   "execution_count": 106,
   "id": "96b27a48",
   "metadata": {},
   "outputs": [
    {
     "data": {
      "text/plain": [
       "array(['Others', 'Diesel', 'Petrol'], dtype=object)"
      ]
     },
     "execution_count": 106,
     "metadata": {},
     "output_type": "execute_result"
    }
   ],
   "source": [
    "df[\"Fuel_Type\"].unique()"
   ]
  },
  {
   "cell_type": "code",
   "execution_count": 107,
   "id": "246ef34a",
   "metadata": {},
   "outputs": [],
   "source": [
    "# using a km/kg equivalent to 1.40km/l conversion rate and creating a new column having the metric as a Column attribute with the column name  \n",
    "Mileage_New= []\n",
    "for i in df[\"Mileage\"]:\n",
    "    if str(i).endswith('km/kg'):\n",
    "        i = i[:-6]\n",
    "        i = float(i)*1.40\n",
    "        Mileage_New.append(float(i))\n",
    "    elif str(i).endswith('kmpl'):\n",
    "        i = i[:-6]\n",
    "        Mileage_New.append(float(i))\n",
    "df[\"Mileage_KMPL\"] = Mileage_New"
   ]
  },
  {
   "cell_type": "code",
   "execution_count": 108,
   "id": "3643a435",
   "metadata": {},
   "outputs": [],
   "source": [
    "# df[\"Names\"]=df[\"Name\"].transform(lambda x: x.split(\" \")[0])"
   ]
  },
  {
   "cell_type": "code",
   "execution_count": 109,
   "id": "6a4e60c6",
   "metadata": {},
   "outputs": [],
   "source": [
    "#I dropped name, location and Year as they are external features to components that will contribute to the model; hence was dropped. \n",
    "df.drop([\"Name\", \"Location\",\"Year\"], axis = 1, inplace =True)"
   ]
  },
  {
   "cell_type": "code",
   "execution_count": 110,
   "id": "2f708cf9",
   "metadata": {},
   "outputs": [],
   "source": [
    "# Modifying the Power column to have a \"bhp\" as a metric to its column and removing the bhp from the column elements  \n",
    "Power_bhp= []\n",
    "for i in df[\"Power\"]:\n",
    "    if str(i).endswith('bhp'):\n",
    "        i = i[:-4]\n",
    "        i = float(i)\n",
    "        Power_bhp.append(i)\n",
    "                                        "
   ]
  },
  {
   "cell_type": "code",
   "execution_count": 111,
   "id": "45df1506",
   "metadata": {},
   "outputs": [
    {
     "data": {
      "text/plain": [
       "0        58.16\n",
       "1       126.20\n",
       "2        88.70\n",
       "3        88.76\n",
       "4       140.80\n",
       "         ...  \n",
       "6014     74.00\n",
       "6015     71.00\n",
       "6016    112.00\n",
       "6017     67.10\n",
       "6018     57.60\n",
       "Name: Power_bhp, Length: 5872, dtype: float64"
      ]
     },
     "execution_count": 111,
     "metadata": {},
     "output_type": "execute_result"
    }
   ],
   "source": [
    "df[\"Power_bhp\"] = Power_bhp\n",
    "df[\"Power_bhp\"] "
   ]
  },
  {
   "cell_type": "code",
   "execution_count": 112,
   "id": "f161fe33",
   "metadata": {},
   "outputs": [],
   "source": [
    "# Modifying the Engine column to have a \"CC - Cylinder Capacity\" as a metric to its column and removing the CC from the column elements  \n",
    "Engine_CC= []\n",
    "for i in df[\"Engine\"]:\n",
    "    if str(i).endswith('CC'):\n",
    "        i = i[:-4]\n",
    "        i = float(i)\n",
    "        Engine_CC.append(i)"
   ]
  },
  {
   "cell_type": "code",
   "execution_count": 113,
   "id": "0de40078",
   "metadata": {},
   "outputs": [],
   "source": [
    "df[\"Engine_CC\"] =  Engine_CC"
   ]
  },
  {
   "cell_type": "code",
   "execution_count": 114,
   "id": "87652347",
   "metadata": {},
   "outputs": [],
   "source": [
    "# I decided to drop the these list of column as the new Engine, Power and Mileage column are same version except that it now has its metric spelt with the column name \n",
    "df.drop([\"Mileage\", \"Engine\", \"Power\"], axis = 1, inplace = True) "
   ]
  },
  {
   "cell_type": "code",
   "execution_count": 115,
   "id": "5ab5c3dc",
   "metadata": {},
   "outputs": [
    {
     "data": {
      "text/html": [
       "<div>\n",
       "<style scoped>\n",
       "    .dataframe tbody tr th:only-of-type {\n",
       "        vertical-align: middle;\n",
       "    }\n",
       "\n",
       "    .dataframe tbody tr th {\n",
       "        vertical-align: top;\n",
       "    }\n",
       "\n",
       "    .dataframe thead th {\n",
       "        text-align: right;\n",
       "    }\n",
       "</style>\n",
       "<table border=\"1\" class=\"dataframe\">\n",
       "  <thead>\n",
       "    <tr style=\"text-align: right;\">\n",
       "      <th></th>\n",
       "      <th>count</th>\n",
       "      <th>unique</th>\n",
       "      <th>top</th>\n",
       "      <th>freq</th>\n",
       "      <th>mean</th>\n",
       "      <th>std</th>\n",
       "      <th>min</th>\n",
       "      <th>25%</th>\n",
       "      <th>50%</th>\n",
       "      <th>75%</th>\n",
       "      <th>max</th>\n",
       "    </tr>\n",
       "  </thead>\n",
       "  <tbody>\n",
       "    <tr>\n",
       "      <th>Kilometers_Driven</th>\n",
       "      <td>5872.0</td>\n",
       "      <td>NaN</td>\n",
       "      <td>NaN</td>\n",
       "      <td>NaN</td>\n",
       "      <td>58316.999149</td>\n",
       "      <td>92169.410006</td>\n",
       "      <td>171.0</td>\n",
       "      <td>33422.5</td>\n",
       "      <td>52609.0</td>\n",
       "      <td>72402.75</td>\n",
       "      <td>6500000.0</td>\n",
       "    </tr>\n",
       "    <tr>\n",
       "      <th>Fuel_Type</th>\n",
       "      <td>5872</td>\n",
       "      <td>3</td>\n",
       "      <td>Diesel</td>\n",
       "      <td>3152</td>\n",
       "      <td>NaN</td>\n",
       "      <td>NaN</td>\n",
       "      <td>NaN</td>\n",
       "      <td>NaN</td>\n",
       "      <td>NaN</td>\n",
       "      <td>NaN</td>\n",
       "      <td>NaN</td>\n",
       "    </tr>\n",
       "    <tr>\n",
       "      <th>Transmission</th>\n",
       "      <td>5872</td>\n",
       "      <td>2</td>\n",
       "      <td>Manual</td>\n",
       "      <td>4170</td>\n",
       "      <td>NaN</td>\n",
       "      <td>NaN</td>\n",
       "      <td>NaN</td>\n",
       "      <td>NaN</td>\n",
       "      <td>NaN</td>\n",
       "      <td>NaN</td>\n",
       "      <td>NaN</td>\n",
       "    </tr>\n",
       "    <tr>\n",
       "      <th>Owner_Type</th>\n",
       "      <td>5872</td>\n",
       "      <td>4</td>\n",
       "      <td>First</td>\n",
       "      <td>4839</td>\n",
       "      <td>NaN</td>\n",
       "      <td>NaN</td>\n",
       "      <td>NaN</td>\n",
       "      <td>NaN</td>\n",
       "      <td>NaN</td>\n",
       "      <td>NaN</td>\n",
       "      <td>NaN</td>\n",
       "    </tr>\n",
       "    <tr>\n",
       "      <th>Seats</th>\n",
       "      <td>5872.0</td>\n",
       "      <td>NaN</td>\n",
       "      <td>NaN</td>\n",
       "      <td>NaN</td>\n",
       "      <td>5.283719</td>\n",
       "      <td>0.805081</td>\n",
       "      <td>2.0</td>\n",
       "      <td>5.0</td>\n",
       "      <td>5.0</td>\n",
       "      <td>5.0</td>\n",
       "      <td>10.0</td>\n",
       "    </tr>\n",
       "    <tr>\n",
       "      <th>New_Price</th>\n",
       "      <td>5872.0</td>\n",
       "      <td>NaN</td>\n",
       "      <td>NaN</td>\n",
       "      <td>NaN</td>\n",
       "      <td>21.635792</td>\n",
       "      <td>24.278063</td>\n",
       "      <td>3.91</td>\n",
       "      <td>7.96</td>\n",
       "      <td>11.3</td>\n",
       "      <td>23.1525</td>\n",
       "      <td>375.0</td>\n",
       "    </tr>\n",
       "    <tr>\n",
       "      <th>Price</th>\n",
       "      <td>5872.0</td>\n",
       "      <td>NaN</td>\n",
       "      <td>NaN</td>\n",
       "      <td>NaN</td>\n",
       "      <td>9.603919</td>\n",
       "      <td>11.249453</td>\n",
       "      <td>0.44</td>\n",
       "      <td>3.5175</td>\n",
       "      <td>5.75</td>\n",
       "      <td>10.0</td>\n",
       "      <td>160.0</td>\n",
       "    </tr>\n",
       "    <tr>\n",
       "      <th>Mileage_KMPL</th>\n",
       "      <td>5872.0</td>\n",
       "      <td>NaN</td>\n",
       "      <td>NaN</td>\n",
       "      <td>NaN</td>\n",
       "      <td>18.134156</td>\n",
       "      <td>4.695584</td>\n",
       "      <td>0.0</td>\n",
       "      <td>15.0</td>\n",
       "      <td>18.0</td>\n",
       "      <td>21.0</td>\n",
       "      <td>46.956</td>\n",
       "    </tr>\n",
       "    <tr>\n",
       "      <th>Power_bhp</th>\n",
       "      <td>5872.0</td>\n",
       "      <td>NaN</td>\n",
       "      <td>NaN</td>\n",
       "      <td>NaN</td>\n",
       "      <td>113.276894</td>\n",
       "      <td>53.881892</td>\n",
       "      <td>34.2</td>\n",
       "      <td>75.0</td>\n",
       "      <td>97.7</td>\n",
       "      <td>138.1</td>\n",
       "      <td>560.0</td>\n",
       "    </tr>\n",
       "    <tr>\n",
       "      <th>Engine_CC</th>\n",
       "      <td>5872.0</td>\n",
       "      <td>NaN</td>\n",
       "      <td>NaN</td>\n",
       "      <td>NaN</td>\n",
       "      <td>161.950102</td>\n",
       "      <td>60.21374</td>\n",
       "      <td>62.0</td>\n",
       "      <td>119.0</td>\n",
       "      <td>149.0</td>\n",
       "      <td>199.0</td>\n",
       "      <td>599.0</td>\n",
       "    </tr>\n",
       "  </tbody>\n",
       "</table>\n",
       "</div>"
      ],
      "text/plain": [
       "                    count unique     top  freq          mean           std  \\\n",
       "Kilometers_Driven  5872.0    NaN     NaN   NaN  58316.999149  92169.410006   \n",
       "Fuel_Type            5872      3  Diesel  3152           NaN           NaN   \n",
       "Transmission         5872      2  Manual  4170           NaN           NaN   \n",
       "Owner_Type           5872      4   First  4839           NaN           NaN   \n",
       "Seats              5872.0    NaN     NaN   NaN      5.283719      0.805081   \n",
       "New_Price          5872.0    NaN     NaN   NaN     21.635792     24.278063   \n",
       "Price              5872.0    NaN     NaN   NaN      9.603919     11.249453   \n",
       "Mileage_KMPL       5872.0    NaN     NaN   NaN     18.134156      4.695584   \n",
       "Power_bhp          5872.0    NaN     NaN   NaN    113.276894     53.881892   \n",
       "Engine_CC          5872.0    NaN     NaN   NaN    161.950102      60.21374   \n",
       "\n",
       "                     min      25%      50%       75%        max  \n",
       "Kilometers_Driven  171.0  33422.5  52609.0  72402.75  6500000.0  \n",
       "Fuel_Type            NaN      NaN      NaN       NaN        NaN  \n",
       "Transmission         NaN      NaN      NaN       NaN        NaN  \n",
       "Owner_Type           NaN      NaN      NaN       NaN        NaN  \n",
       "Seats                2.0      5.0      5.0       5.0       10.0  \n",
       "New_Price           3.91     7.96     11.3   23.1525      375.0  \n",
       "Price               0.44   3.5175     5.75      10.0      160.0  \n",
       "Mileage_KMPL         0.0     15.0     18.0      21.0     46.956  \n",
       "Power_bhp           34.2     75.0     97.7     138.1      560.0  \n",
       "Engine_CC           62.0    119.0    149.0     199.0      599.0  "
      ]
     },
     "execution_count": 115,
     "metadata": {},
     "output_type": "execute_result"
    }
   ],
   "source": [
    "# Let's look at the statistical summary of the data\n",
    "df.describe(include='all').T"
   ]
  },
  {
   "cell_type": "code",
   "execution_count": 116,
   "id": "3147921c",
   "metadata": {},
   "outputs": [
    {
     "name": "stdout",
     "output_type": "stream",
     "text": [
      "<class 'pandas.core.frame.DataFrame'>\n",
      "Int64Index: 5872 entries, 0 to 6018\n",
      "Data columns (total 10 columns):\n",
      " #   Column             Non-Null Count  Dtype  \n",
      "---  ------             --------------  -----  \n",
      " 0   Kilometers_Driven  5872 non-null   int64  \n",
      " 1   Fuel_Type          5872 non-null   object \n",
      " 2   Transmission       5872 non-null   object \n",
      " 3   Owner_Type         5872 non-null   object \n",
      " 4   Seats              5872 non-null   float64\n",
      " 5   New_Price          5872 non-null   float64\n",
      " 6   Price              5872 non-null   float64\n",
      " 7   Mileage_KMPL       5872 non-null   float64\n",
      " 8   Power_bhp          5872 non-null   float64\n",
      " 9   Engine_CC          5872 non-null   float64\n",
      "dtypes: float64(6), int64(1), object(3)\n",
      "memory usage: 504.6+ KB\n"
     ]
    }
   ],
   "source": [
    "df.info()"
   ]
  },
  {
   "cell_type": "code",
   "execution_count": 117,
   "id": "38a310b9",
   "metadata": {},
   "outputs": [],
   "source": [
    "# Convert seat to a category type \n",
    "df[\"Seats\"] = df[\"Seats\"].astype(\"category\")"
   ]
  },
  {
   "cell_type": "code",
   "execution_count": 118,
   "id": "dcb0de65",
   "metadata": {},
   "outputs": [
    {
     "name": "stdout",
     "output_type": "stream",
     "text": [
      "<class 'pandas.core.frame.DataFrame'>\n",
      "Int64Index: 5872 entries, 0 to 6018\n",
      "Data columns (total 10 columns):\n",
      " #   Column             Non-Null Count  Dtype   \n",
      "---  ------             --------------  -----   \n",
      " 0   Kilometers_Driven  5872 non-null   int64   \n",
      " 1   Fuel_Type          5872 non-null   object  \n",
      " 2   Transmission       5872 non-null   object  \n",
      " 3   Owner_Type         5872 non-null   object  \n",
      " 4   Seats              5872 non-null   category\n",
      " 5   New_Price          5872 non-null   float64 \n",
      " 6   Price              5872 non-null   float64 \n",
      " 7   Mileage_KMPL       5872 non-null   float64 \n",
      " 8   Power_bhp          5872 non-null   float64 \n",
      " 9   Engine_CC          5872 non-null   float64 \n",
      "dtypes: category(1), float64(5), int64(1), object(3)\n",
      "memory usage: 464.8+ KB\n"
     ]
    }
   ],
   "source": [
    "df.info()"
   ]
  },
  {
   "cell_type": "markdown",
   "id": "c000156e",
   "metadata": {},
   "source": [
    "## EDA "
   ]
  },
  {
   "cell_type": "code",
   "execution_count": 119,
   "id": "e5b2f296",
   "metadata": {},
   "outputs": [
    {
     "data": {
      "text/html": [
       "<div>\n",
       "<style scoped>\n",
       "    .dataframe tbody tr th:only-of-type {\n",
       "        vertical-align: middle;\n",
       "    }\n",
       "\n",
       "    .dataframe tbody tr th {\n",
       "        vertical-align: top;\n",
       "    }\n",
       "\n",
       "    .dataframe thead th {\n",
       "        text-align: right;\n",
       "    }\n",
       "</style>\n",
       "<table border=\"1\" class=\"dataframe\">\n",
       "  <thead>\n",
       "    <tr style=\"text-align: right;\">\n",
       "      <th></th>\n",
       "      <th>Kilometers_Driven</th>\n",
       "      <th>Fuel_Type</th>\n",
       "      <th>Transmission</th>\n",
       "      <th>Owner_Type</th>\n",
       "      <th>Seats</th>\n",
       "      <th>New_Price</th>\n",
       "      <th>Price</th>\n",
       "      <th>Mileage_KMPL</th>\n",
       "      <th>Power_bhp</th>\n",
       "      <th>Engine_CC</th>\n",
       "    </tr>\n",
       "  </thead>\n",
       "  <tbody>\n",
       "    <tr>\n",
       "      <th>0</th>\n",
       "      <td>72000</td>\n",
       "      <td>Others</td>\n",
       "      <td>Manual</td>\n",
       "      <td>First</td>\n",
       "      <td>5.0</td>\n",
       "      <td>5.51</td>\n",
       "      <td>1.75</td>\n",
       "      <td>37.24</td>\n",
       "      <td>58.16</td>\n",
       "      <td>99.0</td>\n",
       "    </tr>\n",
       "    <tr>\n",
       "      <th>1</th>\n",
       "      <td>41000</td>\n",
       "      <td>Diesel</td>\n",
       "      <td>Manual</td>\n",
       "      <td>First</td>\n",
       "      <td>5.0</td>\n",
       "      <td>16.06</td>\n",
       "      <td>12.50</td>\n",
       "      <td>19.60</td>\n",
       "      <td>126.20</td>\n",
       "      <td>158.0</td>\n",
       "    </tr>\n",
       "  </tbody>\n",
       "</table>\n",
       "</div>"
      ],
      "text/plain": [
       "   Kilometers_Driven Fuel_Type Transmission Owner_Type Seats  New_Price  \\\n",
       "0              72000    Others       Manual      First   5.0       5.51   \n",
       "1              41000    Diesel       Manual      First   5.0      16.06   \n",
       "\n",
       "   Price  Mileage_KMPL  Power_bhp  Engine_CC  \n",
       "0   1.75         37.24      58.16       99.0  \n",
       "1  12.50         19.60     126.20      158.0  "
      ]
     },
     "execution_count": 119,
     "metadata": {},
     "output_type": "execute_result"
    }
   ],
   "source": [
    "df.head(2)"
   ]
  },
  {
   "cell_type": "code",
   "execution_count": 120,
   "id": "4a934b08",
   "metadata": {},
   "outputs": [],
   "source": [
    "# Using the Utility Function for Visualising \n",
    "from utils import histogram_boxplot, labeled_barplot"
   ]
  },
  {
   "cell_type": "markdown",
   "id": "38d1dd10",
   "metadata": {},
   "source": [
    "### Univariate Plotting to show the probabaility distribution"
   ]
  },
  {
   "cell_type": "markdown",
   "id": "97b90f4e",
   "metadata": {},
   "source": [
    "#### Price the Target column "
   ]
  },
  {
   "cell_type": "code",
   "execution_count": 121,
   "id": "b8818cc3",
   "metadata": {},
   "outputs": [
    {
     "data": {
      "image/png": "[encoded data removed]",
      "text/plain": [
       "<Figure size 648x360 with 2 Axes>"
      ]
     },
     "metadata": {},
     "output_type": "display_data"
    }
   ],
   "source": [
    "histogram_boxplot(data = df, feature = \"Price\")"
   ]
  },
  {
   "cell_type": "markdown",
   "id": "33f82543",
   "metadata": {},
   "source": [
    "#### Transforming the price and determining the distribution "
   ]
  },
  {
   "cell_type": "code",
   "execution_count": 122,
   "id": "2f25454c",
   "metadata": {},
   "outputs": [],
   "source": [
    "df[\"Log_Price\"] = np.log(df[\"Price\"])\n"
   ]
  },
  {
   "cell_type": "code",
   "execution_count": 123,
   "id": "200fd662",
   "metadata": {},
   "outputs": [
    {
     "data": {
      "image/png": "[encoded data removed]",
      "text/plain": [
       "<Figure size 648x360 with 2 Axes>"
      ]
     },
     "metadata": {},
     "output_type": "display_data"
    }
   ],
   "source": [
    "histogram_boxplot(data = df, feature = \"Log_Price\")"
   ]
  },
  {
   "cell_type": "markdown",
   "id": "da25b29e",
   "metadata": {},
   "source": [
    "##### Observations \n",
    "\n",
    "1. There are outliers at the the iupper and lower limit; having taken the log of the the target, the distribution now obey linearity rule to a greta extent except for Outliers that will be treated "
   ]
  },
  {
   "cell_type": "markdown",
   "id": "dac03f20",
   "metadata": {},
   "source": [
    "#### Observations and Actions \n",
    "1. As can see our Target Variable is right skewed from the probability distribution which requires a correction in order to obey the linearity rule; hence, a log of the variable will be required \n",
    "2. There seem outliers at the upper limit which is also noted for further action "
   ]
  },
  {
   "cell_type": "markdown",
   "id": "0ee94bcf",
   "metadata": {},
   "source": [
    "#### New Price Column Probability Distribution "
   ]
  },
  {
   "cell_type": "code",
   "execution_count": 124,
   "id": "ab8a3aa7",
   "metadata": {},
   "outputs": [
    {
     "data": {
      "image/png": "[encoded data removed]",
      "text/plain": [
       "<Figure size 648x360 with 2 Axes>"
      ]
     },
     "metadata": {},
     "output_type": "display_data"
    }
   ],
   "source": [
    "histogram_boxplot(data = df, feature = \"New_Price\")\n",
    "\n",
    "# This is right skewwed and we have an average cost of new car fall at about 20-25million DOllars "
   ]
  },
  {
   "cell_type": "markdown",
   "id": "e3cf04b1",
   "metadata": {},
   "source": [
    "#### Kilometers_Driven"
   ]
  },
  {
   "cell_type": "code",
   "execution_count": 125,
   "id": "23fb6fe3",
   "metadata": {},
   "outputs": [
    {
     "data": {
      "image/png": "[encoded data removed]",
      "text/plain": [
       "<Figure size 648x360 with 2 Axes>"
      ]
     },
     "metadata": {},
     "output_type": "display_data"
    }
   ],
   "source": [
    "histogram_boxplot(data = df, feature = \"Kilometers_Driven\")"
   ]
  },
  {
   "cell_type": "markdown",
   "id": "ef87c8de",
   "metadata": {},
   "source": [
    "Observations \n",
    "\n",
    "The Kilometer driven Column is right skewwed and there are outliers to the Upper limit "
   ]
  },
  {
   "cell_type": "markdown",
   "id": "3552f04e",
   "metadata": {},
   "source": [
    "#### Mileage Distribution Plot "
   ]
  },
  {
   "cell_type": "code",
   "execution_count": 126,
   "id": "3f604c78",
   "metadata": {},
   "outputs": [
    {
     "data": {
      "image/png": "[encoded data removed]",
      "text/plain": [
       "<Figure size 648x360 with 2 Axes>"
      ]
     },
     "metadata": {},
     "output_type": "display_data"
    }
   ],
   "source": [
    "histogram_boxplot(data = df, feature = \"Mileage_KMPL\")\n",
    "# The Mileage is normally distributed with outliers in the upper limit  "
   ]
  },
  {
   "cell_type": "markdown",
   "id": "08bcd9bd",
   "metadata": {},
   "source": [
    "#### Brake Horse Power Distribution Plot "
   ]
  },
  {
   "cell_type": "code",
   "execution_count": 127,
   "id": "8d0fcce3",
   "metadata": {},
   "outputs": [
    {
     "data": {
      "image/png": "[encoded data removed]",
      "text/plain": [
       "<Figure size 648x360 with 2 Axes>"
      ]
     },
     "metadata": {},
     "output_type": "display_data"
    }
   ],
   "source": [
    "histogram_boxplot(data = df, feature = \"Power_bhp\")\n",
    "# The brake horse Power is close to a normally distributed plot and outliers at the upper limit  "
   ]
  },
  {
   "cell_type": "code",
   "execution_count": null,
   "id": "baf3c6d7",
   "metadata": {},
   "outputs": [],
   "source": []
  },
  {
   "cell_type": "markdown",
   "id": "375f5e1b",
   "metadata": {},
   "source": [
    "#### Engine Cylinder Capacity Distribution Plot "
   ]
  },
  {
   "cell_type": "code",
   "execution_count": 128,
   "id": "31a3ba95",
   "metadata": {},
   "outputs": [
    {
     "data": {
      "image/png": "[encoded data removed]",
      "text/plain": [
       "<Figure size 648x360 with 2 Axes>"
      ]
     },
     "metadata": {},
     "output_type": "display_data"
    }
   ],
   "source": [
    "histogram_boxplot(data = df, feature = \"Engine_CC\")\n",
    "# The Engine Cylinder Capacity is a distribution curve and its close to a normally distribution plot; also, having otliers at the upper limit "
   ]
  },
  {
   "cell_type": "code",
   "execution_count": null,
   "id": "19c1ae8a",
   "metadata": {},
   "outputs": [],
   "source": []
  },
  {
   "cell_type": "markdown",
   "id": "a5562be6",
   "metadata": {},
   "source": [
    "#### CATEGORICAL PLOTS "
   ]
  },
  {
   "cell_type": "code",
   "execution_count": 129,
   "id": "f6a06db3",
   "metadata": {},
   "outputs": [
    {
     "data": {
      "image/png": "[encoded data removed]",
      "text/plain": [
       "<Figure size 216x360 with 1 Axes>"
      ]
     },
     "metadata": {},
     "output_type": "display_data"
    }
   ],
   "source": [
    "labeled_barplot(df, \"Transmission\", perc=True)\n",
    "# It is clear that we have a larger number of cars with Manual form of transmission in the dataset "
   ]
  },
  {
   "cell_type": "code",
   "execution_count": 130,
   "id": "971d82a2",
   "metadata": {},
   "outputs": [
    {
     "data": {
      "text/plain": [
       "Index(['Kilometers_Driven', 'Fuel_Type', 'Transmission', 'Owner_Type', 'Seats',\n",
       "       'New_Price', 'Price', 'Mileage_KMPL', 'Power_bhp', 'Engine_CC',\n",
       "       'Log_Price'],\n",
       "      dtype='object')"
      ]
     },
     "execution_count": 130,
     "metadata": {},
     "output_type": "execute_result"
    }
   ],
   "source": [
    "df.columns"
   ]
  },
  {
   "cell_type": "code",
   "execution_count": 131,
   "id": "615ba625",
   "metadata": {},
   "outputs": [
    {
     "data": {
      "image/png": "[encoded data removed]",
      "text/plain": [
       "<Figure size 288x360 with 1 Axes>"
      ]
     },
     "metadata": {},
     "output_type": "display_data"
    }
   ],
   "source": [
    "labeled_barplot(df, \"Fuel_Type\", perc=True)\n",
    "# It is seen that more percentage of the Car uses Diesel follow by the cars in the petrol category; less than 2% uses CNG, LPG and Electric "
   ]
  },
  {
   "cell_type": "code",
   "execution_count": 132,
   "id": "74f13578",
   "metadata": {},
   "outputs": [
    {
     "data": {
      "image/png": "[encoded data removed]",
      "text/plain": [
       "<Figure size 360x360 with 1 Axes>"
      ]
     },
     "metadata": {},
     "output_type": "display_data"
    }
   ],
   "source": [
    "labeled_barplot(df, \"Owner_Type\", perc=True)\n",
    "# It is seen that 98% of the cars fall in the first and second hand user which is a function of how durable it will be, although still dependent of other variables "
   ]
  },
  {
   "cell_type": "code",
   "execution_count": 133,
   "id": "0287e798",
   "metadata": {},
   "outputs": [
    {
     "name": "stderr",
     "output_type": "stream",
     "text": [
      "C:\\Users\\MR OLAWALE\\anaconda3\\lib\\site-packages\\seaborn\\categorical.py:253: FutureWarning: Index.ravel returning ndarray is deprecated; in a future version this will return a view on self.\n",
      "  grouped_vals = vals.groupby(grouper)\n"
     ]
    },
    {
     "data": {
      "image/png": "[encoded data removed]",
      "text/plain": [
       "<Figure size 648x360 with 1 Axes>"
      ]
     },
     "metadata": {},
     "output_type": "display_data"
    }
   ],
   "source": [
    "labeled_barplot(df, \"Seats\", perc=True)\n",
    "# Cars with 5nos seats have higher frequency than others "
   ]
  },
  {
   "cell_type": "code",
   "execution_count": 134,
   "id": "bda464c9",
   "metadata": {},
   "outputs": [
    {
     "data": {
      "text/plain": [
       "Index(['Kilometers_Driven', 'Fuel_Type', 'Transmission', 'Owner_Type', 'Seats',\n",
       "       'New_Price', 'Price', 'Mileage_KMPL', 'Power_bhp', 'Engine_CC',\n",
       "       'Log_Price'],\n",
       "      dtype='object')"
      ]
     },
     "execution_count": 134,
     "metadata": {},
     "output_type": "execute_result"
    }
   ],
   "source": [
    "df.columns"
   ]
  },
  {
   "cell_type": "markdown",
   "id": "cf13fc60",
   "metadata": {},
   "source": [
    "### BIVARIATE ANALYSIS "
   ]
  },
  {
   "cell_type": "code",
   "execution_count": 135,
   "id": "72a54a11",
   "metadata": {},
   "outputs": [
    {
     "data": {
      "image/png": "[encoded data removed]",
      "text/plain": [
       "<Figure size 1080x504 with 2 Axes>"
      ]
     },
     "metadata": {},
     "output_type": "display_data"
    }
   ],
   "source": [
    "df.drop('Price', axis=1, inplace=True)\n",
    "plt.figure(figsize=(15, 7))\n",
    "sns.heatmap(df.corr(), annot=True, vmin=-1, vmax=1, fmt=\".2f\", cmap=\"Spectral\")\n",
    "plt.show()"
   ]
  },
  {
   "cell_type": "markdown",
   "id": "1eb96bb5",
   "metadata": {},
   "source": [
    "#### Observations \n",
    "\n",
    "1. It is clear from the heatmap that Power and Engine will contribute greatly to the Model perfromance \n",
    "2. There is a Multicollinearity issue between the Power-NewPrice, Engine-Power and the NewPrice-Engine Variables which will require regularisation for help correct this "
   ]
  },
  {
   "cell_type": "code",
   "execution_count": 136,
   "id": "0ab30fb4",
   "metadata": {},
   "outputs": [
    {
     "data": {
      "text/plain": [
       "Index(['Kilometers_Driven', 'Fuel_Type', 'Transmission', 'Owner_Type', 'Seats',\n",
       "       'New_Price', 'Mileage_KMPL', 'Power_bhp', 'Engine_CC', 'Log_Price'],\n",
       "      dtype='object')"
      ]
     },
     "execution_count": 136,
     "metadata": {},
     "output_type": "execute_result"
    }
   ],
   "source": [
    "df.columns"
   ]
  },
  {
   "cell_type": "markdown",
   "id": "49f17faf",
   "metadata": {},
   "source": [
    "#### Engine and the Target plotting  "
   ]
  },
  {
   "cell_type": "code",
   "execution_count": 137,
   "id": "84372729",
   "metadata": {},
   "outputs": [
    {
     "data": {
      "image/png": "[encoded data removed]",
      "text/plain": [
       "<Figure size 1080x504 with 1 Axes>"
      ]
     },
     "metadata": {},
     "output_type": "display_data"
    }
   ],
   "source": [
    "plt.figure(figsize=(15, 7))\n",
    "sns.boxplot(y=\"Log_Price\", x=\"Power_bhp\", data=df)\n",
    "plt.show()\n",
    "#It is clear that there is a linearity rule between the target variable:Log Price  and the Engine "
   ]
  },
  {
   "cell_type": "code",
   "execution_count": null,
   "id": "b79bdbb8",
   "metadata": {},
   "outputs": [],
   "source": []
  },
  {
   "cell_type": "markdown",
   "id": "cd8d98ef",
   "metadata": {},
   "source": [
    "#### Target and Engine "
   ]
  },
  {
   "cell_type": "code",
   "execution_count": 138,
   "id": "799d4e3a",
   "metadata": {},
   "outputs": [
    {
     "data": {
      "image/png": "[encoded data removed]",
      "text/plain": [
       "<Figure size 1080x504 with 1 Axes>"
      ]
     },
     "metadata": {},
     "output_type": "display_data"
    }
   ],
   "source": [
    "plt.figure(figsize=(15, 7))\n",
    "sns.boxplot(y=\"Log_Price\", x=\"Engine_CC\", data=df, hue = \"Transmission\")\n",
    "plt.xticks(rotation = 90)\n",
    "plt.show()\n",
    "#There is a linear relationship between the target and the variable"
   ]
  },
  {
   "cell_type": "code",
   "execution_count": null,
   "id": "c1f2791d",
   "metadata": {},
   "outputs": [],
   "source": []
  },
  {
   "cell_type": "code",
   "execution_count": 139,
   "id": "e511f532",
   "metadata": {},
   "outputs": [
    {
     "data": {
      "image/png": "[encoded data removed]",
      "text/plain": [
       "<Figure size 1080x504 with 1 Axes>"
      ]
     },
     "metadata": {},
     "output_type": "display_data"
    }
   ],
   "source": [
    "plt.figure(figsize=(15, 7))\n",
    "sns.boxplot(y=\"Log_Price\", x=\"Mileage_KMPL\", data=df)\n",
    "plt.xticks(rotation = 90)\n",
    "plt.show()\n",
    "#There is also a linear relationship between the Log Price and the Mileage; although, a negative relationship  "
   ]
  },
  {
   "cell_type": "code",
   "execution_count": 140,
   "id": "2fa61811",
   "metadata": {},
   "outputs": [
    {
     "data": {
      "image/png": "[encoded data removed]",
      "text/plain": [
       "<Figure size 1080x504 with 1 Axes>"
      ]
     },
     "metadata": {},
     "output_type": "display_data"
    }
   ],
   "source": [
    "plt.figure(figsize=(15, 7))\n",
    "sns.boxplot(y=\"Log_Price\", x=\"Power_bhp\", data=df)\n",
    "plt.xticks(rotation = 90)\n",
    "plt.show()"
   ]
  },
  {
   "cell_type": "code",
   "execution_count": null,
   "id": "f5b853c8",
   "metadata": {},
   "outputs": [],
   "source": []
  },
  {
   "cell_type": "markdown",
   "id": "c7c60ec4",
   "metadata": {},
   "source": [
    "#### Outlier detection "
   ]
  },
  {
   "cell_type": "code",
   "execution_count": 141,
   "id": "65c83b21",
   "metadata": {},
   "outputs": [],
   "source": [
    "num_cols = df[['Kilometers_Driven','Power_bhp', 'Engine_CC', 'Log_Price','New_Price', \"Mileage_KMPL\"]].columns.to_list()\n",
    "num_cols.remove('Log_Price')"
   ]
  },
  {
   "cell_type": "code",
   "execution_count": 142,
   "id": "d3a04d12",
   "metadata": {},
   "outputs": [
    {
     "data": {
      "image/png": "[encoded data removed]",
      "text/plain": [
       "<Figure size 720x1440 with 5 Axes>"
      ]
     },
     "metadata": {},
     "output_type": "display_data"
    }
   ],
   "source": [
    "# first creat a figure and set the figsize\n",
    "plt.figure(figsize=(10,20))\n",
    "\n",
    "# for each of the columns, itirate to create a boxplot\n",
    "\n",
    "for ind, var in enumerate(num_cols):\n",
    "    #create a subplot\n",
    "    plt.subplot(5, 3,ind + 1)# gridspec_kw=ind + 1)\n",
    "    plt.tight_layout()  # to avoid the title from overlapping\n",
    "    plt.boxplot(df[var])\n",
    "    plt.title(var)"
   ]
  },
  {
   "cell_type": "code",
   "execution_count": null,
   "id": "339ebcca",
   "metadata": {},
   "outputs": [],
   "source": []
  },
  {
   "cell_type": "code",
   "execution_count": 143,
   "id": "442a7b43",
   "metadata": {},
   "outputs": [],
   "source": [
    "def outlier_treat(df, col):\n",
    "    lower = df[col].quantile(0.25)\n",
    "    upper = df[col].quantile(0.75)\n",
    "    iqr = upper - lower\n",
    "    \n",
    "    lower_clip = lower - 1.5 * iqr\n",
    "    upper_clip = upper + 1.5 * iqr\n",
    "    \n",
    "    df[col] = np.clip(df[col], lower_clip, upper_clip)\n",
    "    return df\n",
    "\n",
    "def treat_outliers_all(df, col_list):\n",
    "    \"\"\"\n",
    "    treat outlier in all numerical varaibles\n",
    "    col_list: list of numerical varaibles\n",
    "    df: data frame\n",
    "    \"\"\"\n",
    "    for c in col_list:\n",
    "        df = outlier_treat(df, c)\n",
    "\n",
    "    return df"
   ]
  },
  {
   "cell_type": "code",
   "execution_count": 144,
   "id": "72e27aa0",
   "metadata": {},
   "outputs": [
    {
     "data": {
      "text/html": [
       "<div>\n",
       "<style scoped>\n",
       "    .dataframe tbody tr th:only-of-type {\n",
       "        vertical-align: middle;\n",
       "    }\n",
       "\n",
       "    .dataframe tbody tr th {\n",
       "        vertical-align: top;\n",
       "    }\n",
       "\n",
       "    .dataframe thead th {\n",
       "        text-align: right;\n",
       "    }\n",
       "</style>\n",
       "<table border=\"1\" class=\"dataframe\">\n",
       "  <thead>\n",
       "    <tr style=\"text-align: right;\">\n",
       "      <th></th>\n",
       "      <th>Kilometers_Driven</th>\n",
       "      <th>Fuel_Type</th>\n",
       "      <th>Transmission</th>\n",
       "      <th>Owner_Type</th>\n",
       "      <th>Seats</th>\n",
       "      <th>New_Price</th>\n",
       "      <th>Mileage_KMPL</th>\n",
       "      <th>Power_bhp</th>\n",
       "      <th>Engine_CC</th>\n",
       "      <th>Log_Price</th>\n",
       "    </tr>\n",
       "  </thead>\n",
       "  <tbody>\n",
       "    <tr>\n",
       "      <th>0</th>\n",
       "      <td>72000.0</td>\n",
       "      <td>Others</td>\n",
       "      <td>Manual</td>\n",
       "      <td>First</td>\n",
       "      <td>5.0</td>\n",
       "      <td>5.51000</td>\n",
       "      <td>30.0</td>\n",
       "      <td>58.16</td>\n",
       "      <td>99.0</td>\n",
       "      <td>0.559616</td>\n",
       "    </tr>\n",
       "    <tr>\n",
       "      <th>1</th>\n",
       "      <td>41000.0</td>\n",
       "      <td>Diesel</td>\n",
       "      <td>Manual</td>\n",
       "      <td>First</td>\n",
       "      <td>5.0</td>\n",
       "      <td>16.06000</td>\n",
       "      <td>19.6</td>\n",
       "      <td>126.20</td>\n",
       "      <td>158.0</td>\n",
       "      <td>2.525729</td>\n",
       "    </tr>\n",
       "    <tr>\n",
       "      <th>2</th>\n",
       "      <td>46000.0</td>\n",
       "      <td>Petrol</td>\n",
       "      <td>Manual</td>\n",
       "      <td>First</td>\n",
       "      <td>5.0</td>\n",
       "      <td>8.61000</td>\n",
       "      <td>18.0</td>\n",
       "      <td>88.70</td>\n",
       "      <td>119.0</td>\n",
       "      <td>1.504077</td>\n",
       "    </tr>\n",
       "    <tr>\n",
       "      <th>3</th>\n",
       "      <td>87000.0</td>\n",
       "      <td>Diesel</td>\n",
       "      <td>Manual</td>\n",
       "      <td>First</td>\n",
       "      <td>7.0</td>\n",
       "      <td>11.27000</td>\n",
       "      <td>20.7</td>\n",
       "      <td>88.76</td>\n",
       "      <td>124.0</td>\n",
       "      <td>1.791759</td>\n",
       "    </tr>\n",
       "    <tr>\n",
       "      <th>4</th>\n",
       "      <td>40670.0</td>\n",
       "      <td>Diesel</td>\n",
       "      <td>Automatic</td>\n",
       "      <td>Second</td>\n",
       "      <td>5.0</td>\n",
       "      <td>45.94125</td>\n",
       "      <td>15.0</td>\n",
       "      <td>140.80</td>\n",
       "      <td>196.0</td>\n",
       "      <td>2.875822</td>\n",
       "    </tr>\n",
       "    <tr>\n",
       "      <th>...</th>\n",
       "      <td>...</td>\n",
       "      <td>...</td>\n",
       "      <td>...</td>\n",
       "      <td>...</td>\n",
       "      <td>...</td>\n",
       "      <td>...</td>\n",
       "      <td>...</td>\n",
       "      <td>...</td>\n",
       "      <td>...</td>\n",
       "      <td>...</td>\n",
       "    </tr>\n",
       "    <tr>\n",
       "      <th>6014</th>\n",
       "      <td>27365.0</td>\n",
       "      <td>Diesel</td>\n",
       "      <td>Manual</td>\n",
       "      <td>First</td>\n",
       "      <td>5.0</td>\n",
       "      <td>7.88000</td>\n",
       "      <td>28.0</td>\n",
       "      <td>74.00</td>\n",
       "      <td>124.0</td>\n",
       "      <td>1.558145</td>\n",
       "    </tr>\n",
       "    <tr>\n",
       "      <th>6015</th>\n",
       "      <td>100000.0</td>\n",
       "      <td>Diesel</td>\n",
       "      <td>Manual</td>\n",
       "      <td>First</td>\n",
       "      <td>5.0</td>\n",
       "      <td>8.23000</td>\n",
       "      <td>24.0</td>\n",
       "      <td>71.00</td>\n",
       "      <td>112.0</td>\n",
       "      <td>1.386294</td>\n",
       "    </tr>\n",
       "    <tr>\n",
       "      <th>6016</th>\n",
       "      <td>55000.0</td>\n",
       "      <td>Diesel</td>\n",
       "      <td>Manual</td>\n",
       "      <td>Second</td>\n",
       "      <td>8.0</td>\n",
       "      <td>11.67000</td>\n",
       "      <td>14.0</td>\n",
       "      <td>112.00</td>\n",
       "      <td>249.0</td>\n",
       "      <td>1.064711</td>\n",
       "    </tr>\n",
       "    <tr>\n",
       "      <th>6017</th>\n",
       "      <td>46000.0</td>\n",
       "      <td>Petrol</td>\n",
       "      <td>Manual</td>\n",
       "      <td>First</td>\n",
       "      <td>5.0</td>\n",
       "      <td>5.51000</td>\n",
       "      <td>18.0</td>\n",
       "      <td>67.10</td>\n",
       "      <td>99.0</td>\n",
       "      <td>0.974560</td>\n",
       "    </tr>\n",
       "    <tr>\n",
       "      <th>6018</th>\n",
       "      <td>47000.0</td>\n",
       "      <td>Diesel</td>\n",
       "      <td>Manual</td>\n",
       "      <td>First</td>\n",
       "      <td>5.0</td>\n",
       "      <td>11.30000</td>\n",
       "      <td>25.4</td>\n",
       "      <td>57.60</td>\n",
       "      <td>93.0</td>\n",
       "      <td>0.916291</td>\n",
       "    </tr>\n",
       "  </tbody>\n",
       "</table>\n",
       "<p>5872 rows × 10 columns</p>\n",
       "</div>"
      ],
      "text/plain": [
       "      Kilometers_Driven Fuel_Type Transmission Owner_Type Seats  New_Price  \\\n",
       "0               72000.0    Others       Manual      First   5.0    5.51000   \n",
       "1               41000.0    Diesel       Manual      First   5.0   16.06000   \n",
       "2               46000.0    Petrol       Manual      First   5.0    8.61000   \n",
       "3               87000.0    Diesel       Manual      First   7.0   11.27000   \n",
       "4               40670.0    Diesel    Automatic     Second   5.0   45.94125   \n",
       "...                 ...       ...          ...        ...   ...        ...   \n",
       "6014            27365.0    Diesel       Manual      First   5.0    7.88000   \n",
       "6015           100000.0    Diesel       Manual      First   5.0    8.23000   \n",
       "6016            55000.0    Diesel       Manual     Second   8.0   11.67000   \n",
       "6017            46000.0    Petrol       Manual      First   5.0    5.51000   \n",
       "6018            47000.0    Diesel       Manual      First   5.0   11.30000   \n",
       "\n",
       "      Mileage_KMPL  Power_bhp  Engine_CC  Log_Price  \n",
       "0             30.0      58.16       99.0   0.559616  \n",
       "1             19.6     126.20      158.0   2.525729  \n",
       "2             18.0      88.70      119.0   1.504077  \n",
       "3             20.7      88.76      124.0   1.791759  \n",
       "4             15.0     140.80      196.0   2.875822  \n",
       "...            ...        ...        ...        ...  \n",
       "6014          28.0      74.00      124.0   1.558145  \n",
       "6015          24.0      71.00      112.0   1.386294  \n",
       "6016          14.0     112.00      249.0   1.064711  \n",
       "6017          18.0      67.10       99.0   0.974560  \n",
       "6018          25.4      57.60       93.0   0.916291  \n",
       "\n",
       "[5872 rows x 10 columns]"
      ]
     },
     "execution_count": 144,
     "metadata": {},
     "output_type": "execute_result"
    }
   ],
   "source": [
    "df = treat_outliers_all(df, num_cols)\n",
    "df"
   ]
  },
  {
   "cell_type": "code",
   "execution_count": null,
   "id": "57e72cfe",
   "metadata": {},
   "outputs": [],
   "source": []
  },
  {
   "cell_type": "markdown",
   "id": "220b6076",
   "metadata": {},
   "source": [
    "### Build Model "
   ]
  },
  {
   "cell_type": "code",
   "execution_count": 145,
   "id": "ef192d1d",
   "metadata": {},
   "outputs": [],
   "source": [
    "# define the independent and Dependent variable \n",
    "\n",
    "x = df.drop([\"Log_Price\"], axis=1)\n",
    "\n",
    "y = df[\"Log_Price\"]"
   ]
  },
  {
   "cell_type": "code",
   "execution_count": 146,
   "id": "c7a3b144",
   "metadata": {},
   "outputs": [
    {
     "data": {
      "text/html": [
       "<div>\n",
       "<style scoped>\n",
       "    .dataframe tbody tr th:only-of-type {\n",
       "        vertical-align: middle;\n",
       "    }\n",
       "\n",
       "    .dataframe tbody tr th {\n",
       "        vertical-align: top;\n",
       "    }\n",
       "\n",
       "    .dataframe thead th {\n",
       "        text-align: right;\n",
       "    }\n",
       "</style>\n",
       "<table border=\"1\" class=\"dataframe\">\n",
       "  <thead>\n",
       "    <tr style=\"text-align: right;\">\n",
       "      <th></th>\n",
       "      <th>Kilometers_Driven</th>\n",
       "      <th>Fuel_Type</th>\n",
       "      <th>Transmission</th>\n",
       "      <th>Owner_Type</th>\n",
       "      <th>Seats</th>\n",
       "      <th>New_Price</th>\n",
       "      <th>Mileage_KMPL</th>\n",
       "      <th>Power_bhp</th>\n",
       "      <th>Engine_CC</th>\n",
       "    </tr>\n",
       "  </thead>\n",
       "  <tbody>\n",
       "    <tr>\n",
       "      <th>0</th>\n",
       "      <td>72000.0</td>\n",
       "      <td>Others</td>\n",
       "      <td>Manual</td>\n",
       "      <td>First</td>\n",
       "      <td>5.0</td>\n",
       "      <td>5.51000</td>\n",
       "      <td>30.0</td>\n",
       "      <td>58.16</td>\n",
       "      <td>99.0</td>\n",
       "    </tr>\n",
       "    <tr>\n",
       "      <th>1</th>\n",
       "      <td>41000.0</td>\n",
       "      <td>Diesel</td>\n",
       "      <td>Manual</td>\n",
       "      <td>First</td>\n",
       "      <td>5.0</td>\n",
       "      <td>16.06000</td>\n",
       "      <td>19.6</td>\n",
       "      <td>126.20</td>\n",
       "      <td>158.0</td>\n",
       "    </tr>\n",
       "    <tr>\n",
       "      <th>2</th>\n",
       "      <td>46000.0</td>\n",
       "      <td>Petrol</td>\n",
       "      <td>Manual</td>\n",
       "      <td>First</td>\n",
       "      <td>5.0</td>\n",
       "      <td>8.61000</td>\n",
       "      <td>18.0</td>\n",
       "      <td>88.70</td>\n",
       "      <td>119.0</td>\n",
       "    </tr>\n",
       "    <tr>\n",
       "      <th>3</th>\n",
       "      <td>87000.0</td>\n",
       "      <td>Diesel</td>\n",
       "      <td>Manual</td>\n",
       "      <td>First</td>\n",
       "      <td>7.0</td>\n",
       "      <td>11.27000</td>\n",
       "      <td>20.7</td>\n",
       "      <td>88.76</td>\n",
       "      <td>124.0</td>\n",
       "    </tr>\n",
       "    <tr>\n",
       "      <th>4</th>\n",
       "      <td>40670.0</td>\n",
       "      <td>Diesel</td>\n",
       "      <td>Automatic</td>\n",
       "      <td>Second</td>\n",
       "      <td>5.0</td>\n",
       "      <td>45.94125</td>\n",
       "      <td>15.0</td>\n",
       "      <td>140.80</td>\n",
       "      <td>196.0</td>\n",
       "    </tr>\n",
       "    <tr>\n",
       "      <th>...</th>\n",
       "      <td>...</td>\n",
       "      <td>...</td>\n",
       "      <td>...</td>\n",
       "      <td>...</td>\n",
       "      <td>...</td>\n",
       "      <td>...</td>\n",
       "      <td>...</td>\n",
       "      <td>...</td>\n",
       "      <td>...</td>\n",
       "    </tr>\n",
       "    <tr>\n",
       "      <th>6014</th>\n",
       "      <td>27365.0</td>\n",
       "      <td>Diesel</td>\n",
       "      <td>Manual</td>\n",
       "      <td>First</td>\n",
       "      <td>5.0</td>\n",
       "      <td>7.88000</td>\n",
       "      <td>28.0</td>\n",
       "      <td>74.00</td>\n",
       "      <td>124.0</td>\n",
       "    </tr>\n",
       "    <tr>\n",
       "      <th>6015</th>\n",
       "      <td>100000.0</td>\n",
       "      <td>Diesel</td>\n",
       "      <td>Manual</td>\n",
       "      <td>First</td>\n",
       "      <td>5.0</td>\n",
       "      <td>8.23000</td>\n",
       "      <td>24.0</td>\n",
       "      <td>71.00</td>\n",
       "      <td>112.0</td>\n",
       "    </tr>\n",
       "    <tr>\n",
       "      <th>6016</th>\n",
       "      <td>55000.0</td>\n",
       "      <td>Diesel</td>\n",
       "      <td>Manual</td>\n",
       "      <td>Second</td>\n",
       "      <td>8.0</td>\n",
       "      <td>11.67000</td>\n",
       "      <td>14.0</td>\n",
       "      <td>112.00</td>\n",
       "      <td>249.0</td>\n",
       "    </tr>\n",
       "    <tr>\n",
       "      <th>6017</th>\n",
       "      <td>46000.0</td>\n",
       "      <td>Petrol</td>\n",
       "      <td>Manual</td>\n",
       "      <td>First</td>\n",
       "      <td>5.0</td>\n",
       "      <td>5.51000</td>\n",
       "      <td>18.0</td>\n",
       "      <td>67.10</td>\n",
       "      <td>99.0</td>\n",
       "    </tr>\n",
       "    <tr>\n",
       "      <th>6018</th>\n",
       "      <td>47000.0</td>\n",
       "      <td>Diesel</td>\n",
       "      <td>Manual</td>\n",
       "      <td>First</td>\n",
       "      <td>5.0</td>\n",
       "      <td>11.30000</td>\n",
       "      <td>25.4</td>\n",
       "      <td>57.60</td>\n",
       "      <td>93.0</td>\n",
       "    </tr>\n",
       "  </tbody>\n",
       "</table>\n",
       "<p>5872 rows × 9 columns</p>\n",
       "</div>"
      ],
      "text/plain": [
       "      Kilometers_Driven Fuel_Type Transmission Owner_Type Seats  New_Price  \\\n",
       "0               72000.0    Others       Manual      First   5.0    5.51000   \n",
       "1               41000.0    Diesel       Manual      First   5.0   16.06000   \n",
       "2               46000.0    Petrol       Manual      First   5.0    8.61000   \n",
       "3               87000.0    Diesel       Manual      First   7.0   11.27000   \n",
       "4               40670.0    Diesel    Automatic     Second   5.0   45.94125   \n",
       "...                 ...       ...          ...        ...   ...        ...   \n",
       "6014            27365.0    Diesel       Manual      First   5.0    7.88000   \n",
       "6015           100000.0    Diesel       Manual      First   5.0    8.23000   \n",
       "6016            55000.0    Diesel       Manual     Second   8.0   11.67000   \n",
       "6017            46000.0    Petrol       Manual      First   5.0    5.51000   \n",
       "6018            47000.0    Diesel       Manual      First   5.0   11.30000   \n",
       "\n",
       "      Mileage_KMPL  Power_bhp  Engine_CC  \n",
       "0             30.0      58.16       99.0  \n",
       "1             19.6     126.20      158.0  \n",
       "2             18.0      88.70      119.0  \n",
       "3             20.7      88.76      124.0  \n",
       "4             15.0     140.80      196.0  \n",
       "...            ...        ...        ...  \n",
       "6014          28.0      74.00      124.0  \n",
       "6015          24.0      71.00      112.0  \n",
       "6016          14.0     112.00      249.0  \n",
       "6017          18.0      67.10       99.0  \n",
       "6018          25.4      57.60       93.0  \n",
       "\n",
       "[5872 rows x 9 columns]"
      ]
     },
     "execution_count": 146,
     "metadata": {},
     "output_type": "execute_result"
    }
   ],
   "source": [
    "x"
   ]
  },
  {
   "cell_type": "code",
   "execution_count": 147,
   "id": "5d2c9baa",
   "metadata": {},
   "outputs": [
    {
     "data": {
      "text/html": [
       "<div>\n",
       "<style scoped>\n",
       "    .dataframe tbody tr th:only-of-type {\n",
       "        vertical-align: middle;\n",
       "    }\n",
       "\n",
       "    .dataframe tbody tr th {\n",
       "        vertical-align: top;\n",
       "    }\n",
       "\n",
       "    .dataframe thead th {\n",
       "        text-align: right;\n",
       "    }\n",
       "</style>\n",
       "<table border=\"1\" class=\"dataframe\">\n",
       "  <thead>\n",
       "    <tr style=\"text-align: right;\">\n",
       "      <th></th>\n",
       "      <th>Kilometers_Driven</th>\n",
       "      <th>New_Price</th>\n",
       "      <th>Mileage_KMPL</th>\n",
       "      <th>Power_bhp</th>\n",
       "      <th>Engine_CC</th>\n",
       "      <th>Fuel_Type_Others</th>\n",
       "      <th>Fuel_Type_Petrol</th>\n",
       "      <th>Transmission_Manual</th>\n",
       "      <th>Owner_Type_Fourth &amp; Above</th>\n",
       "      <th>Owner_Type_Second</th>\n",
       "      <th>Owner_Type_Third</th>\n",
       "      <th>Seats_4.0</th>\n",
       "      <th>Seats_5.0</th>\n",
       "      <th>Seats_6.0</th>\n",
       "      <th>Seats_7.0</th>\n",
       "      <th>Seats_8.0</th>\n",
       "      <th>Seats_9.0</th>\n",
       "      <th>Seats_10.0</th>\n",
       "    </tr>\n",
       "  </thead>\n",
       "  <tbody>\n",
       "    <tr>\n",
       "      <th>0</th>\n",
       "      <td>72000.0</td>\n",
       "      <td>5.51000</td>\n",
       "      <td>30.0</td>\n",
       "      <td>58.16</td>\n",
       "      <td>99.0</td>\n",
       "      <td>1</td>\n",
       "      <td>0</td>\n",
       "      <td>1</td>\n",
       "      <td>0</td>\n",
       "      <td>0</td>\n",
       "      <td>0</td>\n",
       "      <td>0</td>\n",
       "      <td>1</td>\n",
       "      <td>0</td>\n",
       "      <td>0</td>\n",
       "      <td>0</td>\n",
       "      <td>0</td>\n",
       "      <td>0</td>\n",
       "    </tr>\n",
       "    <tr>\n",
       "      <th>1</th>\n",
       "      <td>41000.0</td>\n",
       "      <td>16.06000</td>\n",
       "      <td>19.6</td>\n",
       "      <td>126.20</td>\n",
       "      <td>158.0</td>\n",
       "      <td>0</td>\n",
       "      <td>0</td>\n",
       "      <td>1</td>\n",
       "      <td>0</td>\n",
       "      <td>0</td>\n",
       "      <td>0</td>\n",
       "      <td>0</td>\n",
       "      <td>1</td>\n",
       "      <td>0</td>\n",
       "      <td>0</td>\n",
       "      <td>0</td>\n",
       "      <td>0</td>\n",
       "      <td>0</td>\n",
       "    </tr>\n",
       "    <tr>\n",
       "      <th>2</th>\n",
       "      <td>46000.0</td>\n",
       "      <td>8.61000</td>\n",
       "      <td>18.0</td>\n",
       "      <td>88.70</td>\n",
       "      <td>119.0</td>\n",
       "      <td>0</td>\n",
       "      <td>1</td>\n",
       "      <td>1</td>\n",
       "      <td>0</td>\n",
       "      <td>0</td>\n",
       "      <td>0</td>\n",
       "      <td>0</td>\n",
       "      <td>1</td>\n",
       "      <td>0</td>\n",
       "      <td>0</td>\n",
       "      <td>0</td>\n",
       "      <td>0</td>\n",
       "      <td>0</td>\n",
       "    </tr>\n",
       "    <tr>\n",
       "      <th>3</th>\n",
       "      <td>87000.0</td>\n",
       "      <td>11.27000</td>\n",
       "      <td>20.7</td>\n",
       "      <td>88.76</td>\n",
       "      <td>124.0</td>\n",
       "      <td>0</td>\n",
       "      <td>0</td>\n",
       "      <td>1</td>\n",
       "      <td>0</td>\n",
       "      <td>0</td>\n",
       "      <td>0</td>\n",
       "      <td>0</td>\n",
       "      <td>0</td>\n",
       "      <td>0</td>\n",
       "      <td>1</td>\n",
       "      <td>0</td>\n",
       "      <td>0</td>\n",
       "      <td>0</td>\n",
       "    </tr>\n",
       "    <tr>\n",
       "      <th>4</th>\n",
       "      <td>40670.0</td>\n",
       "      <td>45.94125</td>\n",
       "      <td>15.0</td>\n",
       "      <td>140.80</td>\n",
       "      <td>196.0</td>\n",
       "      <td>0</td>\n",
       "      <td>0</td>\n",
       "      <td>0</td>\n",
       "      <td>0</td>\n",
       "      <td>1</td>\n",
       "      <td>0</td>\n",
       "      <td>0</td>\n",
       "      <td>1</td>\n",
       "      <td>0</td>\n",
       "      <td>0</td>\n",
       "      <td>0</td>\n",
       "      <td>0</td>\n",
       "      <td>0</td>\n",
       "    </tr>\n",
       "    <tr>\n",
       "      <th>...</th>\n",
       "      <td>...</td>\n",
       "      <td>...</td>\n",
       "      <td>...</td>\n",
       "      <td>...</td>\n",
       "      <td>...</td>\n",
       "      <td>...</td>\n",
       "      <td>...</td>\n",
       "      <td>...</td>\n",
       "      <td>...</td>\n",
       "      <td>...</td>\n",
       "      <td>...</td>\n",
       "      <td>...</td>\n",
       "      <td>...</td>\n",
       "      <td>...</td>\n",
       "      <td>...</td>\n",
       "      <td>...</td>\n",
       "      <td>...</td>\n",
       "      <td>...</td>\n",
       "    </tr>\n",
       "    <tr>\n",
       "      <th>6014</th>\n",
       "      <td>27365.0</td>\n",
       "      <td>7.88000</td>\n",
       "      <td>28.0</td>\n",
       "      <td>74.00</td>\n",
       "      <td>124.0</td>\n",
       "      <td>0</td>\n",
       "      <td>0</td>\n",
       "      <td>1</td>\n",
       "      <td>0</td>\n",
       "      <td>0</td>\n",
       "      <td>0</td>\n",
       "      <td>0</td>\n",
       "      <td>1</td>\n",
       "      <td>0</td>\n",
       "      <td>0</td>\n",
       "      <td>0</td>\n",
       "      <td>0</td>\n",
       "      <td>0</td>\n",
       "    </tr>\n",
       "    <tr>\n",
       "      <th>6015</th>\n",
       "      <td>100000.0</td>\n",
       "      <td>8.23000</td>\n",
       "      <td>24.0</td>\n",
       "      <td>71.00</td>\n",
       "      <td>112.0</td>\n",
       "      <td>0</td>\n",
       "      <td>0</td>\n",
       "      <td>1</td>\n",
       "      <td>0</td>\n",
       "      <td>0</td>\n",
       "      <td>0</td>\n",
       "      <td>0</td>\n",
       "      <td>1</td>\n",
       "      <td>0</td>\n",
       "      <td>0</td>\n",
       "      <td>0</td>\n",
       "      <td>0</td>\n",
       "      <td>0</td>\n",
       "    </tr>\n",
       "    <tr>\n",
       "      <th>6016</th>\n",
       "      <td>55000.0</td>\n",
       "      <td>11.67000</td>\n",
       "      <td>14.0</td>\n",
       "      <td>112.00</td>\n",
       "      <td>249.0</td>\n",
       "      <td>0</td>\n",
       "      <td>0</td>\n",
       "      <td>1</td>\n",
       "      <td>0</td>\n",
       "      <td>1</td>\n",
       "      <td>0</td>\n",
       "      <td>0</td>\n",
       "      <td>0</td>\n",
       "      <td>0</td>\n",
       "      <td>0</td>\n",
       "      <td>1</td>\n",
       "      <td>0</td>\n",
       "      <td>0</td>\n",
       "    </tr>\n",
       "    <tr>\n",
       "      <th>6017</th>\n",
       "      <td>46000.0</td>\n",
       "      <td>5.51000</td>\n",
       "      <td>18.0</td>\n",
       "      <td>67.10</td>\n",
       "      <td>99.0</td>\n",
       "      <td>0</td>\n",
       "      <td>1</td>\n",
       "      <td>1</td>\n",
       "      <td>0</td>\n",
       "      <td>0</td>\n",
       "      <td>0</td>\n",
       "      <td>0</td>\n",
       "      <td>1</td>\n",
       "      <td>0</td>\n",
       "      <td>0</td>\n",
       "      <td>0</td>\n",
       "      <td>0</td>\n",
       "      <td>0</td>\n",
       "    </tr>\n",
       "    <tr>\n",
       "      <th>6018</th>\n",
       "      <td>47000.0</td>\n",
       "      <td>11.30000</td>\n",
       "      <td>25.4</td>\n",
       "      <td>57.60</td>\n",
       "      <td>93.0</td>\n",
       "      <td>0</td>\n",
       "      <td>0</td>\n",
       "      <td>1</td>\n",
       "      <td>0</td>\n",
       "      <td>0</td>\n",
       "      <td>0</td>\n",
       "      <td>0</td>\n",
       "      <td>1</td>\n",
       "      <td>0</td>\n",
       "      <td>0</td>\n",
       "      <td>0</td>\n",
       "      <td>0</td>\n",
       "      <td>0</td>\n",
       "    </tr>\n",
       "  </tbody>\n",
       "</table>\n",
       "<p>5872 rows × 18 columns</p>\n",
       "</div>"
      ],
      "text/plain": [
       "      Kilometers_Driven  New_Price  Mileage_KMPL  Power_bhp  Engine_CC  \\\n",
       "0               72000.0    5.51000          30.0      58.16       99.0   \n",
       "1               41000.0   16.06000          19.6     126.20      158.0   \n",
       "2               46000.0    8.61000          18.0      88.70      119.0   \n",
       "3               87000.0   11.27000          20.7      88.76      124.0   \n",
       "4               40670.0   45.94125          15.0     140.80      196.0   \n",
       "...                 ...        ...           ...        ...        ...   \n",
       "6014            27365.0    7.88000          28.0      74.00      124.0   \n",
       "6015           100000.0    8.23000          24.0      71.00      112.0   \n",
       "6016            55000.0   11.67000          14.0     112.00      249.0   \n",
       "6017            46000.0    5.51000          18.0      67.10       99.0   \n",
       "6018            47000.0   11.30000          25.4      57.60       93.0   \n",
       "\n",
       "      Fuel_Type_Others  Fuel_Type_Petrol  Transmission_Manual  \\\n",
       "0                    1                 0                    1   \n",
       "1                    0                 0                    1   \n",
       "2                    0                 1                    1   \n",
       "3                    0                 0                    1   \n",
       "4                    0                 0                    0   \n",
       "...                ...               ...                  ...   \n",
       "6014                 0                 0                    1   \n",
       "6015                 0                 0                    1   \n",
       "6016                 0                 0                    1   \n",
       "6017                 0                 1                    1   \n",
       "6018                 0                 0                    1   \n",
       "\n",
       "      Owner_Type_Fourth & Above  Owner_Type_Second  Owner_Type_Third  \\\n",
       "0                             0                  0                 0   \n",
       "1                             0                  0                 0   \n",
       "2                             0                  0                 0   \n",
       "3                             0                  0                 0   \n",
       "4                             0                  1                 0   \n",
       "...                         ...                ...               ...   \n",
       "6014                          0                  0                 0   \n",
       "6015                          0                  0                 0   \n",
       "6016                          0                  1                 0   \n",
       "6017                          0                  0                 0   \n",
       "6018                          0                  0                 0   \n",
       "\n",
       "      Seats_4.0  Seats_5.0  Seats_6.0  Seats_7.0  Seats_8.0  Seats_9.0  \\\n",
       "0             0          1          0          0          0          0   \n",
       "1             0          1          0          0          0          0   \n",
       "2             0          1          0          0          0          0   \n",
       "3             0          0          0          1          0          0   \n",
       "4             0          1          0          0          0          0   \n",
       "...         ...        ...        ...        ...        ...        ...   \n",
       "6014          0          1          0          0          0          0   \n",
       "6015          0          1          0          0          0          0   \n",
       "6016          0          0          0          0          1          0   \n",
       "6017          0          1          0          0          0          0   \n",
       "6018          0          1          0          0          0          0   \n",
       "\n",
       "      Seats_10.0  \n",
       "0              0  \n",
       "1              0  \n",
       "2              0  \n",
       "3              0  \n",
       "4              0  \n",
       "...          ...  \n",
       "6014           0  \n",
       "6015           0  \n",
       "6016           0  \n",
       "6017           0  \n",
       "6018           0  \n",
       "\n",
       "[5872 rows x 18 columns]"
      ]
     },
     "execution_count": 147,
     "metadata": {},
     "output_type": "execute_result"
    }
   ],
   "source": [
    "# creating dummy variables\n",
    "X = pd.get_dummies(x, drop_first=True)   #Recall we have important variable/Column in objects which require enconding(One hot encoding)\n",
    "X"
   ]
  },
  {
   "cell_type": "code",
   "execution_count": 148,
   "id": "24cc5667",
   "metadata": {},
   "outputs": [],
   "source": [
    "# splitting the data with a train size of 80% i.e test size = 20%\n",
    "x_train, x_test, y_train, y_test = train_test_split(X,y, train_size=0.8, random_state=0)"
   ]
  },
  {
   "cell_type": "code",
   "execution_count": 149,
   "id": "196f50b1",
   "metadata": {},
   "outputs": [
    {
     "name": "stdout",
     "output_type": "stream",
     "text": [
      "(4697, 18) (1175, 18)\n"
     ]
    }
   ],
   "source": [
    "# Print the shape of the train and test sets  \n",
    "print (x_train.shape, x_test.shape)"
   ]
  },
  {
   "cell_type": "code",
   "execution_count": null,
   "id": "7b8ddc5c",
   "metadata": {},
   "outputs": [],
   "source": []
  },
  {
   "cell_type": "markdown",
   "id": "b656c962",
   "metadata": {},
   "source": [
    "#### NORMALIZATION "
   ]
  },
  {
   "cell_type": "code",
   "execution_count": 150,
   "id": "98a5d1f3",
   "metadata": {},
   "outputs": [
    {
     "data": {
      "image/png": "[encoded data removed]",
      "text/plain": [
       "<Figure size 1080x720 with 1 Axes>"
      ]
     },
     "metadata": {},
     "output_type": "display_data"
    }
   ],
   "source": [
    "df.boxplot(figsize = (15,10), fontsize = 15, rot = 30);\n",
    "plt.show()"
   ]
  },
  {
   "cell_type": "markdown",
   "id": "01c081e2",
   "metadata": {},
   "source": [
    "####  As can see from the box plot, there seem to be a dominance of one variable over the other; hence need for a normalization  before carryingout our model "
   ]
  },
  {
   "cell_type": "code",
   "execution_count": 151,
   "id": "57998d39",
   "metadata": {},
   "outputs": [],
   "source": [
    "from  sklearn.preprocessing  import MaxAbsScaler\n",
    "\n",
    "scaler = StandardScaler()\n",
    "\n",
    "x_train_sc = scaler.fit_transform(x_train)\n",
    "\n",
    "x_test_sc = scaler.transform(x_test)"
   ]
  },
  {
   "cell_type": "code",
   "execution_count": 152,
   "id": "313688e5",
   "metadata": {},
   "outputs": [
    {
     "data": {
      "text/plain": [
       "LinearRegression()"
      ]
     },
     "execution_count": 152,
     "metadata": {},
     "output_type": "execute_result"
    }
   ],
   "source": [
    "# Instantiate and fit model to data \n",
    "\n",
    "lin_reg = LinearRegression()\n",
    "\n",
    "lin_reg.fit(x_train_sc, y_train)"
   ]
  },
  {
   "cell_type": "code",
   "execution_count": 153,
   "id": "140f1467",
   "metadata": {},
   "outputs": [],
   "source": [
    "# function to compute adjusted R-squared\n",
    "def adj_r2_score(predictors, targets, predictions):\n",
    "    r2 = r2_score(targets, predictions)\n",
    "    n = predictors.shape[0]\n",
    "    k = predictors.shape[1]\n",
    "    return 1 - ((1 - r2) * (n - 1) / (n - k - 1))\n",
    "\n",
    "\n",
    "# function to compute MAPE\n",
    "def mape_score(targets, predictions):\n",
    "    return np.mean(np.abs(targets - predictions) / targets) * 100\n",
    "\n",
    "\n",
    "# function to compute different metrics to check performance of a regression model\n",
    "def model_performance_regression(model, predictors, target):\n",
    "    \"\"\"\n",
    "    Function to compute different metrics to check regression model performance\n",
    "\n",
    "    model: regressor\n",
    "    predictors: independent variables\n",
    "    target: dependent variable\n",
    "    \"\"\"\n",
    "\n",
    "    # predicting using the independent variables\n",
    "    pred = model.predict(predictors)\n",
    "\n",
    "    r2 = r2_score(target, pred)  # to compute R-squared\n",
    "    adjr2 = adj_r2_score(predictors, target, pred)  # to compute adjusted R-squared\n",
    "    rmse = np.sqrt(mean_squared_error(target, pred))  # to compute RMSE\n",
    "    mae = mean_absolute_error(target, pred)  # to compute MAE\n",
    "    mape = mape_score(target, pred)  # to compute MAPE\n",
    "\n",
    "    # creating a dataframe of metrics\n",
    "    df_perf = pd.DataFrame(\n",
    "        {\n",
    "            \"RMSE\": rmse,\n",
    "            \"MAE\": mae,\n",
    "            \"R-squared\": r2,\n",
    "            \"Adj. R-squared\": adjr2,\n",
    "            \"MAPE\": mape\n",
    "        },\n",
    "        index=[0],\n",
    "    )\n",
    "\n",
    "    return df_perf"
   ]
  },
  {
   "cell_type": "code",
   "execution_count": 154,
   "id": "fc67e8c3",
   "metadata": {},
   "outputs": [
    {
     "data": {
      "text/html": [
       "<div>\n",
       "<style scoped>\n",
       "    .dataframe tbody tr th:only-of-type {\n",
       "        vertical-align: middle;\n",
       "    }\n",
       "\n",
       "    .dataframe tbody tr th {\n",
       "        vertical-align: top;\n",
       "    }\n",
       "\n",
       "    .dataframe thead th {\n",
       "        text-align: right;\n",
       "    }\n",
       "</style>\n",
       "<table border=\"1\" class=\"dataframe\">\n",
       "  <thead>\n",
       "    <tr style=\"text-align: right;\">\n",
       "      <th></th>\n",
       "      <th>RMSE</th>\n",
       "      <th>MAE</th>\n",
       "      <th>R-squared</th>\n",
       "      <th>Adj. R-squared</th>\n",
       "      <th>MAPE</th>\n",
       "    </tr>\n",
       "  </thead>\n",
       "  <tbody>\n",
       "    <tr>\n",
       "      <th>0</th>\n",
       "      <td>0.388806</td>\n",
       "      <td>0.300626</td>\n",
       "      <td>0.796523</td>\n",
       "      <td>0.79574</td>\n",
       "      <td>inf</td>\n",
       "    </tr>\n",
       "  </tbody>\n",
       "</table>\n",
       "</div>"
      ],
      "text/plain": [
       "       RMSE       MAE  R-squared  Adj. R-squared  MAPE\n",
       "0  0.388806  0.300626   0.796523         0.79574   inf"
      ]
     },
     "execution_count": 154,
     "metadata": {},
     "output_type": "execute_result"
    }
   ],
   "source": [
    "# Checking model performance on train set\n",
    "model_performance_regression(lin_reg, x_train_sc, y_train)\n"
   ]
  },
  {
   "cell_type": "code",
   "execution_count": 155,
   "id": "6a52b5b2",
   "metadata": {},
   "outputs": [
    {
     "data": {
      "text/html": [
       "<div>\n",
       "<style scoped>\n",
       "    .dataframe tbody tr th:only-of-type {\n",
       "        vertical-align: middle;\n",
       "    }\n",
       "\n",
       "    .dataframe tbody tr th {\n",
       "        vertical-align: top;\n",
       "    }\n",
       "\n",
       "    .dataframe thead th {\n",
       "        text-align: right;\n",
       "    }\n",
       "</style>\n",
       "<table border=\"1\" class=\"dataframe\">\n",
       "  <thead>\n",
       "    <tr style=\"text-align: right;\">\n",
       "      <th></th>\n",
       "      <th>RMSE</th>\n",
       "      <th>MAE</th>\n",
       "      <th>R-squared</th>\n",
       "      <th>Adj. R-squared</th>\n",
       "      <th>MAPE</th>\n",
       "    </tr>\n",
       "  </thead>\n",
       "  <tbody>\n",
       "    <tr>\n",
       "      <th>0</th>\n",
       "      <td>0.382831</td>\n",
       "      <td>0.301337</td>\n",
       "      <td>0.806816</td>\n",
       "      <td>0.803808</td>\n",
       "      <td>inf</td>\n",
       "    </tr>\n",
       "  </tbody>\n",
       "</table>\n",
       "</div>"
      ],
      "text/plain": [
       "       RMSE       MAE  R-squared  Adj. R-squared  MAPE\n",
       "0  0.382831  0.301337   0.806816        0.803808   inf"
      ]
     },
     "execution_count": 155,
     "metadata": {},
     "output_type": "execute_result"
    }
   ],
   "source": [
    "# Checking model performance on test set\n",
    "model_performance_regression(lin_reg, x_test_sc, y_test)\n"
   ]
  },
  {
   "cell_type": "code",
   "execution_count": 156,
   "id": "8887e6bf",
   "metadata": {},
   "outputs": [
    {
     "data": {
      "text/plain": [
       "Index(['Kilometers_Driven', 'Fuel_Type', 'Transmission', 'Owner_Type', 'Seats',\n",
       "       'New_Price', 'Mileage_KMPL', 'Power_bhp', 'Engine_CC', 'Log_Price'],\n",
       "      dtype='object')"
      ]
     },
     "execution_count": 156,
     "metadata": {},
     "output_type": "execute_result"
    }
   ],
   "source": [
    "df.columns"
   ]
  },
  {
   "cell_type": "code",
   "execution_count": null,
   "id": "7edd1f54",
   "metadata": {},
   "outputs": [],
   "source": []
  },
  {
   "cell_type": "code",
   "execution_count": null,
   "id": "bb5cf27d",
   "metadata": {},
   "outputs": [],
   "source": []
  },
  {
   "cell_type": "markdown",
   "id": "5c0c6ad0",
   "metadata": {},
   "source": [
    "### PERFORM REGULARIZATION"
   ]
  },
  {
   "cell_type": "code",
   "execution_count": 157,
   "id": "4790c4cf",
   "metadata": {},
   "outputs": [],
   "source": [
    "ridge = Ridge()"
   ]
  },
  {
   "cell_type": "code",
   "execution_count": 158,
   "id": "e450371f",
   "metadata": {},
   "outputs": [
    {
     "data": {
      "text/plain": [
       "Ridge()"
      ]
     },
     "execution_count": 158,
     "metadata": {},
     "output_type": "execute_result"
    }
   ],
   "source": [
    "ridge.fit(x_train_sc, y_train)"
   ]
  },
  {
   "cell_type": "code",
   "execution_count": 159,
   "id": "1cfb7b99",
   "metadata": {},
   "outputs": [
    {
     "data": {
      "text/plain": [
       "1.8369016747342326"
      ]
     },
     "execution_count": 159,
     "metadata": {},
     "output_type": "execute_result"
    }
   ],
   "source": [
    "ridge.coef_\n",
    "ridge.intercept_"
   ]
  },
  {
   "cell_type": "code",
   "execution_count": 160,
   "id": "b7122924",
   "metadata": {},
   "outputs": [
    {
     "name": "stdout",
     "output_type": "stream",
     "text": [
      "Training performance:0.797\n",
      "Testing performance:0.807\n"
     ]
    }
   ],
   "source": [
    "print(\"Training performance:{:.3f}\".format(ridge.score(x_train_sc, y_train)))\n",
    "print(\"Testing performance:{:.3f}\".format(ridge.score(x_test_sc, y_test)))"
   ]
  },
  {
   "cell_type": "code",
   "execution_count": 161,
   "id": "6c403e43",
   "metadata": {},
   "outputs": [
    {
     "data": {
      "text/html": [
       "<div>\n",
       "<style scoped>\n",
       "    .dataframe tbody tr th:only-of-type {\n",
       "        vertical-align: middle;\n",
       "    }\n",
       "\n",
       "    .dataframe tbody tr th {\n",
       "        vertical-align: top;\n",
       "    }\n",
       "\n",
       "    .dataframe thead th {\n",
       "        text-align: right;\n",
       "    }\n",
       "</style>\n",
       "<table border=\"1\" class=\"dataframe\">\n",
       "  <thead>\n",
       "    <tr style=\"text-align: right;\">\n",
       "      <th></th>\n",
       "      <th>RMSE</th>\n",
       "      <th>MAE</th>\n",
       "      <th>R-squared</th>\n",
       "      <th>Adj. R-squared</th>\n",
       "      <th>MAPE</th>\n",
       "    </tr>\n",
       "  </thead>\n",
       "  <tbody>\n",
       "    <tr>\n",
       "      <th>0</th>\n",
       "      <td>0.388807</td>\n",
       "      <td>0.300619</td>\n",
       "      <td>0.796522</td>\n",
       "      <td>0.795739</td>\n",
       "      <td>inf</td>\n",
       "    </tr>\n",
       "  </tbody>\n",
       "</table>\n",
       "</div>"
      ],
      "text/plain": [
       "       RMSE       MAE  R-squared  Adj. R-squared  MAPE\n",
       "0  0.388807  0.300619   0.796522        0.795739   inf"
      ]
     },
     "execution_count": 161,
     "metadata": {},
     "output_type": "execute_result"
    }
   ],
   "source": [
    "model_performance_regression(ridge, x_train_sc, y_train)"
   ]
  },
  {
   "cell_type": "code",
   "execution_count": 162,
   "id": "4d3eb7cd",
   "metadata": {},
   "outputs": [
    {
     "data": {
      "text/html": [
       "<div>\n",
       "<style scoped>\n",
       "    .dataframe tbody tr th:only-of-type {\n",
       "        vertical-align: middle;\n",
       "    }\n",
       "\n",
       "    .dataframe tbody tr th {\n",
       "        vertical-align: top;\n",
       "    }\n",
       "\n",
       "    .dataframe thead th {\n",
       "        text-align: right;\n",
       "    }\n",
       "</style>\n",
       "<table border=\"1\" class=\"dataframe\">\n",
       "  <thead>\n",
       "    <tr style=\"text-align: right;\">\n",
       "      <th></th>\n",
       "      <th>RMSE</th>\n",
       "      <th>MAE</th>\n",
       "      <th>R-squared</th>\n",
       "      <th>Adj. R-squared</th>\n",
       "      <th>MAPE</th>\n",
       "    </tr>\n",
       "  </thead>\n",
       "  <tbody>\n",
       "    <tr>\n",
       "      <th>0</th>\n",
       "      <td>0.382823</td>\n",
       "      <td>0.301322</td>\n",
       "      <td>0.806824</td>\n",
       "      <td>0.803816</td>\n",
       "      <td>inf</td>\n",
       "    </tr>\n",
       "  </tbody>\n",
       "</table>\n",
       "</div>"
      ],
      "text/plain": [
       "       RMSE       MAE  R-squared  Adj. R-squared  MAPE\n",
       "0  0.382823  0.301322   0.806824        0.803816   inf"
      ]
     },
     "execution_count": 162,
     "metadata": {},
     "output_type": "execute_result"
    }
   ],
   "source": [
    "model_performance_regression(ridge, x_test_sc, y_test)"
   ]
  },
  {
   "cell_type": "code",
   "execution_count": null,
   "id": "acf4bcc3",
   "metadata": {},
   "outputs": [],
   "source": []
  },
  {
   "cell_type": "code",
   "execution_count": null,
   "id": "1c10bd52",
   "metadata": {},
   "outputs": [],
   "source": []
  },
  {
   "cell_type": "markdown",
   "id": "c40a702f",
   "metadata": {},
   "source": [
    "### Lasso Regression"
   ]
  },
  {
   "cell_type": "code",
   "execution_count": 163,
   "id": "53ffe33e",
   "metadata": {},
   "outputs": [],
   "source": [
    "lasso = Lasso()"
   ]
  },
  {
   "cell_type": "code",
   "execution_count": 164,
   "id": "ddf66cae",
   "metadata": {},
   "outputs": [
    {
     "data": {
      "text/plain": [
       "Lasso()"
      ]
     },
     "execution_count": 164,
     "metadata": {},
     "output_type": "execute_result"
    }
   ],
   "source": [
    "lasso.fit(x_train_sc, y_train) #Fit model "
   ]
  },
  {
   "cell_type": "code",
   "execution_count": 165,
   "id": "41587e7f",
   "metadata": {},
   "outputs": [
    {
     "data": {
      "text/plain": [
       "0.0"
      ]
     },
     "execution_count": 165,
     "metadata": {},
     "output_type": "execute_result"
    }
   ],
   "source": [
    "#Model accuracy of training and testing sets \n",
    "lasso.score(x_train_sc, y_train) #LAsso was too harsh giving those sets values; an hyper parameter tunning can come in here  "
   ]
  },
  {
   "cell_type": "code",
   "execution_count": 166,
   "id": "c5f0d756",
   "metadata": {},
   "outputs": [
    {
     "name": "stdout",
     "output_type": "stream",
     "text": [
      "Lasso(alpha=0.1)\n",
      "0.724347160078302\n",
      "Train Performance        RMSE       MAE  R-squared  Adj. R-squared  MAPE\n",
      "0  0.452539  0.352887   0.724347        0.723287   inf\n",
      "Test Performance        RMSE       MAE  R-squared  Adj. R-squared  MAPE\n",
      "0  0.448559  0.358489   0.734787        0.730657   inf\n",
      "-------------------------------------------------------\n",
      "Lasso(alpha=1)\n",
      "0.0\n",
      "Train Performance        RMSE      MAE  R-squared  Adj. R-squared  MAPE\n",
      "0  0.861936  0.66859        0.0       -0.003848   inf\n",
      "Test Performance        RMSE       MAE  R-squared  Adj. R-squared  MAPE\n",
      "0  0.872077  0.675547  -0.002457       -0.018066   inf\n",
      "-------------------------------------------------------\n",
      "Lasso(alpha=10)\n",
      "0.0\n",
      "Train Performance        RMSE      MAE  R-squared  Adj. R-squared  MAPE\n",
      "0  0.861936  0.66859        0.0       -0.003848   inf\n",
      "Test Performance        RMSE       MAE  R-squared  Adj. R-squared  MAPE\n",
      "0  0.872077  0.675547  -0.002457       -0.018066   inf\n",
      "-------------------------------------------------------\n",
      "Lasso(alpha=100)\n",
      "0.0\n",
      "Train Performance        RMSE      MAE  R-squared  Adj. R-squared  MAPE\n",
      "0  0.861936  0.66859        0.0       -0.003848   inf\n",
      "Test Performance        RMSE       MAE  R-squared  Adj. R-squared  MAPE\n",
      "0  0.872077  0.675547  -0.002457       -0.018066   inf\n",
      "-------------------------------------------------------\n",
      "Lasso(alpha=1000)\n",
      "0.0\n",
      "Train Performance        RMSE      MAE  R-squared  Adj. R-squared  MAPE\n",
      "0  0.861936  0.66859        0.0       -0.003848   inf\n",
      "Test Performance        RMSE       MAE  R-squared  Adj. R-squared  MAPE\n",
      "0  0.872077  0.675547  -0.002457       -0.018066   inf\n",
      "-------------------------------------------------------\n"
     ]
    }
   ],
   "source": [
    "alpha = [0.1,1,  10, 100, 1000]\n",
    "for alpha in alpha: \n",
    "    lasso = Lasso(alpha = alpha)\n",
    "    lasso.fit(x_train_sc, y_train) #Fit model \n",
    "    print(lasso.fit(x_train_sc, y_train)) #Fit model \n",
    "    print(lasso.score(x_train_sc, y_train))\n",
    "    print( \"Train Performance\", model_performance_regression(lasso, x_train_sc, y_train))\n",
    "    #print( model_performance_regression(lasso, x_train_sc, y_train))\n",
    "    print( \"Test Performance\", model_performance_regression(lasso, x_test_sc, y_test))\n",
    "    print(\"-------------------------------------------------------\")"
   ]
  },
  {
   "cell_type": "markdown",
   "id": "44603300",
   "metadata": {},
   "source": [
    "#####  Its clear that Lasso performance reduces as alpha increases from o.1"
   ]
  },
  {
   "cell_type": "code",
   "execution_count": null,
   "id": "7e407075",
   "metadata": {},
   "outputs": [],
   "source": []
  },
  {
   "cell_type": "markdown",
   "id": "b14b7b15",
   "metadata": {},
   "source": [
    "### Forward Feature Selection Using SequentialFeatureSelector"
   ]
  },
  {
   "cell_type": "code",
   "execution_count": 167,
   "id": "e077c362",
   "metadata": {},
   "outputs": [
    {
     "name": "stdout",
     "output_type": "stream",
     "text": [
      "Requirement already satisfied: mlxtend in c:\\users\\mr olawale\\anaconda3\\lib\\site-packages (0.21.0)\n",
      "Requirement already satisfied: joblib>=0.13.2 in c:\\users\\mr olawale\\anaconda3\\lib\\site-packages (from mlxtend) (1.2.0)\n",
      "Requirement already satisfied: setuptools in c:\\users\\mr olawale\\anaconda3\\lib\\site-packages (from mlxtend) (61.2.0)\n",
      "Requirement already satisfied: scikit-learn>=1.0.2 in c:\\users\\mr olawale\\anaconda3\\lib\\site-packages (from mlxtend) (1.0.2)\n",
      "Requirement already satisfied: pandas>=0.24.2 in c:\\users\\mr olawale\\anaconda3\\lib\\site-packages (from mlxtend) (1.4.2)\n",
      "Requirement already satisfied: scipy>=1.2.1 in c:\\users\\mr olawale\\anaconda3\\lib\\site-packages (from mlxtend) (1.7.3)\n",
      "Requirement already satisfied: matplotlib>=3.0.0 in c:\\users\\mr olawale\\anaconda3\\lib\\site-packages (from mlxtend) (3.5.1)\n",
      "Requirement already satisfied: numpy>=1.16.2 in c:\\users\\mr olawale\\anaconda3\\lib\\site-packages (from mlxtend) (1.21.5)\n",
      "Requirement already satisfied: packaging>=20.0 in c:\\users\\mr olawale\\anaconda3\\lib\\site-packages (from matplotlib>=3.0.0->mlxtend) (21.3)\n",
      "Requirement already satisfied: fonttools>=4.22.0 in c:\\users\\mr olawale\\anaconda3\\lib\\site-packages (from matplotlib>=3.0.0->mlxtend) (4.25.0)\n",
      "Requirement already satisfied: pillow>=6.2.0 in c:\\users\\mr olawale\\anaconda3\\lib\\site-packages (from matplotlib>=3.0.0->mlxtend) (9.0.1)\n",
      "Requirement already satisfied: python-dateutil>=2.7 in c:\\users\\mr olawale\\anaconda3\\lib\\site-packages (from matplotlib>=3.0.0->mlxtend) (2.8.2)\n",
      "Requirement already satisfied: kiwisolver>=1.0.1 in c:\\users\\mr olawale\\anaconda3\\lib\\site-packages (from matplotlib>=3.0.0->mlxtend) (1.3.2)\n",
      "Requirement already satisfied: pyparsing>=2.2.1 in c:\\users\\mr olawale\\anaconda3\\lib\\site-packages (from matplotlib>=3.0.0->mlxtend) (3.0.4)\n",
      "Requirement already satisfied: cycler>=0.10 in c:\\users\\mr olawale\\anaconda3\\lib\\site-packages (from matplotlib>=3.0.0->mlxtend) (0.11.0)\n",
      "Requirement already satisfied: pytz>=2020.1 in c:\\users\\mr olawale\\anaconda3\\lib\\site-packages (from pandas>=0.24.2->mlxtend) (2021.3)\n",
      "Requirement already satisfied: six>=1.5 in c:\\users\\mr olawale\\anaconda3\\lib\\site-packages (from python-dateutil>=2.7->matplotlib>=3.0.0->mlxtend) (1.16.0)\n",
      "Requirement already satisfied: threadpoolctl>=2.0.0 in c:\\users\\mr olawale\\anaconda3\\lib\\site-packages (from scikit-learn>=1.0.2->mlxtend) (2.2.0)\n",
      "Note: you may need to restart the kernel to use updated packages.\n"
     ]
    }
   ],
   "source": [
    "pip install mlxtend"
   ]
  },
  {
   "cell_type": "code",
   "execution_count": 168,
   "id": "8458b5a9",
   "metadata": {},
   "outputs": [],
   "source": [
    " # import the SequentialFeatureSelector from the feature_selection module\n",
    "\n",
    "from mlxtend.feature_selection import SequentialFeatureSelector"
   ]
  },
  {
   "cell_type": "code",
   "execution_count": 169,
   "id": "e12c512c",
   "metadata": {},
   "outputs": [
    {
     "data": {
      "text/plain": [
       "18"
      ]
     },
     "execution_count": 169,
     "metadata": {},
     "output_type": "execute_result"
    }
   ],
   "source": [
    "x_train.shape[1]"
   ]
  },
  {
   "cell_type": "code",
   "execution_count": 170,
   "id": "77d07023",
   "metadata": {},
   "outputs": [
    {
     "name": "stderr",
     "output_type": "stream",
     "text": [
      "[Parallel(n_jobs=-1)]: Using backend LokyBackend with 4 concurrent workers.\n",
      "[Parallel(n_jobs=-1)]: Done  18 out of  18 | elapsed:    5.6s finished\n",
      "\n",
      "[2023-02-05 20:18:03] Features: 1/18 -- score: 0.6257440499553881[Parallel(n_jobs=-1)]: Using backend LokyBackend with 4 concurrent workers.\n",
      "[Parallel(n_jobs=-1)]: Done  10 out of  17 | elapsed:    0.0s remaining:    0.0s\n",
      "[Parallel(n_jobs=-1)]: Done  17 out of  17 | elapsed:    0.1s finished\n",
      "\n",
      "[2023-02-05 20:18:03] Features: 2/18 -- score: 0.6817258561185817[Parallel(n_jobs=-1)]: Using backend LokyBackend with 4 concurrent workers.\n",
      "[Parallel(n_jobs=-1)]: Done  16 out of  16 | elapsed:    0.1s finished\n",
      "\n",
      "[2023-02-05 20:18:03] Features: 3/18 -- score: 0.7447535697813951[Parallel(n_jobs=-1)]: Using backend LokyBackend with 4 concurrent workers.\n",
      "[Parallel(n_jobs=-1)]: Done  15 out of  15 | elapsed:    0.1s finished\n",
      "\n",
      "[2023-02-05 20:18:03] Features: 4/18 -- score: 0.7625818295050147[Parallel(n_jobs=-1)]: Using backend LokyBackend with 4 concurrent workers.\n",
      "[Parallel(n_jobs=-1)]: Done  14 out of  14 | elapsed:    0.0s finished\n",
      "\n",
      "[2023-02-05 20:18:03] Features: 5/18 -- score: 0.7722853169933113[Parallel(n_jobs=-1)]: Using backend LokyBackend with 4 concurrent workers.\n",
      "[Parallel(n_jobs=-1)]: Done  13 out of  13 | elapsed:    0.0s remaining:    0.0s\n",
      "[Parallel(n_jobs=-1)]: Done  13 out of  13 | elapsed:    0.0s finished\n",
      "\n",
      "[2023-02-05 20:18:04] Features: 6/18 -- score: 0.7787233284634162[Parallel(n_jobs=-1)]: Using backend LokyBackend with 4 concurrent workers.\n",
      "[Parallel(n_jobs=-1)]: Done  12 out of  12 | elapsed:    0.0s remaining:    0.0s\n",
      "[Parallel(n_jobs=-1)]: Done  12 out of  12 | elapsed:    0.0s finished\n",
      "\n",
      "[2023-02-05 20:18:04] Features: 7/18 -- score: 0.7835538524645397[Parallel(n_jobs=-1)]: Using backend LokyBackend with 4 concurrent workers.\n",
      "[Parallel(n_jobs=-1)]: Done  11 out of  11 | elapsed:    0.0s finished\n",
      "\n",
      "[2023-02-05 20:18:04] Features: 8/18 -- score: 0.786477480338811[Parallel(n_jobs=-1)]: Using backend LokyBackend with 4 concurrent workers.\n",
      "[Parallel(n_jobs=-1)]: Done  10 out of  10 | elapsed:    0.0s finished\n",
      "\n",
      "[2023-02-05 20:18:04] Features: 9/18 -- score: 0.7878869444641676[Parallel(n_jobs=-1)]: Using backend LokyBackend with 4 concurrent workers.\n",
      "[Parallel(n_jobs=-1)]: Done   7 out of   9 | elapsed:    0.0s remaining:    0.0s\n",
      "[Parallel(n_jobs=-1)]: Done   9 out of   9 | elapsed:    0.0s finished\n",
      "\n",
      "[2023-02-05 20:18:04] Features: 10/18 -- score: 0.7898378405005115[Parallel(n_jobs=-1)]: Using backend LokyBackend with 4 concurrent workers.\n",
      "[Parallel(n_jobs=-1)]: Done   6 out of   8 | elapsed:    0.0s remaining:    0.0s\n",
      "[Parallel(n_jobs=-1)]: Done   8 out of   8 | elapsed:    0.0s finished\n",
      "\n",
      "[2023-02-05 20:18:04] Features: 11/18 -- score: 0.7914112109342705[Parallel(n_jobs=-1)]: Using backend LokyBackend with 4 concurrent workers.\n",
      "[Parallel(n_jobs=-1)]: Done   4 out of   7 | elapsed:    0.0s remaining:    0.0s\n",
      "[Parallel(n_jobs=-1)]: Done   7 out of   7 | elapsed:    0.0s finished\n",
      "\n",
      "[2023-02-05 20:18:04] Features: 12/18 -- score: 0.7920501203586892[Parallel(n_jobs=-1)]: Using backend LokyBackend with 4 concurrent workers.\n",
      "[Parallel(n_jobs=-1)]: Done   3 out of   6 | elapsed:    0.0s remaining:    0.0s\n",
      "[Parallel(n_jobs=-1)]: Done   6 out of   6 | elapsed:    0.0s finished\n",
      "\n",
      "[2023-02-05 20:18:04] Features: 13/18 -- score: 0.7921260035796653[Parallel(n_jobs=-1)]: Using backend LokyBackend with 4 concurrent workers.\n",
      "[Parallel(n_jobs=-1)]: Done   5 out of   5 | elapsed:    0.0s finished\n",
      "\n",
      "[2023-02-05 20:18:04] Features: 14/18 -- score: 0.7925188171613013[Parallel(n_jobs=-1)]: Using backend LokyBackend with 4 concurrent workers.\n",
      "[Parallel(n_jobs=-1)]: Done   4 out of   4 | elapsed:    0.0s finished\n",
      "\n",
      "[2023-02-05 20:18:05] Features: 15/18 -- score: 0.7926311301525868[Parallel(n_jobs=-1)]: Using backend LokyBackend with 4 concurrent workers.\n",
      "[Parallel(n_jobs=-1)]: Done   3 out of   3 | elapsed:    0.0s finished\n",
      "\n",
      "[2023-02-05 20:18:05] Features: 16/18 -- score: 0.7927694554357998[Parallel(n_jobs=-1)]: Using backend LokyBackend with 4 concurrent workers.\n",
      "[Parallel(n_jobs=-1)]: Done   2 out of   2 | elapsed:    0.0s finished\n",
      "\n",
      "[2023-02-05 20:18:05] Features: 17/18 -- score: 0.7928197440605687[Parallel(n_jobs=-1)]: Using backend LokyBackend with 4 concurrent workers.\n",
      "[Parallel(n_jobs=-1)]: Done   1 out of   1 | elapsed:    0.0s finished\n",
      "\n",
      "[2023-02-05 20:18:05] Features: 18/18 -- score: 0.7927298902811513"
     ]
    },
    {
     "data": {
      "text/plain": [
       "SequentialFeatureSelector(estimator=LinearRegression(), k_features=(18, 18),\n",
       "                          n_jobs=-1, scoring='r2', verbose=2)"
      ]
     },
     "execution_count": 170,
     "metadata": {},
     "output_type": "execute_result"
    }
   ],
   "source": [
    "# create an instance of the linear model\n",
    "lin_reg3 = LinearRegression()\n",
    "\n",
    "# create an instance of the sequential feature selector\n",
    "sfs = SequentialFeatureSelector (estimator = lin_reg3, k_features =x_train.shape[1],  n_jobs = -1, verbose = 2)\n",
    "\n",
    "# build the sequential feature selector\n",
    "\n",
    "sfs.fit(x_train_sc, y_train)\n"
   ]
  },
  {
   "cell_type": "code",
   "execution_count": 171,
   "id": "66489131",
   "metadata": {},
   "outputs": [
    {
     "data": {
      "image/png": "[encoded data removed]",
      "text/plain": [
       "<Figure size 864x360 with 1 Axes>"
      ]
     },
     "metadata": {},
     "output_type": "display_data"
    }
   ],
   "source": [
    "from mlxtend.plotting import plot_sequential_feature_selection as plot_sfs\n",
    "\n",
    "fig1 = plot_sfs(sfs.get_metric_dict(), kind=\"std_err\", figsize = (12, 5))\n",
    "plt.xticks(rotation = 90)\n",
    "plt.show()\n"
   ]
  },
  {
   "cell_type": "markdown",
   "id": "630a33c9",
   "metadata": {},
   "source": [
    "**Observations**\n",
    "\n",
    "* The model performance improved; however, from k-features = 10, there wasn't a sharp improvement; hence 10nos features for selection and rebuild model  \n",
    "* We will take 10 as the number of features to consider."
   ]
  },
  {
   "cell_type": "code",
   "execution_count": 172,
   "id": "1b8a4bca",
   "metadata": {},
   "outputs": [
    {
     "name": "stderr",
     "output_type": "stream",
     "text": [
      "[Parallel(n_jobs=-1)]: Using backend LokyBackend with 4 concurrent workers.\n",
      "[Parallel(n_jobs=-1)]: Done  18 out of  18 | elapsed:    0.1s finished\n",
      "\n",
      "[2023-02-05 20:18:05] Features: 1/10 -- score: 0.6257440499553881[Parallel(n_jobs=-1)]: Using backend LokyBackend with 4 concurrent workers.\n",
      "[Parallel(n_jobs=-1)]: Done  10 out of  17 | elapsed:    0.0s remaining:    0.0s\n",
      "[Parallel(n_jobs=-1)]: Done  17 out of  17 | elapsed:    0.1s finished\n",
      "\n",
      "[2023-02-05 20:18:05] Features: 2/10 -- score: 0.6817258561185817[Parallel(n_jobs=-1)]: Using backend LokyBackend with 4 concurrent workers.\n",
      "[Parallel(n_jobs=-1)]: Done  16 out of  16 | elapsed:    0.0s finished\n",
      "\n",
      "[2023-02-05 20:18:06] Features: 3/10 -- score: 0.7447535697813951[Parallel(n_jobs=-1)]: Using backend LokyBackend with 4 concurrent workers.\n",
      "[Parallel(n_jobs=-1)]: Done  15 out of  15 | elapsed:    0.1s finished\n",
      "\n",
      "[2023-02-05 20:18:06] Features: 4/10 -- score: 0.7625818295050147[Parallel(n_jobs=-1)]: Using backend LokyBackend with 4 concurrent workers.\n",
      "[Parallel(n_jobs=-1)]: Done  14 out of  14 | elapsed:    0.0s finished\n",
      "\n",
      "[2023-02-05 20:18:06] Features: 5/10 -- score: 0.7722853169933113[Parallel(n_jobs=-1)]: Using backend LokyBackend with 4 concurrent workers.\n",
      "[Parallel(n_jobs=-1)]: Done  13 out of  13 | elapsed:    0.0s remaining:    0.0s\n",
      "[Parallel(n_jobs=-1)]: Done  13 out of  13 | elapsed:    0.0s finished\n",
      "\n",
      "[2023-02-05 20:18:06] Features: 6/10 -- score: 0.7787233284634162[Parallel(n_jobs=-1)]: Using backend LokyBackend with 4 concurrent workers.\n",
      "[Parallel(n_jobs=-1)]: Done  12 out of  12 | elapsed:    0.0s remaining:    0.0s\n",
      "[Parallel(n_jobs=-1)]: Done  12 out of  12 | elapsed:    0.0s finished\n",
      "\n",
      "[2023-02-05 20:18:06] Features: 7/10 -- score: 0.7835538524645397[Parallel(n_jobs=-1)]: Using backend LokyBackend with 4 concurrent workers.\n",
      "[Parallel(n_jobs=-1)]: Done  11 out of  11 | elapsed:    0.0s finished\n",
      "\n",
      "[2023-02-05 20:18:06] Features: 8/10 -- score: 0.786477480338811[Parallel(n_jobs=-1)]: Using backend LokyBackend with 4 concurrent workers.\n",
      "[Parallel(n_jobs=-1)]: Done  10 out of  10 | elapsed:    0.0s finished\n",
      "\n",
      "[2023-02-05 20:18:06] Features: 9/10 -- score: 0.7878869444641676[Parallel(n_jobs=-1)]: Using backend LokyBackend with 4 concurrent workers.\n",
      "[Parallel(n_jobs=-1)]: Done   7 out of   9 | elapsed:    0.0s remaining:    0.0s\n",
      "[Parallel(n_jobs=-1)]: Done   9 out of   9 | elapsed:    0.0s finished\n",
      "\n",
      "[2023-02-05 20:18:07] Features: 10/10 -- score: 0.7898378405005115"
     ]
    },
    {
     "data": {
      "text/plain": [
       "SequentialFeatureSelector(estimator=LinearRegression(), k_features=(10, 10),\n",
       "                          n_jobs=-1, scoring='r2', verbose=2)"
      ]
     },
     "execution_count": 172,
     "metadata": {},
     "output_type": "execute_result"
    }
   ],
   "source": [
    "# create an instance of the linear model\n",
    "lin_reg4 = LinearRegression()\n",
    "\n",
    "# create an instance of the sequential feature selector\n",
    "sfs = SequentialFeatureSelector (estimator = lin_reg4, k_features = 10,  n_jobs = -1, verbose = 2)\n",
    "\n",
    "# build the sequential feature selector\n",
    "\n",
    "sfs.fit(x_train_sc, y_train)\n"
   ]
  },
  {
   "cell_type": "code",
   "execution_count": null,
   "id": "2970929f",
   "metadata": {},
   "outputs": [],
   "source": []
  },
  {
   "cell_type": "markdown",
   "id": "9a0b6959",
   "metadata": {},
   "source": [
    "x_train.columns"
   ]
  },
  {
   "cell_type": "code",
   "execution_count": 173,
   "id": "014ec322",
   "metadata": {},
   "outputs": [
    {
     "data": {
      "text/plain": [
       "(0, 1, 2, 3, 6, 7, 9, 10, 14, 15)"
      ]
     },
     "execution_count": 173,
     "metadata": {},
     "output_type": "execute_result"
    }
   ],
   "source": [
    "sfs.k_feature_idx_"
   ]
  },
  {
   "cell_type": "code",
   "execution_count": 174,
   "id": "6c90a06a",
   "metadata": {},
   "outputs": [
    {
     "data": {
      "text/plain": [
       "Index(['Kilometers_Driven', 'New_Price', 'Mileage_KMPL', 'Power_bhp',\n",
       "       'Fuel_Type_Petrol', 'Transmission_Manual', 'Owner_Type_Second',\n",
       "       'Owner_Type_Third', 'Seats_7.0', 'Seats_8.0'],\n",
       "      dtype='object')"
      ]
     },
     "execution_count": 174,
     "metadata": {},
     "output_type": "execute_result"
    }
   ],
   "source": [
    "feat_list_index = list(sfs.k_feature_idx_) #turn to a list  \n",
    "feat_cols =   x_train.columns [feat_list_index] #Recall list indexing  \n",
    "feat_cols"
   ]
  },
  {
   "cell_type": "code",
   "execution_count": 175,
   "id": "c46a241c",
   "metadata": {},
   "outputs": [
    {
     "data": {
      "text/html": [
       "<div>\n",
       "<style scoped>\n",
       "    .dataframe tbody tr th:only-of-type {\n",
       "        vertical-align: middle;\n",
       "    }\n",
       "\n",
       "    .dataframe tbody tr th {\n",
       "        vertical-align: top;\n",
       "    }\n",
       "\n",
       "    .dataframe thead th {\n",
       "        text-align: right;\n",
       "    }\n",
       "</style>\n",
       "<table border=\"1\" class=\"dataframe\">\n",
       "  <thead>\n",
       "    <tr style=\"text-align: right;\">\n",
       "      <th></th>\n",
       "      <th>Kilometers_Driven</th>\n",
       "      <th>New_Price</th>\n",
       "      <th>Mileage_KMPL</th>\n",
       "      <th>Power_bhp</th>\n",
       "      <th>Fuel_Type_Petrol</th>\n",
       "      <th>Transmission_Manual</th>\n",
       "      <th>Owner_Type_Second</th>\n",
       "      <th>Owner_Type_Third</th>\n",
       "      <th>Seats_7.0</th>\n",
       "      <th>Seats_8.0</th>\n",
       "    </tr>\n",
       "  </thead>\n",
       "  <tbody>\n",
       "    <tr>\n",
       "      <th>3957</th>\n",
       "      <td>53886.0</td>\n",
       "      <td>4.78000</td>\n",
       "      <td>25.1</td>\n",
       "      <td>53.30</td>\n",
       "      <td>1</td>\n",
       "      <td>1</td>\n",
       "      <td>0</td>\n",
       "      <td>0</td>\n",
       "      <td>0</td>\n",
       "      <td>0</td>\n",
       "    </tr>\n",
       "    <tr>\n",
       "      <th>5389</th>\n",
       "      <td>100400.0</td>\n",
       "      <td>7.63000</td>\n",
       "      <td>25.0</td>\n",
       "      <td>69.00</td>\n",
       "      <td>0</td>\n",
       "      <td>1</td>\n",
       "      <td>0</td>\n",
       "      <td>0</td>\n",
       "      <td>0</td>\n",
       "      <td>0</td>\n",
       "    </tr>\n",
       "    <tr>\n",
       "      <th>1472</th>\n",
       "      <td>9500.0</td>\n",
       "      <td>21.77000</td>\n",
       "      <td>14.6</td>\n",
       "      <td>149.92</td>\n",
       "      <td>1</td>\n",
       "      <td>0</td>\n",
       "      <td>0</td>\n",
       "      <td>0</td>\n",
       "      <td>0</td>\n",
       "      <td>0</td>\n",
       "    </tr>\n",
       "    <tr>\n",
       "      <th>3679</th>\n",
       "      <td>10000.0</td>\n",
       "      <td>45.94125</td>\n",
       "      <td>19.2</td>\n",
       "      <td>167.62</td>\n",
       "      <td>0</td>\n",
       "      <td>0</td>\n",
       "      <td>0</td>\n",
       "      <td>0</td>\n",
       "      <td>0</td>\n",
       "      <td>0</td>\n",
       "    </tr>\n",
       "    <tr>\n",
       "      <th>1305</th>\n",
       "      <td>31000.0</td>\n",
       "      <td>45.94125</td>\n",
       "      <td>17.0</td>\n",
       "      <td>190.00</td>\n",
       "      <td>0</td>\n",
       "      <td>0</td>\n",
       "      <td>0</td>\n",
       "      <td>0</td>\n",
       "      <td>0</td>\n",
       "      <td>0</td>\n",
       "    </tr>\n",
       "    <tr>\n",
       "      <th>...</th>\n",
       "      <td>...</td>\n",
       "      <td>...</td>\n",
       "      <td>...</td>\n",
       "      <td>...</td>\n",
       "      <td>...</td>\n",
       "      <td>...</td>\n",
       "      <td>...</td>\n",
       "      <td>...</td>\n",
       "      <td>...</td>\n",
       "      <td>...</td>\n",
       "    </tr>\n",
       "    <tr>\n",
       "      <th>5059</th>\n",
       "      <td>58829.0</td>\n",
       "      <td>9.89000</td>\n",
       "      <td>24.0</td>\n",
       "      <td>88.50</td>\n",
       "      <td>0</td>\n",
       "      <td>1</td>\n",
       "      <td>0</td>\n",
       "      <td>0</td>\n",
       "      <td>0</td>\n",
       "      <td>0</td>\n",
       "    </tr>\n",
       "    <tr>\n",
       "      <th>3351</th>\n",
       "      <td>32720.0</td>\n",
       "      <td>10.25000</td>\n",
       "      <td>23.0</td>\n",
       "      <td>90.00</td>\n",
       "      <td>0</td>\n",
       "      <td>1</td>\n",
       "      <td>0</td>\n",
       "      <td>0</td>\n",
       "      <td>0</td>\n",
       "      <td>0</td>\n",
       "    </tr>\n",
       "    <tr>\n",
       "      <th>1699</th>\n",
       "      <td>90000.0</td>\n",
       "      <td>35.29000</td>\n",
       "      <td>10.0</td>\n",
       "      <td>143.00</td>\n",
       "      <td>0</td>\n",
       "      <td>1</td>\n",
       "      <td>0</td>\n",
       "      <td>0</td>\n",
       "      <td>1</td>\n",
       "      <td>0</td>\n",
       "    </tr>\n",
       "    <tr>\n",
       "      <th>2683</th>\n",
       "      <td>26400.0</td>\n",
       "      <td>5.87000</td>\n",
       "      <td>23.0</td>\n",
       "      <td>67.04</td>\n",
       "      <td>1</td>\n",
       "      <td>1</td>\n",
       "      <td>0</td>\n",
       "      <td>0</td>\n",
       "      <td>0</td>\n",
       "      <td>0</td>\n",
       "    </tr>\n",
       "    <tr>\n",
       "      <th>2810</th>\n",
       "      <td>4800.0</td>\n",
       "      <td>5.51000</td>\n",
       "      <td>20.5</td>\n",
       "      <td>67.04</td>\n",
       "      <td>1</td>\n",
       "      <td>1</td>\n",
       "      <td>0</td>\n",
       "      <td>0</td>\n",
       "      <td>0</td>\n",
       "      <td>0</td>\n",
       "    </tr>\n",
       "  </tbody>\n",
       "</table>\n",
       "<p>4697 rows × 10 columns</p>\n",
       "</div>"
      ],
      "text/plain": [
       "      Kilometers_Driven  New_Price  Mileage_KMPL  Power_bhp  Fuel_Type_Petrol  \\\n",
       "3957            53886.0    4.78000          25.1      53.30                 1   \n",
       "5389           100400.0    7.63000          25.0      69.00                 0   \n",
       "1472             9500.0   21.77000          14.6     149.92                 1   \n",
       "3679            10000.0   45.94125          19.2     167.62                 0   \n",
       "1305            31000.0   45.94125          17.0     190.00                 0   \n",
       "...                 ...        ...           ...        ...               ...   \n",
       "5059            58829.0    9.89000          24.0      88.50                 0   \n",
       "3351            32720.0   10.25000          23.0      90.00                 0   \n",
       "1699            90000.0   35.29000          10.0     143.00                 0   \n",
       "2683            26400.0    5.87000          23.0      67.04                 1   \n",
       "2810             4800.0    5.51000          20.5      67.04                 1   \n",
       "\n",
       "      Transmission_Manual  Owner_Type_Second  Owner_Type_Third  Seats_7.0  \\\n",
       "3957                    1                  0                 0          0   \n",
       "5389                    1                  0                 0          0   \n",
       "1472                    0                  0                 0          0   \n",
       "3679                    0                  0                 0          0   \n",
       "1305                    0                  0                 0          0   \n",
       "...                   ...                ...               ...        ...   \n",
       "5059                    1                  0                 0          0   \n",
       "3351                    1                  0                 0          0   \n",
       "1699                    1                  0                 0          1   \n",
       "2683                    1                  0                 0          0   \n",
       "2810                    1                  0                 0          0   \n",
       "\n",
       "      Seats_8.0  \n",
       "3957          0  \n",
       "5389          0  \n",
       "1472          0  \n",
       "3679          0  \n",
       "1305          0  \n",
       "...         ...  \n",
       "5059          0  \n",
       "3351          0  \n",
       "1699          0  \n",
       "2683          0  \n",
       "2810          0  \n",
       "\n",
       "[4697 rows x 10 columns]"
      ]
     },
     "execution_count": 175,
     "metadata": {},
     "output_type": "execute_result"
    }
   ],
   "source": [
    "x_train_new = x_train [feat_cols]  \n",
    "x_train_new"
   ]
  },
  {
   "cell_type": "code",
   "execution_count": 176,
   "id": "16487752",
   "metadata": {},
   "outputs": [
    {
     "data": {
      "text/html": [
       "<div>\n",
       "<style scoped>\n",
       "    .dataframe tbody tr th:only-of-type {\n",
       "        vertical-align: middle;\n",
       "    }\n",
       "\n",
       "    .dataframe tbody tr th {\n",
       "        vertical-align: top;\n",
       "    }\n",
       "\n",
       "    .dataframe thead th {\n",
       "        text-align: right;\n",
       "    }\n",
       "</style>\n",
       "<table border=\"1\" class=\"dataframe\">\n",
       "  <thead>\n",
       "    <tr style=\"text-align: right;\">\n",
       "      <th></th>\n",
       "      <th>Kilometers_Driven</th>\n",
       "      <th>New_Price</th>\n",
       "      <th>Mileage_KMPL</th>\n",
       "      <th>Power_bhp</th>\n",
       "      <th>Fuel_Type_Petrol</th>\n",
       "      <th>Transmission_Manual</th>\n",
       "      <th>Owner_Type_Second</th>\n",
       "      <th>Owner_Type_Third</th>\n",
       "      <th>Seats_7.0</th>\n",
       "      <th>Seats_8.0</th>\n",
       "    </tr>\n",
       "  </thead>\n",
       "  <tbody>\n",
       "    <tr>\n",
       "      <th>5642</th>\n",
       "      <td>130873.125</td>\n",
       "      <td>8.80000</td>\n",
       "      <td>15.0</td>\n",
       "      <td>94.00</td>\n",
       "      <td>1</td>\n",
       "      <td>1</td>\n",
       "      <td>0</td>\n",
       "      <td>1</td>\n",
       "      <td>0</td>\n",
       "      <td>0</td>\n",
       "    </tr>\n",
       "    <tr>\n",
       "      <th>3499</th>\n",
       "      <td>41290.000</td>\n",
       "      <td>18.86500</td>\n",
       "      <td>16.0</td>\n",
       "      <td>140.00</td>\n",
       "      <td>0</td>\n",
       "      <td>1</td>\n",
       "      <td>1</td>\n",
       "      <td>0</td>\n",
       "      <td>1</td>\n",
       "      <td>0</td>\n",
       "    </tr>\n",
       "    <tr>\n",
       "      <th>4478</th>\n",
       "      <td>75000.000</td>\n",
       "      <td>11.68500</td>\n",
       "      <td>17.0</td>\n",
       "      <td>68.00</td>\n",
       "      <td>0</td>\n",
       "      <td>1</td>\n",
       "      <td>1</td>\n",
       "      <td>0</td>\n",
       "      <td>0</td>\n",
       "      <td>0</td>\n",
       "    </tr>\n",
       "    <tr>\n",
       "      <th>995</th>\n",
       "      <td>11000.000</td>\n",
       "      <td>34.63000</td>\n",
       "      <td>15.0</td>\n",
       "      <td>120.70</td>\n",
       "      <td>1</td>\n",
       "      <td>0</td>\n",
       "      <td>0</td>\n",
       "      <td>0</td>\n",
       "      <td>0</td>\n",
       "      <td>0</td>\n",
       "    </tr>\n",
       "    <tr>\n",
       "      <th>4022</th>\n",
       "      <td>32000.000</td>\n",
       "      <td>22.66000</td>\n",
       "      <td>14.2</td>\n",
       "      <td>138.03</td>\n",
       "      <td>1</td>\n",
       "      <td>1</td>\n",
       "      <td>1</td>\n",
       "      <td>0</td>\n",
       "      <td>0</td>\n",
       "      <td>0</td>\n",
       "    </tr>\n",
       "    <tr>\n",
       "      <th>...</th>\n",
       "      <td>...</td>\n",
       "      <td>...</td>\n",
       "      <td>...</td>\n",
       "      <td>...</td>\n",
       "      <td>...</td>\n",
       "      <td>...</td>\n",
       "      <td>...</td>\n",
       "      <td>...</td>\n",
       "      <td>...</td>\n",
       "      <td>...</td>\n",
       "    </tr>\n",
       "    <tr>\n",
       "      <th>1473</th>\n",
       "      <td>130873.125</td>\n",
       "      <td>37.17000</td>\n",
       "      <td>11.0</td>\n",
       "      <td>169.00</td>\n",
       "      <td>0</td>\n",
       "      <td>0</td>\n",
       "      <td>0</td>\n",
       "      <td>0</td>\n",
       "      <td>1</td>\n",
       "      <td>0</td>\n",
       "    </tr>\n",
       "    <tr>\n",
       "      <th>3603</th>\n",
       "      <td>5000.000</td>\n",
       "      <td>4.90000</td>\n",
       "      <td>25.1</td>\n",
       "      <td>53.30</td>\n",
       "      <td>1</td>\n",
       "      <td>1</td>\n",
       "      <td>0</td>\n",
       "      <td>0</td>\n",
       "      <td>0</td>\n",
       "      <td>0</td>\n",
       "    </tr>\n",
       "    <tr>\n",
       "      <th>889</th>\n",
       "      <td>51530.000</td>\n",
       "      <td>5.51000</td>\n",
       "      <td>18.0</td>\n",
       "      <td>67.10</td>\n",
       "      <td>1</td>\n",
       "      <td>1</td>\n",
       "      <td>0</td>\n",
       "      <td>0</td>\n",
       "      <td>0</td>\n",
       "      <td>0</td>\n",
       "    </tr>\n",
       "    <tr>\n",
       "      <th>3839</th>\n",
       "      <td>117236.000</td>\n",
       "      <td>45.94125</td>\n",
       "      <td>11.0</td>\n",
       "      <td>190.00</td>\n",
       "      <td>0</td>\n",
       "      <td>0</td>\n",
       "      <td>1</td>\n",
       "      <td>0</td>\n",
       "      <td>1</td>\n",
       "      <td>0</td>\n",
       "    </tr>\n",
       "    <tr>\n",
       "      <th>617</th>\n",
       "      <td>64000.000</td>\n",
       "      <td>10.15000</td>\n",
       "      <td>22.0</td>\n",
       "      <td>73.90</td>\n",
       "      <td>0</td>\n",
       "      <td>1</td>\n",
       "      <td>0</td>\n",
       "      <td>0</td>\n",
       "      <td>0</td>\n",
       "      <td>0</td>\n",
       "    </tr>\n",
       "  </tbody>\n",
       "</table>\n",
       "<p>1175 rows × 10 columns</p>\n",
       "</div>"
      ],
      "text/plain": [
       "      Kilometers_Driven  New_Price  Mileage_KMPL  Power_bhp  Fuel_Type_Petrol  \\\n",
       "5642         130873.125    8.80000          15.0      94.00                 1   \n",
       "3499          41290.000   18.86500          16.0     140.00                 0   \n",
       "4478          75000.000   11.68500          17.0      68.00                 0   \n",
       "995           11000.000   34.63000          15.0     120.70                 1   \n",
       "4022          32000.000   22.66000          14.2     138.03                 1   \n",
       "...                 ...        ...           ...        ...               ...   \n",
       "1473         130873.125   37.17000          11.0     169.00                 0   \n",
       "3603           5000.000    4.90000          25.1      53.30                 1   \n",
       "889           51530.000    5.51000          18.0      67.10                 1   \n",
       "3839         117236.000   45.94125          11.0     190.00                 0   \n",
       "617           64000.000   10.15000          22.0      73.90                 0   \n",
       "\n",
       "      Transmission_Manual  Owner_Type_Second  Owner_Type_Third  Seats_7.0  \\\n",
       "5642                    1                  0                 1          0   \n",
       "3499                    1                  1                 0          1   \n",
       "4478                    1                  1                 0          0   \n",
       "995                     0                  0                 0          0   \n",
       "4022                    1                  1                 0          0   \n",
       "...                   ...                ...               ...        ...   \n",
       "1473                    0                  0                 0          1   \n",
       "3603                    1                  0                 0          0   \n",
       "889                     1                  0                 0          0   \n",
       "3839                    0                  1                 0          1   \n",
       "617                     1                  0                 0          0   \n",
       "\n",
       "      Seats_8.0  \n",
       "5642          0  \n",
       "3499          0  \n",
       "4478          0  \n",
       "995           0  \n",
       "4022          0  \n",
       "...         ...  \n",
       "1473          0  \n",
       "3603          0  \n",
       "889           0  \n",
       "3839          0  \n",
       "617           0  \n",
       "\n",
       "[1175 rows x 10 columns]"
      ]
     },
     "execution_count": 176,
     "metadata": {},
     "output_type": "execute_result"
    }
   ],
   "source": [
    "x_test_new = x_test [feat_cols]\n",
    "x_test_new "
   ]
  },
  {
   "cell_type": "markdown",
   "id": "2906c5fa",
   "metadata": {},
   "source": [
    "### Re-build the Models with the new features"
   ]
  },
  {
   "cell_type": "code",
   "execution_count": 177,
   "id": "4b1044cc",
   "metadata": {},
   "outputs": [],
   "source": [
    "scaler_new = StandardScaler()"
   ]
  },
  {
   "cell_type": "code",
   "execution_count": 178,
   "id": "883e550b",
   "metadata": {},
   "outputs": [],
   "source": [
    "x_train_new_sc = scaler_new.fit_transform(x_train_new) #Only the train and test sets of the numerical values are being scaled \n",
    "x_test_new_sc = scaler_new.transform(x_test_new)"
   ]
  },
  {
   "cell_type": "code",
   "execution_count": 179,
   "id": "b29380dc",
   "metadata": {},
   "outputs": [
    {
     "data": {
      "text/plain": [
       "LinearRegression()"
      ]
     },
     "execution_count": 179,
     "metadata": {},
     "output_type": "execute_result"
    }
   ],
   "source": [
    "lin_reg2= LinearRegression()\n",
    "lin_reg2.fit(x_train_new_sc, y_train)"
   ]
  },
  {
   "cell_type": "markdown",
   "id": "3becd744",
   "metadata": {},
   "source": [
    "#### Model train Performance "
   ]
  },
  {
   "cell_type": "code",
   "execution_count": 180,
   "id": "7d506f19",
   "metadata": {},
   "outputs": [
    {
     "data": {
      "text/html": [
       "<div>\n",
       "<style scoped>\n",
       "    .dataframe tbody tr th:only-of-type {\n",
       "        vertical-align: middle;\n",
       "    }\n",
       "\n",
       "    .dataframe tbody tr th {\n",
       "        vertical-align: top;\n",
       "    }\n",
       "\n",
       "    .dataframe thead th {\n",
       "        text-align: right;\n",
       "    }\n",
       "</style>\n",
       "<table border=\"1\" class=\"dataframe\">\n",
       "  <thead>\n",
       "    <tr style=\"text-align: right;\">\n",
       "      <th></th>\n",
       "      <th>RMSE</th>\n",
       "      <th>MAE</th>\n",
       "      <th>R-squared</th>\n",
       "      <th>Adj. R-squared</th>\n",
       "      <th>MAPE</th>\n",
       "    </tr>\n",
       "  </thead>\n",
       "  <tbody>\n",
       "    <tr>\n",
       "      <th>0</th>\n",
       "      <td>0.392876</td>\n",
       "      <td>0.303548</td>\n",
       "      <td>0.792241</td>\n",
       "      <td>0.791798</td>\n",
       "      <td>inf</td>\n",
       "    </tr>\n",
       "  </tbody>\n",
       "</table>\n",
       "</div>"
      ],
      "text/plain": [
       "       RMSE       MAE  R-squared  Adj. R-squared  MAPE\n",
       "0  0.392876  0.303548   0.792241        0.791798   inf"
      ]
     },
     "execution_count": 180,
     "metadata": {},
     "output_type": "execute_result"
    }
   ],
   "source": [
    "model_performance_regression(lin_reg2, x_train_new_sc, y_train)"
   ]
  },
  {
   "cell_type": "markdown",
   "id": "67af9a4a",
   "metadata": {},
   "source": [
    "#### Model Test Perfromance "
   ]
  },
  {
   "cell_type": "code",
   "execution_count": 181,
   "id": "9276d8db",
   "metadata": {},
   "outputs": [
    {
     "data": {
      "text/html": [
       "<div>\n",
       "<style scoped>\n",
       "    .dataframe tbody tr th:only-of-type {\n",
       "        vertical-align: middle;\n",
       "    }\n",
       "\n",
       "    .dataframe tbody tr th {\n",
       "        vertical-align: top;\n",
       "    }\n",
       "\n",
       "    .dataframe thead th {\n",
       "        text-align: right;\n",
       "    }\n",
       "</style>\n",
       "<table border=\"1\" class=\"dataframe\">\n",
       "  <thead>\n",
       "    <tr style=\"text-align: right;\">\n",
       "      <th></th>\n",
       "      <th>RMSE</th>\n",
       "      <th>MAE</th>\n",
       "      <th>R-squared</th>\n",
       "      <th>Adj. R-squared</th>\n",
       "      <th>MAPE</th>\n",
       "    </tr>\n",
       "  </thead>\n",
       "  <tbody>\n",
       "    <tr>\n",
       "      <th>0</th>\n",
       "      <td>0.388069</td>\n",
       "      <td>0.304912</td>\n",
       "      <td>0.801494</td>\n",
       "      <td>0.799789</td>\n",
       "      <td>inf</td>\n",
       "    </tr>\n",
       "  </tbody>\n",
       "</table>\n",
       "</div>"
      ],
      "text/plain": [
       "       RMSE       MAE  R-squared  Adj. R-squared  MAPE\n",
       "0  0.388069  0.304912   0.801494        0.799789   inf"
      ]
     },
     "execution_count": 181,
     "metadata": {},
     "output_type": "execute_result"
    }
   ],
   "source": [
    "model_performance_regression(lin_reg2, x_test_new_sc, y_test)"
   ]
  },
  {
   "cell_type": "code",
   "execution_count": null,
   "id": "424bb0e1",
   "metadata": {},
   "outputs": [],
   "source": []
  },
  {
   "cell_type": "code",
   "execution_count": null,
   "id": "ecabea16",
   "metadata": {},
   "outputs": [],
   "source": []
  },
  {
   "cell_type": "markdown",
   "id": "da8a3390",
   "metadata": {},
   "source": [
    "## Insights\n",
    "\n",
    "The train and test R^2 are 0.79 and 0.80, indicating that the model explains 79% and 80% of the total variation in the train and test sets respectively. \n",
    "\n",
    "- Using the RMSE as a bench for performance check on all the algorithm, it is seen that the model performed well on all sampled Algorithm except for Lasso that seem hash which upon hyper parameter tunning gave a more improved result but not as other Algorithm\n",
    "\n",
    "- Conclusively. the Linear Model can be deployed for prediction/forecast\n"
   ]
  },
  {
   "cell_type": "markdown",
   "id": "e8d8cc5d",
   "metadata": {},
   "source": [
    "## Business Recommendations\n",
    "\n",
    "Our Forecast is highly dependent on below variables: \n",
    "\n",
    "1. Kilometer driven \n",
    "2. New Price \n",
    "3. Mileage \n",
    "4. Power \n",
    "5. No of Seats  and Transmission type \n"
   ]
  },
  {
   "cell_type": "code",
   "execution_count": null,
   "id": "ab99fb62",
   "metadata": {},
   "outputs": [],
   "source": []
  }
 ],
 "metadata": {
  "kernelspec": {
   "display_name": "Python 3 (ipykernel)",
   "language": "python",
   "name": "python3"
  },
  "language_info": {
   "codemirror_mode": {
    "name": "ipython",
    "version": 3
   },
   "file_extension": ".py",
   "mimetype": "text/x-python",
   "name": "python",
   "nbconvert_exporter": "python",
   "pygments_lexer": "ipython3",
   "version": "3.9.12"
  }
 },
 "nbformat": 4,
 "nbformat_minor": 5
}
