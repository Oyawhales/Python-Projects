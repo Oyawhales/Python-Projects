{
 "cells": [
  {
   "cell_type": "markdown",
   "metadata": {
    "id": "FNq24Cggf_ca"
   },
   "source": [
    "Import librabries "
   ]
  },
  {
   "cell_type": "code",
   "execution_count": 1,
   "metadata": {
    "id": "VOpwPsAAc-5f"
   },
   "outputs": [],
   "source": [
    "\n",
    "import pandas as pd \n",
    "import numpy as np \n",
    "from tensorflow.keras import Sequential #This is for stacking the layers \n",
    "from tensorflow.keras.layers import Dense, Dropout \n",
    "from sklearn.metrics import mean_squared_error\n",
    "from sklearn.model_selection import train_test_split\n",
    "from sklearn.preprocessing import StandardScaler, MinMaxScaler\n",
    "from sklearn.metrics.pairwise import kernel_metrics\n",
    "from tensorflow.keras.callbacks import ModelCheckpoint \n",
    "from sklearn.metrics import mean_squared_error, mean_absolute_error\n",
    "import matplotlib.pyplot as plt "
   ]
  },
  {
   "cell_type": "markdown",
   "metadata": {
    "id": "6CJ7dLYegEio"
   },
   "source": [
    "Load Data set "
   ]
  },
  {
   "cell_type": "code",
   "execution_count": 2,
   "metadata": {
    "colab": {
     "base_uri": "https://localhost:8080/"
    },
    "id": "ZFD5KrxjkXHs",
    "outputId": "a6a1e1da-b319-4af5-c7f7-3df09c65c870"
   },
   "outputs": [
    {
     "name": "stdout",
     "output_type": "stream",
     "text": [
      "Drive already mounted at /content/drive; to attempt to forcibly remount, call drive.mount(\"/content/drive\", force_remount=True).\n"
     ]
    }
   ],
   "source": [
    "from google.colab import drive\n",
    "drive.mount('/content/drive')"
   ]
  },
  {
   "cell_type": "code",
   "execution_count": 3,
   "metadata": {
    "colab": {
     "base_uri": "https://localhost:8080/",
     "height": 320
    },
    "id": "bUJnE_ATcpdB",
    "outputId": "3c69f5ae-500e-48af-b45d-6c16256d1260"
   },
   "outputs": [
    {
     "data": {
      "text/html": [
       "\n",
       "  <div id=\"df-85970b3d-3c06-46f3-8ffd-7bda9ec9c629\">\n",
       "    <div class=\"colab-df-container\">\n",
       "      <div>\n",
       "<style scoped>\n",
       "    .dataframe tbody tr th:only-of-type {\n",
       "        vertical-align: middle;\n",
       "    }\n",
       "\n",
       "    .dataframe tbody tr th {\n",
       "        vertical-align: top;\n",
       "    }\n",
       "\n",
       "    .dataframe thead th {\n",
       "        text-align: right;\n",
       "    }\n",
       "</style>\n",
       "<table border=\"1\" class=\"dataframe\">\n",
       "  <thead>\n",
       "    <tr style=\"text-align: right;\">\n",
       "      <th></th>\n",
       "      <th>Avg. Area Income</th>\n",
       "      <th>Avg. Area House Age</th>\n",
       "      <th>Avg. Area Number of Rooms</th>\n",
       "      <th>Avg. Area Number of Bedrooms</th>\n",
       "      <th>Area Population</th>\n",
       "      <th>Price</th>\n",
       "      <th>Address</th>\n",
       "    </tr>\n",
       "  </thead>\n",
       "  <tbody>\n",
       "    <tr>\n",
       "      <th>0</th>\n",
       "      <td>79545.458574</td>\n",
       "      <td>5.682861</td>\n",
       "      <td>7.009188</td>\n",
       "      <td>4.09</td>\n",
       "      <td>23086.800503</td>\n",
       "      <td>1.059034e+06</td>\n",
       "      <td>208 Michael Ferry Apt. 674\\nLaurabury, NE 3701...</td>\n",
       "    </tr>\n",
       "    <tr>\n",
       "      <th>1</th>\n",
       "      <td>79248.642455</td>\n",
       "      <td>6.002900</td>\n",
       "      <td>6.730821</td>\n",
       "      <td>3.09</td>\n",
       "      <td>40173.072174</td>\n",
       "      <td>1.505891e+06</td>\n",
       "      <td>188 Johnson Views Suite 079\\nLake Kathleen, CA...</td>\n",
       "    </tr>\n",
       "    <tr>\n",
       "      <th>2</th>\n",
       "      <td>61287.067179</td>\n",
       "      <td>5.865890</td>\n",
       "      <td>8.512727</td>\n",
       "      <td>5.13</td>\n",
       "      <td>36882.159400</td>\n",
       "      <td>1.058988e+06</td>\n",
       "      <td>9127 Elizabeth Stravenue\\nDanieltown, WI 06482...</td>\n",
       "    </tr>\n",
       "    <tr>\n",
       "      <th>3</th>\n",
       "      <td>63345.240046</td>\n",
       "      <td>7.188236</td>\n",
       "      <td>5.586729</td>\n",
       "      <td>3.26</td>\n",
       "      <td>34310.242831</td>\n",
       "      <td>1.260617e+06</td>\n",
       "      <td>USS Barnett\\nFPO AP 44820</td>\n",
       "    </tr>\n",
       "    <tr>\n",
       "      <th>4</th>\n",
       "      <td>59982.197226</td>\n",
       "      <td>5.040555</td>\n",
       "      <td>7.839388</td>\n",
       "      <td>4.23</td>\n",
       "      <td>26354.109472</td>\n",
       "      <td>6.309435e+05</td>\n",
       "      <td>USNS Raymond\\nFPO AE 09386</td>\n",
       "    </tr>\n",
       "  </tbody>\n",
       "</table>\n",
       "</div>\n",
       "      <button class=\"colab-df-convert\" onclick=\"convertToInteractive('df-85970b3d-3c06-46f3-8ffd-7bda9ec9c629')\"\n",
       "              title=\"Convert this dataframe to an interactive table.\"\n",
       "              style=\"display:none;\">\n",
       "        \n",
       "  <svg xmlns=\"http://www.w3.org/2000/svg\" height=\"24px\"viewBox=\"0 0 24 24\"\n",
       "       width=\"24px\">\n",
       "    <path d=\"M0 0h24v24H0V0z\" fill=\"none\"/>\n",
       "    <path d=\"M18.56 5.44l.94 2.06.94-2.06 2.06-.94-2.06-.94-.94-2.06-.94 2.06-2.06.94zm-11 1L8.5 8.5l.94-2.06 2.06-.94-2.06-.94L8.5 2.5l-.94 2.06-2.06.94zm10 10l.94 2.06.94-2.06 2.06-.94-2.06-.94-.94-2.06-.94 2.06-2.06.94z\"/><path d=\"M17.41 7.96l-1.37-1.37c-.4-.4-.92-.59-1.43-.59-.52 0-1.04.2-1.43.59L10.3 9.45l-7.72 7.72c-.78.78-.78 2.05 0 2.83L4 21.41c.39.39.9.59 1.41.59.51 0 1.02-.2 1.41-.59l7.78-7.78 2.81-2.81c.8-.78.8-2.07 0-2.86zM5.41 20L4 18.59l7.72-7.72 1.47 1.35L5.41 20z\"/>\n",
       "  </svg>\n",
       "      </button>\n",
       "      \n",
       "  <style>\n",
       "    .colab-df-container {\n",
       "      display:flex;\n",
       "      flex-wrap:wrap;\n",
       "      gap: 12px;\n",
       "    }\n",
       "\n",
       "    .colab-df-convert {\n",
       "      background-color: #E8F0FE;\n",
       "      border: none;\n",
       "      border-radius: 50%;\n",
       "      cursor: pointer;\n",
       "      display: none;\n",
       "      fill: #1967D2;\n",
       "      height: 32px;\n",
       "      padding: 0 0 0 0;\n",
       "      width: 32px;\n",
       "    }\n",
       "\n",
       "    .colab-df-convert:hover {\n",
       "      background-color: #E2EBFA;\n",
       "      box-shadow: 0px 1px 2px rgba(60, 64, 67, 0.3), 0px 1px 3px 1px rgba(60, 64, 67, 0.15);\n",
       "      fill: #174EA6;\n",
       "    }\n",
       "\n",
       "    [theme=dark] .colab-df-convert {\n",
       "      background-color: #3B4455;\n",
       "      fill: #D2E3FC;\n",
       "    }\n",
       "\n",
       "    [theme=dark] .colab-df-convert:hover {\n",
       "      background-color: #434B5C;\n",
       "      box-shadow: 0px 1px 3px 1px rgba(0, 0, 0, 0.15);\n",
       "      filter: drop-shadow(0px 1px 2px rgba(0, 0, 0, 0.3));\n",
       "      fill: #FFFFFF;\n",
       "    }\n",
       "  </style>\n",
       "\n",
       "      <script>\n",
       "        const buttonEl =\n",
       "          document.querySelector('#df-85970b3d-3c06-46f3-8ffd-7bda9ec9c629 button.colab-df-convert');\n",
       "        buttonEl.style.display =\n",
       "          google.colab.kernel.accessAllowed ? 'block' : 'none';\n",
       "\n",
       "        async function convertToInteractive(key) {\n",
       "          const element = document.querySelector('#df-85970b3d-3c06-46f3-8ffd-7bda9ec9c629');\n",
       "          const dataTable =\n",
       "            await google.colab.kernel.invokeFunction('convertToInteractive',\n",
       "                                                     [key], {});\n",
       "          if (!dataTable) return;\n",
       "\n",
       "          const docLinkHtml = 'Like what you see? Visit the ' +\n",
       "            '<a target=\"_blank\" href=https://colab.research.google.com/notebooks/data_table.ipynb>data table notebook</a>'\n",
       "            + ' to learn more about interactive tables.';\n",
       "          element.innerHTML = '';\n",
       "          dataTable['output_type'] = 'display_data';\n",
       "          await google.colab.output.renderOutput(dataTable, element);\n",
       "          const docLink = document.createElement('div');\n",
       "          docLink.innerHTML = docLinkHtml;\n",
       "          element.appendChild(docLink);\n",
       "        }\n",
       "      </script>\n",
       "    </div>\n",
       "  </div>\n",
       "  "
      ],
      "text/plain": [
       "   Avg. Area Income  Avg. Area House Age  Avg. Area Number of Rooms  \\\n",
       "0      79545.458574             5.682861                   7.009188   \n",
       "1      79248.642455             6.002900                   6.730821   \n",
       "2      61287.067179             5.865890                   8.512727   \n",
       "3      63345.240046             7.188236                   5.586729   \n",
       "4      59982.197226             5.040555                   7.839388   \n",
       "\n",
       "   Avg. Area Number of Bedrooms  Area Population         Price  \\\n",
       "0                          4.09     23086.800503  1.059034e+06   \n",
       "1                          3.09     40173.072174  1.505891e+06   \n",
       "2                          5.13     36882.159400  1.058988e+06   \n",
       "3                          3.26     34310.242831  1.260617e+06   \n",
       "4                          4.23     26354.109472  6.309435e+05   \n",
       "\n",
       "                                             Address  \n",
       "0  208 Michael Ferry Apt. 674\\nLaurabury, NE 3701...  \n",
       "1  188 Johnson Views Suite 079\\nLake Kathleen, CA...  \n",
       "2  9127 Elizabeth Stravenue\\nDanieltown, WI 06482...  \n",
       "3                          USS Barnett\\nFPO AP 44820  \n",
       "4                         USNS Raymond\\nFPO AE 09386  "
      ]
     },
     "execution_count": 3,
     "metadata": {},
     "output_type": "execute_result"
    }
   ],
   "source": [
    "path = \"/content/drive/MyDrive/project/USA_Housing.csv\"\n",
    "df = pd.read_csv(path)\n",
    "df.head()"
   ]
  },
  {
   "cell_type": "code",
   "execution_count": 4,
   "metadata": {
    "colab": {
     "base_uri": "https://localhost:8080/"
    },
    "id": "GhJ7HZHfgyIN",
    "outputId": "4c63d5cd-335c-426d-9f47-34f6e91316c4"
   },
   "outputs": [
    {
     "data": {
      "text/plain": [
       "Avg. Area Income                0\n",
       "Avg. Area House Age             0\n",
       "Avg. Area Number of Rooms       0\n",
       "Avg. Area Number of Bedrooms    0\n",
       "Area Population                 0\n",
       "Price                           0\n",
       "Address                         0\n",
       "dtype: int64"
      ]
     },
     "execution_count": 4,
     "metadata": {},
     "output_type": "execute_result"
    }
   ],
   "source": [
    "df.isnull().sum()"
   ]
  },
  {
   "cell_type": "markdown",
   "metadata": {
    "id": "sRnEXezLYAqp"
   },
   "source": [
    "Select Data into Features and Target "
   ]
  },
  {
   "cell_type": "code",
   "execution_count": 5,
   "metadata": {
    "id": "dfswJvwIhLfL"
   },
   "outputs": [],
   "source": [
    "X = df.drop([\"Address\",\"Price\" ], axis = 1)\n",
    "y = df[\"Price\"]"
   ]
  },
  {
   "cell_type": "markdown",
   "metadata": {
    "id": "yRlDqTuiYxkr"
   },
   "source": [
    "SPlit dataset "
   ]
  },
  {
   "cell_type": "code",
   "execution_count": 6,
   "metadata": {
    "id": "Mma_aoIshPqr"
   },
   "outputs": [],
   "source": [
    "x_train, x_test, y_train, y_test = train_test_split(X, y, test_size = 0.2, random_state =0) # in deep learning there is a way to get the validation set, this is \n",
    "#in the fit side of the model training "
   ]
  },
  {
   "cell_type": "code",
   "execution_count": 7,
   "metadata": {
    "colab": {
     "base_uri": "https://localhost:8080/"
    },
    "id": "m36oVw8EhPuC",
    "outputId": "b1378045-2b53-42c7-9f4d-2db90ae7191e"
   },
   "outputs": [
    {
     "data": {
      "text/plain": [
       "5"
      ]
     },
     "execution_count": 7,
     "metadata": {},
     "output_type": "execute_result"
    }
   ],
   "source": [
    "n_features = X.shape[1]\n",
    "n_features #This returns the no of features which will be put into the input layer of the newtork "
   ]
  },
  {
   "cell_type": "code",
   "execution_count": 8,
   "metadata": {
    "id": "VB24HEEOAA0A"
   },
   "outputs": [],
   "source": [
    "# Normalize the data \n",
    "scaler = MinMaxScaler()\n",
    "x_train_sc = scaler.fit_transform(x_train)\n",
    "x_test_sc = scaler.transform(x_test)"
   ]
  },
  {
   "cell_type": "code",
   "execution_count": 8,
   "metadata": {
    "id": "b3Ws5sRXABDI"
   },
   "outputs": [],
   "source": []
  },
  {
   "cell_type": "markdown",
   "metadata": {
    "id": "xktS3_kQaMhU"
   },
   "source": [
    "Model Architecture "
   ]
  },
  {
   "cell_type": "code",
   "execution_count": 9,
   "metadata": {
    "colab": {
     "base_uri": "https://localhost:8080/"
    },
    "id": "Khl_HwS-a9j6",
    "outputId": "c287572a-896b-45de-916b-0382a5bfbf39"
   },
   "outputs": [
    {
     "name": "stdout",
     "output_type": "stream",
     "text": [
      "Model: \"sequential\"\n",
      "_________________________________________________________________\n",
      " Layer (type)                Output Shape              Param #   \n",
      "=================================================================\n",
      " dense (Dense)               (None, 128)               768       \n",
      "                                                                 \n",
      " dense_1 (Dense)             (None, 256)               33024     \n",
      "                                                                 \n",
      " dropout (Dropout)           (None, 256)               0         \n",
      "                                                                 \n",
      " dense_2 (Dense)             (None, 256)               65792     \n",
      "                                                                 \n",
      " dense_3 (Dense)             (None, 256)               65792     \n",
      "                                                                 \n",
      " dropout_1 (Dropout)         (None, 256)               0         \n",
      "                                                                 \n",
      " dense_4 (Dense)             (None, 1)                 257       \n",
      "                                                                 \n",
      "=================================================================\n",
      "Total params: 165,633\n",
      "Trainable params: 165,633\n",
      "Non-trainable params: 0\n",
      "_________________________________________________________________\n"
     ]
    }
   ],
   "source": [
    "model = Sequential() #here is like creating a bag to stack your layers  \n",
    "# input layer \n",
    "model.add(Dense(128, kernel_initializer ='normal', input_dim = x_train.shape[1],  activation=\"relu\")) \n",
    "\n",
    "\n",
    "# Hidden layer \n",
    "model.add(Dense(256,kernel_initializer ='normal', activation = \"relu\")) # You can increase the number of hideen layer to uinderstand the extrem situation of the features \n",
    "model.add(Dropout(0.2))\n",
    "model.add(Dense( 256,kernel_initializer ='normal', activation = \"relu\"))# Added multi layer perceptron \n",
    "model.add(Dense( 256,kernel_initializer ='normal', activation = \"relu\"))\n",
    "model.add(Dropout(0.2))\n",
    "\n",
    "# Output layer \n",
    "model.add(Dense(1,kernel_initializer ='normal', activation = \"linear\")) # here the final layer will result to a regression value or just a single value; hnece, a linear activation function \n",
    "\n",
    "# compile \n",
    "model.compile (loss = 'mse', optimizer ='adam', metrics =['accuracy']  )\n",
    "\n",
    "model.summary()\n",
    "\n"
   ]
  },
  {
   "cell_type": "code",
   "execution_count": 21,
   "metadata": {
    "id": "XcC_7NGI81mT"
   },
   "outputs": [],
   "source": [
    "checkpoint_name = 'weights-{epoch:03d}--{val_loss:.5f}.hdf5' \n",
    "checkpoint = ModelCheckpoint (checkpoint_name, monitor ='val_loss', verbose = 1, save_best_only =True , mode = 'auto' ) # model checkpoint saves the most improved result at different epochs \n",
    "callbacks_list = [checkpoint] "
   ]
  },
  {
   "cell_type": "code",
   "execution_count": 23,
   "metadata": {
    "colab": {
     "base_uri": "https://localhost:8080/"
    },
    "id": "G1uTUhd0bER-",
    "outputId": "36bb4332-f64f-49e5-dfa1-cb2ec64d4192"
   },
   "outputs": [
    {
     "name": "stdout",
     "output_type": "stream",
     "text": [
      "Epoch 1/100\n",
      "\n",
      "Epoch 1: val_loss improved from inf to 10503259136.00000, saving model to weights-001--10503259136.00000.hdf5\n",
      "100/100 - 2s - loss: 16993184768.0000 - accuracy: 0.0000e+00 - val_loss: 10503259136.0000 - val_accuracy: 0.0000e+00 - 2s/epoch - 24ms/step\n",
      "Epoch 2/100\n",
      "\n",
      "Epoch 2: val_loss did not improve from 10503259136.00000\n",
      "100/100 - 1s - loss: 17124013056.0000 - accuracy: 0.0000e+00 - val_loss: 11468784640.0000 - val_accuracy: 0.0000e+00 - 1s/epoch - 13ms/step\n",
      "Epoch 3/100\n",
      "\n",
      "Epoch 3: val_loss did not improve from 10503259136.00000\n",
      "100/100 - 1s - loss: 16838125568.0000 - accuracy: 0.0000e+00 - val_loss: 10585368576.0000 - val_accuracy: 0.0000e+00 - 1s/epoch - 13ms/step\n",
      "Epoch 4/100\n",
      "\n",
      "Epoch 4: val_loss did not improve from 10503259136.00000\n",
      "100/100 - 1s - loss: 17530839040.0000 - accuracy: 0.0000e+00 - val_loss: 10533696512.0000 - val_accuracy: 0.0000e+00 - 757ms/epoch - 8ms/step\n",
      "Epoch 5/100\n",
      "\n",
      "Epoch 5: val_loss did not improve from 10503259136.00000\n",
      "100/100 - 1s - loss: 16743075840.0000 - accuracy: 0.0000e+00 - val_loss: 10512755712.0000 - val_accuracy: 0.0000e+00 - 706ms/epoch - 7ms/step\n",
      "Epoch 6/100\n",
      "\n",
      "Epoch 6: val_loss did not improve from 10503259136.00000\n",
      "100/100 - 1s - loss: 16690515968.0000 - accuracy: 0.0000e+00 - val_loss: 10648375296.0000 - val_accuracy: 0.0000e+00 - 557ms/epoch - 6ms/step\n",
      "Epoch 7/100\n",
      "\n",
      "Epoch 7: val_loss did not improve from 10503259136.00000\n",
      "100/100 - 1s - loss: 16743394304.0000 - accuracy: 0.0000e+00 - val_loss: 10984762368.0000 - val_accuracy: 0.0000e+00 - 617ms/epoch - 6ms/step\n",
      "Epoch 8/100\n",
      "\n",
      "Epoch 8: val_loss improved from 10503259136.00000 to 10496472064.00000, saving model to weights-008--10496472064.00000.hdf5\n",
      "100/100 - 2s - loss: 16549664768.0000 - accuracy: 0.0000e+00 - val_loss: 10496472064.0000 - val_accuracy: 0.0000e+00 - 2s/epoch - 16ms/step\n",
      "Epoch 9/100\n",
      "\n",
      "Epoch 9: val_loss did not improve from 10496472064.00000\n",
      "100/100 - 1s - loss: 16948277248.0000 - accuracy: 0.0000e+00 - val_loss: 10504005632.0000 - val_accuracy: 0.0000e+00 - 1s/epoch - 13ms/step\n",
      "Epoch 10/100\n",
      "\n",
      "Epoch 10: val_loss did not improve from 10496472064.00000\n",
      "100/100 - 1s - loss: 16934472704.0000 - accuracy: 0.0000e+00 - val_loss: 10597125120.0000 - val_accuracy: 0.0000e+00 - 1s/epoch - 10ms/step\n",
      "Epoch 11/100\n",
      "\n",
      "Epoch 11: val_loss improved from 10496472064.00000 to 10488901632.00000, saving model to weights-011--10488901632.00000.hdf5\n",
      "100/100 - 2s - loss: 16252971008.0000 - accuracy: 0.0000e+00 - val_loss: 10488901632.0000 - val_accuracy: 0.0000e+00 - 2s/epoch - 16ms/step\n",
      "Epoch 12/100\n",
      "\n",
      "Epoch 12: val_loss did not improve from 10488901632.00000\n",
      "100/100 - 2s - loss: 17156205568.0000 - accuracy: 0.0000e+00 - val_loss: 10548608000.0000 - val_accuracy: 0.0000e+00 - 2s/epoch - 19ms/step\n",
      "Epoch 13/100\n",
      "\n",
      "Epoch 13: val_loss did not improve from 10488901632.00000\n",
      "100/100 - 2s - loss: 16486440960.0000 - accuracy: 0.0000e+00 - val_loss: 10585466880.0000 - val_accuracy: 0.0000e+00 - 2s/epoch - 16ms/step\n",
      "Epoch 14/100\n",
      "\n",
      "Epoch 14: val_loss did not improve from 10488901632.00000\n",
      "100/100 - 1s - loss: 16519581696.0000 - accuracy: 0.0000e+00 - val_loss: 10489880576.0000 - val_accuracy: 0.0000e+00 - 1s/epoch - 14ms/step\n",
      "Epoch 15/100\n",
      "\n",
      "Epoch 15: val_loss did not improve from 10488901632.00000\n",
      "100/100 - 1s - loss: 16835363840.0000 - accuracy: 0.0000e+00 - val_loss: 10635812864.0000 - val_accuracy: 0.0000e+00 - 973ms/epoch - 10ms/step\n",
      "Epoch 16/100\n",
      "\n",
      "Epoch 16: val_loss improved from 10488901632.00000 to 10488393728.00000, saving model to weights-016--10488393728.00000.hdf5\n",
      "100/100 - 1s - loss: 17153178624.0000 - accuracy: 0.0000e+00 - val_loss: 10488393728.0000 - val_accuracy: 0.0000e+00 - 892ms/epoch - 9ms/step\n",
      "Epoch 17/100\n",
      "\n",
      "Epoch 17: val_loss did not improve from 10488393728.00000\n",
      "100/100 - 1s - loss: 16816021504.0000 - accuracy: 0.0000e+00 - val_loss: 10518903808.0000 - val_accuracy: 0.0000e+00 - 711ms/epoch - 7ms/step\n",
      "Epoch 18/100\n",
      "\n",
      "Epoch 18: val_loss did not improve from 10488393728.00000\n",
      "100/100 - 1s - loss: 16689992704.0000 - accuracy: 0.0000e+00 - val_loss: 10669753344.0000 - val_accuracy: 0.0000e+00 - 642ms/epoch - 6ms/step\n",
      "Epoch 19/100\n",
      "\n",
      "Epoch 19: val_loss did not improve from 10488393728.00000\n",
      "100/100 - 1s - loss: 16892658688.0000 - accuracy: 0.0000e+00 - val_loss: 12885541888.0000 - val_accuracy: 0.0000e+00 - 782ms/epoch - 8ms/step\n",
      "Epoch 20/100\n",
      "\n",
      "Epoch 20: val_loss did not improve from 10488393728.00000\n",
      "100/100 - 1s - loss: 17806538752.0000 - accuracy: 0.0000e+00 - val_loss: 10516637696.0000 - val_accuracy: 0.0000e+00 - 806ms/epoch - 8ms/step\n",
      "Epoch 21/100\n",
      "\n",
      "Epoch 21: val_loss did not improve from 10488393728.00000\n",
      "100/100 - 1s - loss: 16637477888.0000 - accuracy: 0.0000e+00 - val_loss: 10505949184.0000 - val_accuracy: 0.0000e+00 - 695ms/epoch - 7ms/step\n",
      "Epoch 22/100\n",
      "\n",
      "Epoch 22: val_loss improved from 10488393728.00000 to 10484503552.00000, saving model to weights-022--10484503552.00000.hdf5\n",
      "100/100 - 1s - loss: 16801430528.0000 - accuracy: 0.0000e+00 - val_loss: 10484503552.0000 - val_accuracy: 0.0000e+00 - 786ms/epoch - 8ms/step\n",
      "Epoch 23/100\n",
      "\n",
      "Epoch 23: val_loss did not improve from 10484503552.00000\n",
      "100/100 - 1s - loss: 16927630336.0000 - accuracy: 0.0000e+00 - val_loss: 10781166592.0000 - val_accuracy: 0.0000e+00 - 725ms/epoch - 7ms/step\n",
      "Epoch 24/100\n",
      "\n",
      "Epoch 24: val_loss did not improve from 10484503552.00000\n",
      "100/100 - 1s - loss: 17092180992.0000 - accuracy: 0.0000e+00 - val_loss: 10615475200.0000 - val_accuracy: 0.0000e+00 - 846ms/epoch - 8ms/step\n",
      "Epoch 25/100\n",
      "\n",
      "Epoch 25: val_loss did not improve from 10484503552.00000\n",
      "100/100 - 1s - loss: 16256602112.0000 - accuracy: 0.0000e+00 - val_loss: 11561911296.0000 - val_accuracy: 0.0000e+00 - 966ms/epoch - 10ms/step\n",
      "Epoch 26/100\n",
      "\n",
      "Epoch 26: val_loss did not improve from 10484503552.00000\n",
      "100/100 - 1s - loss: 17236828160.0000 - accuracy: 0.0000e+00 - val_loss: 10495535104.0000 - val_accuracy: 0.0000e+00 - 1s/epoch - 12ms/step\n",
      "Epoch 27/100\n",
      "\n",
      "Epoch 27: val_loss did not improve from 10484503552.00000\n",
      "100/100 - 1s - loss: 16556681216.0000 - accuracy: 0.0000e+00 - val_loss: 10610055168.0000 - val_accuracy: 0.0000e+00 - 1s/epoch - 13ms/step\n",
      "Epoch 28/100\n",
      "\n",
      "Epoch 28: val_loss did not improve from 10484503552.00000\n",
      "100/100 - 2s - loss: 16955587584.0000 - accuracy: 0.0000e+00 - val_loss: 11469571072.0000 - val_accuracy: 0.0000e+00 - 2s/epoch - 18ms/step\n",
      "Epoch 29/100\n",
      "\n",
      "Epoch 29: val_loss did not improve from 10484503552.00000\n",
      "100/100 - 1s - loss: 17227223040.0000 - accuracy: 0.0000e+00 - val_loss: 10517749760.0000 - val_accuracy: 0.0000e+00 - 1s/epoch - 15ms/step\n",
      "Epoch 30/100\n",
      "\n",
      "Epoch 30: val_loss did not improve from 10484503552.00000\n",
      "100/100 - 1s - loss: 16453159936.0000 - accuracy: 0.0000e+00 - val_loss: 10654886912.0000 - val_accuracy: 0.0000e+00 - 678ms/epoch - 7ms/step\n",
      "Epoch 31/100\n",
      "\n",
      "Epoch 31: val_loss did not improve from 10484503552.00000\n",
      "100/100 - 1s - loss: 17228828672.0000 - accuracy: 0.0000e+00 - val_loss: 10728596480.0000 - val_accuracy: 0.0000e+00 - 691ms/epoch - 7ms/step\n",
      "Epoch 32/100\n",
      "\n",
      "Epoch 32: val_loss did not improve from 10484503552.00000\n",
      "100/100 - 1s - loss: 16509788160.0000 - accuracy: 0.0000e+00 - val_loss: 10497541120.0000 - val_accuracy: 0.0000e+00 - 754ms/epoch - 8ms/step\n",
      "Epoch 33/100\n",
      "\n",
      "Epoch 33: val_loss did not improve from 10484503552.00000\n",
      "100/100 - 1s - loss: 17181345792.0000 - accuracy: 0.0000e+00 - val_loss: 10494280704.0000 - val_accuracy: 0.0000e+00 - 732ms/epoch - 7ms/step\n",
      "Epoch 34/100\n",
      "\n",
      "Epoch 34: val_loss did not improve from 10484503552.00000\n",
      "100/100 - 1s - loss: 16951557120.0000 - accuracy: 0.0000e+00 - val_loss: 10909962240.0000 - val_accuracy: 0.0000e+00 - 670ms/epoch - 7ms/step\n",
      "Epoch 35/100\n",
      "\n",
      "Epoch 35: val_loss did not improve from 10484503552.00000\n",
      "100/100 - 1s - loss: 16955339776.0000 - accuracy: 0.0000e+00 - val_loss: 10720955392.0000 - val_accuracy: 0.0000e+00 - 600ms/epoch - 6ms/step\n",
      "Epoch 36/100\n",
      "\n",
      "Epoch 36: val_loss did not improve from 10484503552.00000\n",
      "100/100 - 1s - loss: 16952225792.0000 - accuracy: 0.0000e+00 - val_loss: 10509860864.0000 - val_accuracy: 0.0000e+00 - 737ms/epoch - 7ms/step\n",
      "Epoch 37/100\n",
      "\n",
      "Epoch 37: val_loss did not improve from 10484503552.00000\n",
      "100/100 - 1s - loss: 16650077184.0000 - accuracy: 0.0000e+00 - val_loss: 10707633152.0000 - val_accuracy: 0.0000e+00 - 633ms/epoch - 6ms/step\n",
      "Epoch 38/100\n",
      "\n",
      "Epoch 38: val_loss did not improve from 10484503552.00000\n",
      "100/100 - 1s - loss: 16301747200.0000 - accuracy: 0.0000e+00 - val_loss: 10973219840.0000 - val_accuracy: 0.0000e+00 - 627ms/epoch - 6ms/step\n",
      "Epoch 39/100\n",
      "\n",
      "Epoch 39: val_loss did not improve from 10484503552.00000\n",
      "100/100 - 1s - loss: 16623187968.0000 - accuracy: 0.0000e+00 - val_loss: 10489480192.0000 - val_accuracy: 0.0000e+00 - 608ms/epoch - 6ms/step\n",
      "Epoch 40/100\n",
      "\n",
      "Epoch 40: val_loss did not improve from 10484503552.00000\n",
      "100/100 - 1s - loss: 16495631360.0000 - accuracy: 0.0000e+00 - val_loss: 10698493952.0000 - val_accuracy: 0.0000e+00 - 652ms/epoch - 7ms/step\n",
      "Epoch 41/100\n",
      "\n",
      "Epoch 41: val_loss did not improve from 10484503552.00000\n",
      "100/100 - 1s - loss: 17276008448.0000 - accuracy: 0.0000e+00 - val_loss: 11401237504.0000 - val_accuracy: 0.0000e+00 - 737ms/epoch - 7ms/step\n",
      "Epoch 42/100\n",
      "\n",
      "Epoch 42: val_loss did not improve from 10484503552.00000\n",
      "100/100 - 1s - loss: 16424642560.0000 - accuracy: 0.0000e+00 - val_loss: 10520848384.0000 - val_accuracy: 0.0000e+00 - 606ms/epoch - 6ms/step\n",
      "Epoch 43/100\n",
      "\n",
      "Epoch 43: val_loss did not improve from 10484503552.00000\n",
      "100/100 - 1s - loss: 16719739904.0000 - accuracy: 0.0000e+00 - val_loss: 10673543168.0000 - val_accuracy: 0.0000e+00 - 571ms/epoch - 6ms/step\n",
      "Epoch 44/100\n",
      "\n",
      "Epoch 44: val_loss did not improve from 10484503552.00000\n",
      "100/100 - 1s - loss: 16472570880.0000 - accuracy: 0.0000e+00 - val_loss: 10507808768.0000 - val_accuracy: 0.0000e+00 - 1s/epoch - 12ms/step\n",
      "Epoch 45/100\n",
      "\n",
      "Epoch 45: val_loss did not improve from 10484503552.00000\n",
      "100/100 - 1s - loss: 17032764416.0000 - accuracy: 0.0000e+00 - val_loss: 10687909888.0000 - val_accuracy: 0.0000e+00 - 1s/epoch - 13ms/step\n",
      "Epoch 46/100\n",
      "\n",
      "Epoch 46: val_loss did not improve from 10484503552.00000\n",
      "100/100 - 1s - loss: 16442916864.0000 - accuracy: 0.0000e+00 - val_loss: 11409261568.0000 - val_accuracy: 0.0000e+00 - 1s/epoch - 13ms/step\n",
      "Epoch 47/100\n",
      "\n",
      "Epoch 47: val_loss improved from 10484503552.00000 to 10477136896.00000, saving model to weights-047--10477136896.00000.hdf5\n",
      "100/100 - 1s - loss: 16247633920.0000 - accuracy: 0.0000e+00 - val_loss: 10477136896.0000 - val_accuracy: 0.0000e+00 - 1s/epoch - 11ms/step\n",
      "Epoch 48/100\n",
      "\n",
      "Epoch 48: val_loss did not improve from 10477136896.00000\n",
      "100/100 - 1s - loss: 16837036032.0000 - accuracy: 0.0000e+00 - val_loss: 10486380544.0000 - val_accuracy: 0.0000e+00 - 1s/epoch - 10ms/step\n",
      "Epoch 49/100\n",
      "\n",
      "Epoch 49: val_loss did not improve from 10477136896.00000\n",
      "100/100 - 1s - loss: 16454137856.0000 - accuracy: 0.0000e+00 - val_loss: 10509352960.0000 - val_accuracy: 0.0000e+00 - 590ms/epoch - 6ms/step\n",
      "Epoch 50/100\n",
      "\n",
      "Epoch 50: val_loss did not improve from 10477136896.00000\n",
      "100/100 - 1s - loss: 17015557120.0000 - accuracy: 0.0000e+00 - val_loss: 10881629184.0000 - val_accuracy: 0.0000e+00 - 737ms/epoch - 7ms/step\n",
      "Epoch 51/100\n",
      "\n",
      "Epoch 51: val_loss did not improve from 10477136896.00000\n",
      "100/100 - 1s - loss: 16435282944.0000 - accuracy: 0.0000e+00 - val_loss: 13210704896.0000 - val_accuracy: 0.0000e+00 - 754ms/epoch - 8ms/step\n",
      "Epoch 52/100\n",
      "\n",
      "Epoch 52: val_loss did not improve from 10477136896.00000\n",
      "100/100 - 1s - loss: 16863087616.0000 - accuracy: 0.0000e+00 - val_loss: 10499800064.0000 - val_accuracy: 0.0000e+00 - 626ms/epoch - 6ms/step\n",
      "Epoch 53/100\n",
      "\n",
      "Epoch 53: val_loss did not improve from 10477136896.00000\n",
      "100/100 - 1s - loss: 16852713472.0000 - accuracy: 0.0000e+00 - val_loss: 10481960960.0000 - val_accuracy: 0.0000e+00 - 622ms/epoch - 6ms/step\n",
      "Epoch 54/100\n",
      "\n",
      "Epoch 54: val_loss did not improve from 10477136896.00000\n",
      "100/100 - 1s - loss: 17015710720.0000 - accuracy: 0.0000e+00 - val_loss: 10703719424.0000 - val_accuracy: 0.0000e+00 - 598ms/epoch - 6ms/step\n",
      "Epoch 55/100\n",
      "\n",
      "Epoch 55: val_loss did not improve from 10477136896.00000\n",
      "100/100 - 1s - loss: 16724225024.0000 - accuracy: 0.0000e+00 - val_loss: 10597823488.0000 - val_accuracy: 0.0000e+00 - 592ms/epoch - 6ms/step\n",
      "Epoch 56/100\n",
      "\n",
      "Epoch 56: val_loss did not improve from 10477136896.00000\n",
      "100/100 - 1s - loss: 16479864832.0000 - accuracy: 0.0000e+00 - val_loss: 13165528064.0000 - val_accuracy: 0.0000e+00 - 613ms/epoch - 6ms/step\n",
      "Epoch 57/100\n",
      "\n",
      "Epoch 57: val_loss did not improve from 10477136896.00000\n",
      "100/100 - 1s - loss: 16890115072.0000 - accuracy: 0.0000e+00 - val_loss: 10658279424.0000 - val_accuracy: 0.0000e+00 - 813ms/epoch - 8ms/step\n",
      "Epoch 58/100\n",
      "\n",
      "Epoch 58: val_loss did not improve from 10477136896.00000\n",
      "100/100 - 1s - loss: 16821325824.0000 - accuracy: 0.0000e+00 - val_loss: 11250618368.0000 - val_accuracy: 0.0000e+00 - 757ms/epoch - 8ms/step\n",
      "Epoch 59/100\n",
      "\n",
      "Epoch 59: val_loss did not improve from 10477136896.00000\n",
      "100/100 - 1s - loss: 18013675520.0000 - accuracy: 0.0000e+00 - val_loss: 11196342272.0000 - val_accuracy: 0.0000e+00 - 851ms/epoch - 9ms/step\n",
      "Epoch 60/100\n",
      "\n",
      "Epoch 60: val_loss did not improve from 10477136896.00000\n",
      "100/100 - 1s - loss: 17284175872.0000 - accuracy: 0.0000e+00 - val_loss: 10524719104.0000 - val_accuracy: 0.0000e+00 - 761ms/epoch - 8ms/step\n",
      "Epoch 61/100\n",
      "\n",
      "Epoch 61: val_loss did not improve from 10477136896.00000\n",
      "100/100 - 1s - loss: 16741172224.0000 - accuracy: 0.0000e+00 - val_loss: 10482233344.0000 - val_accuracy: 0.0000e+00 - 756ms/epoch - 8ms/step\n",
      "Epoch 62/100\n",
      "\n",
      "Epoch 62: val_loss did not improve from 10477136896.00000\n",
      "100/100 - 1s - loss: 16686678016.0000 - accuracy: 0.0000e+00 - val_loss: 10537906176.0000 - val_accuracy: 0.0000e+00 - 629ms/epoch - 6ms/step\n",
      "Epoch 63/100\n",
      "\n",
      "Epoch 63: val_loss did not improve from 10477136896.00000\n",
      "100/100 - 1s - loss: 16298634240.0000 - accuracy: 0.0000e+00 - val_loss: 10756980736.0000 - val_accuracy: 0.0000e+00 - 986ms/epoch - 10ms/step\n",
      "Epoch 64/100\n",
      "\n",
      "Epoch 64: val_loss did not improve from 10477136896.00000\n",
      "100/100 - 1s - loss: 16767672320.0000 - accuracy: 0.0000e+00 - val_loss: 11578834944.0000 - val_accuracy: 0.0000e+00 - 1s/epoch - 11ms/step\n",
      "Epoch 65/100\n",
      "\n",
      "Epoch 65: val_loss did not improve from 10477136896.00000\n",
      "100/100 - 1s - loss: 16829159424.0000 - accuracy: 0.0000e+00 - val_loss: 10484635648.0000 - val_accuracy: 0.0000e+00 - 1s/epoch - 12ms/step\n",
      "Epoch 66/100\n",
      "\n",
      "Epoch 66: val_loss improved from 10477136896.00000 to 10476918784.00000, saving model to weights-066--10476918784.00000.hdf5\n",
      "100/100 - 1s - loss: 16714675200.0000 - accuracy: 0.0000e+00 - val_loss: 10476918784.0000 - val_accuracy: 0.0000e+00 - 1s/epoch - 12ms/step\n",
      "Epoch 67/100\n",
      "\n",
      "Epoch 67: val_loss did not improve from 10476918784.00000\n",
      "100/100 - 1s - loss: 16437032960.0000 - accuracy: 0.0000e+00 - val_loss: 10512822272.0000 - val_accuracy: 0.0000e+00 - 600ms/epoch - 6ms/step\n",
      "Epoch 68/100\n",
      "\n",
      "Epoch 68: val_loss did not improve from 10476918784.00000\n",
      "100/100 - 1s - loss: 16716787712.0000 - accuracy: 0.0000e+00 - val_loss: 10581189632.0000 - val_accuracy: 0.0000e+00 - 627ms/epoch - 6ms/step\n",
      "Epoch 69/100\n",
      "\n",
      "Epoch 69: val_loss did not improve from 10476918784.00000\n",
      "100/100 - 1s - loss: 16832427008.0000 - accuracy: 0.0000e+00 - val_loss: 10483716096.0000 - val_accuracy: 0.0000e+00 - 582ms/epoch - 6ms/step\n",
      "Epoch 70/100\n",
      "\n",
      "Epoch 70: val_loss did not improve from 10476918784.00000\n",
      "100/100 - 1s - loss: 17133316096.0000 - accuracy: 0.0000e+00 - val_loss: 10640962560.0000 - val_accuracy: 0.0000e+00 - 609ms/epoch - 6ms/step\n",
      "Epoch 71/100\n",
      "\n",
      "Epoch 71: val_loss did not improve from 10476918784.00000\n",
      "100/100 - 1s - loss: 17419311104.0000 - accuracy: 0.0000e+00 - val_loss: 10707625984.0000 - val_accuracy: 0.0000e+00 - 605ms/epoch - 6ms/step\n",
      "Epoch 72/100\n",
      "\n",
      "Epoch 72: val_loss did not improve from 10476918784.00000\n",
      "100/100 - 1s - loss: 16629646336.0000 - accuracy: 0.0000e+00 - val_loss: 10658045952.0000 - val_accuracy: 0.0000e+00 - 585ms/epoch - 6ms/step\n",
      "Epoch 73/100\n",
      "\n",
      "Epoch 73: val_loss did not improve from 10476918784.00000\n",
      "100/100 - 1s - loss: 16695999488.0000 - accuracy: 0.0000e+00 - val_loss: 10686505984.0000 - val_accuracy: 0.0000e+00 - 564ms/epoch - 6ms/step\n",
      "Epoch 74/100\n",
      "\n",
      "Epoch 74: val_loss did not improve from 10476918784.00000\n",
      "100/100 - 1s - loss: 17123887104.0000 - accuracy: 0.0000e+00 - val_loss: 10504126464.0000 - val_accuracy: 0.0000e+00 - 569ms/epoch - 6ms/step\n",
      "Epoch 75/100\n",
      "\n",
      "Epoch 75: val_loss did not improve from 10476918784.00000\n",
      "100/100 - 1s - loss: 16300432384.0000 - accuracy: 0.0000e+00 - val_loss: 10952544256.0000 - val_accuracy: 0.0000e+00 - 957ms/epoch - 10ms/step\n",
      "Epoch 76/100\n",
      "\n",
      "Epoch 76: val_loss did not improve from 10476918784.00000\n",
      "100/100 - 1s - loss: 17053806592.0000 - accuracy: 0.0000e+00 - val_loss: 10487171072.0000 - val_accuracy: 0.0000e+00 - 1s/epoch - 14ms/step\n",
      "Epoch 77/100\n",
      "\n",
      "Epoch 77: val_loss did not improve from 10476918784.00000\n",
      "100/100 - 1s - loss: 16677228544.0000 - accuracy: 0.0000e+00 - val_loss: 10695412736.0000 - val_accuracy: 0.0000e+00 - 885ms/epoch - 9ms/step\n",
      "Epoch 78/100\n",
      "\n",
      "Epoch 78: val_loss did not improve from 10476918784.00000\n",
      "100/100 - 1s - loss: 16292066304.0000 - accuracy: 0.0000e+00 - val_loss: 10647467008.0000 - val_accuracy: 0.0000e+00 - 767ms/epoch - 8ms/step\n",
      "Epoch 79/100\n",
      "\n",
      "Epoch 79: val_loss did not improve from 10476918784.00000\n",
      "100/100 - 1s - loss: 16818399232.0000 - accuracy: 0.0000e+00 - val_loss: 10503540736.0000 - val_accuracy: 0.0000e+00 - 869ms/epoch - 9ms/step\n",
      "Epoch 80/100\n",
      "\n",
      "Epoch 80: val_loss did not improve from 10476918784.00000\n",
      "100/100 - 1s - loss: 17146127360.0000 - accuracy: 0.0000e+00 - val_loss: 10558480384.0000 - val_accuracy: 0.0000e+00 - 1s/epoch - 12ms/step\n",
      "Epoch 81/100\n",
      "\n",
      "Epoch 81: val_loss did not improve from 10476918784.00000\n",
      "100/100 - 1s - loss: 16486129664.0000 - accuracy: 0.0000e+00 - val_loss: 10555831296.0000 - val_accuracy: 0.0000e+00 - 1s/epoch - 13ms/step\n",
      "Epoch 82/100\n",
      "\n",
      "Epoch 82: val_loss did not improve from 10476918784.00000\n",
      "100/100 - 1s - loss: 16305328128.0000 - accuracy: 0.0000e+00 - val_loss: 10544978944.0000 - val_accuracy: 0.0000e+00 - 1s/epoch - 15ms/step\n",
      "Epoch 83/100\n",
      "\n",
      "Epoch 83: val_loss improved from 10476918784.00000 to 10474871808.00000, saving model to weights-083--10474871808.00000.hdf5\n",
      "100/100 - 2s - loss: 15888178176.0000 - accuracy: 0.0000e+00 - val_loss: 10474871808.0000 - val_accuracy: 0.0000e+00 - 2s/epoch - 15ms/step\n",
      "Epoch 84/100\n",
      "\n",
      "Epoch 84: val_loss did not improve from 10474871808.00000\n",
      "100/100 - 1s - loss: 16734425088.0000 - accuracy: 0.0000e+00 - val_loss: 10627658752.0000 - val_accuracy: 0.0000e+00 - 978ms/epoch - 10ms/step\n",
      "Epoch 85/100\n",
      "\n",
      "Epoch 85: val_loss did not improve from 10474871808.00000\n",
      "100/100 - 1s - loss: 16732135424.0000 - accuracy: 0.0000e+00 - val_loss: 10580269056.0000 - val_accuracy: 0.0000e+00 - 1s/epoch - 10ms/step\n",
      "Epoch 86/100\n",
      "\n",
      "Epoch 86: val_loss did not improve from 10474871808.00000\n",
      "100/100 - 1s - loss: 17007491072.0000 - accuracy: 0.0000e+00 - val_loss: 10525914112.0000 - val_accuracy: 0.0000e+00 - 914ms/epoch - 9ms/step\n",
      "Epoch 87/100\n",
      "\n",
      "Epoch 87: val_loss improved from 10474871808.00000 to 10470805504.00000, saving model to weights-087--10470805504.00000.hdf5\n",
      "100/100 - 1s - loss: 16960809984.0000 - accuracy: 0.0000e+00 - val_loss: 10470805504.0000 - val_accuracy: 0.0000e+00 - 707ms/epoch - 7ms/step\n",
      "Epoch 88/100\n",
      "\n",
      "Epoch 88: val_loss did not improve from 10470805504.00000\n",
      "100/100 - 1s - loss: 16374038528.0000 - accuracy: 0.0000e+00 - val_loss: 10731542528.0000 - val_accuracy: 0.0000e+00 - 751ms/epoch - 8ms/step\n",
      "Epoch 89/100\n",
      "\n",
      "Epoch 89: val_loss did not improve from 10470805504.00000\n",
      "100/100 - 1s - loss: 16706269184.0000 - accuracy: 0.0000e+00 - val_loss: 11177669632.0000 - val_accuracy: 0.0000e+00 - 694ms/epoch - 7ms/step\n",
      "Epoch 90/100\n",
      "\n",
      "Epoch 90: val_loss improved from 10470805504.00000 to 10464197632.00000, saving model to weights-090--10464197632.00000.hdf5\n",
      "100/100 - 1s - loss: 17146914816.0000 - accuracy: 0.0000e+00 - val_loss: 10464197632.0000 - val_accuracy: 0.0000e+00 - 1s/epoch - 11ms/step\n",
      "Epoch 91/100\n",
      "\n",
      "Epoch 91: val_loss did not improve from 10464197632.00000\n",
      "100/100 - 1s - loss: 16840304640.0000 - accuracy: 0.0000e+00 - val_loss: 10480863232.0000 - val_accuracy: 0.0000e+00 - 1s/epoch - 11ms/step\n",
      "Epoch 92/100\n",
      "\n",
      "Epoch 92: val_loss did not improve from 10464197632.00000\n",
      "100/100 - 1s - loss: 15935686656.0000 - accuracy: 0.0000e+00 - val_loss: 10956606464.0000 - val_accuracy: 0.0000e+00 - 1s/epoch - 11ms/step\n",
      "Epoch 93/100\n",
      "\n",
      "Epoch 93: val_loss did not improve from 10464197632.00000\n",
      "100/100 - 1s - loss: 16980855808.0000 - accuracy: 0.0000e+00 - val_loss: 10503028736.0000 - val_accuracy: 0.0000e+00 - 889ms/epoch - 9ms/step\n",
      "Epoch 94/100\n",
      "\n",
      "Epoch 94: val_loss did not improve from 10464197632.00000\n",
      "100/100 - 1s - loss: 17019671552.0000 - accuracy: 0.0000e+00 - val_loss: 10671866880.0000 - val_accuracy: 0.0000e+00 - 1s/epoch - 11ms/step\n",
      "Epoch 95/100\n",
      "\n",
      "Epoch 95: val_loss did not improve from 10464197632.00000\n",
      "100/100 - 2s - loss: 16612981760.0000 - accuracy: 0.0000e+00 - val_loss: 11250315264.0000 - val_accuracy: 0.0000e+00 - 2s/epoch - 16ms/step\n",
      "Epoch 96/100\n",
      "\n",
      "Epoch 96: val_loss did not improve from 10464197632.00000\n",
      "100/100 - 1s - loss: 16724952064.0000 - accuracy: 0.0000e+00 - val_loss: 10649329664.0000 - val_accuracy: 0.0000e+00 - 1s/epoch - 13ms/step\n",
      "Epoch 97/100\n",
      "\n",
      "Epoch 97: val_loss did not improve from 10464197632.00000\n",
      "100/100 - 1s - loss: 16587899904.0000 - accuracy: 0.0000e+00 - val_loss: 10639802368.0000 - val_accuracy: 0.0000e+00 - 1s/epoch - 14ms/step\n",
      "Epoch 98/100\n",
      "\n",
      "Epoch 98: val_loss improved from 10464197632.00000 to 10454446080.00000, saving model to weights-098--10454446080.00000.hdf5\n",
      "100/100 - 1s - loss: 16997763072.0000 - accuracy: 0.0000e+00 - val_loss: 10454446080.0000 - val_accuracy: 0.0000e+00 - 814ms/epoch - 8ms/step\n",
      "Epoch 99/100\n",
      "\n",
      "Epoch 99: val_loss did not improve from 10454446080.00000\n",
      "100/100 - 1s - loss: 16730890240.0000 - accuracy: 0.0000e+00 - val_loss: 11160377344.0000 - val_accuracy: 0.0000e+00 - 963ms/epoch - 10ms/step\n",
      "Epoch 100/100\n",
      "\n",
      "Epoch 100: val_loss did not improve from 10454446080.00000\n",
      "100/100 - 1s - loss: 16467171328.0000 - accuracy: 0.0000e+00 - val_loss: 10548610048.0000 - val_accuracy: 0.0000e+00 - 872ms/epoch - 9ms/step\n"
     ]
    },
    {
     "data": {
      "text/plain": [
       "<keras.callbacks.History at 0x7fd20ed65c40>"
      ]
     },
     "execution_count": 23,
     "metadata": {},
     "output_type": "execute_result"
    }
   ],
   "source": [
    "model.fit(x_train_sc, y_train, batch_size = 32, epochs = 100, verbose = 2, validation_split =0.2,  callbacks = callbacks_list ) # validation split is done during training as seen \n"
   ]
  },
  {
   "cell_type": "code",
   "execution_count": 12,
   "metadata": {
    "colab": {
     "base_uri": "https://localhost:8080/",
     "height": 424
    },
    "id": "LAtPk8mh_GlG",
    "outputId": "50687b4b-ebd4-447b-a887-82f7afce84d2"
   },
   "outputs": [
    {
     "data": {
      "text/html": [
       "\n",
       "  <div id=\"df-be17ab04-dd6b-4d15-93e8-a99a7abd8c6b\">\n",
       "    <div class=\"colab-df-container\">\n",
       "      <div>\n",
       "<style scoped>\n",
       "    .dataframe tbody tr th:only-of-type {\n",
       "        vertical-align: middle;\n",
       "    }\n",
       "\n",
       "    .dataframe tbody tr th {\n",
       "        vertical-align: top;\n",
       "    }\n",
       "\n",
       "    .dataframe thead th {\n",
       "        text-align: right;\n",
       "    }\n",
       "</style>\n",
       "<table border=\"1\" class=\"dataframe\">\n",
       "  <thead>\n",
       "    <tr style=\"text-align: right;\">\n",
       "      <th></th>\n",
       "      <th>loss</th>\n",
       "      <th>accuracy</th>\n",
       "      <th>val_loss</th>\n",
       "      <th>val_accuracy</th>\n",
       "    </tr>\n",
       "  </thead>\n",
       "  <tbody>\n",
       "    <tr>\n",
       "      <th>0</th>\n",
       "      <td>1.609099e+12</td>\n",
       "      <td>0.0</td>\n",
       "      <td>1.409393e+12</td>\n",
       "      <td>0.0</td>\n",
       "    </tr>\n",
       "    <tr>\n",
       "      <th>1</th>\n",
       "      <td>4.069047e+11</td>\n",
       "      <td>0.0</td>\n",
       "      <td>6.976043e+10</td>\n",
       "      <td>0.0</td>\n",
       "    </tr>\n",
       "    <tr>\n",
       "      <th>2</th>\n",
       "      <td>7.078460e+10</td>\n",
       "      <td>0.0</td>\n",
       "      <td>6.341771e+10</td>\n",
       "      <td>0.0</td>\n",
       "    </tr>\n",
       "    <tr>\n",
       "      <th>3</th>\n",
       "      <td>6.643691e+10</td>\n",
       "      <td>0.0</td>\n",
       "      <td>5.891493e+10</td>\n",
       "      <td>0.0</td>\n",
       "    </tr>\n",
       "    <tr>\n",
       "      <th>4</th>\n",
       "      <td>6.269870e+10</td>\n",
       "      <td>0.0</td>\n",
       "      <td>5.550811e+10</td>\n",
       "      <td>0.0</td>\n",
       "    </tr>\n",
       "    <tr>\n",
       "      <th>...</th>\n",
       "      <td>...</td>\n",
       "      <td>...</td>\n",
       "      <td>...</td>\n",
       "      <td>...</td>\n",
       "    </tr>\n",
       "    <tr>\n",
       "      <th>95</th>\n",
       "      <td>1.689425e+10</td>\n",
       "      <td>0.0</td>\n",
       "      <td>1.076065e+10</td>\n",
       "      <td>0.0</td>\n",
       "    </tr>\n",
       "    <tr>\n",
       "      <th>96</th>\n",
       "      <td>1.687540e+10</td>\n",
       "      <td>0.0</td>\n",
       "      <td>1.065752e+10</td>\n",
       "      <td>0.0</td>\n",
       "    </tr>\n",
       "    <tr>\n",
       "      <th>97</th>\n",
       "      <td>1.716833e+10</td>\n",
       "      <td>0.0</td>\n",
       "      <td>1.229512e+10</td>\n",
       "      <td>0.0</td>\n",
       "    </tr>\n",
       "    <tr>\n",
       "      <th>98</th>\n",
       "      <td>1.733622e+10</td>\n",
       "      <td>0.0</td>\n",
       "      <td>1.052026e+10</td>\n",
       "      <td>0.0</td>\n",
       "    </tr>\n",
       "    <tr>\n",
       "      <th>99</th>\n",
       "      <td>1.723683e+10</td>\n",
       "      <td>0.0</td>\n",
       "      <td>1.073093e+10</td>\n",
       "      <td>0.0</td>\n",
       "    </tr>\n",
       "  </tbody>\n",
       "</table>\n",
       "<p>100 rows × 4 columns</p>\n",
       "</div>\n",
       "      <button class=\"colab-df-convert\" onclick=\"convertToInteractive('df-be17ab04-dd6b-4d15-93e8-a99a7abd8c6b')\"\n",
       "              title=\"Convert this dataframe to an interactive table.\"\n",
       "              style=\"display:none;\">\n",
       "        \n",
       "  <svg xmlns=\"http://www.w3.org/2000/svg\" height=\"24px\"viewBox=\"0 0 24 24\"\n",
       "       width=\"24px\">\n",
       "    <path d=\"M0 0h24v24H0V0z\" fill=\"none\"/>\n",
       "    <path d=\"M18.56 5.44l.94 2.06.94-2.06 2.06-.94-2.06-.94-.94-2.06-.94 2.06-2.06.94zm-11 1L8.5 8.5l.94-2.06 2.06-.94-2.06-.94L8.5 2.5l-.94 2.06-2.06.94zm10 10l.94 2.06.94-2.06 2.06-.94-2.06-.94-.94-2.06-.94 2.06-2.06.94z\"/><path d=\"M17.41 7.96l-1.37-1.37c-.4-.4-.92-.59-1.43-.59-.52 0-1.04.2-1.43.59L10.3 9.45l-7.72 7.72c-.78.78-.78 2.05 0 2.83L4 21.41c.39.39.9.59 1.41.59.51 0 1.02-.2 1.41-.59l7.78-7.78 2.81-2.81c.8-.78.8-2.07 0-2.86zM5.41 20L4 18.59l7.72-7.72 1.47 1.35L5.41 20z\"/>\n",
       "  </svg>\n",
       "      </button>\n",
       "      \n",
       "  <style>\n",
       "    .colab-df-container {\n",
       "      display:flex;\n",
       "      flex-wrap:wrap;\n",
       "      gap: 12px;\n",
       "    }\n",
       "\n",
       "    .colab-df-convert {\n",
       "      background-color: #E8F0FE;\n",
       "      border: none;\n",
       "      border-radius: 50%;\n",
       "      cursor: pointer;\n",
       "      display: none;\n",
       "      fill: #1967D2;\n",
       "      height: 32px;\n",
       "      padding: 0 0 0 0;\n",
       "      width: 32px;\n",
       "    }\n",
       "\n",
       "    .colab-df-convert:hover {\n",
       "      background-color: #E2EBFA;\n",
       "      box-shadow: 0px 1px 2px rgba(60, 64, 67, 0.3), 0px 1px 3px 1px rgba(60, 64, 67, 0.15);\n",
       "      fill: #174EA6;\n",
       "    }\n",
       "\n",
       "    [theme=dark] .colab-df-convert {\n",
       "      background-color: #3B4455;\n",
       "      fill: #D2E3FC;\n",
       "    }\n",
       "\n",
       "    [theme=dark] .colab-df-convert:hover {\n",
       "      background-color: #434B5C;\n",
       "      box-shadow: 0px 1px 3px 1px rgba(0, 0, 0, 0.15);\n",
       "      filter: drop-shadow(0px 1px 2px rgba(0, 0, 0, 0.3));\n",
       "      fill: #FFFFFF;\n",
       "    }\n",
       "  </style>\n",
       "\n",
       "      <script>\n",
       "        const buttonEl =\n",
       "          document.querySelector('#df-be17ab04-dd6b-4d15-93e8-a99a7abd8c6b button.colab-df-convert');\n",
       "        buttonEl.style.display =\n",
       "          google.colab.kernel.accessAllowed ? 'block' : 'none';\n",
       "\n",
       "        async function convertToInteractive(key) {\n",
       "          const element = document.querySelector('#df-be17ab04-dd6b-4d15-93e8-a99a7abd8c6b');\n",
       "          const dataTable =\n",
       "            await google.colab.kernel.invokeFunction('convertToInteractive',\n",
       "                                                     [key], {});\n",
       "          if (!dataTable) return;\n",
       "\n",
       "          const docLinkHtml = 'Like what you see? Visit the ' +\n",
       "            '<a target=\"_blank\" href=https://colab.research.google.com/notebooks/data_table.ipynb>data table notebook</a>'\n",
       "            + ' to learn more about interactive tables.';\n",
       "          element.innerHTML = '';\n",
       "          dataTable['output_type'] = 'display_data';\n",
       "          await google.colab.output.renderOutput(dataTable, element);\n",
       "          const docLink = document.createElement('div');\n",
       "          docLink.innerHTML = docLinkHtml;\n",
       "          element.appendChild(docLink);\n",
       "        }\n",
       "      </script>\n",
       "    </div>\n",
       "  </div>\n",
       "  "
      ],
      "text/plain": [
       "            loss  accuracy      val_loss  val_accuracy\n",
       "0   1.609099e+12       0.0  1.409393e+12           0.0\n",
       "1   4.069047e+11       0.0  6.976043e+10           0.0\n",
       "2   7.078460e+10       0.0  6.341771e+10           0.0\n",
       "3   6.643691e+10       0.0  5.891493e+10           0.0\n",
       "4   6.269870e+10       0.0  5.550811e+10           0.0\n",
       "..           ...       ...           ...           ...\n",
       "95  1.689425e+10       0.0  1.076065e+10           0.0\n",
       "96  1.687540e+10       0.0  1.065752e+10           0.0\n",
       "97  1.716833e+10       0.0  1.229512e+10           0.0\n",
       "98  1.733622e+10       0.0  1.052026e+10           0.0\n",
       "99  1.723683e+10       0.0  1.073093e+10           0.0\n",
       "\n",
       "[100 rows x 4 columns]"
      ]
     },
     "execution_count": 12,
     "metadata": {},
     "output_type": "execute_result"
    }
   ],
   "source": [
    "score = pd.DataFrame(model.history.history)\n",
    "score"
   ]
  },
  {
   "cell_type": "code",
   "execution_count": 13,
   "metadata": {
    "colab": {
     "base_uri": "https://localhost:8080/",
     "height": 462
    },
    "id": "UxiYrou7m2ub",
    "outputId": "2e1f6cbf-1fff-44ee-ecde-7026066a9316"
   },
   "outputs": [
    {
     "data": {
      "text/plain": [
       "<Axes: >"
      ]
     },
     "execution_count": 13,
     "metadata": {},
     "output_type": "execute_result"
    },
    {
     "data": {
      "image/png": "[encoded data removed]",
      "text/plain": [
       "<Figure size 640x480 with 1 Axes>"
      ]
     },
     "metadata": {},
     "output_type": "display_data"
    }
   ],
   "source": [
    "score.plot()"
   ]
  },
  {
   "cell_type": "code",
   "execution_count": 14,
   "metadata": {
    "colab": {
     "base_uri": "https://localhost:8080/"
    },
    "id": "tQQU4FJBnot2",
    "outputId": "4a84a2b4-e9ba-4071-f74b-1ec705817f5b"
   },
   "outputs": [
    {
     "data": {
      "text/plain": [
       "array([[0.35636081, 0.38625066, 0.33547774, 0.49555556, 0.59183558],\n",
       "       [0.38653628, 0.39279196, 0.30125424, 0.1       , 0.55270527],\n",
       "       [0.49487921, 0.3863426 , 0.31247621, 0.44666667, 0.33181456],\n",
       "       ...,\n",
       "       [0.19335815, 0.64135387, 0.17046111, 0.06      , 0.22472747],\n",
       "       [0.48007228, 0.53458442, 0.38910604, 0.52666667, 0.44951999],\n",
       "       [0.47587904, 0.54918655, 0.54641789, 0.22888889, 0.23567508]])"
      ]
     },
     "execution_count": 14,
     "metadata": {},
     "output_type": "execute_result"
    }
   ],
   "source": [
    "x_test_sc "
   ]
  },
  {
   "cell_type": "code",
   "execution_count": 27,
   "metadata": {
    "colab": {
     "base_uri": "https://localhost:8080/"
    },
    "id": "ZEbA9G9_uoTF",
    "outputId": "590e4ca1-39dd-4ff2-fcbc-0361912a090d"
   },
   "outputs": [
    {
     "name": "stdout",
     "output_type": "stream",
     "text": [
      "32/32 [==============================] - 0s 8ms/step\n"
     ]
    }
   ],
   "source": [
    "pred_x_test = model.predict(x_test_sc)"
   ]
  },
  {
   "cell_type": "code",
   "execution_count": 15,
   "metadata": {
    "id": "_6Swac0RuoWX"
   },
   "outputs": [],
   "source": []
  },
  {
   "cell_type": "code",
   "execution_count": 16,
   "metadata": {
    "colab": {
     "base_uri": "https://localhost:8080/"
    },
    "id": "BVX3SYzjvl9S",
    "outputId": "a1245442-4b85-4f07-e3cf-d325414c625f"
   },
   "outputs": [
    {
     "data": {
      "text/plain": [
       "84118.28832554903"
      ]
     },
     "execution_count": 16,
     "metadata": {},
     "output_type": "execute_result"
    }
   ],
   "source": [
    "# Mean absolute error \n",
    "mean_absolute_error(pred_x_test, y_test)  \n"
   ]
  },
  {
   "cell_type": "code",
   "execution_count": 17,
   "metadata": {
    "colab": {
     "base_uri": "https://localhost:8080/",
     "height": 238
    },
    "id": "u3fJmXBfuoaO",
    "outputId": "60c8285c-630c-4c3f-b9b3-eecd86ed7f84"
   },
   "outputs": [
    {
     "data": {
      "text/html": [
       "\n",
       "  <div id=\"df-fb3fb739-3d19-4501-a030-275a447b3bee\">\n",
       "    <div class=\"colab-df-container\">\n",
       "      <div>\n",
       "<style scoped>\n",
       "    .dataframe tbody tr th:only-of-type {\n",
       "        vertical-align: middle;\n",
       "    }\n",
       "\n",
       "    .dataframe tbody tr th {\n",
       "        vertical-align: top;\n",
       "    }\n",
       "\n",
       "    .dataframe thead th {\n",
       "        text-align: right;\n",
       "    }\n",
       "</style>\n",
       "<table border=\"1\" class=\"dataframe\">\n",
       "  <thead>\n",
       "    <tr style=\"text-align: right;\">\n",
       "      <th></th>\n",
       "      <th>count</th>\n",
       "      <th>mean</th>\n",
       "      <th>std</th>\n",
       "      <th>min</th>\n",
       "      <th>25%</th>\n",
       "      <th>50%</th>\n",
       "      <th>75%</th>\n",
       "      <th>max</th>\n",
       "    </tr>\n",
       "  </thead>\n",
       "  <tbody>\n",
       "    <tr>\n",
       "      <th>Avg. Area Income</th>\n",
       "      <td>5000.0</td>\n",
       "      <td>6.858311e+04</td>\n",
       "      <td>10657.991214</td>\n",
       "      <td>17796.631190</td>\n",
       "      <td>61480.562388</td>\n",
       "      <td>6.880429e+04</td>\n",
       "      <td>7.578334e+04</td>\n",
       "      <td>1.077017e+05</td>\n",
       "    </tr>\n",
       "    <tr>\n",
       "      <th>Avg. Area House Age</th>\n",
       "      <td>5000.0</td>\n",
       "      <td>5.977222e+00</td>\n",
       "      <td>0.991456</td>\n",
       "      <td>2.644304</td>\n",
       "      <td>5.322283</td>\n",
       "      <td>5.970429e+00</td>\n",
       "      <td>6.650808e+00</td>\n",
       "      <td>9.519088e+00</td>\n",
       "    </tr>\n",
       "    <tr>\n",
       "      <th>Avg. Area Number of Rooms</th>\n",
       "      <td>5000.0</td>\n",
       "      <td>6.987792e+00</td>\n",
       "      <td>1.005833</td>\n",
       "      <td>3.236194</td>\n",
       "      <td>6.299250</td>\n",
       "      <td>7.002902e+00</td>\n",
       "      <td>7.665871e+00</td>\n",
       "      <td>1.075959e+01</td>\n",
       "    </tr>\n",
       "    <tr>\n",
       "      <th>Avg. Area Number of Bedrooms</th>\n",
       "      <td>5000.0</td>\n",
       "      <td>3.981330e+00</td>\n",
       "      <td>1.234137</td>\n",
       "      <td>2.000000</td>\n",
       "      <td>3.140000</td>\n",
       "      <td>4.050000e+00</td>\n",
       "      <td>4.490000e+00</td>\n",
       "      <td>6.500000e+00</td>\n",
       "    </tr>\n",
       "    <tr>\n",
       "      <th>Area Population</th>\n",
       "      <td>5000.0</td>\n",
       "      <td>3.616352e+04</td>\n",
       "      <td>9925.650114</td>\n",
       "      <td>172.610686</td>\n",
       "      <td>29403.928702</td>\n",
       "      <td>3.619941e+04</td>\n",
       "      <td>4.286129e+04</td>\n",
       "      <td>6.962171e+04</td>\n",
       "    </tr>\n",
       "    <tr>\n",
       "      <th>Price</th>\n",
       "      <td>5000.0</td>\n",
       "      <td>1.232073e+06</td>\n",
       "      <td>353117.626581</td>\n",
       "      <td>15938.657923</td>\n",
       "      <td>997577.135049</td>\n",
       "      <td>1.232669e+06</td>\n",
       "      <td>1.471210e+06</td>\n",
       "      <td>2.469066e+06</td>\n",
       "    </tr>\n",
       "  </tbody>\n",
       "</table>\n",
       "</div>\n",
       "      <button class=\"colab-df-convert\" onclick=\"convertToInteractive('df-fb3fb739-3d19-4501-a030-275a447b3bee')\"\n",
       "              title=\"Convert this dataframe to an interactive table.\"\n",
       "              style=\"display:none;\">\n",
       "        \n",
       "  <svg xmlns=\"http://www.w3.org/2000/svg\" height=\"24px\"viewBox=\"0 0 24 24\"\n",
       "       width=\"24px\">\n",
       "    <path d=\"M0 0h24v24H0V0z\" fill=\"none\"/>\n",
       "    <path d=\"M18.56 5.44l.94 2.06.94-2.06 2.06-.94-2.06-.94-.94-2.06-.94 2.06-2.06.94zm-11 1L8.5 8.5l.94-2.06 2.06-.94-2.06-.94L8.5 2.5l-.94 2.06-2.06.94zm10 10l.94 2.06.94-2.06 2.06-.94-2.06-.94-.94-2.06-.94 2.06-2.06.94z\"/><path d=\"M17.41 7.96l-1.37-1.37c-.4-.4-.92-.59-1.43-.59-.52 0-1.04.2-1.43.59L10.3 9.45l-7.72 7.72c-.78.78-.78 2.05 0 2.83L4 21.41c.39.39.9.59 1.41.59.51 0 1.02-.2 1.41-.59l7.78-7.78 2.81-2.81c.8-.78.8-2.07 0-2.86zM5.41 20L4 18.59l7.72-7.72 1.47 1.35L5.41 20z\"/>\n",
       "  </svg>\n",
       "      </button>\n",
       "      \n",
       "  <style>\n",
       "    .colab-df-container {\n",
       "      display:flex;\n",
       "      flex-wrap:wrap;\n",
       "      gap: 12px;\n",
       "    }\n",
       "\n",
       "    .colab-df-convert {\n",
       "      background-color: #E8F0FE;\n",
       "      border: none;\n",
       "      border-radius: 50%;\n",
       "      cursor: pointer;\n",
       "      display: none;\n",
       "      fill: #1967D2;\n",
       "      height: 32px;\n",
       "      padding: 0 0 0 0;\n",
       "      width: 32px;\n",
       "    }\n",
       "\n",
       "    .colab-df-convert:hover {\n",
       "      background-color: #E2EBFA;\n",
       "      box-shadow: 0px 1px 2px rgba(60, 64, 67, 0.3), 0px 1px 3px 1px rgba(60, 64, 67, 0.15);\n",
       "      fill: #174EA6;\n",
       "    }\n",
       "\n",
       "    [theme=dark] .colab-df-convert {\n",
       "      background-color: #3B4455;\n",
       "      fill: #D2E3FC;\n",
       "    }\n",
       "\n",
       "    [theme=dark] .colab-df-convert:hover {\n",
       "      background-color: #434B5C;\n",
       "      box-shadow: 0px 1px 3px 1px rgba(0, 0, 0, 0.15);\n",
       "      filter: drop-shadow(0px 1px 2px rgba(0, 0, 0, 0.3));\n",
       "      fill: #FFFFFF;\n",
       "    }\n",
       "  </style>\n",
       "\n",
       "      <script>\n",
       "        const buttonEl =\n",
       "          document.querySelector('#df-fb3fb739-3d19-4501-a030-275a447b3bee button.colab-df-convert');\n",
       "        buttonEl.style.display =\n",
       "          google.colab.kernel.accessAllowed ? 'block' : 'none';\n",
       "\n",
       "        async function convertToInteractive(key) {\n",
       "          const element = document.querySelector('#df-fb3fb739-3d19-4501-a030-275a447b3bee');\n",
       "          const dataTable =\n",
       "            await google.colab.kernel.invokeFunction('convertToInteractive',\n",
       "                                                     [key], {});\n",
       "          if (!dataTable) return;\n",
       "\n",
       "          const docLinkHtml = 'Like what you see? Visit the ' +\n",
       "            '<a target=\"_blank\" href=https://colab.research.google.com/notebooks/data_table.ipynb>data table notebook</a>'\n",
       "            + ' to learn more about interactive tables.';\n",
       "          element.innerHTML = '';\n",
       "          dataTable['output_type'] = 'display_data';\n",
       "          await google.colab.output.renderOutput(dataTable, element);\n",
       "          const docLink = document.createElement('div');\n",
       "          docLink.innerHTML = docLinkHtml;\n",
       "          element.appendChild(docLink);\n",
       "        }\n",
       "      </script>\n",
       "    </div>\n",
       "  </div>\n",
       "  "
      ],
      "text/plain": [
       "                               count          mean            std  \\\n",
       "Avg. Area Income              5000.0  6.858311e+04   10657.991214   \n",
       "Avg. Area House Age           5000.0  5.977222e+00       0.991456   \n",
       "Avg. Area Number of Rooms     5000.0  6.987792e+00       1.005833   \n",
       "Avg. Area Number of Bedrooms  5000.0  3.981330e+00       1.234137   \n",
       "Area Population               5000.0  3.616352e+04    9925.650114   \n",
       "Price                         5000.0  1.232073e+06  353117.626581   \n",
       "\n",
       "                                       min            25%           50%  \\\n",
       "Avg. Area Income              17796.631190   61480.562388  6.880429e+04   \n",
       "Avg. Area House Age               2.644304       5.322283  5.970429e+00   \n",
       "Avg. Area Number of Rooms         3.236194       6.299250  7.002902e+00   \n",
       "Avg. Area Number of Bedrooms      2.000000       3.140000  4.050000e+00   \n",
       "Area Population                 172.610686   29403.928702  3.619941e+04   \n",
       "Price                         15938.657923  997577.135049  1.232669e+06   \n",
       "\n",
       "                                       75%           max  \n",
       "Avg. Area Income              7.578334e+04  1.077017e+05  \n",
       "Avg. Area House Age           6.650808e+00  9.519088e+00  \n",
       "Avg. Area Number of Rooms     7.665871e+00  1.075959e+01  \n",
       "Avg. Area Number of Bedrooms  4.490000e+00  6.500000e+00  \n",
       "Area Population               4.286129e+04  6.962171e+04  \n",
       "Price                         1.471210e+06  2.469066e+06  "
      ]
     },
     "execution_count": 17,
     "metadata": {},
     "output_type": "execute_result"
    }
   ],
   "source": [
    "df.describe().T"
   ]
  },
  {
   "cell_type": "markdown",
   "metadata": {
    "id": "oUlRUTaL-4kr"
   },
   "source": [
    "Deduction \n",
    "\n",
    "We can see from the mean squared error that the difference from the predicted and mean value from the actual data set was a deviation of about "
   ]
  },
  {
   "cell_type": "code",
   "execution_count": 25,
   "metadata": {
    "colab": {
     "base_uri": "https://localhost:8080/",
     "height": 480
    },
    "id": "kBQkvfr5wCqv",
    "outputId": "d8b6ebf6-a45f-49cc-8534-f9bad430ad8d"
   },
   "outputs": [
    {
     "data": {
      "text/plain": [
       "<matplotlib.collections.PathCollection at 0x7fd20c7a1670>"
      ]
     },
     "execution_count": 25,
     "metadata": {},
     "output_type": "execute_result"
    },
    {
     "data": {
      "image/png": "[encoded data removed]",
      "text/plain": [
       "<Figure size 640x480 with 1 Axes>"
      ]
     },
     "metadata": {},
     "output_type": "display_data"
    }
   ],
   "source": [
    "plt.scatter( pred_x_test, y_test)\n",
    "# plt.plot(pred_x_test, y_test, 'r')"
   ]
  },
  {
   "cell_type": "markdown",
   "metadata": {
    "id": "jdnBI3kOHPkV"
   },
   "source": [
    "Conclusion\n",
    "\n",
    "The model did great work giving a predictive value with mean absolute error of 84118; more of a deviatioin of this value from the house mean price of 1.2Million dollars. \n",
    "This amounts to an error of 6.9 in predicting. "
   ]
  },
  {
   "cell_type": "code",
   "execution_count": null,
   "metadata": {
    "id": "q4ZmfXpMHVHy"
   },
   "outputs": [],
   "source": []
  },
  {
   "cell_type": "code",
   "execution_count": null,
   "metadata": {},
   "outputs": [],
   "source": []
  },
  {
   "cell_type": "code",
   "execution_count": null,
   "metadata": {},
   "outputs": [],
   "source": []
  },
  {
   "cell_type": "code",
   "execution_count": null,
   "metadata": {},
   "outputs": [],
   "source": []
  }
 ],
 "metadata": {
  "colab": {
   "gpuType": "T4",
   "provenance": []
  },
  "gpuClass": "standard",
  "kernelspec": {
   "display_name": "Python 3 (ipykernel)",
   "language": "python",
   "name": "python3"
  },
  "language_info": {
   "codemirror_mode": {
    "name": "ipython",
    "version": 3
   },
   "file_extension": ".py",
   "mimetype": "text/x-python",
   "name": "python",
   "nbconvert_exporter": "python",
   "pygments_lexer": "ipython3",
   "version": "3.9.12"
  }
 },
 "nbformat": 4,
 "nbformat_minor": 1
}
